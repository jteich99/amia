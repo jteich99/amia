{
  "cells": [
    {
      "cell_type": "markdown",
      "metadata": {
        "id": "YoTVCUtTQL6c"
      },
      "source": [
        "# TP 1: LDA/QDA y optimización matemática de modelos"
      ]
    },
    {
      "cell_type": "markdown",
      "metadata": {
        "id": "4kL_4etdeizy"
      },
      "source": [
        "# Intro teórica\n",
        "\n",
        "## Definición: Clasificador Bayesiano\n",
        "\n",
        "Sean $k$ poblaciones, $x \\in \\mathbb{R}^p$ puede pertenecer a cualquiera $g \\in \\mathcal{G}$ de ellas. Bajo un esquema bayesiano, se define entonces $\\pi_j \\doteq P(G = j)$ la probabilidad *a priori* de que $X$ pertenezca a la clase *j*, y se **asume conocida** la distribución condicional de cada observable dado su clase $f_j \\doteq f_{X|G=j}$.\n",
        "\n",
        "De esta manera dicha probabilidad *a posteriori* resulta\n",
        "$$\n",
        "P(G|_{X=x} = j) = \\frac{f_{X|G=j}(x) \\cdot p_G(j)}{f_X(x)} \\propto f_j(x) \\cdot \\pi_j\n",
        "$$\n",
        "\n",
        "La regla de decisión de Bayes es entonces\n",
        "$$\n",
        "H(x) \\doteq \\arg \\max_{g \\in \\mathcal{G}} \\{ P(G|_{X=x} = j) \\} = \\arg \\max_{g \\in \\mathcal{G}} \\{ f_j(x) \\cdot \\pi_j \\}\n",
        "$$\n",
        "\n",
        "es decir, se predice a $x$ como perteneciente a la población $j$ cuya probabilidad a posteriori es máxima.\n",
        "\n",
        "*Ojo, a no desesperar! $\\pi_j$ no es otra cosa que una constante prefijada, y $f_j$ es, en su esencia, un campo escalar de $x$ a simplemente evaluar.*\n",
        "\n",
        "## Distribución condicional\n",
        "\n",
        "Para los clasificadores de discriminante cuadrático y lineal (QDA/LDA) se asume que $X|_{G=j} \\sim \\mathcal{N}_p(\\mu_j, \\Sigma_j)$, es decir, se asume que cada población sigue una distribución normal.\n",
        "\n",
        "Por definición, se tiene entonces que para una clase $j$:\n",
        "$$\n",
        "f_j(x) = \\frac{1}{(2 \\pi)^\\frac{p}{2} \\cdot |\\Sigma_j|^\\frac{1}{2}} e^{- \\frac{1}{2}(x-\\mu_j)^T \\Sigma_j^{-1} (x- \\mu_j)}\n",
        "$$\n",
        "\n",
        "Aplicando logaritmo (que al ser una función estrictamente creciente no afecta el cálculo de máximos/mínimos), queda algo mucho más práctico de trabajar:\n",
        "\n",
        "$$\n",
        "\\log{f_j(x)} = -\\frac{1}{2}\\log |\\Sigma_j| - \\frac{1}{2} (x-\\mu_j)^T \\Sigma_j^{-1} (x- \\mu_j) + C\n",
        "$$\n",
        "\n",
        "Observar que en este caso $C=-\\frac{p}{2} \\log(2\\pi)$, pero no se tiene en cuenta ya que al tener una constante aditiva en todas las clases, no afecta al cálculo del máximo.\n",
        "\n",
        "## LDA\n",
        "\n",
        "En el caso de LDA se hace una suposición extra, que es $X|_{G=j} \\sim \\mathcal{N}_p(\\mu_j, \\Sigma)$, es decir que las poblaciones no sólo siguen una distribución normal sino que son de igual matriz de covarianzas. Reemplazando arriba se obtiene entonces:\n",
        "\n",
        "$$\n",
        "\\log{f_j(x)} =  -\\frac{1}{2}\\log |\\Sigma| - \\frac{1}{2} (x-\\mu_j)^T \\Sigma^{-1} (x- \\mu_j) + C\n",
        "$$\n",
        "\n",
        "Ahora, como $-\\frac{1}{2}\\log |\\Sigma|$ es común a todas las clases se puede incorporar a la constante aditiva y, distribuyendo y reagrupando términos sobre $(x-\\mu_j)^T \\Sigma^{-1} (x- \\mu_j)$ se obtiene finalmente:\n",
        "\n",
        "$$\n",
        "\\log{f_j(x)} =  \\mu_j^T \\Sigma^{-1} (x- \\frac{1}{2} \\mu_j) + C'\n",
        "$$\n",
        "\n",
        "## Entrenamiento/Ajuste\n",
        "\n",
        "Obsérvese que para ambos modelos, ajustarlos a los datos implica estimar los parámetros $(\\mu_j, \\Sigma_j) \\; \\forall j = 1, \\dots, k$ en el caso de QDA, y $(\\mu_j, \\Sigma)$ para LDA.\n",
        "\n",
        "Estos parámetros se estiman por máxima verosimilitud, de manera que los estimadores resultan:\n",
        "\n",
        "* $\\hat{\\mu}_j = \\bar{x}_j$ el promedio de los $x$ de la clase *j*\n",
        "* $\\hat{\\Sigma}_j = s^2_j$ la matriz de covarianzas estimada para cada clase *j*\n",
        "* $\\hat{\\pi}_j = f_{R_j} = \\frac{n_j}{n}$ la frecuencia relativa de la clase *j* en la muestra\n",
        "* $\\hat{\\Sigma} = \\frac{1}{n} \\sum_{j=1}^k n_j \\cdot s^2_j$ el promedio ponderado (por frecs. relativas) de las matrices de covarianzas de todas las clases. *Observar que se utiliza el estimador de MV y no el insesgado*\n",
        "\n",
        "Es importante notar que si bien todos los $\\mu, \\Sigma$ deben ser estimados, la distribución *a priori* puede no inferirse de los datos sino asumirse previamente, utilizándose como entrada del modelo.\n",
        "\n",
        "## Predicción\n",
        "\n",
        "Para estos modelos, al igual que para cualquier clasificador Bayesiano del tipo antes visto, la estimación de la clase es por método *plug-in* sobre la regla de decisión $H(x)$, es decir devolver la clase que maximiza $\\hat{f}_j(x) \\cdot \\hat{\\pi}_j$, o lo que es lo mismo $\\log\\hat{f}_j(x) + \\log\\hat{\\pi}_j$."
      ]
    },
    {
      "cell_type": "markdown",
      "metadata": {
        "id": "IV8OF-SlPHbD"
      },
      "source": [
        "# Código provisto\n",
        "\n",
        "Con el fin de no retrasar al alumno con cuestiones estructurales y/o secundarias al tema que se pretende tratar, se provee una base de código que **no es obligatoria de usar** pero se asume que resulta resulta beneficiosa."
      ]
    },
    {
      "cell_type": "code",
      "execution_count": 2,
      "metadata": {
        "id": "PrDdJRypNB-y"
      },
      "outputs": [],
      "source": [
        "import numpy as np\n",
        "import pandas as pd\n",
        "import numpy.linalg as LA\n",
        "from scipy.linalg import cholesky, solve_triangular\n",
        "from scipy.linalg.lapack import dtrtri"
      ]
    },
    {
      "cell_type": "markdown",
      "metadata": {
        "id": "5cPL33WIN2HA"
      },
      "source": [
        "## Base code"
      ]
    },
    {
      "cell_type": "code",
      "execution_count": 3,
      "metadata": {
        "id": "ewg5e0hsNTQC"
      },
      "outputs": [],
      "source": [
        "class BaseBayesianClassifier:\n",
        "  def __init__(self):\n",
        "    pass\n",
        "\n",
        "  def _estimate_a_priori(self, y):\n",
        "    a_priori = np.bincount(y.flatten().astype(int)) / y.size\n",
        "    # Q3: para que sirve bincount?\n",
        "    # Rta: cuenta la cantidad de ocurrencias de cada valor de int en un array de ints >= 0. Devuelve un array con cantidad de ocurrencias, donde la posición es el int\n",
        "    # Hay que flatten para llevarlo a un array 1D y desps hacer int para que bincount pueda usarlo\n",
        "    # Lo que termina calculando es una probabilidad a priori considerando una distribución uniforme\n",
        "    # Si no se tiene información previa de \"a priori\", entonces se defaultea a esto que es una suposición no informada razonable\n",
        "    return np.log(a_priori)\n",
        "\n",
        "  def _fit_params(self, X, y):\n",
        "    # estimate all needed parameters for given model\n",
        "    raise NotImplementedError()\n",
        "\n",
        "  def _predict_log_conditional(self, x, class_idx):\n",
        "    # predict the log(P(x|G=class_idx)), the log of the conditional probability of x given the class\n",
        "    # this should depend on the model used\n",
        "    raise NotImplementedError()\n",
        "\n",
        "  def fit(self, X, y, a_priori=None):\n",
        "    # if it's needed, estimate a priori probabilities\n",
        "    # JIT: si no se tiene -> defaultear a distribución uniforme con _estimate_a_priori\n",
        "    self.log_a_priori = self._estimate_a_priori(y) if a_priori is None else np.log(a_priori)\n",
        "\n",
        "    # now that everything else is in place, estimate all needed parameters for given model\n",
        "    self._fit_params(X, y)\n",
        "    # Q4: por que el _fit_params va al final? no se puede mover a, por ejemplo, antes de la priori?\n",
        "    # Rta: el a priori se regulariza en logs luego de calcular la probabilidad a priori de cada valor de y\n",
        "    # Luego la predicción va a utilizar esta transformación/regularización de los datos\n",
        "    # Además sin una probabilidad a priori no podemos calcular a posteriori\n",
        "\n",
        "  def predict(self, X):\n",
        "    # this is actually an individual prediction encased in a for-loop\n",
        "    m_obs = X.shape[1]\n",
        "    y_hat = np.empty(m_obs, dtype=int)\n",
        "\n",
        "    for i in range(m_obs):\n",
        "      y_hat[i] = self._predict_one(X[:,i].reshape(-1,1))\n",
        "\n",
        "    # return prediction as a row vector (matching y)\n",
        "    # print(y_hat)\n",
        "    return y_hat.reshape(1,-1)\n",
        "\n",
        "  def _predict_one(self, x):\n",
        "    # calculate all log posteriori probabilities (actually, +C)\n",
        "    log_posteriori = [ log_a_priori_i + self._predict_log_conditional(x, idx) for idx, log_a_priori_i\n",
        "                  in enumerate(self.log_a_priori) ]\n",
        "\n",
        "    # return the class that has maximum a posteriori probability\n",
        "    return np.argmax(log_posteriori)"
      ]
    },
    {
      "cell_type": "code",
      "execution_count": 4,
      "metadata": {
        "id": "Rz2FC7A5NUpN"
      },
      "outputs": [],
      "source": [
        "class QDA(BaseBayesianClassifier):\n",
        "\n",
        "  def _fit_params(self, X, y):\n",
        "    # estimate each covariance matrix\n",
        "    self.inv_covs = [LA.inv(np.cov(X[:,y.flatten()==idx], bias=True))\n",
        "                      for idx in range(len(self.log_a_priori))]\n",
        "    # Notas JIT\n",
        "    # inv_convs sería la matriz Sigma en la fórmula de log f_j.\n",
        "    # la covarianza se calcula sobre un array 1D o 2D, donde las filas son una variable y las columnas las observaciones\n",
        "    # se tiene una matriz de covarianza por clase j, que son las que se iniciaron en el a priori\n",
        "\n",
        "    # Q5: por que hace falta el flatten y no se puede directamente X[:,y==idx]?\n",
        "    # Rta: el flatten hace que sea un array 1D. Con el ==idx se setean a True los que corresponden a ese idx de log_a_priori\n",
        "    # Q6: por que se usa bias=True en vez del default bias=False?\n",
        "    # Rta: bias=True implica normalizar por N en vez de (N-1), siendo N la cantidad de observaciones dadas\n",
        "    # Según entendí, es debido a que la covarianza de las ocurrencias tiene N en el denominador, y la covarianza de la variable aleatoria tiene (N-1) en el denominador\n",
        "    # Como acá estamos partiendo de datos observados, corresponde usar bias=True y dividir por N\n",
        "    self.means = [X[:,y.flatten()==idx].mean(axis=1, keepdims=True)\n",
        "                  for idx in range(len(self.log_a_priori))]\n",
        "    # Q7: que hace axis=1? por que no axis=0?\n",
        "    # axis=1 hace que se hagan las medias sobre las filas. En este caso queremos eso porque es la media de cada label\n",
        "\n",
        "  def _predict_log_conditional(self, x, class_idx):\n",
        "    # predict the log(P(x|G=class_idx)), the log of the conditional probability of x given the class\n",
        "    # this should depend on the model used\n",
        "    inv_cov = self.inv_covs[class_idx]\n",
        "    unbiased_x =  x - self.means[class_idx]\n",
        "    return 0.5*np.log(LA.det(inv_cov)) -0.5 * unbiased_x.T @ inv_cov @ unbiased_x"
      ]
    },
    {
      "cell_type": "code",
      "execution_count": 5,
      "metadata": {
        "id": "9lZbID0WNV1Y"
      },
      "outputs": [],
      "source": [
        "class TensorizedQDA(QDA):\n",
        "\n",
        "    def _fit_params(self, X, y):\n",
        "        # ask plain QDA to fit params\n",
        "        super()._fit_params(X,y)\n",
        "\n",
        "        # stack onto new dimension\n",
        "        # JIT: junta las distintas matrices inversas de covarianza y de media en una única matriz\n",
        "        # por default lo hace poniendo una abajo de la otra\n",
        "        # quedaría :\n",
        "        # [\n",
        "        #     inv_convs[0],\n",
        "        #     inv_convs[1],\n",
        "        #     ...\n",
        "        #     inv_convs[n],\n",
        "        # ]\n",
        "        # las inv_covs son de nxn, por lo que se stackean en una 3ra dimensión\n",
        "        self.tensor_inv_cov = np.stack(self.inv_covs)\n",
        "        self.tensor_means = np.stack(self.means)\n",
        "        # print(self.tensor_means.shape)\n",
        "\n",
        "    def _predict_log_conditionals(self,x):\n",
        "        # unbiased_x = [x - self.tensor_means[i] for i ...]\n",
        "        # es un array de matrices columna: [[[dato],[dato],...],...]\n",
        "        # print(f\"x[0]={x[0]}\")\n",
        "        # print(f\"tensor_means[0]={self.tensor_means[0]}\")\n",
        "        # print(f\"x.shape={x.shape}\")\n",
        "        # print(f\"tensor_means.shape={self.tensor_means.shape}\")\n",
        "        # print(x.flatten())\n",
        "        unbiased_x = x - self.tensor_means\n",
        "        # print(unbiased_x)\n",
        "        # print(f\"unbiased_x.shape={unbiased_x.shape}\")\n",
        "        # JIT: la traspuesta con args 0,2,1 dice que :\n",
        "        #   el eje 0 pasa al 0\n",
        "        #   el eje 2 pasa a ser el 1\n",
        "        #   el eje 1 pasa a ser el 2\n",
        "        # es decir, se transponen las matrices 2D que componen el tensor, pero no se modifican la dimension \"tensorial\"\n",
        "        # unbiased_x pasa a ser una matriz fila: [[[datos]],[[datos]],...]\n",
        "        inner_prod = unbiased_x.transpose(0,2,1) @ self.tensor_inv_cov @ unbiased_x\n",
        "        # print(inner_prod.flatten())\n",
        "\n",
        "        # JIT: cómo hace para calcular el determinante de un tensor con 3 dimensiones?\n",
        "        # el determinante de un tensor de dimensiones [m,n,n] es un array de len m, donde se tiene el determinante de la matriz en cada indice m \n",
        "        # -> se tiene un vector con el determinante de cada matriz inversa de covarianza\n",
        "        # JIT: se le hace flatten al inner_prod xq es un 1D array con el valor del producto interno para cada j clase\n",
        "        # print(0.5*np.log(LA.det(self.tensor_inv_cov)) - 0.5 * inner_prod.flatten())\n",
        "        return 0.5*np.log(LA.det(self.tensor_inv_cov)) - 0.5 * inner_prod.flatten()\n",
        "\n",
        "    def _predict_one(self, x):\n",
        "        # return the class that has maximum a posteriori probability\n",
        "        return np.argmax(self.log_a_priori + self._predict_log_conditionals(x))"
      ]
    },
    {
      "cell_type": "code",
      "execution_count": 6,
      "metadata": {
        "id": "i-WGGi_sQ-pT"
      },
      "outputs": [],
      "source": [
        "class QDA_Chol1(BaseBayesianClassifier):\n",
        "  def _fit_params(self, X, y):\n",
        "    # Se calcula la inversa de L, que obtenemos de la descomp de Cholesky\n",
        "    self.L_invs = [\n",
        "        LA.inv(cholesky(np.cov(X[:,y.flatten()==idx], bias=True), lower=True))\n",
        "        for idx in range(len(self.log_a_priori))\n",
        "    ]\n",
        "\n",
        "    self.means = [X[:,y.flatten()==idx].mean(axis=1, keepdims=True)\n",
        "                  for idx in range(len(self.log_a_priori))]\n",
        "\n",
        "  def _predict_log_conditional(self, x, class_idx):\n",
        "    L_inv = self.L_invs[class_idx]\n",
        "    unbiased_x =  x - self.means[class_idx]\n",
        "\n",
        "    y = L_inv @ unbiased_x\n",
        "\n",
        "    return np.log(L_inv.diagonal().prod()) -0.5 * (y**2).sum()"
      ]
    },
    {
      "cell_type": "code",
      "execution_count": 7,
      "metadata": {
        "id": "i5DNLtYbQsHi"
      },
      "outputs": [],
      "source": [
        "class QDA_Chol2(BaseBayesianClassifier):\n",
        "  def _fit_params(self, X, y):\n",
        "    # En ves de obtener la inversa, calculo la descomposición de Cholesky\n",
        "    self.Ls = [\n",
        "        cholesky(np.cov(X[:,y.flatten()==idx], bias=True), lower=True)\n",
        "        for idx in range(len(self.log_a_priori))\n",
        "    ]\n",
        "\n",
        "    self.means = [X[:,y.flatten()==idx].mean(axis=1, keepdims=True)\n",
        "                  for idx in range(len(self.log_a_priori))]\n",
        "\n",
        "  def _predict_log_conditional(self, x, class_idx):\n",
        "    L = self.Ls[class_idx]\n",
        "    unbiased_x =  x - self.means[class_idx]\n",
        "\n",
        "    y = solve_triangular(L, unbiased_x, lower=True)\n",
        "\n",
        "    return -np.log(L.diagonal().prod()) -0.5 * (y**2).sum()"
      ]
    },
    {
      "cell_type": "code",
      "execution_count": 8,
      "metadata": {
        "id": "v0dRvYVQRCgc"
      },
      "outputs": [],
      "source": [
        "class QDA_Chol3(BaseBayesianClassifier):\n",
        "  def _fit_params(self, X, y):\n",
        "    self.L_invs = [\n",
        "        dtrtri(cholesky(np.cov(X[:,y.flatten()==idx], bias=True), lower=True), lower=1)[0]\n",
        "        for idx in range(len(self.log_a_priori))\n",
        "    ]\n",
        "\n",
        "    self.means = [X[:,y.flatten()==idx].mean(axis=1, keepdims=True)\n",
        "                  for idx in range(len(self.log_a_priori))]\n",
        "\n",
        "  def _predict_log_conditional(self, x, class_idx):\n",
        "    L_inv = self.L_invs[class_idx]\n",
        "    unbiased_x =  x - self.means[class_idx]\n",
        "\n",
        "    y = L_inv @ unbiased_x\n",
        "\n",
        "    return np.log(L_inv.diagonal().prod()) -0.5 * (y**2).sum()"
      ]
    },
    {
      "cell_type": "markdown",
      "metadata": {
        "id": "JCtrHQDuN6R4"
      },
      "source": [
        "## Datasets\n",
        "\n",
        "Observar que se proveen **4 datasets diferentes**, el código de ejemplo usa uno solo pero eso no significa que ustedes se limiten al mismo. También pueden usar otros datasets de su elección."
      ]
    },
    {
      "cell_type": "code",
      "execution_count": 9,
      "metadata": {
        "id": "rasInBMFNzUH"
      },
      "outputs": [],
      "source": [
        "from sklearn.datasets import load_iris, fetch_openml, load_wine\n",
        "from sklearn.preprocessing import LabelEncoder\n",
        "from sklearn.model_selection import train_test_split\n",
        "\n",
        "def get_iris_dataset():\n",
        "  data = load_iris()\n",
        "  X_full = data.data\n",
        "  y_full = np.array([data.target_names[y] for y in data.target.reshape(-1,1)])\n",
        "  return X_full, y_full\n",
        "\n",
        "def get_penguins_dataset():\n",
        "    # get data\n",
        "    df, tgt = fetch_openml(name=\"penguins\", return_X_y=True, as_frame=True, parser='auto')\n",
        "\n",
        "    # drop non-numeric columns\n",
        "    df.drop(columns=[\"island\",\"sex\"], inplace=True)\n",
        "\n",
        "    # drop rows with missing values\n",
        "    mask = df.isna().sum(axis=1) == 0\n",
        "    df = df[mask]\n",
        "    tgt = tgt[mask]\n",
        "\n",
        "    return df.values, tgt.to_numpy().reshape(-1,1)\n",
        "\n",
        "def get_wine_dataset():\n",
        "    # get data\n",
        "    data = load_wine()\n",
        "    X_full = data.data\n",
        "    y_full = np.array([data.target_names[y] for y in data.target.reshape(-1,1)])\n",
        "    return X_full, y_full\n",
        "\n",
        "def get_letters_dataset():\n",
        "    # get data\n",
        "    letter = fetch_openml('letter', version=1, as_frame=False)\n",
        "    return letter.data, letter.target.reshape(-1,1)\n",
        "\n",
        "def label_encode(y_full):\n",
        "    return LabelEncoder().fit_transform(y_full.flatten()).reshape(y_full.shape)\n",
        "\n",
        "def split_transpose(X, y, test_size, random_state):\n",
        "    # X_train, X_test, y_train, y_test but all transposed\n",
        "    return [elem.T for elem in train_test_split(X, y, test_size=test_size, random_state=random_state)]"
      ]
    },
    {
      "cell_type": "markdown",
      "metadata": {
        "id": "ybPkuBdDN42P"
      },
      "source": [
        "## Benchmarking\n",
        "\n",
        "Nota: esta clase fue creada bastante rápido y no pretende ser una plataforma súper confiable sobre la que basarse, sino más bien una herramienta simple con la que poder medir varios runs y agregar la información.\n",
        "\n",
        "En forma rápida, `warmup` es la cantidad de runs para warmup, `mem_runs` es la cantidad de runs en las que se mide el pico de uso de RAM y `n_runs` es la cantidad de runs en las que se miden tiempos.\n",
        "\n",
        "La razón por la que se separan es que medir memoria hace ~2.5x más lento cada run, pero al mismo tiempo se estabiliza mucho más rápido.\n",
        "\n",
        "**Importante:** tener en cuenta que los modelos que predicen en batch (usan `predict` directamente) deberían consumir, como mínimo, $n$ veces la memoria de los que predicen por observación."
      ]
    },
    {
      "cell_type": "code",
      "execution_count": 10,
      "metadata": {
        "id": "nO4Py3CeNpKu"
      },
      "outputs": [],
      "source": [
        "import time\n",
        "from tqdm.notebook import tqdm\n",
        "from numpy.random import RandomState\n",
        "import tracemalloc\n",
        "\n",
        "RNG_SEED = 6553\n",
        "\n",
        "class Benchmark:\n",
        "    def __init__(self, X, y, n_runs=1000, warmup=100, mem_runs=100, test_sz=0.3, rng_seed=RNG_SEED, same_splits=True):\n",
        "        self.X = X\n",
        "        self.y = y\n",
        "        self.n = n_runs\n",
        "        self.warmup = warmup\n",
        "        self.mem_runs = mem_runs\n",
        "        self.test_sz = test_sz\n",
        "        self.det = same_splits\n",
        "        if self.det:\n",
        "            self.rng_seed = rng_seed\n",
        "        else:\n",
        "            self.rng = RandomState(rng_seed)\n",
        "\n",
        "        self.data = {} \n",
        "\n",
        "        print(\"Benching params:\")\n",
        "        print(\"Total runs:\",self.warmup+self.mem_runs+self.n)\n",
        "        print(\"Warmup runs:\",self.warmup)\n",
        "        print(\"Peak Memory usage runs:\", self.mem_runs)\n",
        "        print(\"Running time runs:\", self.n)\n",
        "        approx_test_sz = int(self.y.size * self.test_sz)\n",
        "        print(\"Train size rows (approx):\",self.y.size - approx_test_sz)\n",
        "        print(\"Test size rows (approx):\",approx_test_sz)\n",
        "        print(\"Test size fraction:\",self.test_sz)\n",
        "\n",
        "    def bench(self, model_class, **kwargs):\n",
        "        name = model_class.__name__\n",
        "        time_data = np.empty((self.n, 3), dtype=float)  # train_time, test_time, accuracy\n",
        "        mem_data = np.empty((self.mem_runs, 2), dtype=float)  # train_peak_mem, test_peak_mem\n",
        "        rng = RandomState(self.rng_seed) if self.det else self.rng\n",
        "\n",
        "\n",
        "        for i in range(self.warmup):\n",
        "            # Instantiate model with error check for unsupported parameters\n",
        "            model = model_class(**kwargs)\n",
        "\n",
        "            # Generate current train-test split\n",
        "            X_train, X_test, y_train, y_test = split_transpose(\n",
        "                self.X, self.y,\n",
        "                test_size=self.test_sz,\n",
        "                random_state=rng\n",
        "            )\n",
        "            # Run training and prediction (timing or memory measurement not recorded)\n",
        "            model.fit(X_train, y_train)\n",
        "            model.predict(X_test)\n",
        "\n",
        "        for i in tqdm(range(self.mem_runs), total=self.mem_runs, desc=f\"{name} (MEM)\"):\n",
        "\n",
        "            model = model_class(**kwargs)\n",
        "\n",
        "            X_train, X_test, y_train, y_test = split_transpose(\n",
        "                self.X, self.y,\n",
        "                test_size=self.test_sz,\n",
        "                random_state=rng\n",
        "            )\n",
        "\n",
        "            tracemalloc.start()\n",
        "\n",
        "            t1 = time.perf_counter()\n",
        "            model.fit(X_train, y_train)\n",
        "            t2 = time.perf_counter()\n",
        "\n",
        "            _, train_peak = tracemalloc.get_traced_memory()\n",
        "            tracemalloc.reset_peak()\n",
        "\n",
        "            model.predict(X_test)\n",
        "            t3 = time.perf_counter()\n",
        "            _, test_peak = tracemalloc.get_traced_memory()\n",
        "            tracemalloc.stop()\n",
        "\n",
        "            mem_data[i,] = (\n",
        "                train_peak / (1024 * 1024),\n",
        "                test_peak / (1024 * 1024)\n",
        "            )\n",
        "\n",
        "        for i in tqdm(range(self.n), total=self.n, desc=f\"{name} (TIME)\"):\n",
        "            model = model_class(**kwargs)\n",
        "\n",
        "            X_train, X_test, y_train, y_test = split_transpose(\n",
        "                self.X, self.y,\n",
        "                test_size=self.test_sz,\n",
        "                random_state=rng\n",
        "            )\n",
        "\n",
        "            t1 = time.perf_counter()\n",
        "            model.fit(X_train, y_train)\n",
        "            t2 = time.perf_counter()\n",
        "            preds = model.predict(X_test)\n",
        "            t3 = time.perf_counter()\n",
        "\n",
        "            time_data[i,] = (\n",
        "                (t2 - t1) * 1000,\n",
        "                (t3 - t2) * 1000,\n",
        "                (y_test.flatten() == preds.flatten()).mean()\n",
        "            )\n",
        "\n",
        "        self.data[name] = (time_data, mem_data)\n",
        "\n",
        "    def summary(self, baseline=None):\n",
        "        aux = []\n",
        "        for name, (time_data, mem_data) in self.data.items():\n",
        "            result = {\n",
        "                'model': name,\n",
        "                'train_median_ms': np.median(time_data[:, 0]),\n",
        "                'train_std_ms': time_data[:, 0].std(),\n",
        "                'test_median_ms': np.median(time_data[:, 1]),\n",
        "                'test_std_ms': time_data[:, 1].std(),\n",
        "                'mean_accuracy': time_data[:, 2].mean(),\n",
        "                'train_mem_median_mb': np.median(mem_data[:, 0]),\n",
        "                'train_mem_std_mb': mem_data[:, 0].std(),\n",
        "                'test_mem_median_mb': np.median(mem_data[:, 1]),\n",
        "                'test_mem_std_mb': mem_data[:, 1].std()\n",
        "            }\n",
        "            aux.append(result)\n",
        "        df = pd.DataFrame(aux).set_index('model')\n",
        "\n",
        "        if baseline is not None and baseline in self.data:\n",
        "            df['train_speedup'] = df.loc[baseline, 'train_median_ms'] / df['train_median_ms']\n",
        "            df['test_speedup'] = df.loc[baseline, 'test_median_ms'] / df['test_median_ms']\n",
        "            df['train_mem_reduction'] = df.loc[baseline, 'train_mem_median_mb'] / df['train_mem_median_mb']\n",
        "            df['test_mem_reduction'] = df.loc[baseline, 'test_mem_median_mb'] / df['test_mem_median_mb']\n",
        "        return df\n",
        "    \n",
        "    def get_train_median_ms(self):\n",
        "        medians = {}\n",
        "        for name, (time_data, mem_data) in self.data.items():\n",
        "            medians[name] = np.median(time_data[:, 0])\n",
        "        return medians\n",
        "\n",
        "    def get_test_median_ms(self):\n",
        "        medians = {}\n",
        "        for name, (time_data, mem_data) in self.data.items():\n",
        "            medians[name] = np.median(time_data[:, 1])\n",
        "        return medians\n",
        "\n",
        "    def get_train_median_mb(self):\n",
        "        medians = {}\n",
        "        for name, (time_data, mem_data) in self.data.items():\n",
        "            medians[name] = np.median(mem_data[:, 0])\n",
        "        return medians\n",
        "\n",
        "    def get_test_median_mb(self):\n",
        "        medians = {}\n",
        "        for name, (time_data, mem_data) in self.data.items():\n",
        "            medians[name] = np.median(mem_data[:, 1])\n",
        "        return medians\n",
        "\n",
        "    def get_results_dict(self):\n",
        "        self.results_dict = {}\n",
        "        self.results_dict['test_size'] = round(self.test_sz * self.y.size)\n",
        "        self.results_dict['train_size'] = round((1 - self.test_sz) * self.y.size)\n",
        "        self.results_dict['train_median_ms'] = self.get_train_median_ms()\n",
        "        self.results_dict['train_median_mb'] = self.get_train_median_mb()\n",
        "        self.results_dict['test_median_ms'] = self.get_test_median_ms()\n",
        "        self.results_dict['test_median_mb'] = self.get_test_median_mb()\n",
        "        return self.results_dict\n"
      ]
    },
    {
      "cell_type": "markdown",
      "metadata": {
        "id": "mb5VEpEugFXW"
      },
      "source": [
        "## Ejemplo"
      ]
    },
    {
      "cell_type": "code",
      "execution_count": 11,
      "metadata": {
        "colab": {
          "base_uri": "https://localhost:8080/"
        },
        "id": "fLyr4-hdgJ7e",
        "outputId": "86428138-3982-4c05-8a88-f6809d524a27"
      },
      "outputs": [
        {
          "data": {
            "text/plain": [
              "((178, 13), (178, 1))"
            ]
          },
          "execution_count": 11,
          "metadata": {},
          "output_type": "execute_result"
        }
      ],
      "source": [
        "# levantamos el dataset Wine, que tiene 13 features y 178 observaciones en total\n",
        "X_full, y_full = get_wine_dataset()\n",
        "\n",
        "X_full.shape, y_full.shape\n",
        "#print(y_full.flatten()=='class_0')\n",
        "#print(X_full[:,y_full.flatten()=='class_0'])\n",
        "#y_full"
      ]
    },
    {
      "cell_type": "code",
      "execution_count": 12,
      "metadata": {
        "colab": {
          "base_uri": "https://localhost:8080/"
        },
        "id": "ZxQlFUSbgYHQ",
        "outputId": "32c0fee8-2a79-4f8c-c526-392f026fff1e"
      },
      "outputs": [
        {
          "data": {
            "text/plain": [
              "(array([['class_0'],\n",
              "        ['class_0'],\n",
              "        ['class_0'],\n",
              "        ['class_0'],\n",
              "        ['class_0']], dtype='<U7'),\n",
              " array([[0],\n",
              "        [0],\n",
              "        [0],\n",
              "        [0],\n",
              "        [0]]))"
            ]
          },
          "execution_count": 12,
          "metadata": {},
          "output_type": "execute_result"
        }
      ],
      "source": [
        "# encodeamos a número las clases\n",
        "y_full_encoded = label_encode(y_full)\n",
        "\n",
        "y_full[:5], y_full_encoded[:5]"
      ]
    },
    {
      "cell_type": "code",
      "execution_count": 13,
      "metadata": {
        "colab": {
          "base_uri": "https://localhost:8080/"
        },
        "id": "pSBNNUOmgtsI",
        "outputId": "7dc60ba1-0548-4671-8f44-a9fb227360d7"
      },
      "outputs": [
        {
          "name": "stdout",
          "output_type": "stream",
          "text": [
            "Benching params:\n",
            "Total runs: 140\n",
            "Warmup runs: 20\n",
            "Peak Memory usage runs: 20\n",
            "Running time runs: 100\n",
            "Train size rows (approx): 125\n",
            "Test size rows (approx): 53\n",
            "Test size fraction: 0.3\n"
          ]
        }
      ],
      "source": [
        "# generamos el benchmark\n",
        "# observar que son valores muy bajos de runs para que corra rápido ahora\n",
        "b = Benchmark(\n",
        "    X_full, y_full_encoded,\n",
        "    n_runs = 100,\n",
        "    warmup = 20,\n",
        "    mem_runs = 20,\n",
        "    test_sz = 0.3,\n",
        "    same_splits = False\n",
        ")"
      ]
    },
    {
      "cell_type": "code",
      "execution_count": 14,
      "metadata": {
        "colab": {
          "base_uri": "https://localhost:8080/",
          "height": 81,
          "referenced_widgets": [
            "c01ec4015f1c4c4491687244977cf5ee",
            "f07c3a390d8640e586ec729d3c7c86d8",
            "1d3c4fad476c47208bce6625ec783f6d",
            "a33f440ec8454a2db5bd26485d71c4db",
            "766927c256e3409ab53c04ca092964e0",
            "54a06911978746dd9e81bb1526bd741c",
            "a806c90e849243999c2fce804e20b449",
            "0c4640fad3de46af8ee288fb94e9831d",
            "70c3a115637d4880802a605974661714",
            "3f110d0a165e41b0a268f77b2d2a11b7",
            "de398ad23ecd44d8b8d69e621401f3b3",
            "d0c5a2b6b27144268b7fc0bedcc33a86",
            "684de1d1bee34b309988bc0f40b0d5e2",
            "3a99fe4554914c12ad9146aea349708c",
            "1da7d96834cc4bc8a3cd5595b3446b74",
            "d21ef446c090431480050c3352e2634e",
            "d3fe060bd70848b7af130d99bbff6839",
            "32df4fc69a3c47cf9a220f4469b667a3",
            "254e2937d92d48b0886e5d950a6bbefa",
            "0cead8148ae5469eb637c29de2b21ec7",
            "de9f39ade1b04c22921589c687b25518",
            "437e4360cf5e44bc845c2f6002ea2d55"
          ]
        },
        "id": "zUciOjazhUu5",
        "outputId": "398afdb9-ef70-40db-b771-eb3f883a68f0"
      },
      "outputs": [
        {
          "data": {
            "application/vnd.jupyter.widget-view+json": {
              "model_id": "8efa1b0ba1544dae82878604eca4c4f9",
              "version_major": 2,
              "version_minor": 0
            },
            "text/plain": [
              "QDA (MEM):   0%|          | 0/20 [00:00<?, ?it/s]"
            ]
          },
          "metadata": {},
          "output_type": "display_data"
        },
        {
          "data": {
            "application/vnd.jupyter.widget-view+json": {
              "model_id": "c22d0ccd6cda497ab2382a0f49cdc15b",
              "version_major": 2,
              "version_minor": 0
            },
            "text/plain": [
              "QDA (TIME):   0%|          | 0/100 [00:00<?, ?it/s]"
            ]
          },
          "metadata": {},
          "output_type": "display_data"
        }
      ],
      "source": [
        "# bencheamos un par\n",
        "to_bench = [QDA]\n",
        "\n",
        "for model in to_bench:\n",
        "    b.bench(model)"
      ]
    },
    {
      "cell_type": "code",
      "execution_count": 15,
      "metadata": {
        "colab": {
          "base_uri": "https://localhost:8080/",
          "height": 81,
          "referenced_widgets": [
            "8aeeac18744940f8b4940256613178db",
            "16f5ac0cf3cc441d891ae9522cf0798c",
            "bc84ff51ad3c4921b7aca214f0ff5e35",
            "f8508a02a66547b3a501694a1b8633ab",
            "4ab824715b294c86b045c7e187125524",
            "5e4f83990b0c4572952d5e23005283fb",
            "b85cd793196847cda92178f945624016",
            "b1c06f1940204bdaacf4ad3d843faa2f",
            "74c98c4598bd438cbedbb6c8a492eb15",
            "373a7a1549b44c2696083efddc88fafe",
            "8e2c2ff9e34b49568449aa7eb991d5cb",
            "de1229493a5749c799bcece8c07506f5",
            "c29e6bbacf9c45ecb5465624ee315b70",
            "a2e9076aca0b4224ba3aa8e4c3239260",
            "8df46d45d37e45e889dbec220fa360bd",
            "514491be27294e0cb5b70b6e25ee3355",
            "6d70e647d03f4004bd727673fbbfe5f9",
            "c3149d7e47c84328904326dda8527af4",
            "6197d697782b4688a278663e287317b1",
            "c69d75dc1d1b4fca925f308a79a7e248",
            "7f722aef90b84352b16d45f8716df168",
            "f356ef11b0734ce6a31ec9f0a01e055a"
          ]
        },
        "id": "wpPhSSCNhlvG",
        "outputId": "3edd56df-f71f-41bd-9f02-caa837541aa2"
      },
      "outputs": [
        {
          "data": {
            "application/vnd.jupyter.widget-view+json": {
              "model_id": "938815637cbb4b1ebd426b77b47306f8",
              "version_major": 2,
              "version_minor": 0
            },
            "text/plain": [
              "TensorizedQDA (MEM):   0%|          | 0/20 [00:00<?, ?it/s]"
            ]
          },
          "metadata": {},
          "output_type": "display_data"
        },
        {
          "data": {
            "application/vnd.jupyter.widget-view+json": {
              "model_id": "681fe9b1f7484bec8a9d0c3207bf84d5",
              "version_major": 2,
              "version_minor": 0
            },
            "text/plain": [
              "TensorizedQDA (TIME):   0%|          | 0/100 [00:00<?, ?it/s]"
            ]
          },
          "metadata": {},
          "output_type": "display_data"
        }
      ],
      "source": [
        "# como es una clase, podemos seguir bencheando más después\n",
        "b.bench(TensorizedQDA)"
      ]
    },
    {
      "cell_type": "code",
      "execution_count": 16,
      "metadata": {
        "colab": {
          "base_uri": "https://localhost:8080/",
          "height": 163
        },
        "id": "bZ5-vowshr5c",
        "outputId": "f494db5c-f2a5-46ba-a718-b7ba68f0699d"
      },
      "outputs": [
        {
          "data": {
            "text/html": [
              "<div>\n",
              "<style scoped>\n",
              "    .dataframe tbody tr th:only-of-type {\n",
              "        vertical-align: middle;\n",
              "    }\n",
              "\n",
              "    .dataframe tbody tr th {\n",
              "        vertical-align: top;\n",
              "    }\n",
              "\n",
              "    .dataframe thead th {\n",
              "        text-align: right;\n",
              "    }\n",
              "</style>\n",
              "<table border=\"1\" class=\"dataframe\">\n",
              "  <thead>\n",
              "    <tr style=\"text-align: right;\">\n",
              "      <th></th>\n",
              "      <th>train_median_ms</th>\n",
              "      <th>train_std_ms</th>\n",
              "      <th>test_median_ms</th>\n",
              "      <th>test_std_ms</th>\n",
              "      <th>mean_accuracy</th>\n",
              "      <th>train_mem_median_mb</th>\n",
              "      <th>train_mem_std_mb</th>\n",
              "      <th>test_mem_median_mb</th>\n",
              "      <th>test_mem_std_mb</th>\n",
              "    </tr>\n",
              "    <tr>\n",
              "      <th>model</th>\n",
              "      <th></th>\n",
              "      <th></th>\n",
              "      <th></th>\n",
              "      <th></th>\n",
              "      <th></th>\n",
              "      <th></th>\n",
              "      <th></th>\n",
              "      <th></th>\n",
              "      <th></th>\n",
              "    </tr>\n",
              "  </thead>\n",
              "  <tbody>\n",
              "    <tr>\n",
              "      <th>QDA</th>\n",
              "      <td>0.151882</td>\n",
              "      <td>0.095509</td>\n",
              "      <td>1.132125</td>\n",
              "      <td>0.097308</td>\n",
              "      <td>0.982407</td>\n",
              "      <td>0.0187</td>\n",
              "      <td>0.000642</td>\n",
              "      <td>0.008048</td>\n",
              "      <td>0.000075</td>\n",
              "    </tr>\n",
              "    <tr>\n",
              "      <th>TensorizedQDA</th>\n",
              "      <td>0.179485</td>\n",
              "      <td>0.140112</td>\n",
              "      <td>0.574270</td>\n",
              "      <td>0.125602</td>\n",
              "      <td>0.982593</td>\n",
              "      <td>0.0187</td>\n",
              "      <td>0.000667</td>\n",
              "      <td>0.012131</td>\n",
              "      <td>0.000138</td>\n",
              "    </tr>\n",
              "  </tbody>\n",
              "</table>\n",
              "</div>"
            ],
            "text/plain": [
              "               train_median_ms  train_std_ms  test_median_ms  test_std_ms  \\\n",
              "model                                                                       \n",
              "QDA                   0.151882      0.095509        1.132125     0.097308   \n",
              "TensorizedQDA         0.179485      0.140112        0.574270     0.125602   \n",
              "\n",
              "               mean_accuracy  train_mem_median_mb  train_mem_std_mb  \\\n",
              "model                                                                 \n",
              "QDA                 0.982407               0.0187          0.000642   \n",
              "TensorizedQDA       0.982593               0.0187          0.000667   \n",
              "\n",
              "               test_mem_median_mb  test_mem_std_mb  \n",
              "model                                               \n",
              "QDA                      0.008048         0.000075  \n",
              "TensorizedQDA            0.012131         0.000138  "
            ]
          },
          "execution_count": 16,
          "metadata": {},
          "output_type": "execute_result"
        }
      ],
      "source": [
        "# hacemos un summary\n",
        "b.summary()"
      ]
    },
    {
      "cell_type": "code",
      "execution_count": 17,
      "metadata": {
        "colab": {
          "base_uri": "https://localhost:8080/",
          "height": 143
        },
        "id": "09eKXqlXhwL-",
        "outputId": "a721b3e9-9003-4d2c-9f7e-11a96b0870d6"
      },
      "outputs": [
        {
          "data": {
            "text/html": [
              "<div>\n",
              "<style scoped>\n",
              "    .dataframe tbody tr th:only-of-type {\n",
              "        vertical-align: middle;\n",
              "    }\n",
              "\n",
              "    .dataframe tbody tr th {\n",
              "        vertical-align: top;\n",
              "    }\n",
              "\n",
              "    .dataframe thead th {\n",
              "        text-align: right;\n",
              "    }\n",
              "</style>\n",
              "<table border=\"1\" class=\"dataframe\">\n",
              "  <thead>\n",
              "    <tr style=\"text-align: right;\">\n",
              "      <th></th>\n",
              "      <th>train_median_ms</th>\n",
              "      <th>test_median_ms</th>\n",
              "      <th>mean_accuracy</th>\n",
              "    </tr>\n",
              "    <tr>\n",
              "      <th>model</th>\n",
              "      <th></th>\n",
              "      <th></th>\n",
              "      <th></th>\n",
              "    </tr>\n",
              "  </thead>\n",
              "  <tbody>\n",
              "    <tr>\n",
              "      <th>QDA</th>\n",
              "      <td>0.151882</td>\n",
              "      <td>1.132125</td>\n",
              "      <td>0.982407</td>\n",
              "    </tr>\n",
              "    <tr>\n",
              "      <th>TensorizedQDA</th>\n",
              "      <td>0.179485</td>\n",
              "      <td>0.574270</td>\n",
              "      <td>0.982593</td>\n",
              "    </tr>\n",
              "  </tbody>\n",
              "</table>\n",
              "</div>"
            ],
            "text/plain": [
              "               train_median_ms  test_median_ms  mean_accuracy\n",
              "model                                                        \n",
              "QDA                   0.151882        1.132125       0.982407\n",
              "TensorizedQDA         0.179485        0.574270       0.982593"
            ]
          },
          "execution_count": 17,
          "metadata": {},
          "output_type": "execute_result"
        }
      ],
      "source": [
        "# son muchos datos! nos quedamos con un par nomás\n",
        "summ = b.summary()\n",
        "\n",
        "# como es un pandas DataFrame, subseteamos columnas fácil\n",
        "summ[['train_median_ms', 'test_median_ms','mean_accuracy']]"
      ]
    },
    {
      "cell_type": "code",
      "execution_count": 18,
      "metadata": {
        "colab": {
          "base_uri": "https://localhost:8080/",
          "height": 163
        },
        "id": "EopB9574h8I5",
        "outputId": "b8bf48a0-f791-4a34-da7c-254071cbadf7"
      },
      "outputs": [
        {
          "data": {
            "text/html": [
              "<div>\n",
              "<style scoped>\n",
              "    .dataframe tbody tr th:only-of-type {\n",
              "        vertical-align: middle;\n",
              "    }\n",
              "\n",
              "    .dataframe tbody tr th {\n",
              "        vertical-align: top;\n",
              "    }\n",
              "\n",
              "    .dataframe thead th {\n",
              "        text-align: right;\n",
              "    }\n",
              "</style>\n",
              "<table border=\"1\" class=\"dataframe\">\n",
              "  <thead>\n",
              "    <tr style=\"text-align: right;\">\n",
              "      <th></th>\n",
              "      <th>train_median_ms</th>\n",
              "      <th>train_std_ms</th>\n",
              "      <th>test_median_ms</th>\n",
              "      <th>test_std_ms</th>\n",
              "      <th>mean_accuracy</th>\n",
              "      <th>train_mem_median_mb</th>\n",
              "      <th>train_mem_std_mb</th>\n",
              "      <th>test_mem_median_mb</th>\n",
              "      <th>test_mem_std_mb</th>\n",
              "      <th>train_speedup</th>\n",
              "      <th>test_speedup</th>\n",
              "      <th>train_mem_reduction</th>\n",
              "      <th>test_mem_reduction</th>\n",
              "    </tr>\n",
              "    <tr>\n",
              "      <th>model</th>\n",
              "      <th></th>\n",
              "      <th></th>\n",
              "      <th></th>\n",
              "      <th></th>\n",
              "      <th></th>\n",
              "      <th></th>\n",
              "      <th></th>\n",
              "      <th></th>\n",
              "      <th></th>\n",
              "      <th></th>\n",
              "      <th></th>\n",
              "      <th></th>\n",
              "      <th></th>\n",
              "    </tr>\n",
              "  </thead>\n",
              "  <tbody>\n",
              "    <tr>\n",
              "      <th>QDA</th>\n",
              "      <td>0.151882</td>\n",
              "      <td>0.095509</td>\n",
              "      <td>1.132125</td>\n",
              "      <td>0.097308</td>\n",
              "      <td>0.982407</td>\n",
              "      <td>0.0187</td>\n",
              "      <td>0.000642</td>\n",
              "      <td>0.008048</td>\n",
              "      <td>0.000075</td>\n",
              "      <td>1.00000</td>\n",
              "      <td>1.000000</td>\n",
              "      <td>1.0</td>\n",
              "      <td>1.000000</td>\n",
              "    </tr>\n",
              "    <tr>\n",
              "      <th>TensorizedQDA</th>\n",
              "      <td>0.179485</td>\n",
              "      <td>0.140112</td>\n",
              "      <td>0.574270</td>\n",
              "      <td>0.125602</td>\n",
              "      <td>0.982593</td>\n",
              "      <td>0.0187</td>\n",
              "      <td>0.000667</td>\n",
              "      <td>0.012131</td>\n",
              "      <td>0.000138</td>\n",
              "      <td>0.84621</td>\n",
              "      <td>1.971413</td>\n",
              "      <td>1.0</td>\n",
              "      <td>0.663443</td>\n",
              "    </tr>\n",
              "  </tbody>\n",
              "</table>\n",
              "</div>"
            ],
            "text/plain": [
              "               train_median_ms  train_std_ms  test_median_ms  test_std_ms  \\\n",
              "model                                                                       \n",
              "QDA                   0.151882      0.095509        1.132125     0.097308   \n",
              "TensorizedQDA         0.179485      0.140112        0.574270     0.125602   \n",
              "\n",
              "               mean_accuracy  train_mem_median_mb  train_mem_std_mb  \\\n",
              "model                                                                 \n",
              "QDA                 0.982407               0.0187          0.000642   \n",
              "TensorizedQDA       0.982593               0.0187          0.000667   \n",
              "\n",
              "               test_mem_median_mb  test_mem_std_mb  train_speedup  \\\n",
              "model                                                               \n",
              "QDA                      0.008048         0.000075        1.00000   \n",
              "TensorizedQDA            0.012131         0.000138        0.84621   \n",
              "\n",
              "               test_speedup  train_mem_reduction  test_mem_reduction  \n",
              "model                                                                 \n",
              "QDA                1.000000                  1.0            1.000000  \n",
              "TensorizedQDA      1.971413                  1.0            0.663443  "
            ]
          },
          "execution_count": 18,
          "metadata": {},
          "output_type": "execute_result"
        }
      ],
      "source": [
        "# podemos setear un baseline para que fabrique columnas de comparación\n",
        "summ = b.summary(baseline='QDA')\n",
        "\n",
        "summ"
      ]
    },
    {
      "cell_type": "code",
      "execution_count": 19,
      "metadata": {
        "colab": {
          "base_uri": "https://localhost:8080/",
          "height": 143
        },
        "id": "z0qeE1gviFLZ",
        "outputId": "760de925-f8fc-4e77-a8ce-50785d14e487"
      },
      "outputs": [
        {
          "data": {
            "text/html": [
              "<div>\n",
              "<style scoped>\n",
              "    .dataframe tbody tr th:only-of-type {\n",
              "        vertical-align: middle;\n",
              "    }\n",
              "\n",
              "    .dataframe tbody tr th {\n",
              "        vertical-align: top;\n",
              "    }\n",
              "\n",
              "    .dataframe thead th {\n",
              "        text-align: right;\n",
              "    }\n",
              "</style>\n",
              "<table border=\"1\" class=\"dataframe\">\n",
              "  <thead>\n",
              "    <tr style=\"text-align: right;\">\n",
              "      <th></th>\n",
              "      <th>train_median_ms</th>\n",
              "      <th>test_median_ms</th>\n",
              "      <th>mean_accuracy</th>\n",
              "      <th>train_speedup</th>\n",
              "      <th>test_speedup</th>\n",
              "      <th>train_mem_reduction</th>\n",
              "      <th>test_mem_reduction</th>\n",
              "    </tr>\n",
              "    <tr>\n",
              "      <th>model</th>\n",
              "      <th></th>\n",
              "      <th></th>\n",
              "      <th></th>\n",
              "      <th></th>\n",
              "      <th></th>\n",
              "      <th></th>\n",
              "      <th></th>\n",
              "    </tr>\n",
              "  </thead>\n",
              "  <tbody>\n",
              "    <tr>\n",
              "      <th>QDA</th>\n",
              "      <td>0.151882</td>\n",
              "      <td>1.132125</td>\n",
              "      <td>0.982407</td>\n",
              "      <td>1.00000</td>\n",
              "      <td>1.000000</td>\n",
              "      <td>1.0</td>\n",
              "      <td>1.000000</td>\n",
              "    </tr>\n",
              "    <tr>\n",
              "      <th>TensorizedQDA</th>\n",
              "      <td>0.179485</td>\n",
              "      <td>0.574270</td>\n",
              "      <td>0.982593</td>\n",
              "      <td>0.84621</td>\n",
              "      <td>1.971413</td>\n",
              "      <td>1.0</td>\n",
              "      <td>0.663443</td>\n",
              "    </tr>\n",
              "  </tbody>\n",
              "</table>\n",
              "</div>"
            ],
            "text/plain": [
              "               train_median_ms  test_median_ms  mean_accuracy  train_speedup  \\\n",
              "model                                                                          \n",
              "QDA                   0.151882        1.132125       0.982407        1.00000   \n",
              "TensorizedQDA         0.179485        0.574270       0.982593        0.84621   \n",
              "\n",
              "               test_speedup  train_mem_reduction  test_mem_reduction  \n",
              "model                                                                 \n",
              "QDA                1.000000                  1.0            1.000000  \n",
              "TensorizedQDA      1.971413                  1.0            0.663443  "
            ]
          },
          "execution_count": 19,
          "metadata": {},
          "output_type": "execute_result"
        }
      ],
      "source": [
        "summ[[\n",
        "    'train_median_ms', 'test_median_ms','mean_accuracy',\n",
        "    'train_speedup', 'test_speedup',\n",
        "    'train_mem_reduction', 'test_mem_reduction'\n",
        "]]"
      ]
    },
    {
      "cell_type": "markdown",
      "metadata": {
        "id": "EF80Pck2RmaC"
      },
      "source": [
        "# Consigna QDA\n",
        "\n",
        "**Notación**: en general notamos\n",
        "\n",
        "* $k$ la cantidad de clases\n",
        "* $n$ la cantidad de observaciones\n",
        "* $p$ la cantidad de features/variables/predictores\n",
        "\n",
        "**Sugerencia:** combinaciones adecuadas de `transpose`, `stack`, `reshape` y, ocasionalmente, `flatten` y `diagonal` suele ser más que suficiente. Se recomienda *fuertemente* explorar la dimensionalidad de cada elemento antes de implementar las clases.\n",
        "\n",
        "## Tensorización\n",
        "\n",
        "En esta sección nos vamos a ocupar de hacer que el modelo sea más rápido para generar predicciones, observando que incurre en un doble `for` dado que predice en forma individual un escalar para cada observación, para cada clase. Paralelizar ambos vía tensorización suena como una gran vía de mejora de tiempos.\n",
        "\n",
        "### 1) Diferencias entre `QDA`y `TensorizedQDA`\n",
        "\n",
        "1. ¿Sobre qué paraleliza `TensorizedQDA`? ¿Sobre las $k$ clases, las $n$ observaciones a predecir, o ambas?\n",
        "2. Analizar los shapes de `tensor_inv_covs` y `tensor_means` y explicar paso a paso cómo es que `TensorizedQDA` llega a predecir lo mismo que `QDA`.\n",
        "\n",
        "### 2) Optimización\n",
        "\n",
        "Debido a la forma cuadrática de QDA, no se puede predecir para $n$ observaciones en una sola pasada (utilizar $X \\in \\mathbb{R}^{p \\times n}$ en vez de $x \\in \\mathbb{R}^p$) sin pasar por una matriz de $n \\times n$ en donde se computan todas las interacciones entre observaciones. Se puede acceder al resultado recuperando sólo la diagonal de dicha matriz, pero resulta ineficiente en tiempo y (especialmente) en memoria. Aún así, es *posible* que el modelo funcione más rápido.\n",
        "\n",
        "3. Implementar el modelo `FasterQDA` (se recomienda heredarlo de `TensorizedQDA`) de manera de eliminar el ciclo for en el método predict.\n",
        "4. Mostrar dónde aparece la mencionada matriz de $n \\times n$, donde $n$ es la cantidad de observaciones a predecir.\n",
        "5. Demostrar que\n",
        "$$\n",
        "diag(A \\cdot B) = \\sum_{cols} A \\odot B^T = np.sum(A \\odot B^T, axis=1)\n",
        "$$ es decir, que se puede \"esquivar\" la matriz de $n \\times n$ usando matrices de $n \\times p$. También se puede usar, de forma equivalente,\n",
        "$$\n",
        "np.sum(A^T \\odot B, axis=0).T\n",
        "$$ \n",
        "queda a preferencia del alumno cuál usar.\n",
        "\n",
        "6. Utilizar la propiedad antes demostrada para reimplementar la predicción del modelo `FasterQDA` de forma eficiente en un nuevo modelo `EfficientQDA`.\n",
        "7. Comparar la performance de las 4 variantes de QDA implementadas hasta ahora (no Cholesky) ¿Qué se observa? A modo de opinión ¿Se condice con lo esperado?\n",
        "\n",
        "## Cholesky\n",
        "\n",
        "Hasta ahora todos los esfuerzos fueron enfocados en realizar una predicción más rápida. Los tiempos de entrenamiento (teóricos al menos) siguen siendo los mismos o hasta (minúsculamente) peores, dado que todas las mejoras siguen llamando al método `_fit_params` original de `QDA`.\n",
        "\n",
        "La descomposición/factorización de [Cholesky](https://en.wikipedia.org/wiki/Cholesky_decomposition#Statement) permite factorizar una matriz definida positiva $A = LL^T$ donde $L$ es una matriz triangular inferior. En particular, si bien se asume que $p \\ll n$, invertir la matriz de covarianzas $\\Sigma$ para cada clase impone un cuello de botella que podría alivianarse. Teniendo en cuenta que las matrices de covarianza son simétricas y salvo degeneración, definidas positivas, Cholesky como mínimo debería permitir invertir la matriz más rápido.\n",
        "\n",
        "*Nota: observar que calcular* $A^{-1}b$ *equivale a resolver el sistema* $Ax=b$.\n",
        "\n",
        "### 3) Diferencias entre implementaciones de `QDA_Chol`\n",
        "\n",
        "8. Si una matriz $A$ tiene fact. de Cholesky $A=LL^T$, expresar $A^{-1}$ en términos de $L$. ¿Cómo podría esto ser útil en la forma cuadrática de QDA?\n",
        "7. Explicar las diferencias entre `QDA_Chol1`y `QDA` y cómo `QDA_Chol1` llega, paso a paso, hasta las predicciones.\n",
        "8. ¿Cuáles son las diferencias entre `QDA_Chol1`, `QDA_Chol2` y `QDA_Chol3`?\n",
        "9. Comparar la performance de las 7 variantes de QDA implementadas hasta ahora ¿Qué se observa?¿Hay alguna de las implementaciones de `QDA_Chol` que sea claramente mejor que las demás?¿Alguna que sea peor?\n",
        "\n",
        "### 4) Optimización\n",
        "\n",
        "12. Implementar el modelo `TensorizedChol` paralelizando sobre clases/observaciones según corresponda. Se recomienda heredarlo de alguna de las implementaciones de `QDA_Chol`, aunque la elección de cuál de ellas queda a cargo del alumno según lo observado en los benchmarks de puntos anteriores.\n",
        "13. Implementar el modelo `EfficientChol` combinando los insights de `EfficientQDA` y `TensorizedChol`. Si se desea, se puede implementar `FasterChol` como ayuda, pero no se contempla para el punto.\n",
        "13. Comparar la performance de las 9 variantes de QDA implementadas ¿Qué se observa? A modo de opinión ¿Se condice con lo esperado?"
      ]
    },
    {
      "cell_type": "markdown",
      "metadata": {
        "id": "qcqVvRSLwaEZ"
      },
      "source": [
        "## Importante:\n",
        "\n",
        "Las métricas que se observan al realizar benchmarking son muy dependientes del código que se ejecuta, y por tanto de las versiones de las librerías utilizadas. Una forma de unificar esto es utilizando un gestor de versiones y paquetes como _uv_ o _Poetry_, otra es simplemente usando una misma VM como la que provee Colab.\n",
        "\n",
        "**Cada equipo debe informar las versiones de Python, NumPy y SciPy con que fueron obtenidos los resultados. En caso de que sean múltiples, agregar todos los casos**. La siguiente celda provee una ayuda para hacerlo desde un notebook, aunque como es una secuencia de comandos también sirve para consola."
      ]
    },
    {
      "cell_type": "code",
      "execution_count": 20,
      "metadata": {
        "colab": {
          "base_uri": "https://localhost:8080/"
        },
        "id": "RwlW7sqwirdn",
        "outputId": "ccccb229-089a-44fb-cda3-da0a11b4fd4f"
      },
      "outputs": [
        {
          "name": "stdout",
          "output_type": "stream",
          "text": [
            "Python 3.11.13\n",
            "numpy==2.2.6\n"
          ]
        }
      ],
      "source": [
        "%%bash\n",
        "python --version\n",
        "pip freeze | grep -E \"scipy|numpy\""
      ]
    },
    {
      "cell_type": "markdown",
      "metadata": {
        "id": "WNWRw6ofUNgZ"
      },
      "source": [
        "**Comentario:** yo utilicé los siguientes parámetros para mi run de prueba. Esto NO significa que ustedes tengan que usar los mismos, tampoco el mismo dataset. Se agregó al notebook simplemente porque fue una pregunta común en cohortes anteriores."
      ]
    },
    {
      "cell_type": "code",
      "execution_count": 21,
      "metadata": {
        "id": "9Vn-q4RJv8aA"
      },
      "outputs": [
        {
          "name": "stdout",
          "output_type": "stream",
          "text": [
            "Benching params:\n",
            "Total runs: 150\n",
            "Warmup runs: 20\n",
            "Peak Memory usage runs: 30\n",
            "Running time runs: 100\n",
            "Train size rows (approx): 16000\n",
            "Test size rows (approx): 4000\n",
            "Test size fraction: 0.2\n"
          ]
        }
      ],
      "source": [
        "# dataset de letters\n",
        "X_letter, y_letter = get_letters_dataset()\n",
        "\n",
        "# encoding de labels\n",
        "y_letter_encoded = label_encode(y_letter.reshape(-1,1))\n",
        "\n",
        "# instanciacion del benchmark\n",
        "b = Benchmark(\n",
        "    X_letter, y_letter_encoded,\n",
        "    same_splits=False,\n",
        "    n_runs=100,\n",
        "    warmup=20,\n",
        "    mem_runs=30,\n",
        "    # same_splits=True,\n",
        "    # n_runs=0,\n",
        "    # warmup=1,\n",
        "    # mem_runs=0,\n",
        "    test_sz=0.2\n",
        ")"
      ]
    },
    {
      "cell_type": "markdown",
      "metadata": {},
      "source": [
        "# Respuestas\n",
        "\n",
        "### 1) Diferencias entre `QDA`y `TensorizedQDA`\n",
        "\n",
        "1. ¿Sobre qué paraleliza `TensorizedQDA`? ¿Sobre las $k$ clases, las $n$ observaciones a predecir, o ambas?\n",
        "\n",
        "`TensorizedQDA` paraleliza sobre las $k$ clases. Si observamos `_fit_params` observamos que hace un `np.stack` sobre `self.inv_covs`, el cual es una lista de `np.arrays` de 2 dimensiones. El `stack` lo que hace es agregar una dimensión, y poner en esa dimensión las matrices 2D de covarianza y de media."
      ]
    },
    {
      "cell_type": "markdown",
      "metadata": {},
      "source": [
        "2. Analizar los shapes de `tensor_inv_covs` y `tensor_means` y explicar paso a paso cómo es que `TensorizedQDA` llega a predecir lo mismo que `QDA`.\n",
        "\n",
        "`tensor_inv_covs` tiene tamaño $(j,p,p)$ donde $j$ es la cantidad de clases y $p$ la cantidad de features. Las medias `tensor_mean` tiene tamaño $(j,p,1)$. Si vamos al método `_predict_log_conditional` tenemos que:\n",
        "```python\n",
        "# QDA:\n",
        "inv_cov = self.inv_covs[class_idx]\n",
        "unbiased_x =  x - self.means[class_idx]\n",
        "return 0.5*np.log(LA.det(inv_cov)) -0.5 * unbiased_x.T @ inv_cov @ unbiased_x\n",
        "\n",
        "# TensorizedQDA:\n",
        "unbiased_x = x - self.tensor_means\n",
        "inner_prod = unbiased_x.transpose(0,2,1) @ self.tensor_inv_cov @ unbiased_x\n",
        "return 0.5*np.log(LA.det(self.tensor_inv_cov)) - 0.5 * inner_prod.flatten()\n",
        "```\n",
        "En `TensorizedQDA` se calcula en primer lugar `unbiased_x` donde se tiene para las $j$ clases $x-\\mu_j$, dando un array de tamaño $(j,p,1)$. En el caso de `QDA`, como se evalúa en particular la clase $k$, se tiene un array $(p,1)$, que se corresponde al $k$ lugar en la dimensión 0 del tensor `unbiased_x`.<br>\n",
        "Luego para el producto interno, la diferencia radica en el detalle de la transpuesta donde los argumentos `0,2,1` indican que la transpuesta se hace para cada array 2D de las dimensiones 1 y 2, es decir, se transpone la matriz de cada clase $k$, y la dimensión 0 de clases se deja intacta. De esta forma el resultado es un array 2D $(j,1)$, donde se tiene el valor del producto interno para cada $j$ clase. Luego esto se le applica `flatten` para llevarlo a un array 1D para realizar la suma por fila.<br>\n",
        "Por último el determinante del tensor `LA.det(self.tensor_inv_cov)` nos entrega el determinante de las $j$ matrices 2D en un array 1D.<br>\n",
        "Finalmente se logra un array 1D donde cada posición es la $k$ clase. Por lo tanto, calcular `QDA._predict_log_conditional(x, k)` es equivalente a `TensorizedQDA._predict_log_conditional(x)[k]`."
      ]
    },
    {
      "cell_type": "markdown",
      "metadata": {},
      "source": [
        "\n",
        "### 2) Optimización\n",
        "\n",
        "Debido a la forma cuadrática de QDA, no se puede predecir para $n$ observaciones en una sola pasada (utilizar $X \\in \\mathbb{R}^{p \\times n}$ en vez de $x \\in \\mathbb{R}^p$) sin pasar por una matriz de $n \\times n$ en donde se computan todas las interacciones entre observaciones. Se puede acceder al resultado recuperando sólo la diagonal de dicha matriz, pero resulta ineficiente en tiempo y (especialmente) en memoria. Aún así, es *posible* que el modelo funcione más rápido.\n",
        "\n",
        "3. Implementar el modelo `FasterQDA` (se recomienda heredarlo de `TensorizedQDA`) de manera de eliminar el ciclo for en el método predict."
      ]
    },
    {
      "cell_type": "code",
      "execution_count": 22,
      "metadata": {},
      "outputs": [],
      "source": [
        "class FasterQDA(TensorizedQDA):\n",
        "    ##\n",
        "    # ESTA ES LA IMPLEMENTACIÓN YENDO UNA DIMENSIÓN MÁS ARRIBA TENSORIALMENTE\n",
        "    # NO ES TÉCNICAMENTE LO QUE SE PIDE, PERO FUE LO QUE ME SALIÓ DE PRIMERA COMO IMPLEMENTACIÓN DE COMPUTAR TODAS LAS PREDICCIONES DE UNA\n",
        "    ##\n",
        "    def _predict_log_conditionals_2(self,x):\n",
        "        print(x.shape)\n",
        "        unbiased_x = x - self.tensor_means\n",
        "        inner_prod = unbiased_x.transpose(0,1,3,2) @ self.tensor_inv_cov @ unbiased_x\n",
        "        return 0.5*np.log(LA.det(self.tensor_inv_cov)) - 0.5 * inner_prod.reshape(len(inner_prod),-1)\n",
        "\n",
        "    def predict(self, X):\n",
        "        log_conditionals = self._predict_log_conditionals_2(X.transpose(1,0).reshape(len(X[0]),1,len(X),1)) \n",
        "        predictions = np.argmax(self.log_a_priori + log_conditionals, axis=1)\n",
        "\n",
        "        return predictions.reshape(1,-1)\n"
      ]
    },
    {
      "cell_type": "code",
      "execution_count": 23,
      "metadata": {},
      "outputs": [],
      "source": [
        "class FasterQDA(TensorizedQDA):\n",
        "    def _predict_log_conditionals_2(self,x):\n",
        "        # x tiene dims (n,1,p,1)\n",
        "        # tensor means tiene dims (k,p,1)\n",
        "        # ==> unbiased_x tiene dims (n,k,p,1)\n",
        "        unbiased_x = x.transpose(1,0).reshape(-1, 1, len(x), 1) - self.tensor_means\n",
        "        # convierto unbiased_x para que la dimensión más alta del tensor sea las k clases => (k,p,n)\n",
        "        unbiased_x = unbiased_x.reshape(len(unbiased_x), len(unbiased_x[0]),-1).transpose(1,2,0)\n",
        "\n",
        "        # hago el prod interno\n",
        "        # se obtiene una matriz (n,n), de la cual sólo nos interesa la diagonal\n",
        "        inner_prod = unbiased_x.transpose(0,2,1) @ self.tensor_inv_cov @ unbiased_x\n",
        "        inner_prod = np.diagonal(inner_prod, axis1=1, axis2=2)\n",
        "\n",
        "        return 0.5*np.log(LA.det(self.tensor_inv_cov)) - 0.5 * inner_prod.transpose()\n",
        "\n",
        "    def predict(self, X):\n",
        "        log_conditionals = self._predict_log_conditionals_2(X) \n",
        "        predictions = np.argmax(self.log_a_priori + log_conditionals, axis=1)\n",
        "\n",
        "        return predictions.reshape(1,-1)\n"
      ]
    },
    {
      "cell_type": "code",
      "execution_count": 24,
      "metadata": {},
      "outputs": [
        {
          "data": {
            "application/vnd.jupyter.widget-view+json": {
              "model_id": "fce31ce76b2f44dcb2953860caf6e9a5",
              "version_major": 2,
              "version_minor": 0
            },
            "text/plain": [
              "QDA (MEM):   0%|          | 0/30 [00:00<?, ?it/s]"
            ]
          },
          "metadata": {},
          "output_type": "display_data"
        },
        {
          "data": {
            "application/vnd.jupyter.widget-view+json": {
              "model_id": "d3f8936cf5a248afbfb54117b9c6120f",
              "version_major": 2,
              "version_minor": 0
            },
            "text/plain": [
              "QDA (TIME):   0%|          | 0/100 [00:00<?, ?it/s]"
            ]
          },
          "metadata": {},
          "output_type": "display_data"
        }
      ],
      "source": [
        "b.bench(QDA)"
      ]
    },
    {
      "cell_type": "code",
      "execution_count": 25,
      "metadata": {},
      "outputs": [
        {
          "data": {
            "application/vnd.jupyter.widget-view+json": {
              "model_id": "fbc341672af5445b927b541640e9a483",
              "version_major": 2,
              "version_minor": 0
            },
            "text/plain": [
              "TensorizedQDA (MEM):   0%|          | 0/30 [00:00<?, ?it/s]"
            ]
          },
          "metadata": {},
          "output_type": "display_data"
        },
        {
          "data": {
            "application/vnd.jupyter.widget-view+json": {
              "model_id": "8ea1ee357e034f1da70225fda0555de4",
              "version_major": 2,
              "version_minor": 0
            },
            "text/plain": [
              "TensorizedQDA (TIME):   0%|          | 0/100 [00:00<?, ?it/s]"
            ]
          },
          "metadata": {},
          "output_type": "display_data"
        }
      ],
      "source": [
        "b.bench(TensorizedQDA)"
      ]
    },
    {
      "cell_type": "code",
      "execution_count": 26,
      "metadata": {},
      "outputs": [
        {
          "data": {
            "application/vnd.jupyter.widget-view+json": {
              "model_id": "d6d9154bb94945d389b87fe33f7be451",
              "version_major": 2,
              "version_minor": 0
            },
            "text/plain": [
              "FasterQDA (MEM):   0%|          | 0/30 [00:00<?, ?it/s]"
            ]
          },
          "metadata": {},
          "output_type": "display_data"
        },
        {
          "data": {
            "application/vnd.jupyter.widget-view+json": {
              "model_id": "b2301a0f236741518bb831cf89dca3ed",
              "version_major": 2,
              "version_minor": 0
            },
            "text/plain": [
              "FasterQDA (TIME):   0%|          | 0/100 [00:00<?, ?it/s]"
            ]
          },
          "metadata": {},
          "output_type": "display_data"
        }
      ],
      "source": [
        "b.bench(FasterQDA)"
      ]
    },
    {
      "cell_type": "code",
      "execution_count": 27,
      "metadata": {},
      "outputs": [
        {
          "data": {
            "text/html": [
              "<div>\n",
              "<style scoped>\n",
              "    .dataframe tbody tr th:only-of-type {\n",
              "        vertical-align: middle;\n",
              "    }\n",
              "\n",
              "    .dataframe tbody tr th {\n",
              "        vertical-align: top;\n",
              "    }\n",
              "\n",
              "    .dataframe thead th {\n",
              "        text-align: right;\n",
              "    }\n",
              "</style>\n",
              "<table border=\"1\" class=\"dataframe\">\n",
              "  <thead>\n",
              "    <tr style=\"text-align: right;\">\n",
              "      <th></th>\n",
              "      <th>train_median_ms</th>\n",
              "      <th>train_std_ms</th>\n",
              "      <th>test_median_ms</th>\n",
              "      <th>test_std_ms</th>\n",
              "      <th>mean_accuracy</th>\n",
              "      <th>train_mem_median_mb</th>\n",
              "      <th>train_mem_std_mb</th>\n",
              "      <th>test_mem_median_mb</th>\n",
              "      <th>test_mem_std_mb</th>\n",
              "    </tr>\n",
              "    <tr>\n",
              "      <th>model</th>\n",
              "      <th></th>\n",
              "      <th></th>\n",
              "      <th></th>\n",
              "      <th></th>\n",
              "      <th></th>\n",
              "      <th></th>\n",
              "      <th></th>\n",
              "      <th></th>\n",
              "      <th></th>\n",
              "    </tr>\n",
              "  </thead>\n",
              "  <tbody>\n",
              "    <tr>\n",
              "      <th>QDA</th>\n",
              "      <td>4.535531</td>\n",
              "      <td>0.679631</td>\n",
              "      <td>721.234769</td>\n",
              "      <td>10.002602</td>\n",
              "      <td>0.886117</td>\n",
              "      <td>0.270332</td>\n",
              "      <td>0.001961</td>\n",
              "      <td>0.098812</td>\n",
              "      <td>0.000649</td>\n",
              "    </tr>\n",
              "    <tr>\n",
              "      <th>TensorizedQDA</th>\n",
              "      <td>4.653865</td>\n",
              "      <td>0.603580</td>\n",
              "      <td>156.179027</td>\n",
              "      <td>1.814166</td>\n",
              "      <td>0.885303</td>\n",
              "      <td>0.268700</td>\n",
              "      <td>0.002143</td>\n",
              "      <td>0.154121</td>\n",
              "      <td>0.000147</td>\n",
              "    </tr>\n",
              "    <tr>\n",
              "      <th>FasterQDA</th>\n",
              "      <td>6.336919</td>\n",
              "      <td>2.008760</td>\n",
              "      <td>2250.744609</td>\n",
              "      <td>438.284886</td>\n",
              "      <td>0.884827</td>\n",
              "      <td>0.269188</td>\n",
              "      <td>0.001919</td>\n",
              "      <td>3199.335289</td>\n",
              "      <td>0.000834</td>\n",
              "    </tr>\n",
              "  </tbody>\n",
              "</table>\n",
              "</div>"
            ],
            "text/plain": [
              "               train_median_ms  train_std_ms  test_median_ms  test_std_ms  \\\n",
              "model                                                                       \n",
              "QDA                   4.535531      0.679631      721.234769    10.002602   \n",
              "TensorizedQDA         4.653865      0.603580      156.179027     1.814166   \n",
              "FasterQDA             6.336919      2.008760     2250.744609   438.284886   \n",
              "\n",
              "               mean_accuracy  train_mem_median_mb  train_mem_std_mb  \\\n",
              "model                                                                 \n",
              "QDA                 0.886117             0.270332          0.001961   \n",
              "TensorizedQDA       0.885303             0.268700          0.002143   \n",
              "FasterQDA           0.884827             0.269188          0.001919   \n",
              "\n",
              "               test_mem_median_mb  test_mem_std_mb  \n",
              "model                                               \n",
              "QDA                      0.098812         0.000649  \n",
              "TensorizedQDA            0.154121         0.000147  \n",
              "FasterQDA             3199.335289         0.000834  "
            ]
          },
          "execution_count": 27,
          "metadata": {},
          "output_type": "execute_result"
        }
      ],
      "source": [
        "b.summary()"
      ]
    },
    {
      "cell_type": "markdown",
      "metadata": {},
      "source": [
        "4. Mostrar dónde aparece la mencionada matriz de $n \\times n$, donde $n$ es la cantidad de observaciones a predecir.<br>\n",
        "\n",
        "La matriz $n\\times n$ aparece en el producto interno:\n",
        "```python\n",
        "inner_prod = unbiased_x.transpose(0,2,1) @ self.tensor_inv_cov @ unbiased_x\n",
        "```\n",
        "Escrito \"matemáticamente\", se tiene el producto $${X^*}^T \\cdot \\Sigma^{-1} \\cdot  {X^*},$$ donde $X^*\\in\\real^{k\\times n\\times p}$ y $\\Sigma\\in \\real^{k\\times p\\times p}$, por lo que el resultado $$\\text{inner\\_prod}\\in\\real^{k\\times n\\times n},$$ y sólo nos interesan los elementos de la diagonal (de las $k$ matrices $n\\times n$) que tienen el cuadrado de las observaciones, y todos los productos cruzados son descartados al hacer la diagonal.\n"
      ]
    },
    {
      "cell_type": "markdown",
      "metadata": {},
      "source": [
        "5. Demostrar que\n",
        "$$\n",
        "diag(A \\cdot B) = \\sum_{cols} A \\odot B^T = np.sum(A \\odot B^T, axis=1)\n",
        "$$ \n",
        "es decir, que se puede \"esquivar\" la matriz de $n \\times n$ usando matrices de $n \\times p$. También se puede usar, de forma equivalente,\n",
        "$$\n",
        "np.sum(A^T \\odot B, axis=0).T\n",
        "$$ \n",
        "queda a preferencia del alumno cuál usar.<br>\n",
        "\n",
        "\n"
      ]
    },
    {
      "cell_type": "markdown",
      "metadata": {},
      "source": [
        "Debemos demostrar $$\\text{diag}(A\\cdot B) = \\sum_\\text{cols} A\\odot B^T$$\n",
        "Desarrollamos el producto matricial del lado izquierdo:\n",
        "$$\n",
        "\\left[ A \\cdot B \\right]_{ik} = \\sum_j a_{ij} b_{jk}\n",
        "$$\n",
        "Luego el elemento $i$ de la diagonal será:\n",
        "$$\n",
        "\\left[\\text{diag}(A\\cdot B)\\right]_i = \\sum_j a_{ij} b_{ji}\n",
        "$$\n",
        "Ahora veamos el lado derecho, el producto elemento a elemento es:\n",
        "$$\n",
        "\\left[ A \\odot B^T \\right]_{ij} = a_{ij} b_{ji}\n",
        "$$\n",
        "Si ahora aplicamos la suma sobre las columnas:\n",
        "$$\n",
        "\\left[\\sum_\\text{cols} A\\odot B^T\\right]_i = \\sum_j a_{ij} b_{ji}\n",
        "$$\n",
        "Observamos que recuperamos lo mismo que para el lado izquierdo de la ecuación, por lo que hemos demostrado $\\text{diag}(A\\cdot B) = \\sum_\\text{cols} A\\odot B^T$.\n",
        "\n",
        "Luego aplicar `np.sum` sobre `axis` 1 indica a hacer la suma sobre las columnas, lo cual es lo que hacemos en el lado derecho de la ecuación.\n"
      ]
    },
    {
      "cell_type": "markdown",
      "metadata": {},
      "source": [
        "6. Utilizar la propiedad antes demostrada para reimplementar la predicción del modelo `FasterQDA` de forma eficiente en un nuevo modelo `EfficientQDA`."
      ]
    },
    {
      "cell_type": "code",
      "execution_count": 28,
      "metadata": {},
      "outputs": [],
      "source": [
        "class EfficientQDA(TensorizedQDA):\n",
        "    def _predict_log_conditionals_2(self,x):\n",
        "        # x tiene dims (n,1,p,1)\n",
        "        # tensor means tiene dims (k,p,1)\n",
        "        # ==> unbiased_x tiene dims (n,k,p,1)\n",
        "        unbiased_x = x.transpose(1,0).reshape(-1, 1, len(x), 1) - self.tensor_means\n",
        "        # convierto unbiased_x para que la dimensión más alta del tensor sea las k clases => (k,p,n)\n",
        "        unbiased_x = unbiased_x.reshape(len(unbiased_x), len(unbiased_x[0]),-1).transpose(1,2,0)\n",
        "\n",
        "        # hago el prod interno\n",
        "        inner_prod = np.sum((unbiased_x.transpose(0,2,1) @ self.tensor_inv_cov) * unbiased_x.transpose(0,2,1), axis=2)\n",
        "\n",
        "        return 0.5*np.log(LA.det(self.tensor_inv_cov)) - 0.5 * inner_prod.transpose()\n",
        "\n",
        "    def predict(self, X):\n",
        "        log_conditionals = self._predict_log_conditionals_2(X) \n",
        "        predictions = np.argmax(self.log_a_priori + log_conditionals, axis=1)\n",
        "        # print(predictions)\n",
        "\n",
        "        return predictions.reshape(1,-1)"
      ]
    },
    {
      "cell_type": "code",
      "execution_count": 29,
      "metadata": {},
      "outputs": [
        {
          "data": {
            "application/vnd.jupyter.widget-view+json": {
              "model_id": "3e1f49c756ff4dbeac61b1710fcce3d1",
              "version_major": 2,
              "version_minor": 0
            },
            "text/plain": [
              "EfficientQDA (MEM):   0%|          | 0/30 [00:00<?, ?it/s]"
            ]
          },
          "metadata": {},
          "output_type": "display_data"
        },
        {
          "data": {
            "application/vnd.jupyter.widget-view+json": {
              "model_id": "0bfad4d0b3fb47ef9b21bbc5e7b96958",
              "version_major": 2,
              "version_minor": 0
            },
            "text/plain": [
              "EfficientQDA (TIME):   0%|          | 0/100 [00:00<?, ?it/s]"
            ]
          },
          "metadata": {},
          "output_type": "display_data"
        }
      ],
      "source": [
        "b.bench(EfficientQDA)"
      ]
    },
    {
      "cell_type": "markdown",
      "metadata": {},
      "source": [
        "7. Comparar la performance de las 4 variantes de QDA implementadas hasta ahora (no Cholesky) ¿Qué se observa? A modo de opinión ¿Se condice con lo esperado?<br>\n",
        "\n",
        "Abajo podemos ver la comparación entre las variantes implementadas. Se observa (tomando `QDA` como base):\n",
        "- `TensorizedQDA` lleva a un speedup de test de x4.68, con casi igual tiempo de entrenamiento. Se tiene casi el mismo costo en memoria para el entrenamiento, mientras que para testeo, se incremento en un 56%.\n",
        "- `FasterQDA` no resultó más rápido, si no que soprendentemente, bastante más lento, tardando un 16% más que `QDA` aproximadamente. Además su consumo de memoria en testeo es muy elevado: aprox. 32,000x respecto de `QDA`. \n",
        "- `EfficientQDA` es mucho más rápido que el resto de variantes, con un 65x de speedup de testeo. Su consumo de memoria fue de aprox. 265x el de `QDA`.\n",
        "\n",
        "Como conclusión, `TensorizedQDA` provee un speedup interesante respecto de `QDA`, con un incremento de consumo de memoria no tan elevado. Por otro lado, `FasterQDA` resulta demasiado costoso tanto en tiempo como en memoria, principalmente por el producto entre matrices de gran tamaño. Por último, `EfficientQDA` sí es eficiente como su nombre lo indica, logrando un speedup muy importante, aunque su consumo de memoria es bastante más elevado que el speedup logrado.\n",
        "\n",
        "Se esperaba un mejor comportamiento de `FasterQDA`, pero viendo el tamaño de los sets de testeo (4,000 observaciones) se puede entender que el porque de su mala performance viene de hacer operaciones con matrices de tamaño muy elevado.\n",
        "\n",
        "*Nota*: los resultados (especialmente de speedup) son bastante dependientes del hardware. El resultado mencionado de 65x speedup en `EfficientQDA` es logró en una PC de escritorio, mientras que con una laptop se logro un 45x de speedup. Incluso se tuvieron diferencias con la PC de escritorio teniendo tareas de fondo consumiendo recursos. También se tuvieron diferencias con distintas versiones de python y de numpy."
      ]
    },
    {
      "cell_type": "code",
      "execution_count": 30,
      "metadata": {},
      "outputs": [
        {
          "data": {
            "text/html": [
              "<div>\n",
              "<style scoped>\n",
              "    .dataframe tbody tr th:only-of-type {\n",
              "        vertical-align: middle;\n",
              "    }\n",
              "\n",
              "    .dataframe tbody tr th {\n",
              "        vertical-align: top;\n",
              "    }\n",
              "\n",
              "    .dataframe thead th {\n",
              "        text-align: right;\n",
              "    }\n",
              "</style>\n",
              "<table border=\"1\" class=\"dataframe\">\n",
              "  <thead>\n",
              "    <tr style=\"text-align: right;\">\n",
              "      <th></th>\n",
              "      <th>train_median_ms</th>\n",
              "      <th>train_std_ms</th>\n",
              "      <th>test_median_ms</th>\n",
              "      <th>test_std_ms</th>\n",
              "      <th>mean_accuracy</th>\n",
              "      <th>train_mem_median_mb</th>\n",
              "      <th>train_mem_std_mb</th>\n",
              "      <th>test_mem_median_mb</th>\n",
              "      <th>test_mem_std_mb</th>\n",
              "      <th>train_speedup</th>\n",
              "      <th>test_speedup</th>\n",
              "      <th>train_mem_reduction</th>\n",
              "      <th>test_mem_reduction</th>\n",
              "    </tr>\n",
              "    <tr>\n",
              "      <th>model</th>\n",
              "      <th></th>\n",
              "      <th></th>\n",
              "      <th></th>\n",
              "      <th></th>\n",
              "      <th></th>\n",
              "      <th></th>\n",
              "      <th></th>\n",
              "      <th></th>\n",
              "      <th></th>\n",
              "      <th></th>\n",
              "      <th></th>\n",
              "      <th></th>\n",
              "      <th></th>\n",
              "    </tr>\n",
              "  </thead>\n",
              "  <tbody>\n",
              "    <tr>\n",
              "      <th>QDA</th>\n",
              "      <td>4.535531</td>\n",
              "      <td>0.679631</td>\n",
              "      <td>721.234769</td>\n",
              "      <td>10.002602</td>\n",
              "      <td>0.886117</td>\n",
              "      <td>0.270332</td>\n",
              "      <td>0.001961</td>\n",
              "      <td>0.098812</td>\n",
              "      <td>0.000649</td>\n",
              "      <td>1.000000</td>\n",
              "      <td>1.000000</td>\n",
              "      <td>1.000000</td>\n",
              "      <td>1.000000</td>\n",
              "    </tr>\n",
              "    <tr>\n",
              "      <th>TensorizedQDA</th>\n",
              "      <td>4.653865</td>\n",
              "      <td>0.603580</td>\n",
              "      <td>156.179027</td>\n",
              "      <td>1.814166</td>\n",
              "      <td>0.885303</td>\n",
              "      <td>0.268700</td>\n",
              "      <td>0.002143</td>\n",
              "      <td>0.154121</td>\n",
              "      <td>0.000147</td>\n",
              "      <td>0.974573</td>\n",
              "      <td>4.618000</td>\n",
              "      <td>1.006076</td>\n",
              "      <td>0.641132</td>\n",
              "    </tr>\n",
              "    <tr>\n",
              "      <th>FasterQDA</th>\n",
              "      <td>6.336919</td>\n",
              "      <td>2.008760</td>\n",
              "      <td>2250.744609</td>\n",
              "      <td>438.284886</td>\n",
              "      <td>0.884827</td>\n",
              "      <td>0.269188</td>\n",
              "      <td>0.001919</td>\n",
              "      <td>3199.335289</td>\n",
              "      <td>0.000834</td>\n",
              "      <td>0.715731</td>\n",
              "      <td>0.320443</td>\n",
              "      <td>1.004251</td>\n",
              "      <td>0.000031</td>\n",
              "    </tr>\n",
              "    <tr>\n",
              "      <th>EfficientQDA</th>\n",
              "      <td>4.234745</td>\n",
              "      <td>0.678088</td>\n",
              "      <td>12.958735</td>\n",
              "      <td>1.565634</td>\n",
              "      <td>0.884890</td>\n",
              "      <td>0.269676</td>\n",
              "      <td>0.002171</td>\n",
              "      <td>26.300941</td>\n",
              "      <td>0.000000</td>\n",
              "      <td>1.071028</td>\n",
              "      <td>55.656263</td>\n",
              "      <td>1.002433</td>\n",
              "      <td>0.003757</td>\n",
              "    </tr>\n",
              "  </tbody>\n",
              "</table>\n",
              "</div>"
            ],
            "text/plain": [
              "               train_median_ms  train_std_ms  test_median_ms  test_std_ms  \\\n",
              "model                                                                       \n",
              "QDA                   4.535531      0.679631      721.234769    10.002602   \n",
              "TensorizedQDA         4.653865      0.603580      156.179027     1.814166   \n",
              "FasterQDA             6.336919      2.008760     2250.744609   438.284886   \n",
              "EfficientQDA          4.234745      0.678088       12.958735     1.565634   \n",
              "\n",
              "               mean_accuracy  train_mem_median_mb  train_mem_std_mb  \\\n",
              "model                                                                 \n",
              "QDA                 0.886117             0.270332          0.001961   \n",
              "TensorizedQDA       0.885303             0.268700          0.002143   \n",
              "FasterQDA           0.884827             0.269188          0.001919   \n",
              "EfficientQDA        0.884890             0.269676          0.002171   \n",
              "\n",
              "               test_mem_median_mb  test_mem_std_mb  train_speedup  \\\n",
              "model                                                               \n",
              "QDA                      0.098812         0.000649       1.000000   \n",
              "TensorizedQDA            0.154121         0.000147       0.974573   \n",
              "FasterQDA             3199.335289         0.000834       0.715731   \n",
              "EfficientQDA            26.300941         0.000000       1.071028   \n",
              "\n",
              "               test_speedup  train_mem_reduction  test_mem_reduction  \n",
              "model                                                                 \n",
              "QDA                1.000000             1.000000            1.000000  \n",
              "TensorizedQDA      4.618000             1.006076            0.641132  \n",
              "FasterQDA          0.320443             1.004251            0.000031  \n",
              "EfficientQDA      55.656263             1.002433            0.003757  "
            ]
          },
          "execution_count": 30,
          "metadata": {},
          "output_type": "execute_result"
        }
      ],
      "source": [
        "b.summary(baseline='QDA')"
      ]
    },
    {
      "cell_type": "markdown",
      "metadata": {},
      "source": [
        "## Cholesky\n",
        "\n",
        "Hasta ahora todos los esfuerzos fueron enfocados en realizar una predicción más rápida. Los tiempos de entrenamiento (teóricos al menos) siguen siendo los mismos o hasta (minúsculamente) peores, dado que todas las mejoras siguen llamando al método `_fit_params` original de `QDA`.\n",
        "\n",
        "La descomposición/factorización de [Cholesky](https://en.wikipedia.org/wiki/Cholesky_decomposition#Statement) permite factorizar una matriz definida positiva $A = LL^T$ donde $L$ es una matriz triangular inferior. En particular, si bien se asume que $p \\ll n$, invertir la matriz de covarianzas $\\Sigma$ para cada clase impone un cuello de botella que podría alivianarse. Teniendo en cuenta que las matrices de covarianza son simétricas y salvo degeneración, definidas positivas, Cholesky como mínimo debería permitir invertir la matriz más rápido.\n",
        "\n",
        "*Nota: observar que calcular* $A^{-1}b$ *equivale a resolver el sistema* $Ax=b$.\n",
        "\n",
        "### 3) Diferencias entre implementaciones de `QDA_Chol`\n"
      ]
    },
    {
      "cell_type": "markdown",
      "metadata": {},
      "source": [
        "\n",
        "8. Si una matriz $A$ tiene fact. de Cholesky $A=LL^T$, expresar $A^{-1}$ en términos de $L$. ¿Cómo podría esto ser útil en la forma cuadrática de QDA?<br>\n",
        "\n",
        "Si $A=LL^T$, entonces $$A^{-1}=(L^T)^{-1}L^{-1}=(L^{-1})^T L^{-1}.$$\n",
        "Esto puede sernos útil para la inversión de la matriz de covarianzas, la cual tiene tamaño $p\\times p$."
      ]
    },
    {
      "cell_type": "markdown",
      "metadata": {},
      "source": [
        "9. Explicar las diferencias entre `QDA_Chol1`y `QDA` y cómo `QDA_Chol1` llega, paso a paso, hasta las predicciones.<br>\n",
        "\n",
        "`QDA_Chol1`, en `_fit_params`, en lugar de invertir directamente la matriz $\\Sigma_k$ de covarianza, lo que se hace es aplicar la descomposición de Cholesky a dicha matriz para obtener la matriz triangular inferior $L_k$ para cada $k$-clase. \n",
        "\n",
        "Luego, en `_predict_log_conditional`, se puede aplicar lo siguiente al término derecho del cálculo de $\\log[f_j(x)]$: \n",
        "$$\\begin{align}\n",
        "(x-\\mu_j)^T \\, \\Sigma_j^{-1} \\, (x-\\mu_j) = & (x-\\mu_j)^T \\, (L_j^{-1})^T \\, L^{-1} \\, (x-\\mu_j)\\\\\n",
        "= &  y^T \\, y\n",
        "\\end{align}$$\n",
        "Entonces tenemos los mismo que la suma del cuadrado elemento a elemento (`(y**2).sum()`). "
      ]
    },
    {
      "cell_type": "markdown",
      "metadata": {},
      "source": [
        "10. ¿Cuáles son las diferencias entre `QDA_Chol1`, `QDA_Chol2` y `QDA_Chol3`?<br>\n",
        "\n",
        "`QDA_Chol2` en lugar de invertir $L$, lo que hace es resolver el sistema de ecuaciones: $$L\\,y=x-\\mu_j,$$ lo cual es lo mismo que hacer $$y=L^{-1}(x-\\mu_j).$$ Esto lo hace mediante la función `solve_triangular` de `SciPy`.\n",
        "\n",
        "`QDA_Chol3` invierte la matriz $L$ pero no mediante el método de `numpy`, si no que llamando a `scipy.dtrtri`. Este es un wrapper para la función `dtrtri` de Fortran, la cual computa la inversa de una matriz triangular de reales. Siendo Fortran un lenguaje de nivel bastante más bajo que python, es de esperar que esta implementación de inversión sea más eficiente que la general de `numpy`."
      ]
    },
    {
      "cell_type": "markdown",
      "metadata": {},
      "source": [
        "11. Comparar la performance de las 7 variantes de QDA implementadas hasta ahora ¿Qué se observa?¿Hay alguna de las implementaciones de `QDA_Chol` que sea claramente mejor que las demás?¿Alguna que sea peor?<br>\n",
        "\n",
        "Si comparamos las 3 implementaciones de `QDA_Chol` entre sí, podemos ver que su performance es muy similar, con una leve mejora en el speedup de entrenamiento de las variante `2` y `3` respecto de la `1`. Luego en el testeo las variantes `1` y `3` son igual de rápidas, con la `2` claramente más lenta. El consumo de memoria es prácticamente idéntico para las 3.\n",
        "\n",
        "Ninguna parecería ser claramente mejor que las demás, pero la variante `3` podría ser considerada mejor al tener mejor velocidad de entrenamiento, conservando velocidad de testeo y con un muy leve consumo extra de memoria respecto de la variante `1`. La variante `2` si es considerablemente peor que sus hermanas, debido a su velocidad de testeo pobre."
      ]
    },
    {
      "cell_type": "code",
      "execution_count": 31,
      "metadata": {},
      "outputs": [
        {
          "data": {
            "application/vnd.jupyter.widget-view+json": {
              "model_id": "98fbd77535d44cee9d748001a91d1a3b",
              "version_major": 2,
              "version_minor": 0
            },
            "text/plain": [
              "QDA_Chol1 (MEM):   0%|          | 0/30 [00:00<?, ?it/s]"
            ]
          },
          "metadata": {},
          "output_type": "display_data"
        },
        {
          "data": {
            "application/vnd.jupyter.widget-view+json": {
              "model_id": "12010949043c439aace4878eefdd3565",
              "version_major": 2,
              "version_minor": 0
            },
            "text/plain": [
              "QDA_Chol1 (TIME):   0%|          | 0/100 [00:00<?, ?it/s]"
            ]
          },
          "metadata": {},
          "output_type": "display_data"
        },
        {
          "data": {
            "application/vnd.jupyter.widget-view+json": {
              "model_id": "c7d3cc84fad343c8ac5b55eb5125b064",
              "version_major": 2,
              "version_minor": 0
            },
            "text/plain": [
              "QDA_Chol2 (MEM):   0%|          | 0/30 [00:00<?, ?it/s]"
            ]
          },
          "metadata": {},
          "output_type": "display_data"
        },
        {
          "data": {
            "application/vnd.jupyter.widget-view+json": {
              "model_id": "732e746e04194d8d99aad560fd7d3455",
              "version_major": 2,
              "version_minor": 0
            },
            "text/plain": [
              "QDA_Chol2 (TIME):   0%|          | 0/100 [00:00<?, ?it/s]"
            ]
          },
          "metadata": {},
          "output_type": "display_data"
        },
        {
          "data": {
            "application/vnd.jupyter.widget-view+json": {
              "model_id": "91cfc21275d04dfa960c5ee61ffe4a60",
              "version_major": 2,
              "version_minor": 0
            },
            "text/plain": [
              "QDA_Chol3 (MEM):   0%|          | 0/30 [00:00<?, ?it/s]"
            ]
          },
          "metadata": {},
          "output_type": "display_data"
        },
        {
          "data": {
            "application/vnd.jupyter.widget-view+json": {
              "model_id": "4c1b84bb322a4dbbb7b205a11114751d",
              "version_major": 2,
              "version_minor": 0
            },
            "text/plain": [
              "QDA_Chol3 (TIME):   0%|          | 0/100 [00:00<?, ?it/s]"
            ]
          },
          "metadata": {},
          "output_type": "display_data"
        },
        {
          "data": {
            "text/html": [
              "<div>\n",
              "<style scoped>\n",
              "    .dataframe tbody tr th:only-of-type {\n",
              "        vertical-align: middle;\n",
              "    }\n",
              "\n",
              "    .dataframe tbody tr th {\n",
              "        vertical-align: top;\n",
              "    }\n",
              "\n",
              "    .dataframe thead th {\n",
              "        text-align: right;\n",
              "    }\n",
              "</style>\n",
              "<table border=\"1\" class=\"dataframe\">\n",
              "  <thead>\n",
              "    <tr style=\"text-align: right;\">\n",
              "      <th></th>\n",
              "      <th>train_median_ms</th>\n",
              "      <th>train_std_ms</th>\n",
              "      <th>test_median_ms</th>\n",
              "      <th>test_std_ms</th>\n",
              "      <th>mean_accuracy</th>\n",
              "      <th>train_mem_median_mb</th>\n",
              "      <th>train_mem_std_mb</th>\n",
              "      <th>test_mem_median_mb</th>\n",
              "      <th>test_mem_std_mb</th>\n",
              "      <th>train_speedup</th>\n",
              "      <th>test_speedup</th>\n",
              "      <th>train_mem_reduction</th>\n",
              "      <th>test_mem_reduction</th>\n",
              "    </tr>\n",
              "    <tr>\n",
              "      <th>model</th>\n",
              "      <th></th>\n",
              "      <th></th>\n",
              "      <th></th>\n",
              "      <th></th>\n",
              "      <th></th>\n",
              "      <th></th>\n",
              "      <th></th>\n",
              "      <th></th>\n",
              "      <th></th>\n",
              "      <th></th>\n",
              "      <th></th>\n",
              "      <th></th>\n",
              "      <th></th>\n",
              "    </tr>\n",
              "  </thead>\n",
              "  <tbody>\n",
              "    <tr>\n",
              "      <th>QDA</th>\n",
              "      <td>4.535531</td>\n",
              "      <td>0.679631</td>\n",
              "      <td>721.234769</td>\n",
              "      <td>10.002602</td>\n",
              "      <td>0.886117</td>\n",
              "      <td>0.270332</td>\n",
              "      <td>0.001961</td>\n",
              "      <td>0.098812</td>\n",
              "      <td>0.000649</td>\n",
              "      <td>1.000000</td>\n",
              "      <td>1.000000</td>\n",
              "      <td>1.000000</td>\n",
              "      <td>1.000000</td>\n",
              "    </tr>\n",
              "    <tr>\n",
              "      <th>TensorizedQDA</th>\n",
              "      <td>4.653865</td>\n",
              "      <td>0.603580</td>\n",
              "      <td>156.179027</td>\n",
              "      <td>1.814166</td>\n",
              "      <td>0.885303</td>\n",
              "      <td>0.268700</td>\n",
              "      <td>0.002143</td>\n",
              "      <td>0.154121</td>\n",
              "      <td>0.000147</td>\n",
              "      <td>0.974573</td>\n",
              "      <td>4.618000</td>\n",
              "      <td>1.006076</td>\n",
              "      <td>0.641132</td>\n",
              "    </tr>\n",
              "    <tr>\n",
              "      <th>FasterQDA</th>\n",
              "      <td>6.336919</td>\n",
              "      <td>2.008760</td>\n",
              "      <td>2250.744609</td>\n",
              "      <td>438.284886</td>\n",
              "      <td>0.884827</td>\n",
              "      <td>0.269188</td>\n",
              "      <td>0.001919</td>\n",
              "      <td>3199.335289</td>\n",
              "      <td>0.000834</td>\n",
              "      <td>0.715731</td>\n",
              "      <td>0.320443</td>\n",
              "      <td>1.004251</td>\n",
              "      <td>0.000031</td>\n",
              "    </tr>\n",
              "    <tr>\n",
              "      <th>EfficientQDA</th>\n",
              "      <td>4.234745</td>\n",
              "      <td>0.678088</td>\n",
              "      <td>12.958735</td>\n",
              "      <td>1.565634</td>\n",
              "      <td>0.884890</td>\n",
              "      <td>0.269676</td>\n",
              "      <td>0.002171</td>\n",
              "      <td>26.300941</td>\n",
              "      <td>0.000000</td>\n",
              "      <td>1.071028</td>\n",
              "      <td>55.656263</td>\n",
              "      <td>1.002433</td>\n",
              "      <td>0.003757</td>\n",
              "    </tr>\n",
              "    <tr>\n",
              "      <th>QDA_Chol1</th>\n",
              "      <td>5.256654</td>\n",
              "      <td>0.974855</td>\n",
              "      <td>389.879590</td>\n",
              "      <td>26.443606</td>\n",
              "      <td>0.884770</td>\n",
              "      <td>0.268860</td>\n",
              "      <td>0.002137</td>\n",
              "      <td>0.095093</td>\n",
              "      <td>0.000369</td>\n",
              "      <td>0.862817</td>\n",
              "      <td>1.849891</td>\n",
              "      <td>1.005477</td>\n",
              "      <td>1.039113</td>\n",
              "    </tr>\n",
              "    <tr>\n",
              "      <th>QDA_Chol2</th>\n",
              "      <td>4.925262</td>\n",
              "      <td>1.216312</td>\n",
              "      <td>1033.968643</td>\n",
              "      <td>39.715477</td>\n",
              "      <td>0.885433</td>\n",
              "      <td>0.269142</td>\n",
              "      <td>0.001964</td>\n",
              "      <td>0.095415</td>\n",
              "      <td>0.000173</td>\n",
              "      <td>0.920871</td>\n",
              "      <td>0.697540</td>\n",
              "      <td>1.004422</td>\n",
              "      <td>1.035602</td>\n",
              "    </tr>\n",
              "    <tr>\n",
              "      <th>QDA_Chol3</th>\n",
              "      <td>4.871799</td>\n",
              "      <td>0.697968</td>\n",
              "      <td>387.026908</td>\n",
              "      <td>21.754051</td>\n",
              "      <td>0.885807</td>\n",
              "      <td>0.268959</td>\n",
              "      <td>0.001848</td>\n",
              "      <td>0.094948</td>\n",
              "      <td>0.000369</td>\n",
              "      <td>0.930977</td>\n",
              "      <td>1.863526</td>\n",
              "      <td>1.005106</td>\n",
              "      <td>1.040699</td>\n",
              "    </tr>\n",
              "  </tbody>\n",
              "</table>\n",
              "</div>"
            ],
            "text/plain": [
              "               train_median_ms  train_std_ms  test_median_ms  test_std_ms  \\\n",
              "model                                                                       \n",
              "QDA                   4.535531      0.679631      721.234769    10.002602   \n",
              "TensorizedQDA         4.653865      0.603580      156.179027     1.814166   \n",
              "FasterQDA             6.336919      2.008760     2250.744609   438.284886   \n",
              "EfficientQDA          4.234745      0.678088       12.958735     1.565634   \n",
              "QDA_Chol1             5.256654      0.974855      389.879590    26.443606   \n",
              "QDA_Chol2             4.925262      1.216312     1033.968643    39.715477   \n",
              "QDA_Chol3             4.871799      0.697968      387.026908    21.754051   \n",
              "\n",
              "               mean_accuracy  train_mem_median_mb  train_mem_std_mb  \\\n",
              "model                                                                 \n",
              "QDA                 0.886117             0.270332          0.001961   \n",
              "TensorizedQDA       0.885303             0.268700          0.002143   \n",
              "FasterQDA           0.884827             0.269188          0.001919   \n",
              "EfficientQDA        0.884890             0.269676          0.002171   \n",
              "QDA_Chol1           0.884770             0.268860          0.002137   \n",
              "QDA_Chol2           0.885433             0.269142          0.001964   \n",
              "QDA_Chol3           0.885807             0.268959          0.001848   \n",
              "\n",
              "               test_mem_median_mb  test_mem_std_mb  train_speedup  \\\n",
              "model                                                               \n",
              "QDA                      0.098812         0.000649       1.000000   \n",
              "TensorizedQDA            0.154121         0.000147       0.974573   \n",
              "FasterQDA             3199.335289         0.000834       0.715731   \n",
              "EfficientQDA            26.300941         0.000000       1.071028   \n",
              "QDA_Chol1                0.095093         0.000369       0.862817   \n",
              "QDA_Chol2                0.095415         0.000173       0.920871   \n",
              "QDA_Chol3                0.094948         0.000369       0.930977   \n",
              "\n",
              "               test_speedup  train_mem_reduction  test_mem_reduction  \n",
              "model                                                                 \n",
              "QDA                1.000000             1.000000            1.000000  \n",
              "TensorizedQDA      4.618000             1.006076            0.641132  \n",
              "FasterQDA          0.320443             1.004251            0.000031  \n",
              "EfficientQDA      55.656263             1.002433            0.003757  \n",
              "QDA_Chol1          1.849891             1.005477            1.039113  \n",
              "QDA_Chol2          0.697540             1.004422            1.035602  \n",
              "QDA_Chol3          1.863526             1.005106            1.040699  "
            ]
          },
          "execution_count": 31,
          "metadata": {},
          "output_type": "execute_result"
        }
      ],
      "source": [
        "b.bench(QDA_Chol1)\n",
        "b.bench(QDA_Chol2)\n",
        "b.bench(QDA_Chol3)\n",
        "b.summary(baseline='QDA')"
      ]
    },
    {
      "cell_type": "markdown",
      "metadata": {},
      "source": [
        "### 4) Optimización\n",
        "\n",
        "12. Implementar el modelo `TensorizedChol` paralelizando sobre clases/observaciones según corresponda. Se recomienda heredarlo de alguna de las implementaciones de `QDA_Chol`, aunque la elección de cuál de ellas queda a cargo del alumno según lo observado en los benchmarks de puntos anteriores."
      ]
    },
    {
      "cell_type": "code",
      "execution_count": 32,
      "metadata": {},
      "outputs": [],
      "source": [
        "class TensorizedChol(QDA_Chol3):\n",
        "  def _fit_params(self, X, y):\n",
        "    super()._fit_params(X,y)\n",
        "    self.tensor_L_invs = np.stack(self.L_invs)\n",
        "    self.tensor_means =  np.stack(self.means)\n",
        "\n",
        "  def _predict_log_conditionals(self, x):\n",
        "    unbiased_x =  x - self.tensor_means\n",
        "\n",
        "    y = self.tensor_L_invs @ unbiased_x\n",
        "    #print(y.shape)\n",
        "\n",
        "    diag_term = np.log(self.tensor_L_invs.diagonal(axis1=1, axis2=2).prod(axis=1))\n",
        "\n",
        "    return diag_term -0.5 * (y.transpose(0,2,1) @ y).flatten()\n",
        "\n",
        "  def _predict_one(self, x):\n",
        "      # return the class that has maximum a posteriori probability\n",
        "      return np.argmax(self.log_a_priori + self._predict_log_conditionals(x))"
      ]
    },
    {
      "cell_type": "code",
      "execution_count": 33,
      "metadata": {},
      "outputs": [
        {
          "data": {
            "application/vnd.jupyter.widget-view+json": {
              "model_id": "cfa167cf1b524170bb3b503647b141b4",
              "version_major": 2,
              "version_minor": 0
            },
            "text/plain": [
              "TensorizedChol (MEM):   0%|          | 0/30 [00:00<?, ?it/s]"
            ]
          },
          "metadata": {},
          "output_type": "display_data"
        },
        {
          "data": {
            "application/vnd.jupyter.widget-view+json": {
              "model_id": "7af0fc7982c1474bbbf6d0edb65f10d1",
              "version_major": 2,
              "version_minor": 0
            },
            "text/plain": [
              "TensorizedChol (TIME):   0%|          | 0/100 [00:00<?, ?it/s]"
            ]
          },
          "metadata": {},
          "output_type": "display_data"
        }
      ],
      "source": [
        "b.bench(TensorizedChol)"
      ]
    },
    {
      "cell_type": "markdown",
      "metadata": {},
      "source": [
        "13. Implementar el modelo `EfficientChol` combinando los insights de `EfficientQDA` y `TensorizedChol`. Si se desea, se puede implementar `FasterChol` como ayuda, pero no se contempla para el punto."
      ]
    },
    {
      "cell_type": "code",
      "execution_count": null,
      "metadata": {},
      "outputs": [],
      "source": [
        "class FasterChol(TensorizedChol):\n",
        "    def _predict_log_conditionals(self, x):\n",
        "        unbiased_x =  x - self.tensor_means\n",
        "        unbiased_x = unbiased_x.reshape(len(unbiased_x), len(unbiased_x[0]),-1).transpose(1,2,0)\n",
        "\n",
        "        y = self.tensor_L_invs @ unbiased_x\n",
        "\n",
        "        diag_term = np.log(self.tensor_L_invs.diagonal(axis1=1, axis2=2).prod(axis=1))\n",
        "\n",
        "        y_term = (y.transpose(0,2,1) @ y).diagonal(axis1=1, axis2=2).transpose(1,0)\n",
        "        return diag_term -0.5 * y_term\n",
        "\n",
        "    def predict(self, x):\n",
        "        log_conditionals = self._predict_log_conditionals(x.transpose(1,0).reshape(-1,1,len(x),1))\n",
        "        return np.argmax(self.log_a_priori + log_conditionals, axis=1)"
      ]
    },
    {
      "cell_type": "code",
      "execution_count": 35,
      "metadata": {},
      "outputs": [
        {
          "data": {
            "application/vnd.jupyter.widget-view+json": {
              "model_id": "d43b79f4dd4242ed89dedd8700c3ee38",
              "version_major": 2,
              "version_minor": 0
            },
            "text/plain": [
              "FasterChol (MEM):   0%|          | 0/30 [00:00<?, ?it/s]"
            ]
          },
          "metadata": {},
          "output_type": "display_data"
        },
        {
          "data": {
            "application/vnd.jupyter.widget-view+json": {
              "model_id": "461e97066df74d22b08e54d9f613f12c",
              "version_major": 2,
              "version_minor": 0
            },
            "text/plain": [
              "FasterChol (TIME):   0%|          | 0/100 [00:00<?, ?it/s]"
            ]
          },
          "metadata": {},
          "output_type": "display_data"
        }
      ],
      "source": [
        "b.bench(FasterChol)"
      ]
    },
    {
      "cell_type": "code",
      "execution_count": 36,
      "metadata": {},
      "outputs": [],
      "source": [
        "class EfficientChol(TensorizedChol):\n",
        "    def _predict_log_conditionals(self, x):\n",
        "        unbiased_x =  x - self.tensor_means\n",
        "        unbiased_x = unbiased_x.reshape(len(unbiased_x), len(unbiased_x[0]),-1).transpose(1,2,0)\n",
        "\n",
        "        y = self.tensor_L_invs @ unbiased_x\n",
        "        y_term = np.sum(y * y,axis=1).transpose()\n",
        "\n",
        "        diag_term = np.log(self.tensor_L_invs.diagonal(axis1=1, axis2=2).prod(axis=1))\n",
        "\n",
        "        return diag_term -0.5 * y_term\n",
        "\n",
        "    def predict(self, X):\n",
        "        log_conditionals = self._predict_log_conditionals(X.transpose(1,0).reshape(-1,1,len(X),1))\n",
        "        return np.argmax(self.log_a_priori + log_conditionals, axis=1)"
      ]
    },
    {
      "cell_type": "code",
      "execution_count": 37,
      "metadata": {},
      "outputs": [
        {
          "data": {
            "application/vnd.jupyter.widget-view+json": {
              "model_id": "c4ae77cb6893463b970fdb97df6118e2",
              "version_major": 2,
              "version_minor": 0
            },
            "text/plain": [
              "EfficientChol (MEM):   0%|          | 0/30 [00:00<?, ?it/s]"
            ]
          },
          "metadata": {},
          "output_type": "display_data"
        },
        {
          "data": {
            "application/vnd.jupyter.widget-view+json": {
              "model_id": "4cfc47716fee45099b4496dcf1574c7c",
              "version_major": 2,
              "version_minor": 0
            },
            "text/plain": [
              "EfficientChol (TIME):   0%|          | 0/100 [00:00<?, ?it/s]"
            ]
          },
          "metadata": {},
          "output_type": "display_data"
        }
      ],
      "source": [
        "b.bench(EfficientChol)"
      ]
    },
    {
      "cell_type": "markdown",
      "metadata": {},
      "source": [
        "14. Comparar la performance de las 9 variantes de QDA implementadas ¿Qué se observa? A modo de opinión ¿Se condice con lo esperado?"
      ]
    },
    {
      "cell_type": "code",
      "execution_count": 38,
      "metadata": {},
      "outputs": [
        {
          "data": {
            "text/html": [
              "<div>\n",
              "<style scoped>\n",
              "    .dataframe tbody tr th:only-of-type {\n",
              "        vertical-align: middle;\n",
              "    }\n",
              "\n",
              "    .dataframe tbody tr th {\n",
              "        vertical-align: top;\n",
              "    }\n",
              "\n",
              "    .dataframe thead th {\n",
              "        text-align: right;\n",
              "    }\n",
              "</style>\n",
              "<table border=\"1\" class=\"dataframe\">\n",
              "  <thead>\n",
              "    <tr style=\"text-align: right;\">\n",
              "      <th></th>\n",
              "      <th>train_median_ms</th>\n",
              "      <th>train_std_ms</th>\n",
              "      <th>test_median_ms</th>\n",
              "      <th>test_std_ms</th>\n",
              "      <th>mean_accuracy</th>\n",
              "      <th>train_mem_median_mb</th>\n",
              "      <th>train_mem_std_mb</th>\n",
              "      <th>test_mem_median_mb</th>\n",
              "      <th>test_mem_std_mb</th>\n",
              "      <th>train_speedup</th>\n",
              "      <th>test_speedup</th>\n",
              "      <th>train_mem_reduction</th>\n",
              "      <th>test_mem_reduction</th>\n",
              "    </tr>\n",
              "    <tr>\n",
              "      <th>model</th>\n",
              "      <th></th>\n",
              "      <th></th>\n",
              "      <th></th>\n",
              "      <th></th>\n",
              "      <th></th>\n",
              "      <th></th>\n",
              "      <th></th>\n",
              "      <th></th>\n",
              "      <th></th>\n",
              "      <th></th>\n",
              "      <th></th>\n",
              "      <th></th>\n",
              "      <th></th>\n",
              "    </tr>\n",
              "  </thead>\n",
              "  <tbody>\n",
              "    <tr>\n",
              "      <th>QDA</th>\n",
              "      <td>4.535531</td>\n",
              "      <td>0.679631</td>\n",
              "      <td>721.234769</td>\n",
              "      <td>10.002602</td>\n",
              "      <td>0.886117</td>\n",
              "      <td>0.270332</td>\n",
              "      <td>0.001961</td>\n",
              "      <td>0.098812</td>\n",
              "      <td>0.000649</td>\n",
              "      <td>1.000000</td>\n",
              "      <td>1.000000</td>\n",
              "      <td>1.000000</td>\n",
              "      <td>1.000000</td>\n",
              "    </tr>\n",
              "    <tr>\n",
              "      <th>TensorizedQDA</th>\n",
              "      <td>4.653865</td>\n",
              "      <td>0.603580</td>\n",
              "      <td>156.179027</td>\n",
              "      <td>1.814166</td>\n",
              "      <td>0.885303</td>\n",
              "      <td>0.268700</td>\n",
              "      <td>0.002143</td>\n",
              "      <td>0.154121</td>\n",
              "      <td>0.000147</td>\n",
              "      <td>0.974573</td>\n",
              "      <td>4.618000</td>\n",
              "      <td>1.006076</td>\n",
              "      <td>0.641132</td>\n",
              "    </tr>\n",
              "    <tr>\n",
              "      <th>FasterQDA</th>\n",
              "      <td>6.336919</td>\n",
              "      <td>2.008760</td>\n",
              "      <td>2250.744609</td>\n",
              "      <td>438.284886</td>\n",
              "      <td>0.884827</td>\n",
              "      <td>0.269188</td>\n",
              "      <td>0.001919</td>\n",
              "      <td>3199.335289</td>\n",
              "      <td>0.000834</td>\n",
              "      <td>0.715731</td>\n",
              "      <td>0.320443</td>\n",
              "      <td>1.004251</td>\n",
              "      <td>0.000031</td>\n",
              "    </tr>\n",
              "    <tr>\n",
              "      <th>EfficientQDA</th>\n",
              "      <td>4.234745</td>\n",
              "      <td>0.678088</td>\n",
              "      <td>12.958735</td>\n",
              "      <td>1.565634</td>\n",
              "      <td>0.884890</td>\n",
              "      <td>0.269676</td>\n",
              "      <td>0.002171</td>\n",
              "      <td>26.300941</td>\n",
              "      <td>0.000000</td>\n",
              "      <td>1.071028</td>\n",
              "      <td>55.656263</td>\n",
              "      <td>1.002433</td>\n",
              "      <td>0.003757</td>\n",
              "    </tr>\n",
              "    <tr>\n",
              "      <th>QDA_Chol1</th>\n",
              "      <td>5.256654</td>\n",
              "      <td>0.974855</td>\n",
              "      <td>389.879590</td>\n",
              "      <td>26.443606</td>\n",
              "      <td>0.884770</td>\n",
              "      <td>0.268860</td>\n",
              "      <td>0.002137</td>\n",
              "      <td>0.095093</td>\n",
              "      <td>0.000369</td>\n",
              "      <td>0.862817</td>\n",
              "      <td>1.849891</td>\n",
              "      <td>1.005477</td>\n",
              "      <td>1.039113</td>\n",
              "    </tr>\n",
              "    <tr>\n",
              "      <th>QDA_Chol2</th>\n",
              "      <td>4.925262</td>\n",
              "      <td>1.216312</td>\n",
              "      <td>1033.968643</td>\n",
              "      <td>39.715477</td>\n",
              "      <td>0.885433</td>\n",
              "      <td>0.269142</td>\n",
              "      <td>0.001964</td>\n",
              "      <td>0.095415</td>\n",
              "      <td>0.000173</td>\n",
              "      <td>0.920871</td>\n",
              "      <td>0.697540</td>\n",
              "      <td>1.004422</td>\n",
              "      <td>1.035602</td>\n",
              "    </tr>\n",
              "    <tr>\n",
              "      <th>QDA_Chol3</th>\n",
              "      <td>4.871799</td>\n",
              "      <td>0.697968</td>\n",
              "      <td>387.026908</td>\n",
              "      <td>21.754051</td>\n",
              "      <td>0.885807</td>\n",
              "      <td>0.268959</td>\n",
              "      <td>0.001848</td>\n",
              "      <td>0.094948</td>\n",
              "      <td>0.000369</td>\n",
              "      <td>0.930977</td>\n",
              "      <td>1.863526</td>\n",
              "      <td>1.005106</td>\n",
              "      <td>1.040699</td>\n",
              "    </tr>\n",
              "    <tr>\n",
              "      <th>TensorizedChol</th>\n",
              "      <td>4.480614</td>\n",
              "      <td>0.686235</td>\n",
              "      <td>34.580772</td>\n",
              "      <td>2.287690</td>\n",
              "      <td>0.884995</td>\n",
              "      <td>0.268959</td>\n",
              "      <td>0.002189</td>\n",
              "      <td>0.154587</td>\n",
              "      <td>0.000192</td>\n",
              "      <td>1.012256</td>\n",
              "      <td>20.856526</td>\n",
              "      <td>1.005106</td>\n",
              "      <td>0.639201</td>\n",
              "    </tr>\n",
              "    <tr>\n",
              "      <th>FasterChol</th>\n",
              "      <td>5.737978</td>\n",
              "      <td>1.809678</td>\n",
              "      <td>3634.666956</td>\n",
              "      <td>386.340795</td>\n",
              "      <td>0.885720</td>\n",
              "      <td>0.269325</td>\n",
              "      <td>0.001673</td>\n",
              "      <td>3200.984428</td>\n",
              "      <td>0.000471</td>\n",
              "      <td>0.790441</td>\n",
              "      <td>0.198432</td>\n",
              "      <td>1.003739</td>\n",
              "      <td>0.000031</td>\n",
              "    </tr>\n",
              "    <tr>\n",
              "      <th>EfficientChol</th>\n",
              "      <td>4.971621</td>\n",
              "      <td>1.565447</td>\n",
              "      <td>12.915110</td>\n",
              "      <td>1.986618</td>\n",
              "      <td>0.885395</td>\n",
              "      <td>0.268776</td>\n",
              "      <td>0.001724</td>\n",
              "      <td>38.996513</td>\n",
              "      <td>0.000192</td>\n",
              "      <td>0.912284</td>\n",
              "      <td>55.844261</td>\n",
              "      <td>1.005791</td>\n",
              "      <td>0.002534</td>\n",
              "    </tr>\n",
              "  </tbody>\n",
              "</table>\n",
              "</div>"
            ],
            "text/plain": [
              "                train_median_ms  train_std_ms  test_median_ms  test_std_ms  \\\n",
              "model                                                                        \n",
              "QDA                    4.535531      0.679631      721.234769    10.002602   \n",
              "TensorizedQDA          4.653865      0.603580      156.179027     1.814166   \n",
              "FasterQDA              6.336919      2.008760     2250.744609   438.284886   \n",
              "EfficientQDA           4.234745      0.678088       12.958735     1.565634   \n",
              "QDA_Chol1              5.256654      0.974855      389.879590    26.443606   \n",
              "QDA_Chol2              4.925262      1.216312     1033.968643    39.715477   \n",
              "QDA_Chol3              4.871799      0.697968      387.026908    21.754051   \n",
              "TensorizedChol         4.480614      0.686235       34.580772     2.287690   \n",
              "FasterChol             5.737978      1.809678     3634.666956   386.340795   \n",
              "EfficientChol          4.971621      1.565447       12.915110     1.986618   \n",
              "\n",
              "                mean_accuracy  train_mem_median_mb  train_mem_std_mb  \\\n",
              "model                                                                  \n",
              "QDA                  0.886117             0.270332          0.001961   \n",
              "TensorizedQDA        0.885303             0.268700          0.002143   \n",
              "FasterQDA            0.884827             0.269188          0.001919   \n",
              "EfficientQDA         0.884890             0.269676          0.002171   \n",
              "QDA_Chol1            0.884770             0.268860          0.002137   \n",
              "QDA_Chol2            0.885433             0.269142          0.001964   \n",
              "QDA_Chol3            0.885807             0.268959          0.001848   \n",
              "TensorizedChol       0.884995             0.268959          0.002189   \n",
              "FasterChol           0.885720             0.269325          0.001673   \n",
              "EfficientChol        0.885395             0.268776          0.001724   \n",
              "\n",
              "                test_mem_median_mb  test_mem_std_mb  train_speedup  \\\n",
              "model                                                                \n",
              "QDA                       0.098812         0.000649       1.000000   \n",
              "TensorizedQDA             0.154121         0.000147       0.974573   \n",
              "FasterQDA              3199.335289         0.000834       0.715731   \n",
              "EfficientQDA             26.300941         0.000000       1.071028   \n",
              "QDA_Chol1                 0.095093         0.000369       0.862817   \n",
              "QDA_Chol2                 0.095415         0.000173       0.920871   \n",
              "QDA_Chol3                 0.094948         0.000369       0.930977   \n",
              "TensorizedChol            0.154587         0.000192       1.012256   \n",
              "FasterChol             3200.984428         0.000471       0.790441   \n",
              "EfficientChol            38.996513         0.000192       0.912284   \n",
              "\n",
              "                test_speedup  train_mem_reduction  test_mem_reduction  \n",
              "model                                                                  \n",
              "QDA                 1.000000             1.000000            1.000000  \n",
              "TensorizedQDA       4.618000             1.006076            0.641132  \n",
              "FasterQDA           0.320443             1.004251            0.000031  \n",
              "EfficientQDA       55.656263             1.002433            0.003757  \n",
              "QDA_Chol1           1.849891             1.005477            1.039113  \n",
              "QDA_Chol2           0.697540             1.004422            1.035602  \n",
              "QDA_Chol3           1.863526             1.005106            1.040699  \n",
              "TensorizedChol     20.856526             1.005106            0.639201  \n",
              "FasterChol          0.198432             1.003739            0.000031  \n",
              "EfficientChol      55.844261             1.005791            0.002534  "
            ]
          },
          "execution_count": 38,
          "metadata": {},
          "output_type": "execute_result"
        }
      ],
      "source": [
        "b.summary(baseline='QDA')"
      ]
    },
    {
      "cell_type": "markdown",
      "metadata": {},
      "source": [
        "En primer lugar se observa prácticamente la misma precisión (`mean_accuracy`) para los 9 modelos implementados. Esto es esperable ya que, matemáticamente, lo que hacen es lo mismo pero por distintos caminos.<br>\n",
        "Si observamos las medianas de tiempos de testeo si observamos diferencias en ordenes de magnitud, teniendo como claros líderes las variantes `Efficient`, seguidas de las variantes `Tensorized`. Luego las variantes `Chol` básicas 1 y 3 presentan una disminución de la mitad respecto de la variante original, mientras que la 2 queda en el órden de la variante original. <br>\n",
        "En cuanto a consumo de memoria en testeo, nuevamente vemos diferencias de órdenes de magnitud, con los peores casos siendo las variantes `Faster`, seguidas (2 órdenes de magnitud por debajo) por las variantes `Efficient`. El resto de variantes están 2 órdenes de magnitud por debajo. Esto podría ser indicativo de por qué las variantes `Faster` tienen tanta peor performance en cuanto a tiempos de ejecución.<br>\n",
        "Para evaluar esta última hipótesis, se corrieron el resto de sets de benchmarking, los cuales tienen cantidades menores de datos. A continuación se puede ver graficados los tiempos y consumo de memoria de entrenamiento y de testeo. Podemos ver que los tiempos de entrenamiento crecen de forma importante con la cantidad de datos, con diferencias entre los modelos pero siempre en el mismo orden. El consumo de memoria es idéntico entre todos en este caso.<br>\n",
        "En testeo, podemos observar 2 grupos inicialmente: uno \"rápido\" conformado por `FasterQDA`, `FasterChol`, `EfficientQDA` y `EfficientChol`; y otro \"lento\" con mayor dispersión entre los tiempos. Pero al aumentar la cantidad de samples, podemos observar que las variantes `Faster` crecen de manera mucho más importante que todo el resto de modelos, temrinando siendo los más lentos. En cuanto a memoria, se distinguen 3 grupos, en forma decreciente: las variantes `Faster`, las variantes `Efficient` y el resto de variantes. Se ve como la diferencia en órdenes de magnitud crece al aumentar el tamaño de los samples.<br>\n",
        "Podemos concluir entonces que, en términos generales el orden en que se desarrollaron los modelos conlleva mejoras en tiempos de ejecución con penalidad moderada en consumo de memoria, a excepción de las variantes `Faster` cuyo escaleo es pobre, consumiendo mucha memoria y obteniendo tiempos de ejecución mayores a las variantes originales."
      ]
    },
    {
      "cell_type": "code",
      "execution_count": 39,
      "metadata": {},
      "outputs": [
        {
          "name": "stdout",
          "output_type": "stream",
          "text": [
            "Benching params:\n",
            "Total runs: 150\n",
            "Warmup runs: 20\n",
            "Peak Memory usage runs: 30\n",
            "Running time runs: 100\n",
            "Train size rows (approx): 120\n",
            "Test size rows (approx): 30\n",
            "Test size fraction: 0.2\n"
          ]
        },
        {
          "data": {
            "application/vnd.jupyter.widget-view+json": {
              "model_id": "8d43e65ebcc24bc1b3308ca76e9b7eb7",
              "version_major": 2,
              "version_minor": 0
            },
            "text/plain": [
              "QDA (MEM):   0%|          | 0/30 [00:00<?, ?it/s]"
            ]
          },
          "metadata": {},
          "output_type": "display_data"
        },
        {
          "data": {
            "application/vnd.jupyter.widget-view+json": {
              "model_id": "58d2ea27d574415f953cae9d398bbee2",
              "version_major": 2,
              "version_minor": 0
            },
            "text/plain": [
              "QDA (TIME):   0%|          | 0/100 [00:00<?, ?it/s]"
            ]
          },
          "metadata": {},
          "output_type": "display_data"
        },
        {
          "data": {
            "application/vnd.jupyter.widget-view+json": {
              "model_id": "129b9ede361a4b9fad7b409b3f1767dc",
              "version_major": 2,
              "version_minor": 0
            },
            "text/plain": [
              "TensorizedQDA (MEM):   0%|          | 0/30 [00:00<?, ?it/s]"
            ]
          },
          "metadata": {},
          "output_type": "display_data"
        },
        {
          "data": {
            "application/vnd.jupyter.widget-view+json": {
              "model_id": "3e40088b8a6f459a97ce887fdf6908b2",
              "version_major": 2,
              "version_minor": 0
            },
            "text/plain": [
              "TensorizedQDA (TIME):   0%|          | 0/100 [00:00<?, ?it/s]"
            ]
          },
          "metadata": {},
          "output_type": "display_data"
        },
        {
          "data": {
            "application/vnd.jupyter.widget-view+json": {
              "model_id": "6cb701cd481e468bb21323bdf45a0578",
              "version_major": 2,
              "version_minor": 0
            },
            "text/plain": [
              "FasterQDA (MEM):   0%|          | 0/30 [00:00<?, ?it/s]"
            ]
          },
          "metadata": {},
          "output_type": "display_data"
        },
        {
          "data": {
            "application/vnd.jupyter.widget-view+json": {
              "model_id": "1092bb1b2d5e41ae8f1253a8597ff6c6",
              "version_major": 2,
              "version_minor": 0
            },
            "text/plain": [
              "FasterQDA (TIME):   0%|          | 0/100 [00:00<?, ?it/s]"
            ]
          },
          "metadata": {},
          "output_type": "display_data"
        },
        {
          "data": {
            "application/vnd.jupyter.widget-view+json": {
              "model_id": "04485e23c49f46f39b622ee165953bdd",
              "version_major": 2,
              "version_minor": 0
            },
            "text/plain": [
              "EfficientQDA (MEM):   0%|          | 0/30 [00:00<?, ?it/s]"
            ]
          },
          "metadata": {},
          "output_type": "display_data"
        },
        {
          "data": {
            "application/vnd.jupyter.widget-view+json": {
              "model_id": "525bb3f62c02457a9c8f7ce5744a9841",
              "version_major": 2,
              "version_minor": 0
            },
            "text/plain": [
              "EfficientQDA (TIME):   0%|          | 0/100 [00:00<?, ?it/s]"
            ]
          },
          "metadata": {},
          "output_type": "display_data"
        },
        {
          "data": {
            "application/vnd.jupyter.widget-view+json": {
              "model_id": "f5bf9f335b88407fb5ec2ddf497b068d",
              "version_major": 2,
              "version_minor": 0
            },
            "text/plain": [
              "QDA_Chol1 (MEM):   0%|          | 0/30 [00:00<?, ?it/s]"
            ]
          },
          "metadata": {},
          "output_type": "display_data"
        },
        {
          "data": {
            "application/vnd.jupyter.widget-view+json": {
              "model_id": "786f6899a5c2403986c59f06873d12c9",
              "version_major": 2,
              "version_minor": 0
            },
            "text/plain": [
              "QDA_Chol1 (TIME):   0%|          | 0/100 [00:00<?, ?it/s]"
            ]
          },
          "metadata": {},
          "output_type": "display_data"
        },
        {
          "data": {
            "application/vnd.jupyter.widget-view+json": {
              "model_id": "c5042eed76d64eb88f8831291ea688f5",
              "version_major": 2,
              "version_minor": 0
            },
            "text/plain": [
              "QDA_Chol2 (MEM):   0%|          | 0/30 [00:00<?, ?it/s]"
            ]
          },
          "metadata": {},
          "output_type": "display_data"
        },
        {
          "data": {
            "application/vnd.jupyter.widget-view+json": {
              "model_id": "1874c97a51d34781899d5df69b7241b8",
              "version_major": 2,
              "version_minor": 0
            },
            "text/plain": [
              "QDA_Chol2 (TIME):   0%|          | 0/100 [00:00<?, ?it/s]"
            ]
          },
          "metadata": {},
          "output_type": "display_data"
        },
        {
          "data": {
            "application/vnd.jupyter.widget-view+json": {
              "model_id": "3a54dc0e266549c1874a1ba79190fa84",
              "version_major": 2,
              "version_minor": 0
            },
            "text/plain": [
              "QDA_Chol3 (MEM):   0%|          | 0/30 [00:00<?, ?it/s]"
            ]
          },
          "metadata": {},
          "output_type": "display_data"
        },
        {
          "data": {
            "application/vnd.jupyter.widget-view+json": {
              "model_id": "38c91495666242e9b5d6fca44fbc4839",
              "version_major": 2,
              "version_minor": 0
            },
            "text/plain": [
              "QDA_Chol3 (TIME):   0%|          | 0/100 [00:00<?, ?it/s]"
            ]
          },
          "metadata": {},
          "output_type": "display_data"
        },
        {
          "data": {
            "application/vnd.jupyter.widget-view+json": {
              "model_id": "dcaaf8e667ef43b1a3b0958cc79417f2",
              "version_major": 2,
              "version_minor": 0
            },
            "text/plain": [
              "TensorizedChol (MEM):   0%|          | 0/30 [00:00<?, ?it/s]"
            ]
          },
          "metadata": {},
          "output_type": "display_data"
        },
        {
          "data": {
            "application/vnd.jupyter.widget-view+json": {
              "model_id": "bdfb54ee002545fd95c2f0361daa864c",
              "version_major": 2,
              "version_minor": 0
            },
            "text/plain": [
              "TensorizedChol (TIME):   0%|          | 0/100 [00:00<?, ?it/s]"
            ]
          },
          "metadata": {},
          "output_type": "display_data"
        },
        {
          "data": {
            "application/vnd.jupyter.widget-view+json": {
              "model_id": "8b36adcb0c004659bc08663a7529edd2",
              "version_major": 2,
              "version_minor": 0
            },
            "text/plain": [
              "FasterChol (MEM):   0%|          | 0/30 [00:00<?, ?it/s]"
            ]
          },
          "metadata": {},
          "output_type": "display_data"
        },
        {
          "data": {
            "application/vnd.jupyter.widget-view+json": {
              "model_id": "a9d3628742ea4c33bb2769f2ab5ac416",
              "version_major": 2,
              "version_minor": 0
            },
            "text/plain": [
              "FasterChol (TIME):   0%|          | 0/100 [00:00<?, ?it/s]"
            ]
          },
          "metadata": {},
          "output_type": "display_data"
        },
        {
          "data": {
            "application/vnd.jupyter.widget-view+json": {
              "model_id": "714c8ec57ded4ef993c1db2dfd6c4928",
              "version_major": 2,
              "version_minor": 0
            },
            "text/plain": [
              "EfficientChol (MEM):   0%|          | 0/30 [00:00<?, ?it/s]"
            ]
          },
          "metadata": {},
          "output_type": "display_data"
        },
        {
          "data": {
            "application/vnd.jupyter.widget-view+json": {
              "model_id": "53cd0030bcb24a439f5d8ad44abd3f81",
              "version_major": 2,
              "version_minor": 0
            },
            "text/plain": [
              "EfficientChol (TIME):   0%|          | 0/100 [00:00<?, ?it/s]"
            ]
          },
          "metadata": {},
          "output_type": "display_data"
        },
        {
          "name": "stdout",
          "output_type": "stream",
          "text": [
            "Benching params:\n",
            "Total runs: 150\n",
            "Warmup runs: 20\n",
            "Peak Memory usage runs: 30\n",
            "Running time runs: 100\n",
            "Train size rows (approx): 143\n",
            "Test size rows (approx): 35\n",
            "Test size fraction: 0.2\n"
          ]
        },
        {
          "data": {
            "application/vnd.jupyter.widget-view+json": {
              "model_id": "3d63ad37dff2497f84cdb58b22a01062",
              "version_major": 2,
              "version_minor": 0
            },
            "text/plain": [
              "QDA (MEM):   0%|          | 0/30 [00:00<?, ?it/s]"
            ]
          },
          "metadata": {},
          "output_type": "display_data"
        },
        {
          "data": {
            "application/vnd.jupyter.widget-view+json": {
              "model_id": "4d4b78939aeb418e8f96a3f43d53b2bf",
              "version_major": 2,
              "version_minor": 0
            },
            "text/plain": [
              "QDA (TIME):   0%|          | 0/100 [00:00<?, ?it/s]"
            ]
          },
          "metadata": {},
          "output_type": "display_data"
        },
        {
          "data": {
            "application/vnd.jupyter.widget-view+json": {
              "model_id": "fdd2f5a65a874b2f81d5277664bbdb10",
              "version_major": 2,
              "version_minor": 0
            },
            "text/plain": [
              "TensorizedQDA (MEM):   0%|          | 0/30 [00:00<?, ?it/s]"
            ]
          },
          "metadata": {},
          "output_type": "display_data"
        },
        {
          "data": {
            "application/vnd.jupyter.widget-view+json": {
              "model_id": "3e3cc0b7e6f34e1fb22a02538c5df270",
              "version_major": 2,
              "version_minor": 0
            },
            "text/plain": [
              "TensorizedQDA (TIME):   0%|          | 0/100 [00:00<?, ?it/s]"
            ]
          },
          "metadata": {},
          "output_type": "display_data"
        },
        {
          "data": {
            "application/vnd.jupyter.widget-view+json": {
              "model_id": "6b284921b4524e559a47a7d205dc7fed",
              "version_major": 2,
              "version_minor": 0
            },
            "text/plain": [
              "FasterQDA (MEM):   0%|          | 0/30 [00:00<?, ?it/s]"
            ]
          },
          "metadata": {},
          "output_type": "display_data"
        },
        {
          "data": {
            "application/vnd.jupyter.widget-view+json": {
              "model_id": "45352062fcc04e11a0c3194a2ef5a135",
              "version_major": 2,
              "version_minor": 0
            },
            "text/plain": [
              "FasterQDA (TIME):   0%|          | 0/100 [00:00<?, ?it/s]"
            ]
          },
          "metadata": {},
          "output_type": "display_data"
        },
        {
          "data": {
            "application/vnd.jupyter.widget-view+json": {
              "model_id": "9af5aa3a10834d68a6de77c2fc8eb1fd",
              "version_major": 2,
              "version_minor": 0
            },
            "text/plain": [
              "EfficientQDA (MEM):   0%|          | 0/30 [00:00<?, ?it/s]"
            ]
          },
          "metadata": {},
          "output_type": "display_data"
        },
        {
          "data": {
            "application/vnd.jupyter.widget-view+json": {
              "model_id": "67affa2aceb34c3baa4927b724ea706f",
              "version_major": 2,
              "version_minor": 0
            },
            "text/plain": [
              "EfficientQDA (TIME):   0%|          | 0/100 [00:00<?, ?it/s]"
            ]
          },
          "metadata": {},
          "output_type": "display_data"
        },
        {
          "data": {
            "application/vnd.jupyter.widget-view+json": {
              "model_id": "7e6d5e439015403e869f3e24f470e4db",
              "version_major": 2,
              "version_minor": 0
            },
            "text/plain": [
              "QDA_Chol1 (MEM):   0%|          | 0/30 [00:00<?, ?it/s]"
            ]
          },
          "metadata": {},
          "output_type": "display_data"
        },
        {
          "data": {
            "application/vnd.jupyter.widget-view+json": {
              "model_id": "cb56317dad944fbbb8563a8419ace517",
              "version_major": 2,
              "version_minor": 0
            },
            "text/plain": [
              "QDA_Chol1 (TIME):   0%|          | 0/100 [00:00<?, ?it/s]"
            ]
          },
          "metadata": {},
          "output_type": "display_data"
        },
        {
          "data": {
            "application/vnd.jupyter.widget-view+json": {
              "model_id": "8ae5794e76bd416d9c41a1f557fb4c57",
              "version_major": 2,
              "version_minor": 0
            },
            "text/plain": [
              "QDA_Chol2 (MEM):   0%|          | 0/30 [00:00<?, ?it/s]"
            ]
          },
          "metadata": {},
          "output_type": "display_data"
        },
        {
          "data": {
            "application/vnd.jupyter.widget-view+json": {
              "model_id": "b63ef78d586745e985f1df7a7e266b02",
              "version_major": 2,
              "version_minor": 0
            },
            "text/plain": [
              "QDA_Chol2 (TIME):   0%|          | 0/100 [00:00<?, ?it/s]"
            ]
          },
          "metadata": {},
          "output_type": "display_data"
        },
        {
          "data": {
            "application/vnd.jupyter.widget-view+json": {
              "model_id": "8a054f2b9c084f42a25b490028402e23",
              "version_major": 2,
              "version_minor": 0
            },
            "text/plain": [
              "QDA_Chol3 (MEM):   0%|          | 0/30 [00:00<?, ?it/s]"
            ]
          },
          "metadata": {},
          "output_type": "display_data"
        },
        {
          "data": {
            "application/vnd.jupyter.widget-view+json": {
              "model_id": "b46d97aefd8b4d0c8cb1b1c301949145",
              "version_major": 2,
              "version_minor": 0
            },
            "text/plain": [
              "QDA_Chol3 (TIME):   0%|          | 0/100 [00:00<?, ?it/s]"
            ]
          },
          "metadata": {},
          "output_type": "display_data"
        },
        {
          "data": {
            "application/vnd.jupyter.widget-view+json": {
              "model_id": "f663a3f17c7f4877afce89fd7688a3e9",
              "version_major": 2,
              "version_minor": 0
            },
            "text/plain": [
              "TensorizedChol (MEM):   0%|          | 0/30 [00:00<?, ?it/s]"
            ]
          },
          "metadata": {},
          "output_type": "display_data"
        },
        {
          "data": {
            "application/vnd.jupyter.widget-view+json": {
              "model_id": "e36830474b004ad48cfcf77dae334160",
              "version_major": 2,
              "version_minor": 0
            },
            "text/plain": [
              "TensorizedChol (TIME):   0%|          | 0/100 [00:00<?, ?it/s]"
            ]
          },
          "metadata": {},
          "output_type": "display_data"
        },
        {
          "data": {
            "application/vnd.jupyter.widget-view+json": {
              "model_id": "1b3f999dc5774f2ea58629018e6cbc1b",
              "version_major": 2,
              "version_minor": 0
            },
            "text/plain": [
              "FasterChol (MEM):   0%|          | 0/30 [00:00<?, ?it/s]"
            ]
          },
          "metadata": {},
          "output_type": "display_data"
        },
        {
          "data": {
            "application/vnd.jupyter.widget-view+json": {
              "model_id": "b8296c7b83494d95b0ce9badd6e6b6c0",
              "version_major": 2,
              "version_minor": 0
            },
            "text/plain": [
              "FasterChol (TIME):   0%|          | 0/100 [00:00<?, ?it/s]"
            ]
          },
          "metadata": {},
          "output_type": "display_data"
        },
        {
          "data": {
            "application/vnd.jupyter.widget-view+json": {
              "model_id": "11b7f95741d74126b802d10450e01e29",
              "version_major": 2,
              "version_minor": 0
            },
            "text/plain": [
              "EfficientChol (MEM):   0%|          | 0/30 [00:00<?, ?it/s]"
            ]
          },
          "metadata": {},
          "output_type": "display_data"
        },
        {
          "data": {
            "application/vnd.jupyter.widget-view+json": {
              "model_id": "3b8f35f1668a4ef8aeedf8c2bdf7f890",
              "version_major": 2,
              "version_minor": 0
            },
            "text/plain": [
              "EfficientChol (TIME):   0%|          | 0/100 [00:00<?, ?it/s]"
            ]
          },
          "metadata": {},
          "output_type": "display_data"
        },
        {
          "name": "stdout",
          "output_type": "stream",
          "text": [
            "Benching params:\n",
            "Total runs: 150\n",
            "Warmup runs: 20\n",
            "Peak Memory usage runs: 30\n",
            "Running time runs: 100\n",
            "Train size rows (approx): 274\n",
            "Test size rows (approx): 68\n",
            "Test size fraction: 0.2\n"
          ]
        },
        {
          "data": {
            "application/vnd.jupyter.widget-view+json": {
              "model_id": "d7b2b69ef8e74c1dafc22cd2192de9ac",
              "version_major": 2,
              "version_minor": 0
            },
            "text/plain": [
              "QDA (MEM):   0%|          | 0/30 [00:00<?, ?it/s]"
            ]
          },
          "metadata": {},
          "output_type": "display_data"
        },
        {
          "data": {
            "application/vnd.jupyter.widget-view+json": {
              "model_id": "8b73c5cd19bc428f84b1ed7c4ad8483d",
              "version_major": 2,
              "version_minor": 0
            },
            "text/plain": [
              "QDA (TIME):   0%|          | 0/100 [00:00<?, ?it/s]"
            ]
          },
          "metadata": {},
          "output_type": "display_data"
        },
        {
          "data": {
            "application/vnd.jupyter.widget-view+json": {
              "model_id": "ae1b36dcc31045a5b78b59c8de2dbef8",
              "version_major": 2,
              "version_minor": 0
            },
            "text/plain": [
              "TensorizedQDA (MEM):   0%|          | 0/30 [00:00<?, ?it/s]"
            ]
          },
          "metadata": {},
          "output_type": "display_data"
        },
        {
          "data": {
            "application/vnd.jupyter.widget-view+json": {
              "model_id": "07dbda98d1a349f3ac2bf8780455e754",
              "version_major": 2,
              "version_minor": 0
            },
            "text/plain": [
              "TensorizedQDA (TIME):   0%|          | 0/100 [00:00<?, ?it/s]"
            ]
          },
          "metadata": {},
          "output_type": "display_data"
        },
        {
          "data": {
            "application/vnd.jupyter.widget-view+json": {
              "model_id": "c16d558afb7549a682f43e69ad1ecbd3",
              "version_major": 2,
              "version_minor": 0
            },
            "text/plain": [
              "FasterQDA (MEM):   0%|          | 0/30 [00:00<?, ?it/s]"
            ]
          },
          "metadata": {},
          "output_type": "display_data"
        },
        {
          "data": {
            "application/vnd.jupyter.widget-view+json": {
              "model_id": "4ac28ab32d434bdcaa89e2ff38eac784",
              "version_major": 2,
              "version_minor": 0
            },
            "text/plain": [
              "FasterQDA (TIME):   0%|          | 0/100 [00:00<?, ?it/s]"
            ]
          },
          "metadata": {},
          "output_type": "display_data"
        },
        {
          "data": {
            "application/vnd.jupyter.widget-view+json": {
              "model_id": "5aec3c3b3c8c45a29794716fb0f91000",
              "version_major": 2,
              "version_minor": 0
            },
            "text/plain": [
              "EfficientQDA (MEM):   0%|          | 0/30 [00:00<?, ?it/s]"
            ]
          },
          "metadata": {},
          "output_type": "display_data"
        },
        {
          "data": {
            "application/vnd.jupyter.widget-view+json": {
              "model_id": "4162f6b72860461296a8c855a61ed179",
              "version_major": 2,
              "version_minor": 0
            },
            "text/plain": [
              "EfficientQDA (TIME):   0%|          | 0/100 [00:00<?, ?it/s]"
            ]
          },
          "metadata": {},
          "output_type": "display_data"
        },
        {
          "data": {
            "application/vnd.jupyter.widget-view+json": {
              "model_id": "40c3547d5a224c8bb5a196f74166baa0",
              "version_major": 2,
              "version_minor": 0
            },
            "text/plain": [
              "QDA_Chol1 (MEM):   0%|          | 0/30 [00:00<?, ?it/s]"
            ]
          },
          "metadata": {},
          "output_type": "display_data"
        },
        {
          "data": {
            "application/vnd.jupyter.widget-view+json": {
              "model_id": "7f9b2f6eafd74ce696d9243c5d7d0a99",
              "version_major": 2,
              "version_minor": 0
            },
            "text/plain": [
              "QDA_Chol1 (TIME):   0%|          | 0/100 [00:00<?, ?it/s]"
            ]
          },
          "metadata": {},
          "output_type": "display_data"
        },
        {
          "data": {
            "application/vnd.jupyter.widget-view+json": {
              "model_id": "5dbd8b75104e4f75926c23964437ffae",
              "version_major": 2,
              "version_minor": 0
            },
            "text/plain": [
              "QDA_Chol2 (MEM):   0%|          | 0/30 [00:00<?, ?it/s]"
            ]
          },
          "metadata": {},
          "output_type": "display_data"
        },
        {
          "data": {
            "application/vnd.jupyter.widget-view+json": {
              "model_id": "cc3ea00935ec4b9a84d2205033a3b8c2",
              "version_major": 2,
              "version_minor": 0
            },
            "text/plain": [
              "QDA_Chol2 (TIME):   0%|          | 0/100 [00:00<?, ?it/s]"
            ]
          },
          "metadata": {},
          "output_type": "display_data"
        },
        {
          "data": {
            "application/vnd.jupyter.widget-view+json": {
              "model_id": "20072e0ee144422bb8a143cc134b2427",
              "version_major": 2,
              "version_minor": 0
            },
            "text/plain": [
              "QDA_Chol3 (MEM):   0%|          | 0/30 [00:00<?, ?it/s]"
            ]
          },
          "metadata": {},
          "output_type": "display_data"
        },
        {
          "data": {
            "application/vnd.jupyter.widget-view+json": {
              "model_id": "88599f8612bf45a7aa479443e40e20a1",
              "version_major": 2,
              "version_minor": 0
            },
            "text/plain": [
              "QDA_Chol3 (TIME):   0%|          | 0/100 [00:00<?, ?it/s]"
            ]
          },
          "metadata": {},
          "output_type": "display_data"
        },
        {
          "data": {
            "application/vnd.jupyter.widget-view+json": {
              "model_id": "a2d44c2df4694e249728059f030e80fd",
              "version_major": 2,
              "version_minor": 0
            },
            "text/plain": [
              "TensorizedChol (MEM):   0%|          | 0/30 [00:00<?, ?it/s]"
            ]
          },
          "metadata": {},
          "output_type": "display_data"
        },
        {
          "data": {
            "application/vnd.jupyter.widget-view+json": {
              "model_id": "b72b507731e84a5a912165b5fec9bc21",
              "version_major": 2,
              "version_minor": 0
            },
            "text/plain": [
              "TensorizedChol (TIME):   0%|          | 0/100 [00:00<?, ?it/s]"
            ]
          },
          "metadata": {},
          "output_type": "display_data"
        },
        {
          "data": {
            "application/vnd.jupyter.widget-view+json": {
              "model_id": "88a3a5340d0d45bc9ff3852e9f5f182f",
              "version_major": 2,
              "version_minor": 0
            },
            "text/plain": [
              "FasterChol (MEM):   0%|          | 0/30 [00:00<?, ?it/s]"
            ]
          },
          "metadata": {},
          "output_type": "display_data"
        },
        {
          "data": {
            "application/vnd.jupyter.widget-view+json": {
              "model_id": "4170872a2b8c4a40b364fdcc71649929",
              "version_major": 2,
              "version_minor": 0
            },
            "text/plain": [
              "FasterChol (TIME):   0%|          | 0/100 [00:00<?, ?it/s]"
            ]
          },
          "metadata": {},
          "output_type": "display_data"
        },
        {
          "data": {
            "application/vnd.jupyter.widget-view+json": {
              "model_id": "6b1076fb94074e2383cd67bd2ee91cc8",
              "version_major": 2,
              "version_minor": 0
            },
            "text/plain": [
              "EfficientChol (MEM):   0%|          | 0/30 [00:00<?, ?it/s]"
            ]
          },
          "metadata": {},
          "output_type": "display_data"
        },
        {
          "data": {
            "application/vnd.jupyter.widget-view+json": {
              "model_id": "6e1fc98a245943ec8c402caee3e53b21",
              "version_major": 2,
              "version_minor": 0
            },
            "text/plain": [
              "EfficientChol (TIME):   0%|          | 0/100 [00:00<?, ?it/s]"
            ]
          },
          "metadata": {},
          "output_type": "display_data"
        },
        {
          "name": "stdout",
          "output_type": "stream",
          "text": [
            "[<__main__.Benchmark object at 0x7f55fb29c4d0>, <__main__.Benchmark object at 0x7f55f5f24590>, <__main__.Benchmark object at 0x7f55f5f38a50>]\n",
            "<__main__.Benchmark object at 0x7f55fb29c4d0>\n",
            "                train_median_ms  train_std_ms  test_median_ms  test_std_ms  \\\n",
            "model                                                                        \n",
            "QDA                    0.124143      0.033161        0.576877     0.030475   \n",
            "TensorizedQDA          0.129590      0.027299        0.237688     0.024727   \n",
            "FasterQDA              0.188956      0.044486        0.041926     0.029965   \n",
            "EfficientQDA           0.132980      0.039145        0.027267     0.003536   \n",
            "QDA_Chol1              0.176213      0.096435        0.402826     0.103393   \n",
            "QDA_Chol2              0.142348      0.106294        0.957710     0.850862   \n",
            "QDA_Chol3              0.133820      0.077590        0.372071     0.282788   \n",
            "TensorizedChol         0.143768      0.027179        0.196525     0.020308   \n",
            "FasterChol             0.141098      0.036433        0.022907     0.003898   \n",
            "EfficientChol          0.145190      0.101180        0.024863     0.012183   \n",
            "\n",
            "                mean_accuracy  train_mem_median_mb  train_mem_std_mb  \\\n",
            "model                                                                  \n",
            "QDA                  0.971667             0.006424          0.000127   \n",
            "TensorizedQDA        0.969333             0.006481          0.000096   \n",
            "FasterQDA            0.974000             0.006485          0.000185   \n",
            "EfficientQDA         0.972333             0.006481          0.000129   \n",
            "QDA_Chol1            0.965000             0.006706          0.000224   \n",
            "QDA_Chol2            0.974667             0.006561          0.000072   \n",
            "QDA_Chol3            0.972667             0.006542          0.000120   \n",
            "TensorizedChol       0.969667             0.006523          0.000178   \n",
            "FasterChol           0.978000             0.006538          0.000093   \n",
            "EfficientChol        0.973333             0.006519          0.000244   \n",
            "\n",
            "                test_mem_median_mb  test_mem_std_mb  \n",
            "model                                                \n",
            "QDA                       0.003866         0.000190  \n",
            "TensorizedQDA             0.003983         0.000035  \n",
            "FasterQDA                 0.029076         0.000240  \n",
            "EfficientQDA              0.014465         0.000116  \n",
            "QDA_Chol1                 0.004013         0.000189  \n",
            "QDA_Chol2                 0.004236         0.000237  \n",
            "QDA_Chol3                 0.003868         0.000071  \n",
            "TensorizedChol            0.003983         0.000151  \n",
            "FasterChol                0.032082         0.000166  \n",
            "EfficientChol             0.012421         0.000208  \n",
            "<__main__.Benchmark object at 0x7f55f5f24590>\n",
            "                train_median_ms  train_std_ms  test_median_ms  test_std_ms  \\\n",
            "model                                                                        \n",
            "QDA                    0.173033      0.144791        0.825163     0.645108   \n",
            "TensorizedQDA          0.189620      0.164482        0.396377     0.310719   \n",
            "FasterQDA              0.158814      0.087066        0.035205     0.022899   \n",
            "EfficientQDA           0.170535      0.049610        0.040702     0.011529   \n",
            "QDA_Chol1              0.179907      0.044082        0.463114     0.016650   \n",
            "QDA_Chol2              0.155200      0.065677        1.151261     0.095548   \n",
            "QDA_Chol3              0.153350      0.038061        0.465086     0.011583   \n",
            "TensorizedChol         0.160864      0.053980        0.237467     0.049126   \n",
            "FasterChol             0.150727      0.089527        0.026833     0.023318   \n",
            "EfficientChol          0.164624      0.105079        0.027807     0.026820   \n",
            "\n",
            "                mean_accuracy  train_mem_median_mb  train_mem_std_mb  \\\n",
            "model                                                                  \n",
            "QDA                  0.985556             0.020393          0.000701   \n",
            "TensorizedQDA        0.985278             0.020542          0.000823   \n",
            "FasterQDA            0.990278             0.020542          0.000875   \n",
            "EfficientQDA         0.987778             0.020245          0.000794   \n",
            "QDA_Chol1            0.986944             0.020561          0.000737   \n",
            "QDA_Chol2            0.985833             0.020267          0.000684   \n",
            "QDA_Chol3            0.990278             0.020416          0.000702   \n",
            "TensorizedChol       0.987500             0.020416          0.000564   \n",
            "FasterChol           0.980278             0.020119          0.000807   \n",
            "EfficientChol        0.987222             0.020416          0.000668   \n",
            "\n",
            "                test_mem_median_mb  test_mem_std_mb  \n",
            "model                                                \n",
            "QDA                       0.007773         0.000163  \n",
            "TensorizedQDA             0.011856         0.000080  \n",
            "FasterQDA                 0.061417         0.000071  \n",
            "EfficientQDA              0.053741         0.000089  \n",
            "QDA_Chol1                 0.007973         0.000070  \n",
            "QDA_Chol2                 0.008204         0.000347  \n",
            "QDA_Chol3                 0.007828         0.000150  \n",
            "TensorizedChol            0.011856         0.000135  \n",
            "FasterChol                0.064903         0.000082  \n",
            "EfficientChol             0.043869         0.000200  \n",
            "<__main__.Benchmark object at 0x7f55f5f38a50>\n",
            "                train_median_ms  train_std_ms  test_median_ms  test_std_ms  \\\n",
            "model                                                                        \n",
            "QDA                    0.152343      0.067057        1.342716     0.486784   \n",
            "TensorizedQDA          0.175961      0.133835        0.555283     0.501497   \n",
            "FasterQDA              0.155094      0.070694        0.037021     0.020600   \n",
            "EfficientQDA           0.174403      0.104779        0.041342     0.040068   \n",
            "QDA_Chol1              0.189914      0.134286        0.887350     0.342631   \n",
            "QDA_Chol2              0.158519      0.083932        2.159145     0.362582   \n",
            "QDA_Chol3              0.154429      0.070518        0.877233     0.098933   \n",
            "TensorizedChol         0.173973      0.052555        0.449376     0.062334   \n",
            "FasterChol             0.157025      0.029484        0.033274     0.012229   \n",
            "EfficientChol          0.160248      0.044509        0.027410     0.016466   \n",
            "\n",
            "                mean_accuracy  train_mem_median_mb  train_mem_std_mb  \\\n",
            "model                                                                  \n",
            "QDA                  0.986812             0.012886          0.000379   \n",
            "TensorizedQDA        0.988116             0.012794          0.000278   \n",
            "FasterQDA            0.988406             0.012886          0.000371   \n",
            "EfficientQDA         0.987391             0.012886          0.000300   \n",
            "QDA_Chol1            0.988986             0.012863          0.000429   \n",
            "QDA_Chol2            0.988406             0.012817          0.000294   \n",
            "QDA_Chol3            0.988261             0.012817          0.000268   \n",
            "TensorizedChol       0.987826             0.012794          0.000325   \n",
            "FasterChol           0.985797             0.012886          0.000315   \n",
            "EfficientChol        0.988261             0.012840          0.000279   \n",
            "\n",
            "                test_mem_median_mb  test_mem_std_mb  \n",
            "model                                                \n",
            "QDA                       0.004164         0.000323  \n",
            "TensorizedQDA             0.004280         0.000125  \n",
            "FasterQDA                 0.124519         0.000080  \n",
            "EfficientQDA              0.028748         0.000089  \n",
            "QDA_Chol1                 0.004311         0.000135  \n",
            "QDA_Chol2                 0.004534         0.000254  \n",
            "QDA_Chol3                 0.004166         0.000200  \n",
            "TensorizedChol            0.004280         0.000057  \n",
            "FasterChol                0.130272         0.000092  \n",
            "EfficientChol             0.024025         0.000108  \n"
          ]
        }
      ],
      "source": [
        "data_iris = get_iris_dataset()\n",
        "data_penguins = get_penguins_dataset()\n",
        "data_wine = get_wine_dataset()\n",
        "\n",
        "benchs = []\n",
        "\n",
        "for data_i in [data_iris, data_wine, data_penguins]:\n",
        "    y_encoded = label_encode(data_i[1].reshape(-1,1))\n",
        "    x = data_i[0]\n",
        "\n",
        "    b_i = Benchmark(\n",
        "        x, y_encoded,\n",
        "        same_splits=False,\n",
        "        # same_splits=True,\n",
        "        n_runs=100,\n",
        "        warmup=20,\n",
        "        mem_runs=30,\n",
        "        # n_runs=0,\n",
        "        # warmup=1,\n",
        "        # mem_runs=0,\n",
        "        test_sz=0.2\n",
        "    )\n",
        "    b_i.bench(QDA)\n",
        "    b_i.bench(TensorizedQDA)\n",
        "    b_i.bench(FasterQDA)\n",
        "    b_i.bench(EfficientQDA)\n",
        "    b_i.bench(QDA_Chol1)\n",
        "    b_i.bench(QDA_Chol2)\n",
        "    b_i.bench(QDA_Chol3)\n",
        "    b_i.bench(TensorizedChol)\n",
        "    b_i.bench(FasterChol)\n",
        "    b_i.bench(EfficientChol)\n",
        "    benchs.append(b_i)\n",
        "    # benchs[-1].bench(QDA)\n",
        "    # benchs[-1].bench(TensorizedQDA)\n",
        "    # benchs[-1].bench(FasterQDA)\n",
        "    # benchs[-1].bench(EfficientQDA)\n",
        "    # benchs[-1].bench(QDA_Chol1)\n",
        "    # benchs[-1].bench(QDA_Chol2)\n",
        "    # benchs[-1].bench(QDA_Chol3)\n",
        "    # benchs[-1].bench(TensorizedChol)\n",
        "    # benchs[-1].bench(EfficientChol)\n",
        "    # benchs[-1].summary()\n",
        "print(benchs)\n",
        "for i in range(len(benchs)):\n",
        "    b_i = benchs[i]\n",
        "    print(b_i)\n",
        "    print(b_i.summary())"
      ]
    },
    {
      "cell_type": "code",
      "execution_count": 41,
      "metadata": {},
      "outputs": [
        {
          "data": {
            "image/png": "[encoded data removed]",
            "text/plain": [
              "<Figure size 1000x2000 with 4 Axes>"
            ]
          },
          "metadata": {},
          "output_type": "display_data"
        }
      ],
      "source": [
        "benchs.append(b)\n",
        "for b_i in benchs:\n",
        "    b_i.get_results_dict()\n",
        "import matplotlib.pyplot as plt\n",
        "\n",
        "# Plot median times vs sizes for training\n",
        "labels = [\"QDA\", \"TensorizedQDA\", \"FasterQDA\", \"EfficientQDA\",\n",
        "          \"QDA_Chol1\", \"QDA_Chol2\", \"QDA_Chol3\",\n",
        "          \"TensorizedChol\", \"FasterChol\", \"EfficientChol\"]\n",
        "markers = ['o', 's', '^', 'D', 'v', 'P', '*', 'X', '.', 'H']\n",
        "train_sizes = []\n",
        "test_sizes = []\n",
        "train_median_ms = [[] for i in range(len(b_i.results_dict['train_median_ms']))]\n",
        "test_median_ms = [[] for i in range(len(b_i.results_dict['test_median_ms']))]\n",
        "train_median_mb = [[] for i in range(len(b_i.results_dict['train_median_mb']))]\n",
        "test_median_mb = [[] for i in range(len(b_i.results_dict['test_median_mb']))]\n",
        "for b_i in benchs:\n",
        "    train_sizes.append(b_i.results_dict['train_size'])\n",
        "    test_sizes.append(b_i.results_dict['test_size'])\n",
        "    for i, label in enumerate(labels):\n",
        "        train_median_ms[i].append(b_i.results_dict['train_median_ms'][label])\n",
        "        test_median_ms[i].append(b_i.results_dict['test_median_ms'][label])\n",
        "        train_median_mb[i].append(b_i.results_dict['train_median_mb'][label])\n",
        "        test_median_mb[i].append(b_i.results_dict['test_median_mb'][label])\n",
        "\n",
        "fig, axs = plt.subplots(4,1, figsize=(10, 20))\n",
        "\n",
        "for i, label in enumerate(labels):\n",
        "    axs[0].plot(train_sizes, train_median_ms[i], marker=markers[i], label=label)\n",
        "    axs[1].plot(test_sizes, test_median_ms[i], marker=  markers[i], label=label)\n",
        "    axs[2].plot(train_sizes, train_median_mb[i], marker=markers[i], label=label)\n",
        "    axs[3].plot(test_sizes, test_median_mb[i], marker=  markers[i], label=label)\n",
        "\n",
        "for i in range(4):\n",
        "    axs[i].set_yscale('log')\n",
        "    axs[i].set_xscale('log')\n",
        "    axs[i].legend()\n",
        "    axs[i].grid(True, which=\"both\", ls=\"--\")\n",
        "    axs[i].set_ylabel('Median Time (ms)' if i in [0,1] else 'Median Memory (MB)')\n",
        "    axs[i].set_xlabel('Number of training samples' if i in [0,2] else 'Number of test samples')\n",
        "plt.show()"
      ]
    }
  ],
  "metadata": {
    "colab": {
      "provenance": []
    },
    "kernelspec": {
      "display_name": "TP_amia",
      "language": "python",
      "name": "tp_amia"
    },
    "language_info": {
      "codemirror_mode": {
        "name": "ipython",
        "version": 3
      },
      "file_extension": ".py",
      "mimetype": "text/x-python",
      "name": "python",
      "nbconvert_exporter": "python",
      "pygments_lexer": "ipython3",
      "version": "3.11.13"
    },
    "widgets": {
      "application/vnd.jupyter.widget-state+json": {
        "0c4640fad3de46af8ee288fb94e9831d": {
          "model_module": "@jupyter-widgets/base",
          "model_module_version": "1.2.0",
          "model_name": "LayoutModel",
          "state": {
            "_model_module": "@jupyter-widgets/base",
            "_model_module_version": "1.2.0",
            "_model_name": "LayoutModel",
            "_view_count": null,
            "_view_module": "@jupyter-widgets/base",
            "_view_module_version": "1.2.0",
            "_view_name": "LayoutView",
            "align_content": null,
            "align_items": null,
            "align_self": null,
            "border": null,
            "bottom": null,
            "display": null,
            "flex": null,
            "flex_flow": null,
            "grid_area": null,
            "grid_auto_columns": null,
            "grid_auto_flow": null,
            "grid_auto_rows": null,
            "grid_column": null,
            "grid_gap": null,
            "grid_row": null,
            "grid_template_areas": null,
            "grid_template_columns": null,
            "grid_template_rows": null,
            "height": null,
            "justify_content": null,
            "justify_items": null,
            "left": null,
            "margin": null,
            "max_height": null,
            "max_width": null,
            "min_height": null,
            "min_width": null,
            "object_fit": null,
            "object_position": null,
            "order": null,
            "overflow": null,
            "overflow_x": null,
            "overflow_y": null,
            "padding": null,
            "right": null,
            "top": null,
            "visibility": null,
            "width": null
          }
        },
        "0cead8148ae5469eb637c29de2b21ec7": {
          "model_module": "@jupyter-widgets/controls",
          "model_module_version": "1.5.0",
          "model_name": "ProgressStyleModel",
          "state": {
            "_model_module": "@jupyter-widgets/controls",
            "_model_module_version": "1.5.0",
            "_model_name": "ProgressStyleModel",
            "_view_count": null,
            "_view_module": "@jupyter-widgets/base",
            "_view_module_version": "1.2.0",
            "_view_name": "StyleView",
            "bar_color": null,
            "description_width": ""
          }
        },
        "16f5ac0cf3cc441d891ae9522cf0798c": {
          "model_module": "@jupyter-widgets/controls",
          "model_module_version": "1.5.0",
          "model_name": "HTMLModel",
          "state": {
            "_dom_classes": [],
            "_model_module": "@jupyter-widgets/controls",
            "_model_module_version": "1.5.0",
            "_model_name": "HTMLModel",
            "_view_count": null,
            "_view_module": "@jupyter-widgets/controls",
            "_view_module_version": "1.5.0",
            "_view_name": "HTMLView",
            "description": "",
            "description_tooltip": null,
            "layout": "IPY_MODEL_5e4f83990b0c4572952d5e23005283fb",
            "placeholder": "​",
            "style": "IPY_MODEL_b85cd793196847cda92178f945624016",
            "value": "TensorizedQDA (MEM): 100%"
          }
        },
        "1d3c4fad476c47208bce6625ec783f6d": {
          "model_module": "@jupyter-widgets/controls",
          "model_module_version": "1.5.0",
          "model_name": "FloatProgressModel",
          "state": {
            "_dom_classes": [],
            "_model_module": "@jupyter-widgets/controls",
            "_model_module_version": "1.5.0",
            "_model_name": "FloatProgressModel",
            "_view_count": null,
            "_view_module": "@jupyter-widgets/controls",
            "_view_module_version": "1.5.0",
            "_view_name": "ProgressView",
            "bar_style": "success",
            "description": "",
            "description_tooltip": null,
            "layout": "IPY_MODEL_0c4640fad3de46af8ee288fb94e9831d",
            "max": 20,
            "min": 0,
            "orientation": "horizontal",
            "style": "IPY_MODEL_70c3a115637d4880802a605974661714",
            "value": 20
          }
        },
        "1da7d96834cc4bc8a3cd5595b3446b74": {
          "model_module": "@jupyter-widgets/controls",
          "model_module_version": "1.5.0",
          "model_name": "HTMLModel",
          "state": {
            "_dom_classes": [],
            "_model_module": "@jupyter-widgets/controls",
            "_model_module_version": "1.5.0",
            "_model_name": "HTMLModel",
            "_view_count": null,
            "_view_module": "@jupyter-widgets/controls",
            "_view_module_version": "1.5.0",
            "_view_name": "HTMLView",
            "description": "",
            "description_tooltip": null,
            "layout": "IPY_MODEL_de9f39ade1b04c22921589c687b25518",
            "placeholder": "​",
            "style": "IPY_MODEL_437e4360cf5e44bc845c2f6002ea2d55",
            "value": " 100/100 [00:02&lt;00:00, 40.27it/s]"
          }
        },
        "254e2937d92d48b0886e5d950a6bbefa": {
          "model_module": "@jupyter-widgets/base",
          "model_module_version": "1.2.0",
          "model_name": "LayoutModel",
          "state": {
            "_model_module": "@jupyter-widgets/base",
            "_model_module_version": "1.2.0",
            "_model_name": "LayoutModel",
            "_view_count": null,
            "_view_module": "@jupyter-widgets/base",
            "_view_module_version": "1.2.0",
            "_view_name": "LayoutView",
            "align_content": null,
            "align_items": null,
            "align_self": null,
            "border": null,
            "bottom": null,
            "display": null,
            "flex": null,
            "flex_flow": null,
            "grid_area": null,
            "grid_auto_columns": null,
            "grid_auto_flow": null,
            "grid_auto_rows": null,
            "grid_column": null,
            "grid_gap": null,
            "grid_row": null,
            "grid_template_areas": null,
            "grid_template_columns": null,
            "grid_template_rows": null,
            "height": null,
            "justify_content": null,
            "justify_items": null,
            "left": null,
            "margin": null,
            "max_height": null,
            "max_width": null,
            "min_height": null,
            "min_width": null,
            "object_fit": null,
            "object_position": null,
            "order": null,
            "overflow": null,
            "overflow_x": null,
            "overflow_y": null,
            "padding": null,
            "right": null,
            "top": null,
            "visibility": null,
            "width": null
          }
        },
        "32df4fc69a3c47cf9a220f4469b667a3": {
          "model_module": "@jupyter-widgets/controls",
          "model_module_version": "1.5.0",
          "model_name": "DescriptionStyleModel",
          "state": {
            "_model_module": "@jupyter-widgets/controls",
            "_model_module_version": "1.5.0",
            "_model_name": "DescriptionStyleModel",
            "_view_count": null,
            "_view_module": "@jupyter-widgets/base",
            "_view_module_version": "1.2.0",
            "_view_name": "StyleView",
            "description_width": ""
          }
        },
        "373a7a1549b44c2696083efddc88fafe": {
          "model_module": "@jupyter-widgets/base",
          "model_module_version": "1.2.0",
          "model_name": "LayoutModel",
          "state": {
            "_model_module": "@jupyter-widgets/base",
            "_model_module_version": "1.2.0",
            "_model_name": "LayoutModel",
            "_view_count": null,
            "_view_module": "@jupyter-widgets/base",
            "_view_module_version": "1.2.0",
            "_view_name": "LayoutView",
            "align_content": null,
            "align_items": null,
            "align_self": null,
            "border": null,
            "bottom": null,
            "display": null,
            "flex": null,
            "flex_flow": null,
            "grid_area": null,
            "grid_auto_columns": null,
            "grid_auto_flow": null,
            "grid_auto_rows": null,
            "grid_column": null,
            "grid_gap": null,
            "grid_row": null,
            "grid_template_areas": null,
            "grid_template_columns": null,
            "grid_template_rows": null,
            "height": null,
            "justify_content": null,
            "justify_items": null,
            "left": null,
            "margin": null,
            "max_height": null,
            "max_width": null,
            "min_height": null,
            "min_width": null,
            "object_fit": null,
            "object_position": null,
            "order": null,
            "overflow": null,
            "overflow_x": null,
            "overflow_y": null,
            "padding": null,
            "right": null,
            "top": null,
            "visibility": null,
            "width": null
          }
        },
        "3a99fe4554914c12ad9146aea349708c": {
          "model_module": "@jupyter-widgets/controls",
          "model_module_version": "1.5.0",
          "model_name": "FloatProgressModel",
          "state": {
            "_dom_classes": [],
            "_model_module": "@jupyter-widgets/controls",
            "_model_module_version": "1.5.0",
            "_model_name": "FloatProgressModel",
            "_view_count": null,
            "_view_module": "@jupyter-widgets/controls",
            "_view_module_version": "1.5.0",
            "_view_name": "ProgressView",
            "bar_style": "success",
            "description": "",
            "description_tooltip": null,
            "layout": "IPY_MODEL_254e2937d92d48b0886e5d950a6bbefa",
            "max": 100,
            "min": 0,
            "orientation": "horizontal",
            "style": "IPY_MODEL_0cead8148ae5469eb637c29de2b21ec7",
            "value": 100
          }
        },
        "3f110d0a165e41b0a268f77b2d2a11b7": {
          "model_module": "@jupyter-widgets/base",
          "model_module_version": "1.2.0",
          "model_name": "LayoutModel",
          "state": {
            "_model_module": "@jupyter-widgets/base",
            "_model_module_version": "1.2.0",
            "_model_name": "LayoutModel",
            "_view_count": null,
            "_view_module": "@jupyter-widgets/base",
            "_view_module_version": "1.2.0",
            "_view_name": "LayoutView",
            "align_content": null,
            "align_items": null,
            "align_self": null,
            "border": null,
            "bottom": null,
            "display": null,
            "flex": null,
            "flex_flow": null,
            "grid_area": null,
            "grid_auto_columns": null,
            "grid_auto_flow": null,
            "grid_auto_rows": null,
            "grid_column": null,
            "grid_gap": null,
            "grid_row": null,
            "grid_template_areas": null,
            "grid_template_columns": null,
            "grid_template_rows": null,
            "height": null,
            "justify_content": null,
            "justify_items": null,
            "left": null,
            "margin": null,
            "max_height": null,
            "max_width": null,
            "min_height": null,
            "min_width": null,
            "object_fit": null,
            "object_position": null,
            "order": null,
            "overflow": null,
            "overflow_x": null,
            "overflow_y": null,
            "padding": null,
            "right": null,
            "top": null,
            "visibility": null,
            "width": null
          }
        },
        "437e4360cf5e44bc845c2f6002ea2d55": {
          "model_module": "@jupyter-widgets/controls",
          "model_module_version": "1.5.0",
          "model_name": "DescriptionStyleModel",
          "state": {
            "_model_module": "@jupyter-widgets/controls",
            "_model_module_version": "1.5.0",
            "_model_name": "DescriptionStyleModel",
            "_view_count": null,
            "_view_module": "@jupyter-widgets/base",
            "_view_module_version": "1.2.0",
            "_view_name": "StyleView",
            "description_width": ""
          }
        },
        "4ab824715b294c86b045c7e187125524": {
          "model_module": "@jupyter-widgets/base",
          "model_module_version": "1.2.0",
          "model_name": "LayoutModel",
          "state": {
            "_model_module": "@jupyter-widgets/base",
            "_model_module_version": "1.2.0",
            "_model_name": "LayoutModel",
            "_view_count": null,
            "_view_module": "@jupyter-widgets/base",
            "_view_module_version": "1.2.0",
            "_view_name": "LayoutView",
            "align_content": null,
            "align_items": null,
            "align_self": null,
            "border": null,
            "bottom": null,
            "display": null,
            "flex": null,
            "flex_flow": null,
            "grid_area": null,
            "grid_auto_columns": null,
            "grid_auto_flow": null,
            "grid_auto_rows": null,
            "grid_column": null,
            "grid_gap": null,
            "grid_row": null,
            "grid_template_areas": null,
            "grid_template_columns": null,
            "grid_template_rows": null,
            "height": null,
            "justify_content": null,
            "justify_items": null,
            "left": null,
            "margin": null,
            "max_height": null,
            "max_width": null,
            "min_height": null,
            "min_width": null,
            "object_fit": null,
            "object_position": null,
            "order": null,
            "overflow": null,
            "overflow_x": null,
            "overflow_y": null,
            "padding": null,
            "right": null,
            "top": null,
            "visibility": null,
            "width": null
          }
        },
        "514491be27294e0cb5b70b6e25ee3355": {
          "model_module": "@jupyter-widgets/base",
          "model_module_version": "1.2.0",
          "model_name": "LayoutModel",
          "state": {
            "_model_module": "@jupyter-widgets/base",
            "_model_module_version": "1.2.0",
            "_model_name": "LayoutModel",
            "_view_count": null,
            "_view_module": "@jupyter-widgets/base",
            "_view_module_version": "1.2.0",
            "_view_name": "LayoutView",
            "align_content": null,
            "align_items": null,
            "align_self": null,
            "border": null,
            "bottom": null,
            "display": null,
            "flex": null,
            "flex_flow": null,
            "grid_area": null,
            "grid_auto_columns": null,
            "grid_auto_flow": null,
            "grid_auto_rows": null,
            "grid_column": null,
            "grid_gap": null,
            "grid_row": null,
            "grid_template_areas": null,
            "grid_template_columns": null,
            "grid_template_rows": null,
            "height": null,
            "justify_content": null,
            "justify_items": null,
            "left": null,
            "margin": null,
            "max_height": null,
            "max_width": null,
            "min_height": null,
            "min_width": null,
            "object_fit": null,
            "object_position": null,
            "order": null,
            "overflow": null,
            "overflow_x": null,
            "overflow_y": null,
            "padding": null,
            "right": null,
            "top": null,
            "visibility": null,
            "width": null
          }
        },
        "54a06911978746dd9e81bb1526bd741c": {
          "model_module": "@jupyter-widgets/base",
          "model_module_version": "1.2.0",
          "model_name": "LayoutModel",
          "state": {
            "_model_module": "@jupyter-widgets/base",
            "_model_module_version": "1.2.0",
            "_model_name": "LayoutModel",
            "_view_count": null,
            "_view_module": "@jupyter-widgets/base",
            "_view_module_version": "1.2.0",
            "_view_name": "LayoutView",
            "align_content": null,
            "align_items": null,
            "align_self": null,
            "border": null,
            "bottom": null,
            "display": null,
            "flex": null,
            "flex_flow": null,
            "grid_area": null,
            "grid_auto_columns": null,
            "grid_auto_flow": null,
            "grid_auto_rows": null,
            "grid_column": null,
            "grid_gap": null,
            "grid_row": null,
            "grid_template_areas": null,
            "grid_template_columns": null,
            "grid_template_rows": null,
            "height": null,
            "justify_content": null,
            "justify_items": null,
            "left": null,
            "margin": null,
            "max_height": null,
            "max_width": null,
            "min_height": null,
            "min_width": null,
            "object_fit": null,
            "object_position": null,
            "order": null,
            "overflow": null,
            "overflow_x": null,
            "overflow_y": null,
            "padding": null,
            "right": null,
            "top": null,
            "visibility": null,
            "width": null
          }
        },
        "5e4f83990b0c4572952d5e23005283fb": {
          "model_module": "@jupyter-widgets/base",
          "model_module_version": "1.2.0",
          "model_name": "LayoutModel",
          "state": {
            "_model_module": "@jupyter-widgets/base",
            "_model_module_version": "1.2.0",
            "_model_name": "LayoutModel",
            "_view_count": null,
            "_view_module": "@jupyter-widgets/base",
            "_view_module_version": "1.2.0",
            "_view_name": "LayoutView",
            "align_content": null,
            "align_items": null,
            "align_self": null,
            "border": null,
            "bottom": null,
            "display": null,
            "flex": null,
            "flex_flow": null,
            "grid_area": null,
            "grid_auto_columns": null,
            "grid_auto_flow": null,
            "grid_auto_rows": null,
            "grid_column": null,
            "grid_gap": null,
            "grid_row": null,
            "grid_template_areas": null,
            "grid_template_columns": null,
            "grid_template_rows": null,
            "height": null,
            "justify_content": null,
            "justify_items": null,
            "left": null,
            "margin": null,
            "max_height": null,
            "max_width": null,
            "min_height": null,
            "min_width": null,
            "object_fit": null,
            "object_position": null,
            "order": null,
            "overflow": null,
            "overflow_x": null,
            "overflow_y": null,
            "padding": null,
            "right": null,
            "top": null,
            "visibility": null,
            "width": null
          }
        },
        "6197d697782b4688a278663e287317b1": {
          "model_module": "@jupyter-widgets/base",
          "model_module_version": "1.2.0",
          "model_name": "LayoutModel",
          "state": {
            "_model_module": "@jupyter-widgets/base",
            "_model_module_version": "1.2.0",
            "_model_name": "LayoutModel",
            "_view_count": null,
            "_view_module": "@jupyter-widgets/base",
            "_view_module_version": "1.2.0",
            "_view_name": "LayoutView",
            "align_content": null,
            "align_items": null,
            "align_self": null,
            "border": null,
            "bottom": null,
            "display": null,
            "flex": null,
            "flex_flow": null,
            "grid_area": null,
            "grid_auto_columns": null,
            "grid_auto_flow": null,
            "grid_auto_rows": null,
            "grid_column": null,
            "grid_gap": null,
            "grid_row": null,
            "grid_template_areas": null,
            "grid_template_columns": null,
            "grid_template_rows": null,
            "height": null,
            "justify_content": null,
            "justify_items": null,
            "left": null,
            "margin": null,
            "max_height": null,
            "max_width": null,
            "min_height": null,
            "min_width": null,
            "object_fit": null,
            "object_position": null,
            "order": null,
            "overflow": null,
            "overflow_x": null,
            "overflow_y": null,
            "padding": null,
            "right": null,
            "top": null,
            "visibility": null,
            "width": null
          }
        },
        "684de1d1bee34b309988bc0f40b0d5e2": {
          "model_module": "@jupyter-widgets/controls",
          "model_module_version": "1.5.0",
          "model_name": "HTMLModel",
          "state": {
            "_dom_classes": [],
            "_model_module": "@jupyter-widgets/controls",
            "_model_module_version": "1.5.0",
            "_model_name": "HTMLModel",
            "_view_count": null,
            "_view_module": "@jupyter-widgets/controls",
            "_view_module_version": "1.5.0",
            "_view_name": "HTMLView",
            "description": "",
            "description_tooltip": null,
            "layout": "IPY_MODEL_d3fe060bd70848b7af130d99bbff6839",
            "placeholder": "​",
            "style": "IPY_MODEL_32df4fc69a3c47cf9a220f4469b667a3",
            "value": "QDA (TIME): 100%"
          }
        },
        "6d70e647d03f4004bd727673fbbfe5f9": {
          "model_module": "@jupyter-widgets/base",
          "model_module_version": "1.2.0",
          "model_name": "LayoutModel",
          "state": {
            "_model_module": "@jupyter-widgets/base",
            "_model_module_version": "1.2.0",
            "_model_name": "LayoutModel",
            "_view_count": null,
            "_view_module": "@jupyter-widgets/base",
            "_view_module_version": "1.2.0",
            "_view_name": "LayoutView",
            "align_content": null,
            "align_items": null,
            "align_self": null,
            "border": null,
            "bottom": null,
            "display": null,
            "flex": null,
            "flex_flow": null,
            "grid_area": null,
            "grid_auto_columns": null,
            "grid_auto_flow": null,
            "grid_auto_rows": null,
            "grid_column": null,
            "grid_gap": null,
            "grid_row": null,
            "grid_template_areas": null,
            "grid_template_columns": null,
            "grid_template_rows": null,
            "height": null,
            "justify_content": null,
            "justify_items": null,
            "left": null,
            "margin": null,
            "max_height": null,
            "max_width": null,
            "min_height": null,
            "min_width": null,
            "object_fit": null,
            "object_position": null,
            "order": null,
            "overflow": null,
            "overflow_x": null,
            "overflow_y": null,
            "padding": null,
            "right": null,
            "top": null,
            "visibility": null,
            "width": null
          }
        },
        "70c3a115637d4880802a605974661714": {
          "model_module": "@jupyter-widgets/controls",
          "model_module_version": "1.5.0",
          "model_name": "ProgressStyleModel",
          "state": {
            "_model_module": "@jupyter-widgets/controls",
            "_model_module_version": "1.5.0",
            "_model_name": "ProgressStyleModel",
            "_view_count": null,
            "_view_module": "@jupyter-widgets/base",
            "_view_module_version": "1.2.0",
            "_view_name": "StyleView",
            "bar_color": null,
            "description_width": ""
          }
        },
        "74c98c4598bd438cbedbb6c8a492eb15": {
          "model_module": "@jupyter-widgets/controls",
          "model_module_version": "1.5.0",
          "model_name": "ProgressStyleModel",
          "state": {
            "_model_module": "@jupyter-widgets/controls",
            "_model_module_version": "1.5.0",
            "_model_name": "ProgressStyleModel",
            "_view_count": null,
            "_view_module": "@jupyter-widgets/base",
            "_view_module_version": "1.2.0",
            "_view_name": "StyleView",
            "bar_color": null,
            "description_width": ""
          }
        },
        "766927c256e3409ab53c04ca092964e0": {
          "model_module": "@jupyter-widgets/base",
          "model_module_version": "1.2.0",
          "model_name": "LayoutModel",
          "state": {
            "_model_module": "@jupyter-widgets/base",
            "_model_module_version": "1.2.0",
            "_model_name": "LayoutModel",
            "_view_count": null,
            "_view_module": "@jupyter-widgets/base",
            "_view_module_version": "1.2.0",
            "_view_name": "LayoutView",
            "align_content": null,
            "align_items": null,
            "align_self": null,
            "border": null,
            "bottom": null,
            "display": null,
            "flex": null,
            "flex_flow": null,
            "grid_area": null,
            "grid_auto_columns": null,
            "grid_auto_flow": null,
            "grid_auto_rows": null,
            "grid_column": null,
            "grid_gap": null,
            "grid_row": null,
            "grid_template_areas": null,
            "grid_template_columns": null,
            "grid_template_rows": null,
            "height": null,
            "justify_content": null,
            "justify_items": null,
            "left": null,
            "margin": null,
            "max_height": null,
            "max_width": null,
            "min_height": null,
            "min_width": null,
            "object_fit": null,
            "object_position": null,
            "order": null,
            "overflow": null,
            "overflow_x": null,
            "overflow_y": null,
            "padding": null,
            "right": null,
            "top": null,
            "visibility": null,
            "width": null
          }
        },
        "7f722aef90b84352b16d45f8716df168": {
          "model_module": "@jupyter-widgets/base",
          "model_module_version": "1.2.0",
          "model_name": "LayoutModel",
          "state": {
            "_model_module": "@jupyter-widgets/base",
            "_model_module_version": "1.2.0",
            "_model_name": "LayoutModel",
            "_view_count": null,
            "_view_module": "@jupyter-widgets/base",
            "_view_module_version": "1.2.0",
            "_view_name": "LayoutView",
            "align_content": null,
            "align_items": null,
            "align_self": null,
            "border": null,
            "bottom": null,
            "display": null,
            "flex": null,
            "flex_flow": null,
            "grid_area": null,
            "grid_auto_columns": null,
            "grid_auto_flow": null,
            "grid_auto_rows": null,
            "grid_column": null,
            "grid_gap": null,
            "grid_row": null,
            "grid_template_areas": null,
            "grid_template_columns": null,
            "grid_template_rows": null,
            "height": null,
            "justify_content": null,
            "justify_items": null,
            "left": null,
            "margin": null,
            "max_height": null,
            "max_width": null,
            "min_height": null,
            "min_width": null,
            "object_fit": null,
            "object_position": null,
            "order": null,
            "overflow": null,
            "overflow_x": null,
            "overflow_y": null,
            "padding": null,
            "right": null,
            "top": null,
            "visibility": null,
            "width": null
          }
        },
        "8aeeac18744940f8b4940256613178db": {
          "model_module": "@jupyter-widgets/controls",
          "model_module_version": "1.5.0",
          "model_name": "HBoxModel",
          "state": {
            "_dom_classes": [],
            "_model_module": "@jupyter-widgets/controls",
            "_model_module_version": "1.5.0",
            "_model_name": "HBoxModel",
            "_view_count": null,
            "_view_module": "@jupyter-widgets/controls",
            "_view_module_version": "1.5.0",
            "_view_name": "HBoxView",
            "box_style": "",
            "children": [
              "IPY_MODEL_16f5ac0cf3cc441d891ae9522cf0798c",
              "IPY_MODEL_bc84ff51ad3c4921b7aca214f0ff5e35",
              "IPY_MODEL_f8508a02a66547b3a501694a1b8633ab"
            ],
            "layout": "IPY_MODEL_4ab824715b294c86b045c7e187125524"
          }
        },
        "8df46d45d37e45e889dbec220fa360bd": {
          "model_module": "@jupyter-widgets/controls",
          "model_module_version": "1.5.0",
          "model_name": "HTMLModel",
          "state": {
            "_dom_classes": [],
            "_model_module": "@jupyter-widgets/controls",
            "_model_module_version": "1.5.0",
            "_model_name": "HTMLModel",
            "_view_count": null,
            "_view_module": "@jupyter-widgets/controls",
            "_view_module_version": "1.5.0",
            "_view_name": "HTMLView",
            "description": "",
            "description_tooltip": null,
            "layout": "IPY_MODEL_7f722aef90b84352b16d45f8716df168",
            "placeholder": "​",
            "style": "IPY_MODEL_f356ef11b0734ce6a31ec9f0a01e055a",
            "value": " 100/100 [00:01&lt;00:00, 57.18it/s]"
          }
        },
        "8e2c2ff9e34b49568449aa7eb991d5cb": {
          "model_module": "@jupyter-widgets/controls",
          "model_module_version": "1.5.0",
          "model_name": "DescriptionStyleModel",
          "state": {
            "_model_module": "@jupyter-widgets/controls",
            "_model_module_version": "1.5.0",
            "_model_name": "DescriptionStyleModel",
            "_view_count": null,
            "_view_module": "@jupyter-widgets/base",
            "_view_module_version": "1.2.0",
            "_view_name": "StyleView",
            "description_width": ""
          }
        },
        "a2e9076aca0b4224ba3aa8e4c3239260": {
          "model_module": "@jupyter-widgets/controls",
          "model_module_version": "1.5.0",
          "model_name": "FloatProgressModel",
          "state": {
            "_dom_classes": [],
            "_model_module": "@jupyter-widgets/controls",
            "_model_module_version": "1.5.0",
            "_model_name": "FloatProgressModel",
            "_view_count": null,
            "_view_module": "@jupyter-widgets/controls",
            "_view_module_version": "1.5.0",
            "_view_name": "ProgressView",
            "bar_style": "success",
            "description": "",
            "description_tooltip": null,
            "layout": "IPY_MODEL_6197d697782b4688a278663e287317b1",
            "max": 100,
            "min": 0,
            "orientation": "horizontal",
            "style": "IPY_MODEL_c69d75dc1d1b4fca925f308a79a7e248",
            "value": 100
          }
        },
        "a33f440ec8454a2db5bd26485d71c4db": {
          "model_module": "@jupyter-widgets/controls",
          "model_module_version": "1.5.0",
          "model_name": "HTMLModel",
          "state": {
            "_dom_classes": [],
            "_model_module": "@jupyter-widgets/controls",
            "_model_module_version": "1.5.0",
            "_model_name": "HTMLModel",
            "_view_count": null,
            "_view_module": "@jupyter-widgets/controls",
            "_view_module_version": "1.5.0",
            "_view_name": "HTMLView",
            "description": "",
            "description_tooltip": null,
            "layout": "IPY_MODEL_3f110d0a165e41b0a268f77b2d2a11b7",
            "placeholder": "​",
            "style": "IPY_MODEL_de398ad23ecd44d8b8d69e621401f3b3",
            "value": " 20/20 [00:02&lt;00:00,  7.34it/s]"
          }
        },
        "a806c90e849243999c2fce804e20b449": {
          "model_module": "@jupyter-widgets/controls",
          "model_module_version": "1.5.0",
          "model_name": "DescriptionStyleModel",
          "state": {
            "_model_module": "@jupyter-widgets/controls",
            "_model_module_version": "1.5.0",
            "_model_name": "DescriptionStyleModel",
            "_view_count": null,
            "_view_module": "@jupyter-widgets/base",
            "_view_module_version": "1.2.0",
            "_view_name": "StyleView",
            "description_width": ""
          }
        },
        "b1c06f1940204bdaacf4ad3d843faa2f": {
          "model_module": "@jupyter-widgets/base",
          "model_module_version": "1.2.0",
          "model_name": "LayoutModel",
          "state": {
            "_model_module": "@jupyter-widgets/base",
            "_model_module_version": "1.2.0",
            "_model_name": "LayoutModel",
            "_view_count": null,
            "_view_module": "@jupyter-widgets/base",
            "_view_module_version": "1.2.0",
            "_view_name": "LayoutView",
            "align_content": null,
            "align_items": null,
            "align_self": null,
            "border": null,
            "bottom": null,
            "display": null,
            "flex": null,
            "flex_flow": null,
            "grid_area": null,
            "grid_auto_columns": null,
            "grid_auto_flow": null,
            "grid_auto_rows": null,
            "grid_column": null,
            "grid_gap": null,
            "grid_row": null,
            "grid_template_areas": null,
            "grid_template_columns": null,
            "grid_template_rows": null,
            "height": null,
            "justify_content": null,
            "justify_items": null,
            "left": null,
            "margin": null,
            "max_height": null,
            "max_width": null,
            "min_height": null,
            "min_width": null,
            "object_fit": null,
            "object_position": null,
            "order": null,
            "overflow": null,
            "overflow_x": null,
            "overflow_y": null,
            "padding": null,
            "right": null,
            "top": null,
            "visibility": null,
            "width": null
          }
        },
        "b85cd793196847cda92178f945624016": {
          "model_module": "@jupyter-widgets/controls",
          "model_module_version": "1.5.0",
          "model_name": "DescriptionStyleModel",
          "state": {
            "_model_module": "@jupyter-widgets/controls",
            "_model_module_version": "1.5.0",
            "_model_name": "DescriptionStyleModel",
            "_view_count": null,
            "_view_module": "@jupyter-widgets/base",
            "_view_module_version": "1.2.0",
            "_view_name": "StyleView",
            "description_width": ""
          }
        },
        "bc84ff51ad3c4921b7aca214f0ff5e35": {
          "model_module": "@jupyter-widgets/controls",
          "model_module_version": "1.5.0",
          "model_name": "FloatProgressModel",
          "state": {
            "_dom_classes": [],
            "_model_module": "@jupyter-widgets/controls",
            "_model_module_version": "1.5.0",
            "_model_name": "FloatProgressModel",
            "_view_count": null,
            "_view_module": "@jupyter-widgets/controls",
            "_view_module_version": "1.5.0",
            "_view_name": "ProgressView",
            "bar_style": "success",
            "description": "",
            "description_tooltip": null,
            "layout": "IPY_MODEL_b1c06f1940204bdaacf4ad3d843faa2f",
            "max": 20,
            "min": 0,
            "orientation": "horizontal",
            "style": "IPY_MODEL_74c98c4598bd438cbedbb6c8a492eb15",
            "value": 20
          }
        },
        "c01ec4015f1c4c4491687244977cf5ee": {
          "model_module": "@jupyter-widgets/controls",
          "model_module_version": "1.5.0",
          "model_name": "HBoxModel",
          "state": {
            "_dom_classes": [],
            "_model_module": "@jupyter-widgets/controls",
            "_model_module_version": "1.5.0",
            "_model_name": "HBoxModel",
            "_view_count": null,
            "_view_module": "@jupyter-widgets/controls",
            "_view_module_version": "1.5.0",
            "_view_name": "HBoxView",
            "box_style": "",
            "children": [
              "IPY_MODEL_f07c3a390d8640e586ec729d3c7c86d8",
              "IPY_MODEL_1d3c4fad476c47208bce6625ec783f6d",
              "IPY_MODEL_a33f440ec8454a2db5bd26485d71c4db"
            ],
            "layout": "IPY_MODEL_766927c256e3409ab53c04ca092964e0"
          }
        },
        "c29e6bbacf9c45ecb5465624ee315b70": {
          "model_module": "@jupyter-widgets/controls",
          "model_module_version": "1.5.0",
          "model_name": "HTMLModel",
          "state": {
            "_dom_classes": [],
            "_model_module": "@jupyter-widgets/controls",
            "_model_module_version": "1.5.0",
            "_model_name": "HTMLModel",
            "_view_count": null,
            "_view_module": "@jupyter-widgets/controls",
            "_view_module_version": "1.5.0",
            "_view_name": "HTMLView",
            "description": "",
            "description_tooltip": null,
            "layout": "IPY_MODEL_6d70e647d03f4004bd727673fbbfe5f9",
            "placeholder": "​",
            "style": "IPY_MODEL_c3149d7e47c84328904326dda8527af4",
            "value": "TensorizedQDA (TIME): 100%"
          }
        },
        "c3149d7e47c84328904326dda8527af4": {
          "model_module": "@jupyter-widgets/controls",
          "model_module_version": "1.5.0",
          "model_name": "DescriptionStyleModel",
          "state": {
            "_model_module": "@jupyter-widgets/controls",
            "_model_module_version": "1.5.0",
            "_model_name": "DescriptionStyleModel",
            "_view_count": null,
            "_view_module": "@jupyter-widgets/base",
            "_view_module_version": "1.2.0",
            "_view_name": "StyleView",
            "description_width": ""
          }
        },
        "c69d75dc1d1b4fca925f308a79a7e248": {
          "model_module": "@jupyter-widgets/controls",
          "model_module_version": "1.5.0",
          "model_name": "ProgressStyleModel",
          "state": {
            "_model_module": "@jupyter-widgets/controls",
            "_model_module_version": "1.5.0",
            "_model_name": "ProgressStyleModel",
            "_view_count": null,
            "_view_module": "@jupyter-widgets/base",
            "_view_module_version": "1.2.0",
            "_view_name": "StyleView",
            "bar_color": null,
            "description_width": ""
          }
        },
        "d0c5a2b6b27144268b7fc0bedcc33a86": {
          "model_module": "@jupyter-widgets/controls",
          "model_module_version": "1.5.0",
          "model_name": "HBoxModel",
          "state": {
            "_dom_classes": [],
            "_model_module": "@jupyter-widgets/controls",
            "_model_module_version": "1.5.0",
            "_model_name": "HBoxModel",
            "_view_count": null,
            "_view_module": "@jupyter-widgets/controls",
            "_view_module_version": "1.5.0",
            "_view_name": "HBoxView",
            "box_style": "",
            "children": [
              "IPY_MODEL_684de1d1bee34b309988bc0f40b0d5e2",
              "IPY_MODEL_3a99fe4554914c12ad9146aea349708c",
              "IPY_MODEL_1da7d96834cc4bc8a3cd5595b3446b74"
            ],
            "layout": "IPY_MODEL_d21ef446c090431480050c3352e2634e"
          }
        },
        "d21ef446c090431480050c3352e2634e": {
          "model_module": "@jupyter-widgets/base",
          "model_module_version": "1.2.0",
          "model_name": "LayoutModel",
          "state": {
            "_model_module": "@jupyter-widgets/base",
            "_model_module_version": "1.2.0",
            "_model_name": "LayoutModel",
            "_view_count": null,
            "_view_module": "@jupyter-widgets/base",
            "_view_module_version": "1.2.0",
            "_view_name": "LayoutView",
            "align_content": null,
            "align_items": null,
            "align_self": null,
            "border": null,
            "bottom": null,
            "display": null,
            "flex": null,
            "flex_flow": null,
            "grid_area": null,
            "grid_auto_columns": null,
            "grid_auto_flow": null,
            "grid_auto_rows": null,
            "grid_column": null,
            "grid_gap": null,
            "grid_row": null,
            "grid_template_areas": null,
            "grid_template_columns": null,
            "grid_template_rows": null,
            "height": null,
            "justify_content": null,
            "justify_items": null,
            "left": null,
            "margin": null,
            "max_height": null,
            "max_width": null,
            "min_height": null,
            "min_width": null,
            "object_fit": null,
            "object_position": null,
            "order": null,
            "overflow": null,
            "overflow_x": null,
            "overflow_y": null,
            "padding": null,
            "right": null,
            "top": null,
            "visibility": null,
            "width": null
          }
        },
        "d3fe060bd70848b7af130d99bbff6839": {
          "model_module": "@jupyter-widgets/base",
          "model_module_version": "1.2.0",
          "model_name": "LayoutModel",
          "state": {
            "_model_module": "@jupyter-widgets/base",
            "_model_module_version": "1.2.0",
            "_model_name": "LayoutModel",
            "_view_count": null,
            "_view_module": "@jupyter-widgets/base",
            "_view_module_version": "1.2.0",
            "_view_name": "LayoutView",
            "align_content": null,
            "align_items": null,
            "align_self": null,
            "border": null,
            "bottom": null,
            "display": null,
            "flex": null,
            "flex_flow": null,
            "grid_area": null,
            "grid_auto_columns": null,
            "grid_auto_flow": null,
            "grid_auto_rows": null,
            "grid_column": null,
            "grid_gap": null,
            "grid_row": null,
            "grid_template_areas": null,
            "grid_template_columns": null,
            "grid_template_rows": null,
            "height": null,
            "justify_content": null,
            "justify_items": null,
            "left": null,
            "margin": null,
            "max_height": null,
            "max_width": null,
            "min_height": null,
            "min_width": null,
            "object_fit": null,
            "object_position": null,
            "order": null,
            "overflow": null,
            "overflow_x": null,
            "overflow_y": null,
            "padding": null,
            "right": null,
            "top": null,
            "visibility": null,
            "width": null
          }
        },
        "de1229493a5749c799bcece8c07506f5": {
          "model_module": "@jupyter-widgets/controls",
          "model_module_version": "1.5.0",
          "model_name": "HBoxModel",
          "state": {
            "_dom_classes": [],
            "_model_module": "@jupyter-widgets/controls",
            "_model_module_version": "1.5.0",
            "_model_name": "HBoxModel",
            "_view_count": null,
            "_view_module": "@jupyter-widgets/controls",
            "_view_module_version": "1.5.0",
            "_view_name": "HBoxView",
            "box_style": "",
            "children": [
              "IPY_MODEL_c29e6bbacf9c45ecb5465624ee315b70",
              "IPY_MODEL_a2e9076aca0b4224ba3aa8e4c3239260",
              "IPY_MODEL_8df46d45d37e45e889dbec220fa360bd"
            ],
            "layout": "IPY_MODEL_514491be27294e0cb5b70b6e25ee3355"
          }
        },
        "de398ad23ecd44d8b8d69e621401f3b3": {
          "model_module": "@jupyter-widgets/controls",
          "model_module_version": "1.5.0",
          "model_name": "DescriptionStyleModel",
          "state": {
            "_model_module": "@jupyter-widgets/controls",
            "_model_module_version": "1.5.0",
            "_model_name": "DescriptionStyleModel",
            "_view_count": null,
            "_view_module": "@jupyter-widgets/base",
            "_view_module_version": "1.2.0",
            "_view_name": "StyleView",
            "description_width": ""
          }
        },
        "de9f39ade1b04c22921589c687b25518": {
          "model_module": "@jupyter-widgets/base",
          "model_module_version": "1.2.0",
          "model_name": "LayoutModel",
          "state": {
            "_model_module": "@jupyter-widgets/base",
            "_model_module_version": "1.2.0",
            "_model_name": "LayoutModel",
            "_view_count": null,
            "_view_module": "@jupyter-widgets/base",
            "_view_module_version": "1.2.0",
            "_view_name": "LayoutView",
            "align_content": null,
            "align_items": null,
            "align_self": null,
            "border": null,
            "bottom": null,
            "display": null,
            "flex": null,
            "flex_flow": null,
            "grid_area": null,
            "grid_auto_columns": null,
            "grid_auto_flow": null,
            "grid_auto_rows": null,
            "grid_column": null,
            "grid_gap": null,
            "grid_row": null,
            "grid_template_areas": null,
            "grid_template_columns": null,
            "grid_template_rows": null,
            "height": null,
            "justify_content": null,
            "justify_items": null,
            "left": null,
            "margin": null,
            "max_height": null,
            "max_width": null,
            "min_height": null,
            "min_width": null,
            "object_fit": null,
            "object_position": null,
            "order": null,
            "overflow": null,
            "overflow_x": null,
            "overflow_y": null,
            "padding": null,
            "right": null,
            "top": null,
            "visibility": null,
            "width": null
          }
        },
        "f07c3a390d8640e586ec729d3c7c86d8": {
          "model_module": "@jupyter-widgets/controls",
          "model_module_version": "1.5.0",
          "model_name": "HTMLModel",
          "state": {
            "_dom_classes": [],
            "_model_module": "@jupyter-widgets/controls",
            "_model_module_version": "1.5.0",
            "_model_name": "HTMLModel",
            "_view_count": null,
            "_view_module": "@jupyter-widgets/controls",
            "_view_module_version": "1.5.0",
            "_view_name": "HTMLView",
            "description": "",
            "description_tooltip": null,
            "layout": "IPY_MODEL_54a06911978746dd9e81bb1526bd741c",
            "placeholder": "​",
            "style": "IPY_MODEL_a806c90e849243999c2fce804e20b449",
            "value": "QDA (MEM): 100%"
          }
        },
        "f356ef11b0734ce6a31ec9f0a01e055a": {
          "model_module": "@jupyter-widgets/controls",
          "model_module_version": "1.5.0",
          "model_name": "DescriptionStyleModel",
          "state": {
            "_model_module": "@jupyter-widgets/controls",
            "_model_module_version": "1.5.0",
            "_model_name": "DescriptionStyleModel",
            "_view_count": null,
            "_view_module": "@jupyter-widgets/base",
            "_view_module_version": "1.2.0",
            "_view_name": "StyleView",
            "description_width": ""
          }
        },
        "f8508a02a66547b3a501694a1b8633ab": {
          "model_module": "@jupyter-widgets/controls",
          "model_module_version": "1.5.0",
          "model_name": "HTMLModel",
          "state": {
            "_dom_classes": [],
            "_model_module": "@jupyter-widgets/controls",
            "_model_module_version": "1.5.0",
            "_model_name": "HTMLModel",
            "_view_count": null,
            "_view_module": "@jupyter-widgets/controls",
            "_view_module_version": "1.5.0",
            "_view_name": "HTMLView",
            "description": "",
            "description_tooltip": null,
            "layout": "IPY_MODEL_373a7a1549b44c2696083efddc88fafe",
            "placeholder": "​",
            "style": "IPY_MODEL_8e2c2ff9e34b49568449aa7eb991d5cb",
            "value": " 20/20 [00:00&lt;00:00, 24.64it/s]"
          }
        }
      }
    }
  },
  "nbformat": 4,
  "nbformat_minor": 0
}
