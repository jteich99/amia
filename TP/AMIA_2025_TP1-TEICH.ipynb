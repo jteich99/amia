{
  "cells": [
    {
      "cell_type": "markdown",
      "metadata": {
        "id": "YoTVCUtTQL6c"
      },
      "source": [
        "# TP 1: LDA/QDA y optimización matemática de modelos"
      ]
    },
    {
      "cell_type": "markdown",
      "metadata": {
        "id": "4kL_4etdeizy"
      },
      "source": [
        "# Intro teórica\n",
        "\n",
        "## Definición: Clasificador Bayesiano\n",
        "\n",
        "Sean $k$ poblaciones, $x \\in \\mathbb{R}^p$ puede pertenecer a cualquiera $g \\in \\mathcal{G}$ de ellas. Bajo un esquema bayesiano, se define entonces $\\pi_j \\doteq P(G = j)$ la probabilidad *a priori* de que $X$ pertenezca a la clase *j*, y se **asume conocida** la distribución condicional de cada observable dado su clase $f_j \\doteq f_{X|G=j}$.\n",
        "\n",
        "De esta manera dicha probabilidad *a posteriori* resulta\n",
        "$$\n",
        "P(G|_{X=x} = j) = \\frac{f_{X|G=j}(x) \\cdot p_G(j)}{f_X(x)} \\propto f_j(x) \\cdot \\pi_j\n",
        "$$\n",
        "\n",
        "La regla de decisión de Bayes es entonces\n",
        "$$\n",
        "H(x) \\doteq \\arg \\max_{g \\in \\mathcal{G}} \\{ P(G|_{X=x} = j) \\} = \\arg \\max_{g \\in \\mathcal{G}} \\{ f_j(x) \\cdot \\pi_j \\}\n",
        "$$\n",
        "\n",
        "es decir, se predice a $x$ como perteneciente a la población $j$ cuya probabilidad a posteriori es máxima.\n",
        "\n",
        "*Ojo, a no desesperar! $\\pi_j$ no es otra cosa que una constante prefijada, y $f_j$ es, en su esencia, un campo escalar de $x$ a simplemente evaluar.*\n",
        "\n",
        "## Distribución condicional\n",
        "\n",
        "Para los clasificadores de discriminante cuadrático y lineal (QDA/LDA) se asume que $X|_{G=j} \\sim \\mathcal{N}_p(\\mu_j, \\Sigma_j)$, es decir, se asume que cada población sigue una distribución normal.\n",
        "\n",
        "Por definición, se tiene entonces que para una clase $j$:\n",
        "$$\n",
        "f_j(x) = \\frac{1}{(2 \\pi)^\\frac{p}{2} \\cdot |\\Sigma_j|^\\frac{1}{2}} e^{- \\frac{1}{2}(x-\\mu_j)^T \\Sigma_j^{-1} (x- \\mu_j)}\n",
        "$$\n",
        "\n",
        "Aplicando logaritmo (que al ser una función estrictamente creciente no afecta el cálculo de máximos/mínimos), queda algo mucho más práctico de trabajar:\n",
        "\n",
        "$$\n",
        "\\log{f_j(x)} = -\\frac{1}{2}\\log |\\Sigma_j| - \\frac{1}{2} (x-\\mu_j)^T \\Sigma_j^{-1} (x- \\mu_j) + C\n",
        "$$\n",
        "\n",
        "Observar que en este caso $C=-\\frac{p}{2} \\log(2\\pi)$, pero no se tiene en cuenta ya que al tener una constante aditiva en todas las clases, no afecta al cálculo del máximo.\n",
        "\n",
        "## LDA\n",
        "\n",
        "En el caso de LDA se hace una suposición extra, que es $X|_{G=j} \\sim \\mathcal{N}_p(\\mu_j, \\Sigma)$, es decir que las poblaciones no sólo siguen una distribución normal sino que son de igual matriz de covarianzas. Reemplazando arriba se obtiene entonces:\n",
        "\n",
        "$$\n",
        "\\log{f_j(x)} =  -\\frac{1}{2}\\log |\\Sigma| - \\frac{1}{2} (x-\\mu_j)^T \\Sigma^{-1} (x- \\mu_j) + C\n",
        "$$\n",
        "\n",
        "Ahora, como $-\\frac{1}{2}\\log |\\Sigma|$ es común a todas las clases se puede incorporar a la constante aditiva y, distribuyendo y reagrupando términos sobre $(x-\\mu_j)^T \\Sigma^{-1} (x- \\mu_j)$ se obtiene finalmente:\n",
        "\n",
        "$$\n",
        "\\log{f_j(x)} =  \\mu_j^T \\Sigma^{-1} (x- \\frac{1}{2} \\mu_j) + C'\n",
        "$$\n",
        "\n",
        "## Entrenamiento/Ajuste\n",
        "\n",
        "Obsérvese que para ambos modelos, ajustarlos a los datos implica estimar los parámetros $(\\mu_j, \\Sigma_j) \\; \\forall j = 1, \\dots, k$ en el caso de QDA, y $(\\mu_j, \\Sigma)$ para LDA.\n",
        "\n",
        "Estos parámetros se estiman por máxima verosimilitud, de manera que los estimadores resultan:\n",
        "\n",
        "* $\\hat{\\mu}_j = \\bar{x}_j$ el promedio de los $x$ de la clase *j*\n",
        "* $\\hat{\\Sigma}_j = s^2_j$ la matriz de covarianzas estimada para cada clase *j*\n",
        "* $\\hat{\\pi}_j = f_{R_j} = \\frac{n_j}{n}$ la frecuencia relativa de la clase *j* en la muestra\n",
        "* $\\hat{\\Sigma} = \\frac{1}{n} \\sum_{j=1}^k n_j \\cdot s^2_j$ el promedio ponderado (por frecs. relativas) de las matrices de covarianzas de todas las clases. *Observar que se utiliza el estimador de MV y no el insesgado*\n",
        "\n",
        "Es importante notar que si bien todos los $\\mu, \\Sigma$ deben ser estimados, la distribución *a priori* puede no inferirse de los datos sino asumirse previamente, utilizándose como entrada del modelo.\n",
        "\n",
        "## Predicción\n",
        "\n",
        "Para estos modelos, al igual que para cualquier clasificador Bayesiano del tipo antes visto, la estimación de la clase es por método *plug-in* sobre la regla de decisión $H(x)$, es decir devolver la clase que maximiza $\\hat{f}_j(x) \\cdot \\hat{\\pi}_j$, o lo que es lo mismo $\\log\\hat{f}_j(x) + \\log\\hat{\\pi}_j$."
      ]
    },
    {
      "cell_type": "markdown",
      "metadata": {
        "id": "IV8OF-SlPHbD"
      },
      "source": [
        "# Código provisto\n",
        "\n",
        "Con el fin de no retrasar al alumno con cuestiones estructurales y/o secundarias al tema que se pretende tratar, se provee una base de código que **no es obligatoria de usar** pero se asume que resulta resulta beneficiosa."
      ]
    },
    {
      "cell_type": "code",
      "execution_count": 1,
      "metadata": {
        "id": "PrDdJRypNB-y"
      },
      "outputs": [],
      "source": [
        "import numpy as np\n",
        "import pandas as pd\n",
        "import numpy.linalg as LA\n",
        "from scipy.linalg import cholesky, solve_triangular\n",
        "from scipy.linalg.lapack import dtrtri"
      ]
    },
    {
      "cell_type": "markdown",
      "metadata": {
        "id": "5cPL33WIN2HA"
      },
      "source": [
        "## Base code"
      ]
    },
    {
      "cell_type": "code",
      "execution_count": 2,
      "metadata": {
        "id": "ewg5e0hsNTQC"
      },
      "outputs": [],
      "source": [
        "class BaseBayesianClassifier:\n",
        "  def __init__(self):\n",
        "    pass\n",
        "\n",
        "  def _estimate_a_priori(self, y):\n",
        "    a_priori = np.bincount(y.flatten().astype(int)) / y.size\n",
        "    # Q3: para que sirve bincount?\n",
        "    # Rta: cuenta la cantidad de ocurrencias de cada valor de int en un array de ints >= 0. Devuelve un array con cantidad de ocurrencias, donde la posición es el int\n",
        "    # Hay que flatten para llevarlo a un array 1D y desps hacer int para que bincount pueda usarlo\n",
        "    # Lo que termina calculando es una probabilidad a priori considerando una distribución uniforme\n",
        "    # Si no se tiene información previa de \"a priori\", entonces se defaultea a esto que es una suposición no informada razonable\n",
        "    return np.log(a_priori)\n",
        "\n",
        "  def _fit_params(self, X, y):\n",
        "    # estimate all needed parameters for given model\n",
        "    raise NotImplementedError()\n",
        "\n",
        "  def _predict_log_conditional(self, x, class_idx):\n",
        "    # predict the log(P(x|G=class_idx)), the log of the conditional probability of x given the class\n",
        "    # this should depend on the model used\n",
        "    raise NotImplementedError()\n",
        "\n",
        "  def fit(self, X, y, a_priori=None):\n",
        "    # if it's needed, estimate a priori probabilities\n",
        "    # JIT: si no se tiene -> defaultear a distribución uniforme con _estimate_a_priori\n",
        "    self.log_a_priori = self._estimate_a_priori(y) if a_priori is None else np.log(a_priori)\n",
        "\n",
        "    # now that everything else is in place, estimate all needed parameters for given model\n",
        "    self._fit_params(X, y)\n",
        "    # Q4: por que el _fit_params va al final? no se puede mover a, por ejemplo, antes de la priori?\n",
        "    # Rta: el a priori se regulariza en logs luego de calcular la probabilidad a priori de cada valor de y\n",
        "    # Luego la predicción va a utilizar esta transformación/regularización de los datos\n",
        "    # Además sin una probabilidad a priori no podemos calcular a posteriori\n",
        "\n",
        "  def predict(self, X):\n",
        "    # this is actually an individual prediction encased in a for-loop\n",
        "    m_obs = X.shape[1]\n",
        "    y_hat = np.empty(m_obs, dtype=int)\n",
        "\n",
        "    for i in range(m_obs):\n",
        "      y_hat[i] = self._predict_one(X[:,i].reshape(-1,1))\n",
        "\n",
        "    # return prediction as a row vector (matching y)\n",
        "    # print(y_hat)\n",
        "    return y_hat.reshape(1,-1)\n",
        "\n",
        "  def _predict_one(self, x):\n",
        "    # calculate all log posteriori probabilities (actually, +C)\n",
        "    log_posteriori = [ log_a_priori_i + self._predict_log_conditional(x, idx) for idx, log_a_priori_i\n",
        "                  in enumerate(self.log_a_priori) ]\n",
        "\n",
        "    # return the class that has maximum a posteriori probability\n",
        "    return np.argmax(log_posteriori)"
      ]
    },
    {
      "cell_type": "code",
      "execution_count": 3,
      "metadata": {
        "id": "Rz2FC7A5NUpN"
      },
      "outputs": [],
      "source": [
        "class QDA(BaseBayesianClassifier):\n",
        "\n",
        "  def _fit_params(self, X, y):\n",
        "    # estimate each covariance matrix\n",
        "    self.inv_covs = [LA.inv(np.cov(X[:,y.flatten()==idx], bias=True))\n",
        "                      for idx in range(len(self.log_a_priori))]\n",
        "    # Notas JIT\n",
        "    # inv_convs sería la matriz Sigma en la fórmula de log f_j.\n",
        "    # la covarianza se calcula sobre un array 1D o 2D, donde las filas son una variable y las columnas las observaciones\n",
        "    # se tiene una matriz de covarianza por clase j, que son las que se iniciaron en el a priori\n",
        "\n",
        "    # Q5: por que hace falta el flatten y no se puede directamente X[:,y==idx]?\n",
        "    # Rta: el flatten hace que sea un array 1D. Con el ==idx se setean a True los que corresponden a ese idx de log_a_priori\n",
        "    # Q6: por que se usa bias=True en vez del default bias=False?\n",
        "    # Rta: bias=True implica normalizar por N en vez de (N-1), siendo N la cantidad de observaciones dadas\n",
        "    # Según entendí, es debido a que la covarianza de las ocurrencias tiene N en el denominador, y la covarianza de la variable aleatoria tiene (N-1) en el denominador\n",
        "    # Como acá estamos partiendo de datos observados, corresponde usar bias=True y dividir por N\n",
        "    self.means = [X[:,y.flatten()==idx].mean(axis=1, keepdims=True)\n",
        "                  for idx in range(len(self.log_a_priori))]\n",
        "    # Q7: que hace axis=1? por que no axis=0?\n",
        "    # axis=1 hace que se hagan las medias sobre las filas. En este caso queremos eso porque es la media de cada label\n",
        "\n",
        "  def _predict_log_conditional(self, x, class_idx):\n",
        "    # predict the log(P(x|G=class_idx)), the log of the conditional probability of x given the class\n",
        "    # this should depend on the model used\n",
        "    inv_cov = self.inv_covs[class_idx]\n",
        "    unbiased_x =  x - self.means[class_idx]\n",
        "    return 0.5*np.log(LA.det(inv_cov)) -0.5 * unbiased_x.T @ inv_cov @ unbiased_x"
      ]
    },
    {
      "cell_type": "code",
      "execution_count": 4,
      "metadata": {
        "id": "9lZbID0WNV1Y"
      },
      "outputs": [],
      "source": [
        "class TensorizedQDA(QDA):\n",
        "\n",
        "    def _fit_params(self, X, y):\n",
        "        # ask plain QDA to fit params\n",
        "        super()._fit_params(X,y)\n",
        "\n",
        "        # stack onto new dimension\n",
        "        # JIT: junta las distintas matrices inversas de covarianza y de media en una única matriz\n",
        "        # por default lo hace poniendo una abajo de la otra\n",
        "        # quedaría :\n",
        "        # [\n",
        "        #     inv_convs[0],\n",
        "        #     inv_convs[1],\n",
        "        #     ...\n",
        "        #     inv_convs[n],\n",
        "        # ]\n",
        "        # las inv_covs son de nxn, por lo que se stackean en una 3ra dimensión\n",
        "        self.tensor_inv_cov = np.stack(self.inv_covs)\n",
        "        self.tensor_means = np.stack(self.means)\n",
        "        # print(self.tensor_means.shape)\n",
        "\n",
        "    def _predict_log_conditionals(self,x):\n",
        "        # unbiased_x = [x - self.tensor_means[i] for i ...]\n",
        "        # es un array de matrices columna: [[[dato],[dato],...],...]\n",
        "        # print(f\"x[0]={x[0]}\")\n",
        "        # print(f\"tensor_means[0]={self.tensor_means[0]}\")\n",
        "        # print(f\"x.shape={x.shape}\")\n",
        "        # print(f\"tensor_means.shape={self.tensor_means.shape}\")\n",
        "        # print(x.flatten())\n",
        "        unbiased_x = x - self.tensor_means\n",
        "        # print(unbiased_x)\n",
        "        # print(f\"unbiased_x.shape={unbiased_x.shape}\")\n",
        "        # JIT: la traspuesta con args 0,2,1 dice que :\n",
        "        #   el eje 0 pasa al 0\n",
        "        #   el eje 2 pasa a ser el 1\n",
        "        #   el eje 1 pasa a ser el 2\n",
        "        # es decir, se transponen las matrices 2D que componen el tensor, pero no se modifican la dimension \"tensorial\"\n",
        "        # unbiased_x pasa a ser una matriz fila: [[[datos]],[[datos]],...]\n",
        "        inner_prod = unbiased_x.transpose(0,2,1) @ self.tensor_inv_cov @ unbiased_x\n",
        "        # print(inner_prod.flatten())\n",
        "\n",
        "        # JIT: cómo hace para calcular el determinante de un tensor con 3 dimensiones?\n",
        "        # el determinante de un tensor de dimensiones [m,n,n] es un array de len m, donde se tiene el determinante de la matriz en cada indice m \n",
        "        # -> se tiene un vector con el determinante de cada matriz inversa de covarianza\n",
        "        # JIT: se le hace flatten al inner_prod xq es un 1D array con el valor del producto interno para cada j clase\n",
        "        # print(0.5*np.log(LA.det(self.tensor_inv_cov)) - 0.5 * inner_prod.flatten())\n",
        "        return 0.5*np.log(LA.det(self.tensor_inv_cov)) - 0.5 * inner_prod.flatten()\n",
        "\n",
        "    def _predict_one(self, x):\n",
        "        # return the class that has maximum a posteriori probability\n",
        "        return np.argmax(self.log_a_priori + self._predict_log_conditionals(x))"
      ]
    },
    {
      "cell_type": "code",
      "execution_count": 5,
      "metadata": {
        "id": "i-WGGi_sQ-pT"
      },
      "outputs": [],
      "source": [
        "class QDA_Chol1(BaseBayesianClassifier):\n",
        "  def _fit_params(self, X, y):\n",
        "    # Se calcula la inversa de L, que obtenemos de la descomp de Cholesky\n",
        "    self.L_invs = [\n",
        "        LA.inv(cholesky(np.cov(X[:,y.flatten()==idx], bias=True), lower=True))\n",
        "        for idx in range(len(self.log_a_priori))\n",
        "    ]\n",
        "\n",
        "    self.means = [X[:,y.flatten()==idx].mean(axis=1, keepdims=True)\n",
        "                  for idx in range(len(self.log_a_priori))]\n",
        "\n",
        "  def _predict_log_conditional(self, x, class_idx):\n",
        "    L_inv = self.L_invs[class_idx]\n",
        "    unbiased_x =  x - self.means[class_idx]\n",
        "\n",
        "    y = L_inv @ unbiased_x\n",
        "\n",
        "    return np.log(L_inv.diagonal().prod()) -0.5 * (y**2).sum()"
      ]
    },
    {
      "cell_type": "code",
      "execution_count": 6,
      "metadata": {
        "id": "i5DNLtYbQsHi"
      },
      "outputs": [],
      "source": [
        "class QDA_Chol2(BaseBayesianClassifier):\n",
        "  def _fit_params(self, X, y):\n",
        "    # En ves de obtener la inversa, calculo la descomposición de Cholesky\n",
        "    self.Ls = [\n",
        "        cholesky(np.cov(X[:,y.flatten()==idx], bias=True), lower=True)\n",
        "        for idx in range(len(self.log_a_priori))\n",
        "    ]\n",
        "\n",
        "    self.means = [X[:,y.flatten()==idx].mean(axis=1, keepdims=True)\n",
        "                  for idx in range(len(self.log_a_priori))]\n",
        "\n",
        "  def _predict_log_conditional(self, x, class_idx):\n",
        "    L = self.Ls[class_idx]\n",
        "    unbiased_x =  x - self.means[class_idx]\n",
        "\n",
        "    y = solve_triangular(L, unbiased_x, lower=True)\n",
        "\n",
        "    return -np.log(L.diagonal().prod()) -0.5 * (y**2).sum()"
      ]
    },
    {
      "cell_type": "code",
      "execution_count": 7,
      "metadata": {
        "id": "v0dRvYVQRCgc"
      },
      "outputs": [],
      "source": [
        "class QDA_Chol3(BaseBayesianClassifier):\n",
        "  def _fit_params(self, X, y):\n",
        "    self.L_invs = [\n",
        "        dtrtri(cholesky(np.cov(X[:,y.flatten()==idx], bias=True), lower=True), lower=1)[0]\n",
        "        for idx in range(len(self.log_a_priori))\n",
        "    ]\n",
        "\n",
        "    self.means = [X[:,y.flatten()==idx].mean(axis=1, keepdims=True)\n",
        "                  for idx in range(len(self.log_a_priori))]\n",
        "\n",
        "  def _predict_log_conditional(self, x, class_idx):\n",
        "    L_inv = self.L_invs[class_idx]\n",
        "    unbiased_x =  x - self.means[class_idx]\n",
        "\n",
        "    y = L_inv @ unbiased_x\n",
        "\n",
        "    return np.log(L_inv.diagonal().prod()) -0.5 * (y**2).sum()"
      ]
    },
    {
      "cell_type": "markdown",
      "metadata": {
        "id": "JCtrHQDuN6R4"
      },
      "source": [
        "## Datasets\n",
        "\n",
        "Observar que se proveen **4 datasets diferentes**, el código de ejemplo usa uno solo pero eso no significa que ustedes se limiten al mismo. También pueden usar otros datasets de su elección."
      ]
    },
    {
      "cell_type": "code",
      "execution_count": 8,
      "metadata": {
        "id": "rasInBMFNzUH"
      },
      "outputs": [],
      "source": [
        "from sklearn.datasets import load_iris, fetch_openml, load_wine\n",
        "from sklearn.preprocessing import LabelEncoder\n",
        "from sklearn.model_selection import train_test_split\n",
        "\n",
        "def get_iris_dataset():\n",
        "  data = load_iris()\n",
        "  X_full = data.data\n",
        "  y_full = np.array([data.target_names[y] for y in data.target.reshape(-1,1)])\n",
        "  return X_full, y_full\n",
        "\n",
        "def get_penguins_dataset():\n",
        "    # get data\n",
        "    df, tgt = fetch_openml(name=\"penguins\", return_X_y=True, as_frame=True, parser='auto')\n",
        "\n",
        "    # drop non-numeric columns\n",
        "    df.drop(columns=[\"island\",\"sex\"], inplace=True)\n",
        "\n",
        "    # drop rows with missing values\n",
        "    mask = df.isna().sum(axis=1) == 0\n",
        "    df = df[mask]\n",
        "    tgt = tgt[mask]\n",
        "\n",
        "    return df.values, tgt.to_numpy().reshape(-1,1)\n",
        "\n",
        "def get_wine_dataset():\n",
        "    # get data\n",
        "    data = load_wine()\n",
        "    X_full = data.data\n",
        "    y_full = np.array([data.target_names[y] for y in data.target.reshape(-1,1)])\n",
        "    return X_full, y_full\n",
        "\n",
        "def get_letters_dataset():\n",
        "    # get data\n",
        "    letter = fetch_openml('letter', version=1, as_frame=False)\n",
        "    return letter.data, letter.target.reshape(-1,1)\n",
        "\n",
        "def label_encode(y_full):\n",
        "    return LabelEncoder().fit_transform(y_full.flatten()).reshape(y_full.shape)\n",
        "\n",
        "def split_transpose(X, y, test_size, random_state):\n",
        "    # X_train, X_test, y_train, y_test but all transposed\n",
        "    return [elem.T for elem in train_test_split(X, y, test_size=test_size, random_state=random_state)]"
      ]
    },
    {
      "cell_type": "markdown",
      "metadata": {
        "id": "ybPkuBdDN42P"
      },
      "source": [
        "## Benchmarking\n",
        "\n",
        "Nota: esta clase fue creada bastante rápido y no pretende ser una plataforma súper confiable sobre la que basarse, sino más bien una herramienta simple con la que poder medir varios runs y agregar la información.\n",
        "\n",
        "En forma rápida, `warmup` es la cantidad de runs para warmup, `mem_runs` es la cantidad de runs en las que se mide el pico de uso de RAM y `n_runs` es la cantidad de runs en las que se miden tiempos.\n",
        "\n",
        "La razón por la que se separan es que medir memoria hace ~2.5x más lento cada run, pero al mismo tiempo se estabiliza mucho más rápido.\n",
        "\n",
        "**Importante:** tener en cuenta que los modelos que predicen en batch (usan `predict` directamente) deberían consumir, como mínimo, $n$ veces la memoria de los que predicen por observación."
      ]
    },
    {
      "cell_type": "code",
      "execution_count": 173,
      "metadata": {
        "id": "nO4Py3CeNpKu"
      },
      "outputs": [],
      "source": [
        "import time\n",
        "from tqdm.notebook import tqdm\n",
        "from numpy.random import RandomState\n",
        "import tracemalloc\n",
        "\n",
        "RNG_SEED = 6553\n",
        "\n",
        "class Benchmark:\n",
        "    def __init__(self, X, y, n_runs=1000, warmup=100, mem_runs=100, test_sz=0.3, rng_seed=RNG_SEED, same_splits=True):\n",
        "        self.X = X\n",
        "        self.y = y\n",
        "        self.n = n_runs\n",
        "        self.warmup = warmup\n",
        "        self.mem_runs = mem_runs\n",
        "        self.test_sz = test_sz\n",
        "        self.det = same_splits\n",
        "        if self.det:\n",
        "            self.rng_seed = rng_seed\n",
        "        else:\n",
        "            self.rng = RandomState(rng_seed)\n",
        "\n",
        "        self.data = {} \n",
        "\n",
        "        print(\"Benching params:\")\n",
        "        print(\"Total runs:\",self.warmup+self.mem_runs+self.n)\n",
        "        print(\"Warmup runs:\",self.warmup)\n",
        "        print(\"Peak Memory usage runs:\", self.mem_runs)\n",
        "        print(\"Running time runs:\", self.n)\n",
        "        approx_test_sz = int(self.y.size * self.test_sz)\n",
        "        print(\"Train size rows (approx):\",self.y.size - approx_test_sz)\n",
        "        print(\"Test size rows (approx):\",approx_test_sz)\n",
        "        print(\"Test size fraction:\",self.test_sz)\n",
        "\n",
        "    def bench(self, model_class, **kwargs):\n",
        "        name = model_class.__name__\n",
        "        time_data = np.empty((self.n, 3), dtype=float)  # train_time, test_time, accuracy\n",
        "        mem_data = np.empty((self.mem_runs, 2), dtype=float)  # train_peak_mem, test_peak_mem\n",
        "        rng = RandomState(self.rng_seed) if self.det else self.rng\n",
        "\n",
        "\n",
        "        for i in range(self.warmup):\n",
        "            # Instantiate model with error check for unsupported parameters\n",
        "            model = model_class(**kwargs)\n",
        "\n",
        "            # Generate current train-test split\n",
        "            X_train, X_test, y_train, y_test = split_transpose(\n",
        "                self.X, self.y,\n",
        "                test_size=self.test_sz,\n",
        "                random_state=rng\n",
        "            )\n",
        "            # Run training and prediction (timing or memory measurement not recorded)\n",
        "            model.fit(X_train, y_train)\n",
        "            model.predict(X_test)\n",
        "\n",
        "        for i in tqdm(range(self.mem_runs), total=self.mem_runs, desc=f\"{name} (MEM)\"):\n",
        "\n",
        "            model = model_class(**kwargs)\n",
        "\n",
        "            X_train, X_test, y_train, y_test = split_transpose(\n",
        "                self.X, self.y,\n",
        "                test_size=self.test_sz,\n",
        "                random_state=rng\n",
        "            )\n",
        "\n",
        "            tracemalloc.start()\n",
        "\n",
        "            t1 = time.perf_counter()\n",
        "            model.fit(X_train, y_train)\n",
        "            t2 = time.perf_counter()\n",
        "\n",
        "            _, train_peak = tracemalloc.get_traced_memory()\n",
        "            tracemalloc.reset_peak()\n",
        "\n",
        "            model.predict(X_test)\n",
        "            t3 = time.perf_counter()\n",
        "            _, test_peak = tracemalloc.get_traced_memory()\n",
        "            tracemalloc.stop()\n",
        "\n",
        "            mem_data[i,] = (\n",
        "                train_peak / (1024 * 1024),\n",
        "                test_peak / (1024 * 1024)\n",
        "            )\n",
        "\n",
        "        for i in tqdm(range(self.n), total=self.n, desc=f\"{name} (TIME)\"):\n",
        "            model = model_class(**kwargs)\n",
        "\n",
        "            X_train, X_test, y_train, y_test = split_transpose(\n",
        "                self.X, self.y,\n",
        "                test_size=self.test_sz,\n",
        "                random_state=rng\n",
        "            )\n",
        "\n",
        "            t1 = time.perf_counter()\n",
        "            model.fit(X_train, y_train)\n",
        "            t2 = time.perf_counter()\n",
        "            preds = model.predict(X_test)\n",
        "            t3 = time.perf_counter()\n",
        "\n",
        "            time_data[i,] = (\n",
        "                (t2 - t1) * 1000,\n",
        "                (t3 - t2) * 1000,\n",
        "                (y_test.flatten() == preds.flatten()).mean()\n",
        "            )\n",
        "\n",
        "        self.data[name] = (time_data, mem_data)\n",
        "\n",
        "    def summary(self, baseline=None):\n",
        "        aux = []\n",
        "        for name, (time_data, mem_data) in self.data.items():\n",
        "            result = {\n",
        "                'model': name,\n",
        "                'train_median_ms': np.median(time_data[:, 0]),\n",
        "                'train_std_ms': time_data[:, 0].std(),\n",
        "                'test_median_ms': np.median(time_data[:, 1]),\n",
        "                'test_std_ms': time_data[:, 1].std(),\n",
        "                'mean_accuracy': time_data[:, 2].mean(),\n",
        "                'train_mem_median_mb': np.median(mem_data[:, 0]),\n",
        "                'train_mem_std_mb': mem_data[:, 0].std(),\n",
        "                'test_mem_median_mb': np.median(mem_data[:, 1]),\n",
        "                'test_mem_std_mb': mem_data[:, 1].std()\n",
        "            }\n",
        "            aux.append(result)\n",
        "        df = pd.DataFrame(aux).set_index('model')\n",
        "\n",
        "        if baseline is not None and baseline in self.data:\n",
        "            df['train_speedup'] = df.loc[baseline, 'train_median_ms'] / df['train_median_ms']\n",
        "            df['test_speedup'] = df.loc[baseline, 'test_median_ms'] / df['test_median_ms']\n",
        "            df['train_mem_reduction'] = df.loc[baseline, 'train_mem_median_mb'] / df['train_mem_median_mb']\n",
        "            df['test_mem_reduction'] = df.loc[baseline, 'test_mem_median_mb'] / df['test_mem_median_mb']\n",
        "        return df\n",
        "    \n",
        "    def get_train_median_ms(self):\n",
        "        medians = {}\n",
        "        for name, (time_data, mem_data) in self.data.items():\n",
        "            medians[name] = np.median(time_data[:, 0])\n",
        "        return medians\n",
        "\n",
        "    def get_test_median_ms(self):\n",
        "        medians = {}\n",
        "        for name, (time_data, mem_data) in self.data.items():\n",
        "            medians[name] = np.median(time_data[:, 1])\n",
        "        return medians\n",
        "\n",
        "    def get_train_median_mb(self):\n",
        "        medians = {}\n",
        "        for name, (time_data, mem_data) in self.data.items():\n",
        "            medians[name] = np.median(mem_data[:, 0])\n",
        "        return medians\n",
        "\n",
        "    def get_test_median_mb(self):\n",
        "        medians = {}\n",
        "        for name, (time_data, mem_data) in self.data.items():\n",
        "            medians[name] = np.median(mem_data[:, 1])\n",
        "        return medians\n",
        "\n",
        "    def get_results_dict(self):\n",
        "        self.results_dict = {}\n",
        "        self.results_dict['test_size'] = round(self.test_sz * self.y.size)\n",
        "        self.results_dict['train_size'] = round((1 - self.test_sz) * self.y.size)\n",
        "        self.results_dict['train_median_ms'] = self.get_train_median_ms()\n",
        "        self.results_dict['train_median_mb'] = self.get_train_median_mb()\n",
        "        self.results_dict['test_median_ms'] = self.get_test_median_ms()\n",
        "        self.results_dict['test_median_mb'] = self.get_test_median_mb()\n",
        "        return self.results_dict\n"
      ]
    },
    {
      "cell_type": "markdown",
      "metadata": {
        "id": "mb5VEpEugFXW"
      },
      "source": [
        "## Ejemplo"
      ]
    },
    {
      "cell_type": "code",
      "execution_count": 10,
      "metadata": {
        "colab": {
          "base_uri": "https://localhost:8080/"
        },
        "id": "fLyr4-hdgJ7e",
        "outputId": "86428138-3982-4c05-8a88-f6809d524a27"
      },
      "outputs": [
        {
          "data": {
            "text/plain": [
              "((178, 13), (178, 1))"
            ]
          },
          "execution_count": 10,
          "metadata": {},
          "output_type": "execute_result"
        }
      ],
      "source": [
        "# levantamos el dataset Wine, que tiene 13 features y 178 observaciones en total\n",
        "X_full, y_full = get_wine_dataset()\n",
        "\n",
        "X_full.shape, y_full.shape\n",
        "#print(y_full.flatten()=='class_0')\n",
        "#print(X_full[:,y_full.flatten()=='class_0'])\n",
        "#y_full"
      ]
    },
    {
      "cell_type": "code",
      "execution_count": 11,
      "metadata": {
        "colab": {
          "base_uri": "https://localhost:8080/"
        },
        "id": "ZxQlFUSbgYHQ",
        "outputId": "32c0fee8-2a79-4f8c-c526-392f026fff1e"
      },
      "outputs": [
        {
          "data": {
            "text/plain": [
              "(array([['class_0'],\n",
              "        ['class_0'],\n",
              "        ['class_0'],\n",
              "        ['class_0'],\n",
              "        ['class_0']], dtype='<U7'),\n",
              " array([[0],\n",
              "        [0],\n",
              "        [0],\n",
              "        [0],\n",
              "        [0]]))"
            ]
          },
          "execution_count": 11,
          "metadata": {},
          "output_type": "execute_result"
        }
      ],
      "source": [
        "# encodeamos a número las clases\n",
        "y_full_encoded = label_encode(y_full)\n",
        "\n",
        "y_full[:5], y_full_encoded[:5]"
      ]
    },
    {
      "cell_type": "code",
      "execution_count": 12,
      "metadata": {
        "colab": {
          "base_uri": "https://localhost:8080/"
        },
        "id": "pSBNNUOmgtsI",
        "outputId": "7dc60ba1-0548-4671-8f44-a9fb227360d7"
      },
      "outputs": [
        {
          "name": "stdout",
          "output_type": "stream",
          "text": [
            "Benching params:\n",
            "Total runs: 140\n",
            "Warmup runs: 20\n",
            "Peak Memory usage runs: 20\n",
            "Running time runs: 100\n",
            "Train size rows (approx): 125\n",
            "Test size rows (approx): 53\n",
            "Test size fraction: 0.3\n"
          ]
        }
      ],
      "source": [
        "# generamos el benchmark\n",
        "# observar que son valores muy bajos de runs para que corra rápido ahora\n",
        "b = Benchmark(\n",
        "    X_full, y_full_encoded,\n",
        "    n_runs = 100,\n",
        "    warmup = 20,\n",
        "    mem_runs = 20,\n",
        "    test_sz = 0.3,\n",
        "    same_splits = False\n",
        ")"
      ]
    },
    {
      "cell_type": "code",
      "execution_count": 13,
      "metadata": {
        "colab": {
          "base_uri": "https://localhost:8080/",
          "height": 81,
          "referenced_widgets": [
            "c01ec4015f1c4c4491687244977cf5ee",
            "f07c3a390d8640e586ec729d3c7c86d8",
            "1d3c4fad476c47208bce6625ec783f6d",
            "a33f440ec8454a2db5bd26485d71c4db",
            "766927c256e3409ab53c04ca092964e0",
            "54a06911978746dd9e81bb1526bd741c",
            "a806c90e849243999c2fce804e20b449",
            "0c4640fad3de46af8ee288fb94e9831d",
            "70c3a115637d4880802a605974661714",
            "3f110d0a165e41b0a268f77b2d2a11b7",
            "de398ad23ecd44d8b8d69e621401f3b3",
            "d0c5a2b6b27144268b7fc0bedcc33a86",
            "684de1d1bee34b309988bc0f40b0d5e2",
            "3a99fe4554914c12ad9146aea349708c",
            "1da7d96834cc4bc8a3cd5595b3446b74",
            "d21ef446c090431480050c3352e2634e",
            "d3fe060bd70848b7af130d99bbff6839",
            "32df4fc69a3c47cf9a220f4469b667a3",
            "254e2937d92d48b0886e5d950a6bbefa",
            "0cead8148ae5469eb637c29de2b21ec7",
            "de9f39ade1b04c22921589c687b25518",
            "437e4360cf5e44bc845c2f6002ea2d55"
          ]
        },
        "id": "zUciOjazhUu5",
        "outputId": "398afdb9-ef70-40db-b771-eb3f883a68f0"
      },
      "outputs": [
        {
          "data": {
            "application/vnd.jupyter.widget-view+json": {
              "model_id": "c674eb8e03b0402e8ea519700bac50b7",
              "version_major": 2,
              "version_minor": 0
            },
            "text/plain": [
              "QDA (MEM):   0%|          | 0/20 [00:00<?, ?it/s]"
            ]
          },
          "metadata": {},
          "output_type": "display_data"
        },
        {
          "data": {
            "application/vnd.jupyter.widget-view+json": {
              "model_id": "a4eac8d6132d47b6b67accd51ec8f9e6",
              "version_major": 2,
              "version_minor": 0
            },
            "text/plain": [
              "QDA (TIME):   0%|          | 0/100 [00:00<?, ?it/s]"
            ]
          },
          "metadata": {},
          "output_type": "display_data"
        }
      ],
      "source": [
        "# bencheamos un par\n",
        "to_bench = [QDA]\n",
        "\n",
        "for model in to_bench:\n",
        "    b.bench(model)"
      ]
    },
    {
      "cell_type": "code",
      "execution_count": 14,
      "metadata": {
        "colab": {
          "base_uri": "https://localhost:8080/",
          "height": 81,
          "referenced_widgets": [
            "8aeeac18744940f8b4940256613178db",
            "16f5ac0cf3cc441d891ae9522cf0798c",
            "bc84ff51ad3c4921b7aca214f0ff5e35",
            "f8508a02a66547b3a501694a1b8633ab",
            "4ab824715b294c86b045c7e187125524",
            "5e4f83990b0c4572952d5e23005283fb",
            "b85cd793196847cda92178f945624016",
            "b1c06f1940204bdaacf4ad3d843faa2f",
            "74c98c4598bd438cbedbb6c8a492eb15",
            "373a7a1549b44c2696083efddc88fafe",
            "8e2c2ff9e34b49568449aa7eb991d5cb",
            "de1229493a5749c799bcece8c07506f5",
            "c29e6bbacf9c45ecb5465624ee315b70",
            "a2e9076aca0b4224ba3aa8e4c3239260",
            "8df46d45d37e45e889dbec220fa360bd",
            "514491be27294e0cb5b70b6e25ee3355",
            "6d70e647d03f4004bd727673fbbfe5f9",
            "c3149d7e47c84328904326dda8527af4",
            "6197d697782b4688a278663e287317b1",
            "c69d75dc1d1b4fca925f308a79a7e248",
            "7f722aef90b84352b16d45f8716df168",
            "f356ef11b0734ce6a31ec9f0a01e055a"
          ]
        },
        "id": "wpPhSSCNhlvG",
        "outputId": "3edd56df-f71f-41bd-9f02-caa837541aa2"
      },
      "outputs": [
        {
          "data": {
            "application/vnd.jupyter.widget-view+json": {
              "model_id": "9f490c9350a143548f86120c98c2253f",
              "version_major": 2,
              "version_minor": 0
            },
            "text/plain": [
              "TensorizedQDA (MEM):   0%|          | 0/20 [00:00<?, ?it/s]"
            ]
          },
          "metadata": {},
          "output_type": "display_data"
        },
        {
          "data": {
            "application/vnd.jupyter.widget-view+json": {
              "model_id": "177b36ad84c9439b9b5d971d67503f3b",
              "version_major": 2,
              "version_minor": 0
            },
            "text/plain": [
              "TensorizedQDA (TIME):   0%|          | 0/100 [00:00<?, ?it/s]"
            ]
          },
          "metadata": {},
          "output_type": "display_data"
        }
      ],
      "source": [
        "# como es una clase, podemos seguir bencheando más después\n",
        "b.bench(TensorizedQDA)"
      ]
    },
    {
      "cell_type": "code",
      "execution_count": 15,
      "metadata": {
        "colab": {
          "base_uri": "https://localhost:8080/",
          "height": 163
        },
        "id": "bZ5-vowshr5c",
        "outputId": "f494db5c-f2a5-46ba-a718-b7ba68f0699d"
      },
      "outputs": [
        {
          "data": {
            "text/html": [
              "<div>\n",
              "<style scoped>\n",
              "    .dataframe tbody tr th:only-of-type {\n",
              "        vertical-align: middle;\n",
              "    }\n",
              "\n",
              "    .dataframe tbody tr th {\n",
              "        vertical-align: top;\n",
              "    }\n",
              "\n",
              "    .dataframe thead th {\n",
              "        text-align: right;\n",
              "    }\n",
              "</style>\n",
              "<table border=\"1\" class=\"dataframe\">\n",
              "  <thead>\n",
              "    <tr style=\"text-align: right;\">\n",
              "      <th></th>\n",
              "      <th>train_median_ms</th>\n",
              "      <th>train_std_ms</th>\n",
              "      <th>test_median_ms</th>\n",
              "      <th>test_std_ms</th>\n",
              "      <th>mean_accuracy</th>\n",
              "      <th>train_mem_median_mb</th>\n",
              "      <th>train_mem_std_mb</th>\n",
              "      <th>test_mem_median_mb</th>\n",
              "      <th>test_mem_std_mb</th>\n",
              "    </tr>\n",
              "    <tr>\n",
              "      <th>model</th>\n",
              "      <th></th>\n",
              "      <th></th>\n",
              "      <th></th>\n",
              "      <th></th>\n",
              "      <th></th>\n",
              "      <th></th>\n",
              "      <th></th>\n",
              "      <th></th>\n",
              "      <th></th>\n",
              "    </tr>\n",
              "  </thead>\n",
              "  <tbody>\n",
              "    <tr>\n",
              "      <th>QDA</th>\n",
              "      <td>0.179243</td>\n",
              "      <td>0.230454</td>\n",
              "      <td>1.208619</td>\n",
              "      <td>0.817002</td>\n",
              "      <td>0.982407</td>\n",
              "      <td>0.0187</td>\n",
              "      <td>0.000665</td>\n",
              "      <td>0.008101</td>\n",
              "      <td>0.000150</td>\n",
              "    </tr>\n",
              "    <tr>\n",
              "      <th>TensorizedQDA</th>\n",
              "      <td>0.189408</td>\n",
              "      <td>0.137846</td>\n",
              "      <td>0.564577</td>\n",
              "      <td>0.482962</td>\n",
              "      <td>0.982593</td>\n",
              "      <td>0.0187</td>\n",
              "      <td>0.000676</td>\n",
              "      <td>0.012131</td>\n",
              "      <td>0.000065</td>\n",
              "    </tr>\n",
              "  </tbody>\n",
              "</table>\n",
              "</div>"
            ],
            "text/plain": [
              "               train_median_ms  train_std_ms  test_median_ms  test_std_ms  \\\n",
              "model                                                                       \n",
              "QDA                   0.179243      0.230454        1.208619     0.817002   \n",
              "TensorizedQDA         0.189408      0.137846        0.564577     0.482962   \n",
              "\n",
              "               mean_accuracy  train_mem_median_mb  train_mem_std_mb  \\\n",
              "model                                                                 \n",
              "QDA                 0.982407               0.0187          0.000665   \n",
              "TensorizedQDA       0.982593               0.0187          0.000676   \n",
              "\n",
              "               test_mem_median_mb  test_mem_std_mb  \n",
              "model                                               \n",
              "QDA                      0.008101         0.000150  \n",
              "TensorizedQDA            0.012131         0.000065  "
            ]
          },
          "execution_count": 15,
          "metadata": {},
          "output_type": "execute_result"
        }
      ],
      "source": [
        "# hacemos un summary\n",
        "b.summary()"
      ]
    },
    {
      "cell_type": "code",
      "execution_count": 16,
      "metadata": {
        "colab": {
          "base_uri": "https://localhost:8080/",
          "height": 143
        },
        "id": "09eKXqlXhwL-",
        "outputId": "a721b3e9-9003-4d2c-9f7e-11a96b0870d6"
      },
      "outputs": [
        {
          "data": {
            "text/html": [
              "<div>\n",
              "<style scoped>\n",
              "    .dataframe tbody tr th:only-of-type {\n",
              "        vertical-align: middle;\n",
              "    }\n",
              "\n",
              "    .dataframe tbody tr th {\n",
              "        vertical-align: top;\n",
              "    }\n",
              "\n",
              "    .dataframe thead th {\n",
              "        text-align: right;\n",
              "    }\n",
              "</style>\n",
              "<table border=\"1\" class=\"dataframe\">\n",
              "  <thead>\n",
              "    <tr style=\"text-align: right;\">\n",
              "      <th></th>\n",
              "      <th>train_median_ms</th>\n",
              "      <th>test_median_ms</th>\n",
              "      <th>mean_accuracy</th>\n",
              "    </tr>\n",
              "    <tr>\n",
              "      <th>model</th>\n",
              "      <th></th>\n",
              "      <th></th>\n",
              "      <th></th>\n",
              "    </tr>\n",
              "  </thead>\n",
              "  <tbody>\n",
              "    <tr>\n",
              "      <th>QDA</th>\n",
              "      <td>0.179243</td>\n",
              "      <td>1.208619</td>\n",
              "      <td>0.982407</td>\n",
              "    </tr>\n",
              "    <tr>\n",
              "      <th>TensorizedQDA</th>\n",
              "      <td>0.189408</td>\n",
              "      <td>0.564577</td>\n",
              "      <td>0.982593</td>\n",
              "    </tr>\n",
              "  </tbody>\n",
              "</table>\n",
              "</div>"
            ],
            "text/plain": [
              "               train_median_ms  test_median_ms  mean_accuracy\n",
              "model                                                        \n",
              "QDA                   0.179243        1.208619       0.982407\n",
              "TensorizedQDA         0.189408        0.564577       0.982593"
            ]
          },
          "execution_count": 16,
          "metadata": {},
          "output_type": "execute_result"
        }
      ],
      "source": [
        "# son muchos datos! nos quedamos con un par nomás\n",
        "summ = b.summary()\n",
        "\n",
        "# como es un pandas DataFrame, subseteamos columnas fácil\n",
        "summ[['train_median_ms', 'test_median_ms','mean_accuracy']]"
      ]
    },
    {
      "cell_type": "code",
      "execution_count": 17,
      "metadata": {
        "colab": {
          "base_uri": "https://localhost:8080/",
          "height": 163
        },
        "id": "EopB9574h8I5",
        "outputId": "b8bf48a0-f791-4a34-da7c-254071cbadf7"
      },
      "outputs": [
        {
          "data": {
            "text/html": [
              "<div>\n",
              "<style scoped>\n",
              "    .dataframe tbody tr th:only-of-type {\n",
              "        vertical-align: middle;\n",
              "    }\n",
              "\n",
              "    .dataframe tbody tr th {\n",
              "        vertical-align: top;\n",
              "    }\n",
              "\n",
              "    .dataframe thead th {\n",
              "        text-align: right;\n",
              "    }\n",
              "</style>\n",
              "<table border=\"1\" class=\"dataframe\">\n",
              "  <thead>\n",
              "    <tr style=\"text-align: right;\">\n",
              "      <th></th>\n",
              "      <th>train_median_ms</th>\n",
              "      <th>train_std_ms</th>\n",
              "      <th>test_median_ms</th>\n",
              "      <th>test_std_ms</th>\n",
              "      <th>mean_accuracy</th>\n",
              "      <th>train_mem_median_mb</th>\n",
              "      <th>train_mem_std_mb</th>\n",
              "      <th>test_mem_median_mb</th>\n",
              "      <th>test_mem_std_mb</th>\n",
              "      <th>train_speedup</th>\n",
              "      <th>test_speedup</th>\n",
              "      <th>train_mem_reduction</th>\n",
              "      <th>test_mem_reduction</th>\n",
              "    </tr>\n",
              "    <tr>\n",
              "      <th>model</th>\n",
              "      <th></th>\n",
              "      <th></th>\n",
              "      <th></th>\n",
              "      <th></th>\n",
              "      <th></th>\n",
              "      <th></th>\n",
              "      <th></th>\n",
              "      <th></th>\n",
              "      <th></th>\n",
              "      <th></th>\n",
              "      <th></th>\n",
              "      <th></th>\n",
              "      <th></th>\n",
              "    </tr>\n",
              "  </thead>\n",
              "  <tbody>\n",
              "    <tr>\n",
              "      <th>QDA</th>\n",
              "      <td>0.179243</td>\n",
              "      <td>0.230454</td>\n",
              "      <td>1.208619</td>\n",
              "      <td>0.817002</td>\n",
              "      <td>0.982407</td>\n",
              "      <td>0.0187</td>\n",
              "      <td>0.000665</td>\n",
              "      <td>0.008101</td>\n",
              "      <td>0.000150</td>\n",
              "      <td>1.000000</td>\n",
              "      <td>1.000000</td>\n",
              "      <td>1.0</td>\n",
              "      <td>1.000000</td>\n",
              "    </tr>\n",
              "    <tr>\n",
              "      <th>TensorizedQDA</th>\n",
              "      <td>0.189408</td>\n",
              "      <td>0.137846</td>\n",
              "      <td>0.564577</td>\n",
              "      <td>0.482962</td>\n",
              "      <td>0.982593</td>\n",
              "      <td>0.0187</td>\n",
              "      <td>0.000676</td>\n",
              "      <td>0.012131</td>\n",
              "      <td>0.000065</td>\n",
              "      <td>0.946333</td>\n",
              "      <td>2.140752</td>\n",
              "      <td>1.0</td>\n",
              "      <td>0.667767</td>\n",
              "    </tr>\n",
              "  </tbody>\n",
              "</table>\n",
              "</div>"
            ],
            "text/plain": [
              "               train_median_ms  train_std_ms  test_median_ms  test_std_ms  \\\n",
              "model                                                                       \n",
              "QDA                   0.179243      0.230454        1.208619     0.817002   \n",
              "TensorizedQDA         0.189408      0.137846        0.564577     0.482962   \n",
              "\n",
              "               mean_accuracy  train_mem_median_mb  train_mem_std_mb  \\\n",
              "model                                                                 \n",
              "QDA                 0.982407               0.0187          0.000665   \n",
              "TensorizedQDA       0.982593               0.0187          0.000676   \n",
              "\n",
              "               test_mem_median_mb  test_mem_std_mb  train_speedup  \\\n",
              "model                                                               \n",
              "QDA                      0.008101         0.000150       1.000000   \n",
              "TensorizedQDA            0.012131         0.000065       0.946333   \n",
              "\n",
              "               test_speedup  train_mem_reduction  test_mem_reduction  \n",
              "model                                                                 \n",
              "QDA                1.000000                  1.0            1.000000  \n",
              "TensorizedQDA      2.140752                  1.0            0.667767  "
            ]
          },
          "execution_count": 17,
          "metadata": {},
          "output_type": "execute_result"
        }
      ],
      "source": [
        "# podemos setear un baseline para que fabrique columnas de comparación\n",
        "summ = b.summary(baseline='QDA')\n",
        "\n",
        "summ"
      ]
    },
    {
      "cell_type": "code",
      "execution_count": 18,
      "metadata": {
        "colab": {
          "base_uri": "https://localhost:8080/",
          "height": 143
        },
        "id": "z0qeE1gviFLZ",
        "outputId": "760de925-f8fc-4e77-a8ce-50785d14e487"
      },
      "outputs": [
        {
          "data": {
            "text/html": [
              "<div>\n",
              "<style scoped>\n",
              "    .dataframe tbody tr th:only-of-type {\n",
              "        vertical-align: middle;\n",
              "    }\n",
              "\n",
              "    .dataframe tbody tr th {\n",
              "        vertical-align: top;\n",
              "    }\n",
              "\n",
              "    .dataframe thead th {\n",
              "        text-align: right;\n",
              "    }\n",
              "</style>\n",
              "<table border=\"1\" class=\"dataframe\">\n",
              "  <thead>\n",
              "    <tr style=\"text-align: right;\">\n",
              "      <th></th>\n",
              "      <th>train_median_ms</th>\n",
              "      <th>test_median_ms</th>\n",
              "      <th>mean_accuracy</th>\n",
              "      <th>train_speedup</th>\n",
              "      <th>test_speedup</th>\n",
              "      <th>train_mem_reduction</th>\n",
              "      <th>test_mem_reduction</th>\n",
              "    </tr>\n",
              "    <tr>\n",
              "      <th>model</th>\n",
              "      <th></th>\n",
              "      <th></th>\n",
              "      <th></th>\n",
              "      <th></th>\n",
              "      <th></th>\n",
              "      <th></th>\n",
              "      <th></th>\n",
              "    </tr>\n",
              "  </thead>\n",
              "  <tbody>\n",
              "    <tr>\n",
              "      <th>QDA</th>\n",
              "      <td>0.179243</td>\n",
              "      <td>1.208619</td>\n",
              "      <td>0.982407</td>\n",
              "      <td>1.000000</td>\n",
              "      <td>1.000000</td>\n",
              "      <td>1.0</td>\n",
              "      <td>1.000000</td>\n",
              "    </tr>\n",
              "    <tr>\n",
              "      <th>TensorizedQDA</th>\n",
              "      <td>0.189408</td>\n",
              "      <td>0.564577</td>\n",
              "      <td>0.982593</td>\n",
              "      <td>0.946333</td>\n",
              "      <td>2.140752</td>\n",
              "      <td>1.0</td>\n",
              "      <td>0.667767</td>\n",
              "    </tr>\n",
              "  </tbody>\n",
              "</table>\n",
              "</div>"
            ],
            "text/plain": [
              "               train_median_ms  test_median_ms  mean_accuracy  train_speedup  \\\n",
              "model                                                                          \n",
              "QDA                   0.179243        1.208619       0.982407       1.000000   \n",
              "TensorizedQDA         0.189408        0.564577       0.982593       0.946333   \n",
              "\n",
              "               test_speedup  train_mem_reduction  test_mem_reduction  \n",
              "model                                                                 \n",
              "QDA                1.000000                  1.0            1.000000  \n",
              "TensorizedQDA      2.140752                  1.0            0.667767  "
            ]
          },
          "execution_count": 18,
          "metadata": {},
          "output_type": "execute_result"
        }
      ],
      "source": [
        "summ[[\n",
        "    'train_median_ms', 'test_median_ms','mean_accuracy',\n",
        "    'train_speedup', 'test_speedup',\n",
        "    'train_mem_reduction', 'test_mem_reduction'\n",
        "]]"
      ]
    },
    {
      "cell_type": "markdown",
      "metadata": {
        "id": "EF80Pck2RmaC"
      },
      "source": [
        "# Consigna QDA\n",
        "\n",
        "**Notación**: en general notamos\n",
        "\n",
        "* $k$ la cantidad de clases\n",
        "* $n$ la cantidad de observaciones\n",
        "* $p$ la cantidad de features/variables/predictores\n",
        "\n",
        "**Sugerencia:** combinaciones adecuadas de `transpose`, `stack`, `reshape` y, ocasionalmente, `flatten` y `diagonal` suele ser más que suficiente. Se recomienda *fuertemente* explorar la dimensionalidad de cada elemento antes de implementar las clases.\n",
        "\n",
        "## Tensorización\n",
        "\n",
        "En esta sección nos vamos a ocupar de hacer que el modelo sea más rápido para generar predicciones, observando que incurre en un doble `for` dado que predice en forma individual un escalar para cada observación, para cada clase. Paralelizar ambos vía tensorización suena como una gran vía de mejora de tiempos.\n",
        "\n",
        "### 1) Diferencias entre `QDA`y `TensorizedQDA`\n",
        "\n",
        "1. ¿Sobre qué paraleliza `TensorizedQDA`? ¿Sobre las $k$ clases, las $n$ observaciones a predecir, o ambas?\n",
        "2. Analizar los shapes de `tensor_inv_covs` y `tensor_means` y explicar paso a paso cómo es que `TensorizedQDA` llega a predecir lo mismo que `QDA`.\n",
        "\n",
        "### 2) Optimización\n",
        "\n",
        "Debido a la forma cuadrática de QDA, no se puede predecir para $n$ observaciones en una sola pasada (utilizar $X \\in \\mathbb{R}^{p \\times n}$ en vez de $x \\in \\mathbb{R}^p$) sin pasar por una matriz de $n \\times n$ en donde se computan todas las interacciones entre observaciones. Se puede acceder al resultado recuperando sólo la diagonal de dicha matriz, pero resulta ineficiente en tiempo y (especialmente) en memoria. Aún así, es *posible* que el modelo funcione más rápido.\n",
        "\n",
        "3. Implementar el modelo `FasterQDA` (se recomienda heredarlo de `TensorizedQDA`) de manera de eliminar el ciclo for en el método predict.\n",
        "4. Mostrar dónde aparece la mencionada matriz de $n \\times n$, donde $n$ es la cantidad de observaciones a predecir.\n",
        "5. Demostrar que\n",
        "$$\n",
        "diag(A \\cdot B) = \\sum_{cols} A \\odot B^T = np.sum(A \\odot B^T, axis=1)\n",
        "$$ es decir, que se puede \"esquivar\" la matriz de $n \\times n$ usando matrices de $n \\times p$. También se puede usar, de forma equivalente,\n",
        "$$\n",
        "np.sum(A^T \\odot B, axis=0).T\n",
        "$$ \n",
        "queda a preferencia del alumno cuál usar.\n",
        "\n",
        "6. Utilizar la propiedad antes demostrada para reimplementar la predicción del modelo `FasterQDA` de forma eficiente en un nuevo modelo `EfficientQDA`.\n",
        "7. Comparar la performance de las 4 variantes de QDA implementadas hasta ahora (no Cholesky) ¿Qué se observa? A modo de opinión ¿Se condice con lo esperado?\n",
        "\n",
        "## Cholesky\n",
        "\n",
        "Hasta ahora todos los esfuerzos fueron enfocados en realizar una predicción más rápida. Los tiempos de entrenamiento (teóricos al menos) siguen siendo los mismos o hasta (minúsculamente) peores, dado que todas las mejoras siguen llamando al método `_fit_params` original de `QDA`.\n",
        "\n",
        "La descomposición/factorización de [Cholesky](https://en.wikipedia.org/wiki/Cholesky_decomposition#Statement) permite factorizar una matriz definida positiva $A = LL^T$ donde $L$ es una matriz triangular inferior. En particular, si bien se asume que $p \\ll n$, invertir la matriz de covarianzas $\\Sigma$ para cada clase impone un cuello de botella que podría alivianarse. Teniendo en cuenta que las matrices de covarianza son simétricas y salvo degeneración, definidas positivas, Cholesky como mínimo debería permitir invertir la matriz más rápido.\n",
        "\n",
        "*Nota: observar que calcular* $A^{-1}b$ *equivale a resolver el sistema* $Ax=b$.\n",
        "\n",
        "### 3) Diferencias entre implementaciones de `QDA_Chol`\n",
        "\n",
        "8. Si una matriz $A$ tiene fact. de Cholesky $A=LL^T$, expresar $A^{-1}$ en términos de $L$. ¿Cómo podría esto ser útil en la forma cuadrática de QDA?\n",
        "7. Explicar las diferencias entre `QDA_Chol1`y `QDA` y cómo `QDA_Chol1` llega, paso a paso, hasta las predicciones.\n",
        "8. ¿Cuáles son las diferencias entre `QDA_Chol1`, `QDA_Chol2` y `QDA_Chol3`?\n",
        "9. Comparar la performance de las 7 variantes de QDA implementadas hasta ahora ¿Qué se observa?¿Hay alguna de las implementaciones de `QDA_Chol` que sea claramente mejor que las demás?¿Alguna que sea peor?\n",
        "\n",
        "### 4) Optimización\n",
        "\n",
        "12. Implementar el modelo `TensorizedChol` paralelizando sobre clases/observaciones según corresponda. Se recomienda heredarlo de alguna de las implementaciones de `QDA_Chol`, aunque la elección de cuál de ellas queda a cargo del alumno según lo observado en los benchmarks de puntos anteriores.\n",
        "13. Implementar el modelo `EfficientChol` combinando los insights de `EfficientQDA` y `TensorizedChol`. Si se desea, se puede implementar `FasterChol` como ayuda, pero no se contempla para el punto.\n",
        "13. Comparar la performance de las 9 variantes de QDA implementadas ¿Qué se observa? A modo de opinión ¿Se condice con lo esperado?"
      ]
    },
    {
      "cell_type": "markdown",
      "metadata": {
        "id": "qcqVvRSLwaEZ"
      },
      "source": [
        "## Importante:\n",
        "\n",
        "Las métricas que se observan al realizar benchmarking son muy dependientes del código que se ejecuta, y por tanto de las versiones de las librerías utilizadas. Una forma de unificar esto es utilizando un gestor de versiones y paquetes como _uv_ o _Poetry_, otra es simplemente usando una misma VM como la que provee Colab.\n",
        "\n",
        "**Cada equipo debe informar las versiones de Python, NumPy y SciPy con que fueron obtenidos los resultados. En caso de que sean múltiples, agregar todos los casos**. La siguiente celda provee una ayuda para hacerlo desde un notebook, aunque como es una secuencia de comandos también sirve para consola."
      ]
    },
    {
      "cell_type": "code",
      "execution_count": 19,
      "metadata": {
        "colab": {
          "base_uri": "https://localhost:8080/"
        },
        "id": "RwlW7sqwirdn",
        "outputId": "ccccb229-089a-44fb-cda3-da0a11b4fd4f"
      },
      "outputs": [
        {
          "name": "stdout",
          "output_type": "stream",
          "text": [
            "Python 3.11.13\n",
            "numpy==1.26.4\n"
          ]
        }
      ],
      "source": [
        "%%bash\n",
        "python --version\n",
        "pip freeze | grep -E \"scipy|numpy\""
      ]
    },
    {
      "cell_type": "markdown",
      "metadata": {
        "id": "WNWRw6ofUNgZ"
      },
      "source": [
        "**Comentario:** yo utilicé los siguientes parámetros para mi run de prueba. Esto NO significa que ustedes tengan que usar los mismos, tampoco el mismo dataset. Se agregó al notebook simplemente porque fue una pregunta común en cohortes anteriores."
      ]
    },
    {
      "cell_type": "code",
      "execution_count": null,
      "metadata": {
        "id": "9Vn-q4RJv8aA"
      },
      "outputs": [
        {
          "name": "stdout",
          "output_type": "stream",
          "text": [
            "Benching params:\n",
            "Total runs: 150\n",
            "Warmup runs: 20\n",
            "Peak Memory usage runs: 30\n",
            "Running time runs: 100\n",
            "Train size rows (approx): 16000\n",
            "Test size rows (approx): 4000\n",
            "Test size fraction: 0.2\n"
          ]
        }
      ],
      "source": [
        "# dataset de letters\n",
        "X_letter, y_letter = get_letters_dataset()\n",
        "\n",
        "# encoding de labels\n",
        "y_letter_encoded = label_encode(y_letter.reshape(-1,1))\n",
        "\n",
        "# instanciacion del benchmark\n",
        "b = Benchmark(\n",
        "    X_letter, y_letter_encoded,\n",
        "    same_splits=False,\n",
        "    n_runs=100,\n",
        "    warmup=20,\n",
        "    mem_runs=30,\n",
        "    # same_splits=True,\n",
        "    # n_runs=0,\n",
        "    # warmup=1,\n",
        "    # mem_runs=0,\n",
        "    test_sz=0.2\n",
        ")"
      ]
    },
    {
      "cell_type": "markdown",
      "metadata": {},
      "source": [
        "# Respuestas\n",
        "\n",
        "### 1) Diferencias entre `QDA`y `TensorizedQDA`\n",
        "\n",
        "1. ¿Sobre qué paraleliza `TensorizedQDA`? ¿Sobre las $k$ clases, las $n$ observaciones a predecir, o ambas?\n",
        "\n",
        "`TensorizedQDA` paraleliza sobre las $k$ clases. Si observamos `_fit_params` observamos que hace un `np.stack` sobre `self.inv_covs`, el cual es una lista de `np.arrays` de 2 dimensiones. El `stack` lo que hace es agregar una dimensión, y poner en esa dimensión las matrices 2D de covarianza y de media."
      ]
    },
    {
      "cell_type": "markdown",
      "metadata": {},
      "source": [
        "2. Analizar los shapes de `tensor_inv_covs` y `tensor_means` y explicar paso a paso cómo es que `TensorizedQDA` llega a predecir lo mismo que `QDA`.\n",
        "\n",
        "`tensor_inv_covs` tiene tamaño $(j,p,p)$ donde $j$ es la cantidad de clases y $p$ la cantidad de features. Las medias `tensor_mean` tiene tamaño $(j,p,1)$. Si vamos al método `_predict_log_conditional` tenemos que:\n",
        "```python\n",
        "# QDA:\n",
        "inv_cov = self.inv_covs[class_idx]\n",
        "unbiased_x =  x - self.means[class_idx]\n",
        "return 0.5*np.log(LA.det(inv_cov)) -0.5 * unbiased_x.T @ inv_cov @ unbiased_x\n",
        "\n",
        "# TensorizedQDA:\n",
        "unbiased_x = x - self.tensor_means\n",
        "inner_prod = unbiased_x.transpose(0,2,1) @ self.tensor_inv_cov @ unbiased_x\n",
        "return 0.5*np.log(LA.det(self.tensor_inv_cov)) - 0.5 * inner_prod.flatten()\n",
        "```\n",
        "En `TensorizedQDA` se calcula en primer lugar `unbiased_x` donde se tiene para las $j$ clases $x-\\mu_j$, dando un array de tamaño $(j,p,1)$. En el caso de `QDA`, como se evalúa en particular la clase $k$, se tiene un array $(p,1)$, que se corresponde al $k$ lugar en la dimensión 0 del tensor `unbiased_x`.<br>\n",
        "Luego para el producto interno, la diferencia radica en el detalle de la transpuesta donde los argumentos `0,2,1` indican que la transpuesta se hace para cada array 2D de las dimensiones 1 y 2, es decir, se transpone la matriz de cada clase $k$, y la dimensión 0 de clases se deja intacta. De esta forma el resultado es un array 2D $(j,1)$, donde se tiene el valor del producto interno para cada $j$ clase. Luego esto se le applica `flatten` para llevarlo a un array 1D para realizar la suma por fila.<br>\n",
        "Por último el determinante del tensor `LA.det(self.tensor_inv_cov)` nos entrega el determinante de las $j$ matrices 2D en un array 1D.<br>\n",
        "Finalmente se logra un array 1D donde cada posición es la $k$ clase. Por lo tanto, calcular `QDA._predict_log_conditional(x, k)` es equivalente a `TensorizedQDA._predict_log_conditional(x)[k]`."
      ]
    },
    {
      "cell_type": "markdown",
      "metadata": {},
      "source": [
        "\n",
        "### 2) Optimización\n",
        "\n",
        "Debido a la forma cuadrática de QDA, no se puede predecir para $n$ observaciones en una sola pasada (utilizar $X \\in \\mathbb{R}^{p \\times n}$ en vez de $x \\in \\mathbb{R}^p$) sin pasar por una matriz de $n \\times n$ en donde se computan todas las interacciones entre observaciones. Se puede acceder al resultado recuperando sólo la diagonal de dicha matriz, pero resulta ineficiente en tiempo y (especialmente) en memoria. Aún así, es *posible* que el modelo funcione más rápido.\n",
        "\n",
        "3. Implementar el modelo `FasterQDA` (se recomienda heredarlo de `TensorizedQDA`) de manera de eliminar el ciclo for en el método predict."
      ]
    },
    {
      "cell_type": "code",
      "execution_count": 73,
      "metadata": {},
      "outputs": [],
      "source": [
        "class FasterQDA(TensorizedQDA):\n",
        "    ##\n",
        "    # ESTA ES LA IMPLEMENTACIÓN YENDO UNA DIMENSIÓN MÁS ARRIBA TENSORIALMENTE\n",
        "    # NO ES TÉCNICAMENTE LO QUE SE PIDE, PERO FUE LO QUE ME SALIÓ DE PRIMERA COMO IMPLEMENTACIÓN DE COMPUTAR TODAS LAS PREDICCIONES DE UNA\n",
        "    ##\n",
        "    def _predict_log_conditionals_2(self,x):\n",
        "        print(x.shape)\n",
        "        unbiased_x = x - self.tensor_means\n",
        "        inner_prod = unbiased_x.transpose(0,1,3,2) @ self.tensor_inv_cov @ unbiased_x\n",
        "        return 0.5*np.log(LA.det(self.tensor_inv_cov)) - 0.5 * inner_prod.reshape(len(inner_prod),-1)\n",
        "\n",
        "    def predict(self, X):\n",
        "        log_conditionals = self._predict_log_conditionals_2(X.transpose(1,0).reshape(len(X[0]),1,len(X),1)) \n",
        "        predictions = np.argmax(self.log_a_priori + log_conditionals, axis=1)\n",
        "\n",
        "        return predictions.reshape(1,-1)\n"
      ]
    },
    {
      "cell_type": "code",
      "execution_count": null,
      "metadata": {},
      "outputs": [],
      "source": [
        "class FasterQDA(TensorizedQDA):\n",
        "    def _predict_log_conditionals_2(self,x):\n",
        "        # x tiene dims (n,1,p,1)\n",
        "        # tensor means tiene dims (k,p,1)\n",
        "        # ==> unbiased_x tiene dims (n,k,p,1)\n",
        "        unbiased_x = x.transpose(1,0).reshape(-1, 1, len(x), 1) - self.tensor_means\n",
        "        # convierto unbiased_x para que la dimensión más alta del tensor sea las k clases => (k,p,n)\n",
        "        unbiased_x = unbiased_x.reshape(len(unbiased_x), len(unbiased_x[0]),-1).transpose(1,2,0)\n",
        "\n",
        "        # hago el prod interno\n",
        "        # se obtiene una matriz (n,n), de la cual sólo nos interesa la diagonal\n",
        "        inner_prod = unbiased_x.transpose(0,2,1) @ self.tensor_inv_cov @ unbiased_x\n",
        "        inner_prod = np.diagonal(inner_prod, axis1=1, axis2=2)\n",
        "\n",
        "        return 0.5*np.log(LA.det(self.tensor_inv_cov)) - 0.5 * inner_prod.transpose()\n",
        "\n",
        "    def predict(self, X):\n",
        "        log_conditionals = self._predict_log_conditionals_2(X) \n",
        "        predictions = np.argmax(self.log_a_priori + log_conditionals, axis=1)\n",
        "\n",
        "        return predictions.reshape(1,-1)\n"
      ]
    },
    {
      "cell_type": "code",
      "execution_count": 185,
      "metadata": {},
      "outputs": [
        {
          "data": {
            "application/vnd.jupyter.widget-view+json": {
              "model_id": "cc74625d83b64d5da297ecbd20b21172",
              "version_major": 2,
              "version_minor": 0
            },
            "text/plain": [
              "QDA (MEM):   0%|          | 0/30 [00:00<?, ?it/s]"
            ]
          },
          "metadata": {},
          "output_type": "display_data"
        },
        {
          "data": {
            "application/vnd.jupyter.widget-view+json": {
              "model_id": "5633852299c147ed807c572ecb377f91",
              "version_major": 2,
              "version_minor": 0
            },
            "text/plain": [
              "QDA (TIME):   0%|          | 0/100 [00:00<?, ?it/s]"
            ]
          },
          "metadata": {},
          "output_type": "display_data"
        }
      ],
      "source": [
        "b.bench(QDA)"
      ]
    },
    {
      "cell_type": "code",
      "execution_count": 186,
      "metadata": {},
      "outputs": [
        {
          "data": {
            "application/vnd.jupyter.widget-view+json": {
              "model_id": "0c1225af5faf4397b213803acd5cba43",
              "version_major": 2,
              "version_minor": 0
            },
            "text/plain": [
              "TensorizedQDA (MEM):   0%|          | 0/30 [00:00<?, ?it/s]"
            ]
          },
          "metadata": {},
          "output_type": "display_data"
        },
        {
          "data": {
            "application/vnd.jupyter.widget-view+json": {
              "model_id": "89c38771ae454e7cbd4ad93bed002577",
              "version_major": 2,
              "version_minor": 0
            },
            "text/plain": [
              "TensorizedQDA (TIME):   0%|          | 0/100 [00:00<?, ?it/s]"
            ]
          },
          "metadata": {},
          "output_type": "display_data"
        }
      ],
      "source": [
        "b.bench(TensorizedQDA)"
      ]
    },
    {
      "cell_type": "code",
      "execution_count": 187,
      "metadata": {},
      "outputs": [
        {
          "data": {
            "application/vnd.jupyter.widget-view+json": {
              "model_id": "5ba70c406b66489aa967e75429f842ed",
              "version_major": 2,
              "version_minor": 0
            },
            "text/plain": [
              "FasterQDA (MEM):   0%|          | 0/30 [00:00<?, ?it/s]"
            ]
          },
          "metadata": {},
          "output_type": "display_data"
        },
        {
          "data": {
            "application/vnd.jupyter.widget-view+json": {
              "model_id": "23fa5a1e98ee455786be0c2c28cce4a0",
              "version_major": 2,
              "version_minor": 0
            },
            "text/plain": [
              "FasterQDA (TIME):   0%|          | 0/100 [00:00<?, ?it/s]"
            ]
          },
          "metadata": {},
          "output_type": "display_data"
        }
      ],
      "source": [
        "b.bench(FasterQDA)"
      ]
    },
    {
      "cell_type": "code",
      "execution_count": 210,
      "metadata": {},
      "outputs": [
        {
          "data": {
            "text/html": [
              "<div>\n",
              "<style scoped>\n",
              "    .dataframe tbody tr th:only-of-type {\n",
              "        vertical-align: middle;\n",
              "    }\n",
              "\n",
              "    .dataframe tbody tr th {\n",
              "        vertical-align: top;\n",
              "    }\n",
              "\n",
              "    .dataframe thead th {\n",
              "        text-align: right;\n",
              "    }\n",
              "</style>\n",
              "<table border=\"1\" class=\"dataframe\">\n",
              "  <thead>\n",
              "    <tr style=\"text-align: right;\">\n",
              "      <th></th>\n",
              "      <th>train_median_ms</th>\n",
              "      <th>train_std_ms</th>\n",
              "      <th>test_median_ms</th>\n",
              "      <th>test_std_ms</th>\n",
              "      <th>mean_accuracy</th>\n",
              "      <th>train_mem_median_mb</th>\n",
              "      <th>train_mem_std_mb</th>\n",
              "      <th>test_mem_median_mb</th>\n",
              "      <th>test_mem_std_mb</th>\n",
              "    </tr>\n",
              "    <tr>\n",
              "      <th>model</th>\n",
              "      <th></th>\n",
              "      <th></th>\n",
              "      <th></th>\n",
              "      <th></th>\n",
              "      <th></th>\n",
              "      <th></th>\n",
              "      <th></th>\n",
              "      <th></th>\n",
              "      <th></th>\n",
              "    </tr>\n",
              "  </thead>\n",
              "  <tbody>\n",
              "    <tr>\n",
              "      <th>QDA</th>\n",
              "      <td>5.519012</td>\n",
              "      <td>0.973150</td>\n",
              "      <td>713.962264</td>\n",
              "      <td>8.841186</td>\n",
              "      <td>0.886117</td>\n",
              "      <td>0.270332</td>\n",
              "      <td>0.002005</td>\n",
              "      <td>0.099205</td>\n",
              "      <td>0.000602</td>\n",
              "    </tr>\n",
              "    <tr>\n",
              "      <th>TensorizedQDA</th>\n",
              "      <td>5.569690</td>\n",
              "      <td>1.009114</td>\n",
              "      <td>161.754331</td>\n",
              "      <td>5.177835</td>\n",
              "      <td>0.885303</td>\n",
              "      <td>0.268700</td>\n",
              "      <td>0.002143</td>\n",
              "      <td>0.154121</td>\n",
              "      <td>0.000026</td>\n",
              "    </tr>\n",
              "    <tr>\n",
              "      <th>FasterQDA</th>\n",
              "      <td>8.058391</td>\n",
              "      <td>6.090009</td>\n",
              "      <td>900.164623</td>\n",
              "      <td>80.110818</td>\n",
              "      <td>0.884827</td>\n",
              "      <td>0.269188</td>\n",
              "      <td>0.001992</td>\n",
              "      <td>3199.335289</td>\n",
              "      <td>0.000612</td>\n",
              "    </tr>\n",
              "    <tr>\n",
              "      <th>EfficientQDA</th>\n",
              "      <td>5.494507</td>\n",
              "      <td>1.063762</td>\n",
              "      <td>12.827799</td>\n",
              "      <td>1.617674</td>\n",
              "      <td>0.884890</td>\n",
              "      <td>0.269676</td>\n",
              "      <td>0.002171</td>\n",
              "      <td>26.300941</td>\n",
              "      <td>0.000000</td>\n",
              "    </tr>\n",
              "    <tr>\n",
              "      <th>QDA_Chol1</th>\n",
              "      <td>5.829548</td>\n",
              "      <td>1.218242</td>\n",
              "      <td>373.605458</td>\n",
              "      <td>9.434941</td>\n",
              "      <td>0.885233</td>\n",
              "      <td>0.270470</td>\n",
              "      <td>0.002408</td>\n",
              "      <td>0.096283</td>\n",
              "      <td>0.000429</td>\n",
              "    </tr>\n",
              "    <tr>\n",
              "      <th>QDA_Chol2</th>\n",
              "      <td>5.496876</td>\n",
              "      <td>0.860621</td>\n",
              "      <td>1067.232985</td>\n",
              "      <td>20.469877</td>\n",
              "      <td>0.885142</td>\n",
              "      <td>0.269264</td>\n",
              "      <td>0.001858</td>\n",
              "      <td>0.095415</td>\n",
              "      <td>0.000525</td>\n",
              "    </tr>\n",
              "    <tr>\n",
              "      <th>QDA_Chol3</th>\n",
              "      <td>5.629441</td>\n",
              "      <td>1.261103</td>\n",
              "      <td>375.637469</td>\n",
              "      <td>9.759911</td>\n",
              "      <td>0.885755</td>\n",
              "      <td>0.269447</td>\n",
              "      <td>0.001818</td>\n",
              "      <td>0.094948</td>\n",
              "      <td>0.000363</td>\n",
              "    </tr>\n",
              "    <tr>\n",
              "      <th>TensorizedChol</th>\n",
              "      <td>4.762780</td>\n",
              "      <td>0.784260</td>\n",
              "      <td>34.221049</td>\n",
              "      <td>1.902998</td>\n",
              "      <td>0.885117</td>\n",
              "      <td>0.269386</td>\n",
              "      <td>0.002086</td>\n",
              "      <td>0.154587</td>\n",
              "      <td>0.000227</td>\n",
              "    </tr>\n",
              "    <tr>\n",
              "      <th>FasterChol</th>\n",
              "      <td>8.202531</td>\n",
              "      <td>5.153560</td>\n",
              "      <td>2150.338702</td>\n",
              "      <td>439.014697</td>\n",
              "      <td>0.885815</td>\n",
              "      <td>0.269875</td>\n",
              "      <td>0.001867</td>\n",
              "      <td>3200.984428</td>\n",
              "      <td>0.000479</td>\n",
              "    </tr>\n",
              "    <tr>\n",
              "      <th>EfficientChol</th>\n",
              "      <td>4.893604</td>\n",
              "      <td>0.979700</td>\n",
              "      <td>11.796166</td>\n",
              "      <td>1.777912</td>\n",
              "      <td>0.885480</td>\n",
              "      <td>0.269691</td>\n",
              "      <td>0.001995</td>\n",
              "      <td>38.996513</td>\n",
              "      <td>0.000192</td>\n",
              "    </tr>\n",
              "  </tbody>\n",
              "</table>\n",
              "</div>"
            ],
            "text/plain": [
              "                train_median_ms  train_std_ms  test_median_ms  test_std_ms  \\\n",
              "model                                                                        \n",
              "QDA                    5.519012      0.973150      713.962264     8.841186   \n",
              "TensorizedQDA          5.569690      1.009114      161.754331     5.177835   \n",
              "FasterQDA              8.058391      6.090009      900.164623    80.110818   \n",
              "EfficientQDA           5.494507      1.063762       12.827799     1.617674   \n",
              "QDA_Chol1              5.829548      1.218242      373.605458     9.434941   \n",
              "QDA_Chol2              5.496876      0.860621     1067.232985    20.469877   \n",
              "QDA_Chol3              5.629441      1.261103      375.637469     9.759911   \n",
              "TensorizedChol         4.762780      0.784260       34.221049     1.902998   \n",
              "FasterChol             8.202531      5.153560     2150.338702   439.014697   \n",
              "EfficientChol          4.893604      0.979700       11.796166     1.777912   \n",
              "\n",
              "                mean_accuracy  train_mem_median_mb  train_mem_std_mb  \\\n",
              "model                                                                  \n",
              "QDA                  0.886117             0.270332          0.002005   \n",
              "TensorizedQDA        0.885303             0.268700          0.002143   \n",
              "FasterQDA            0.884827             0.269188          0.001992   \n",
              "EfficientQDA         0.884890             0.269676          0.002171   \n",
              "QDA_Chol1            0.885233             0.270470          0.002408   \n",
              "QDA_Chol2            0.885142             0.269264          0.001858   \n",
              "QDA_Chol3            0.885755             0.269447          0.001818   \n",
              "TensorizedChol       0.885117             0.269386          0.002086   \n",
              "FasterChol           0.885815             0.269875          0.001867   \n",
              "EfficientChol        0.885480             0.269691          0.001995   \n",
              "\n",
              "                test_mem_median_mb  test_mem_std_mb  \n",
              "model                                                \n",
              "QDA                       0.099205         0.000602  \n",
              "TensorizedQDA             0.154121         0.000026  \n",
              "FasterQDA              3199.335289         0.000612  \n",
              "EfficientQDA             26.300941         0.000000  \n",
              "QDA_Chol1                 0.096283         0.000429  \n",
              "QDA_Chol2                 0.095415         0.000525  \n",
              "QDA_Chol3                 0.094948         0.000363  \n",
              "TensorizedChol            0.154587         0.000227  \n",
              "FasterChol             3200.984428         0.000479  \n",
              "EfficientChol            38.996513         0.000192  "
            ]
          },
          "execution_count": 210,
          "metadata": {},
          "output_type": "execute_result"
        }
      ],
      "source": [
        "b.summary()"
      ]
    },
    {
      "cell_type": "markdown",
      "metadata": {},
      "source": [
        "4. Mostrar dónde aparece la mencionada matriz de $n \\times n$, donde $n$ es la cantidad de observaciones a predecir.<br>\n",
        "\n",
        "La matriz $n\\times n$ aparece en el producto interno:\n",
        "```python\n",
        "inner_prod = unbiased_x.transpose(0,2,1) @ self.tensor_inv_cov @ unbiased_x\n",
        "```\n",
        "Escrito \"matemáticamente\", se tiene el producto $${X^*}^T \\cdot \\Sigma^{-1} \\cdot  {X^*},$$ donde $X^*\\in\\real^{k\\times n\\times p}$ y $\\Sigma\\in \\real^{k\\times p\\times p}$, por lo que el resultado $$\\text{inner\\_prod}\\in\\real^{k\\times n\\times n},$$ y sólo nos interesan los elementos de la diagonal (de las $k$ matrices $n\\times n$) que tienen el cuadrado de las observaciones, y todos los productos cruzados son descartados al hacer la diagonal.\n"
      ]
    },
    {
      "cell_type": "markdown",
      "metadata": {},
      "source": [
        "5. Demostrar que\n",
        "$$\n",
        "diag(A \\cdot B) = \\sum_{cols} A \\odot B^T = np.sum(A \\odot B^T, axis=1)\n",
        "$$ es decir, que se puede \"esquivar\" la matriz de $n \\times n$ usando matrices de $n \\times p$. También se puede usar, de forma equivalente,\n",
        "$$\n",
        "np.sum(A^T \\odot B, axis=0).T\n",
        "$$ \n",
        "queda a preferencia del alumno cuál usar.<br>\n",
        "\n",
        "\n"
      ]
    },
    {
      "cell_type": "markdown",
      "metadata": {},
      "source": [
        "Debemos demostrar $$\\text{diag}(A\\cdot B) = \\sum_\\text{cols} A\\odot B^T$$\n",
        "Desarrollamos el producto matricial del lado izquierdo:\n",
        "$$\n",
        "\\left[ A \\cdot B \\right]_{ik} = \\sum_j a_{ij} b_{jk}\n",
        "$$\n",
        "Luego el elemento $i$ de la diagonal será:\n",
        "$$\n",
        "\\left[\\text{diag}(A\\cdot B)\\right]_i = \\sum_j a_{ij} b_{ji}\n",
        "$$\n",
        "Ahora veamos el lado derecho, el producto elemento a elemento es:\n",
        "$$\n",
        "\\left[ A \\odot B^T \\right]_{ij} = a_{ij} b_{ji}\n",
        "$$\n",
        "Si ahora aplicamos la suma sobre las columnas:\n",
        "$$\n",
        "\\left[\\sum_\\text{cols} A\\odot B^T\\right]_i = \\sum_j a_{ij} b_{ji}\n",
        "$$\n",
        "Observamos que recuperamos lo mismo que para el lado izquierdo de la ecuación, por lo que hemos demostrado $\\text{diag}(A\\cdot B) = \\sum_\\text{cols} A\\odot B^T$.\n",
        "\n",
        "Luego aplicar `np.sum` sobre `axis` 1 indica a hacer la suma sobre las columnas, lo cual es lo que hacemos en el lado derecho de la ecuación.\n"
      ]
    },
    {
      "cell_type": "markdown",
      "metadata": {},
      "source": [
        "6. Utilizar la propiedad antes demostrada para reimplementar la predicción del modelo `FasterQDA` de forma eficiente en un nuevo modelo `EfficientQDA`."
      ]
    },
    {
      "cell_type": "code",
      "execution_count": 189,
      "metadata": {},
      "outputs": [],
      "source": [
        "class EfficientQDA(TensorizedQDA):\n",
        "    def _predict_log_conditionals_2(self,x):\n",
        "        # x tiene dims (n,1,p,1)\n",
        "        # tensor means tiene dims (k,p,1)\n",
        "        # ==> unbiased_x tiene dims (n,k,p,1)\n",
        "        unbiased_x = x.transpose(1,0).reshape(-1, 1, len(x), 1) - self.tensor_means\n",
        "        # convierto unbiased_x para que la dimensión más alta del tensor sea las k clases => (k,p,n)\n",
        "        unbiased_x = unbiased_x.reshape(len(unbiased_x), len(unbiased_x[0]),-1).transpose(1,2,0)\n",
        "\n",
        "        # hago el prod interno\n",
        "        inner_prod = np.sum((unbiased_x.transpose(0,2,1) @ self.tensor_inv_cov) * unbiased_x.transpose(0,2,1), axis=2)\n",
        "\n",
        "        return 0.5*np.log(LA.det(self.tensor_inv_cov)) - 0.5 * inner_prod.transpose()\n",
        "\n",
        "    def predict(self, X):\n",
        "        log_conditionals = self._predict_log_conditionals_2(X) \n",
        "        predictions = np.argmax(self.log_a_priori + log_conditionals, axis=1)\n",
        "        # print(predictions)\n",
        "\n",
        "        return predictions.reshape(1,-1)"
      ]
    },
    {
      "cell_type": "code",
      "execution_count": 190,
      "metadata": {},
      "outputs": [
        {
          "data": {
            "application/vnd.jupyter.widget-view+json": {
              "model_id": "01d2a3efd93847109debdf0994c149b6",
              "version_major": 2,
              "version_minor": 0
            },
            "text/plain": [
              "EfficientQDA (MEM):   0%|          | 0/30 [00:00<?, ?it/s]"
            ]
          },
          "metadata": {},
          "output_type": "display_data"
        },
        {
          "data": {
            "application/vnd.jupyter.widget-view+json": {
              "model_id": "fb2ba95966594dc8accfe774ecf5c7d8",
              "version_major": 2,
              "version_minor": 0
            },
            "text/plain": [
              "EfficientQDA (TIME):   0%|          | 0/100 [00:00<?, ?it/s]"
            ]
          },
          "metadata": {},
          "output_type": "display_data"
        }
      ],
      "source": [
        "b.bench(EfficientQDA)"
      ]
    },
    {
      "cell_type": "markdown",
      "metadata": {},
      "source": [
        "7. Comparar la performance de las 4 variantes de QDA implementadas hasta ahora (no Cholesky) ¿Qué se observa? A modo de opinión ¿Se condice con lo esperado?<br>\n",
        "\n",
        "Abajo podemos ver la comparación entre las variantes implementadas. Se observa (tomando `QDA` como base):\n",
        "- `TensorizedQDA` lleva a un speedup de test de x4.68, con casi igual tiempo de entrenamiento. Se tiene casi el mismo costo en memoria para el entrenamiento, mientras que para testeo, se incremento en un 56%.\n",
        "- `FasterQDA` no resultó más rápido, si no que soprendentemente, bastante más lento, tardando un 16% más que `QDA` aproximadamente. Además su consumo de memoria en testeo es muy elevado: aprox. 32,000x respecto de `QDA`. \n",
        "- `EfficientQDA` es mucho más rápido que el resto de variantes, con un 65x de speedup de testeo. Su consumo de memoria fue de aprox. 265x el de `QDA`.\n",
        "\n",
        "Como conclusión, `TensorizedQDA` provee un speedup interesante respecto de `QDA`, con un incremento de consumo de memoria no tan elevado. Por otro lado, `FasterQDA` resulta demasiado costoso tanto en tiempo como en memoria, principalmente por el producto entre matrices de gran tamaño. Por último, `EfficientQDA` sí es eficiente como su nombre lo indica, logrando un speedup muy importante, aunque su consumo de memoria es bastante más elevado que el speedup logrado.\n",
        "\n",
        "Se esperaba un mejor comportamiento de `FasterQDA`, pero viendo el tamaño de los sets de testeo (4,000 observaciones) se puede entender que el porque de su mala performance viene de hacer operaciones con matrices de tamaño muy elevado.\n",
        "\n",
        "*Nota*: los resultados (especialmente de speedup) son bastante dependientes del hardware. El resultado mencionado de 65x speedup en `EfficientQDA` es logró en una PC de escritorio, mientras que con una laptop se logro un 45x de speedup. Incluso se tuvieron diferencias con la PC de escritorio teniendo tareas de fondo consumiendo recursos."
      ]
    },
    {
      "cell_type": "code",
      "execution_count": 191,
      "metadata": {},
      "outputs": [
        {
          "data": {
            "text/html": [
              "<div>\n",
              "<style scoped>\n",
              "    .dataframe tbody tr th:only-of-type {\n",
              "        vertical-align: middle;\n",
              "    }\n",
              "\n",
              "    .dataframe tbody tr th {\n",
              "        vertical-align: top;\n",
              "    }\n",
              "\n",
              "    .dataframe thead th {\n",
              "        text-align: right;\n",
              "    }\n",
              "</style>\n",
              "<table border=\"1\" class=\"dataframe\">\n",
              "  <thead>\n",
              "    <tr style=\"text-align: right;\">\n",
              "      <th></th>\n",
              "      <th>train_median_ms</th>\n",
              "      <th>train_std_ms</th>\n",
              "      <th>test_median_ms</th>\n",
              "      <th>test_std_ms</th>\n",
              "      <th>mean_accuracy</th>\n",
              "      <th>train_mem_median_mb</th>\n",
              "      <th>train_mem_std_mb</th>\n",
              "      <th>test_mem_median_mb</th>\n",
              "      <th>test_mem_std_mb</th>\n",
              "      <th>train_speedup</th>\n",
              "      <th>test_speedup</th>\n",
              "      <th>train_mem_reduction</th>\n",
              "      <th>test_mem_reduction</th>\n",
              "    </tr>\n",
              "    <tr>\n",
              "      <th>model</th>\n",
              "      <th></th>\n",
              "      <th></th>\n",
              "      <th></th>\n",
              "      <th></th>\n",
              "      <th></th>\n",
              "      <th></th>\n",
              "      <th></th>\n",
              "      <th></th>\n",
              "      <th></th>\n",
              "      <th></th>\n",
              "      <th></th>\n",
              "      <th></th>\n",
              "      <th></th>\n",
              "    </tr>\n",
              "  </thead>\n",
              "  <tbody>\n",
              "    <tr>\n",
              "      <th>QDA</th>\n",
              "      <td>5.519012</td>\n",
              "      <td>0.973150</td>\n",
              "      <td>713.962264</td>\n",
              "      <td>8.841186</td>\n",
              "      <td>0.886117</td>\n",
              "      <td>0.270332</td>\n",
              "      <td>0.002005</td>\n",
              "      <td>0.099205</td>\n",
              "      <td>0.000602</td>\n",
              "      <td>1.000000</td>\n",
              "      <td>1.000000</td>\n",
              "      <td>1.000000</td>\n",
              "      <td>1.000000</td>\n",
              "    </tr>\n",
              "    <tr>\n",
              "      <th>TensorizedQDA</th>\n",
              "      <td>5.569690</td>\n",
              "      <td>1.009114</td>\n",
              "      <td>161.754331</td>\n",
              "      <td>5.177835</td>\n",
              "      <td>0.885303</td>\n",
              "      <td>0.268700</td>\n",
              "      <td>0.002143</td>\n",
              "      <td>0.154121</td>\n",
              "      <td>0.000026</td>\n",
              "      <td>0.990901</td>\n",
              "      <td>4.413868</td>\n",
              "      <td>1.006076</td>\n",
              "      <td>0.643684</td>\n",
              "    </tr>\n",
              "    <tr>\n",
              "      <th>FasterQDA</th>\n",
              "      <td>8.058391</td>\n",
              "      <td>6.090009</td>\n",
              "      <td>900.164623</td>\n",
              "      <td>80.110818</td>\n",
              "      <td>0.884827</td>\n",
              "      <td>0.269188</td>\n",
              "      <td>0.001992</td>\n",
              "      <td>3199.335289</td>\n",
              "      <td>0.000612</td>\n",
              "      <td>0.684878</td>\n",
              "      <td>0.793146</td>\n",
              "      <td>1.004251</td>\n",
              "      <td>0.000031</td>\n",
              "    </tr>\n",
              "    <tr>\n",
              "      <th>EfficientQDA</th>\n",
              "      <td>5.494507</td>\n",
              "      <td>1.063762</td>\n",
              "      <td>12.827799</td>\n",
              "      <td>1.617674</td>\n",
              "      <td>0.884890</td>\n",
              "      <td>0.269676</td>\n",
              "      <td>0.002171</td>\n",
              "      <td>26.300941</td>\n",
              "      <td>0.000000</td>\n",
              "      <td>1.004460</td>\n",
              "      <td>55.657425</td>\n",
              "      <td>1.002433</td>\n",
              "      <td>0.003772</td>\n",
              "    </tr>\n",
              "  </tbody>\n",
              "</table>\n",
              "</div>"
            ],
            "text/plain": [
              "               train_median_ms  train_std_ms  test_median_ms  test_std_ms  \\\n",
              "model                                                                       \n",
              "QDA                   5.519012      0.973150      713.962264     8.841186   \n",
              "TensorizedQDA         5.569690      1.009114      161.754331     5.177835   \n",
              "FasterQDA             8.058391      6.090009      900.164623    80.110818   \n",
              "EfficientQDA          5.494507      1.063762       12.827799     1.617674   \n",
              "\n",
              "               mean_accuracy  train_mem_median_mb  train_mem_std_mb  \\\n",
              "model                                                                 \n",
              "QDA                 0.886117             0.270332          0.002005   \n",
              "TensorizedQDA       0.885303             0.268700          0.002143   \n",
              "FasterQDA           0.884827             0.269188          0.001992   \n",
              "EfficientQDA        0.884890             0.269676          0.002171   \n",
              "\n",
              "               test_mem_median_mb  test_mem_std_mb  train_speedup  \\\n",
              "model                                                               \n",
              "QDA                      0.099205         0.000602       1.000000   \n",
              "TensorizedQDA            0.154121         0.000026       0.990901   \n",
              "FasterQDA             3199.335289         0.000612       0.684878   \n",
              "EfficientQDA            26.300941         0.000000       1.004460   \n",
              "\n",
              "               test_speedup  train_mem_reduction  test_mem_reduction  \n",
              "model                                                                 \n",
              "QDA                1.000000             1.000000            1.000000  \n",
              "TensorizedQDA      4.413868             1.006076            0.643684  \n",
              "FasterQDA          0.793146             1.004251            0.000031  \n",
              "EfficientQDA      55.657425             1.002433            0.003772  "
            ]
          },
          "execution_count": 191,
          "metadata": {},
          "output_type": "execute_result"
        }
      ],
      "source": [
        "b.summary(baseline='QDA')"
      ]
    },
    {
      "cell_type": "markdown",
      "metadata": {},
      "source": [
        "## Cholesky\n",
        "\n",
        "Hasta ahora todos los esfuerzos fueron enfocados en realizar una predicción más rápida. Los tiempos de entrenamiento (teóricos al menos) siguen siendo los mismos o hasta (minúsculamente) peores, dado que todas las mejoras siguen llamando al método `_fit_params` original de `QDA`.\n",
        "\n",
        "La descomposición/factorización de [Cholesky](https://en.wikipedia.org/wiki/Cholesky_decomposition#Statement) permite factorizar una matriz definida positiva $A = LL^T$ donde $L$ es una matriz triangular inferior. En particular, si bien se asume que $p \\ll n$, invertir la matriz de covarianzas $\\Sigma$ para cada clase impone un cuello de botella que podría alivianarse. Teniendo en cuenta que las matrices de covarianza son simétricas y salvo degeneración, definidas positivas, Cholesky como mínimo debería permitir invertir la matriz más rápido.\n",
        "\n",
        "*Nota: observar que calcular* $A^{-1}b$ *equivale a resolver el sistema* $Ax=b$.\n",
        "\n",
        "### 3) Diferencias entre implementaciones de `QDA_Chol`\n"
      ]
    },
    {
      "cell_type": "markdown",
      "metadata": {},
      "source": [
        "\n",
        "8. Si una matriz $A$ tiene fact. de Cholesky $A=LL^T$, expresar $A^{-1}$ en términos de $L$. ¿Cómo podría esto ser útil en la forma cuadrática de QDA?<br>\n",
        "\n",
        "Si $A=LL^T$, entonces $$A^{-1}=(L^T)^{-1}L^{-1}=(L^{-1})^T L^{-1}.$$\n",
        "Esto puede sernos útil par ala inversión de la matriz de covarianzas, la cual tiene tamaño $p\\times p$."
      ]
    },
    {
      "cell_type": "markdown",
      "metadata": {},
      "source": [
        "9. Explicar las diferencias entre `QDA_Chol1`y `QDA` y cómo `QDA_Chol1` llega, paso a paso, hasta las predicciones.<br>\n",
        "\n",
        "`QDA_Chol1`, en `_fit_params`, en lugar de invertir directamente la matriz $\\Sigma_k$ de covarianza, lo que se hace es aplicar la descomposición de Cholesky a dicha matriz para obtener la matriz triangular inferior $L_k$ para cada $k$-clase. \n",
        "\n",
        "Luego, en `_predict_log_conditional`, se puede aplicar lo siguiente al término derecho del cálculo de $\\log[f_j(x)]$: \n",
        "$$\\begin{align}\n",
        "(x-\\mu_j)^T \\, \\Sigma_j^{-1} \\, (x-\\mu_j) = & (x-\\mu_j)^T \\, (L_j^{-1})^T \\, L^{-1} \\, (x-\\mu_j)\\\\\n",
        "= &  y^T \\, y\n",
        "\\end{align}$$\n",
        "Entonces tenemos los mismo que la suma del cuadrado elemento a elemento (`(y**2).sum()`). "
      ]
    },
    {
      "cell_type": "markdown",
      "metadata": {},
      "source": [
        "10. ¿Cuáles son las diferencias entre `QDA_Chol1`, `QDA_Chol2` y `QDA_Chol3`?<br>\n",
        "\n",
        "`QDA_Chol2` en lugar de invertir $L$, lo que hace es resolver el sistema de ecuaciones: $$L\\,y=x-\\mu_j,$$ lo cual es lo mismo que hacer $$y=L^{-1}(x-\\mu_j).$$ Esto lo hace mediante la función `solve_triangular` de `SciPy`.\n",
        "\n",
        "`QDA_Chol3` invierte la matriz $L$ pero no mediante el método de `numpy`, si no que llamando a `scipy.dtrtri`. Este es un wrapper para la función `dtrtri` de Fortran, la cual computa la inversa de una matriz triangular de reales. Siendo Fortran un lenguaje de nivel bastante más bajo que python, es de esperar que esta implementación de inversión sea más eficiente que la general de `numpy`."
      ]
    },
    {
      "cell_type": "markdown",
      "metadata": {},
      "source": [
        "11. Comparar la performance de las 7 variantes de QDA implementadas hasta ahora ¿Qué se observa?¿Hay alguna de las implementaciones de `QDA_Chol` que sea claramente mejor que las demás?¿Alguna que sea peor?<br>\n",
        "\n",
        "Si comparamos las 3 implementaciones de `QDA_Chol` entre sí, podemos ver que su performance es muy similar, con una leve mejora en el speedup de entrenamiento de las variante `2` y `3` respecto de la `1`. Luego en el testeo las variantes `1` y `3` son igual de rápidas, con la `2` claramente más lenta. El consumo de memoria es prácticamente idéntico para las 3.\n",
        "\n",
        "Ninguna parecería ser claramente mejor que las demás, pero la variante `3` podría ser considerada mejor al tener mejor velocidad de entrenamiento, conservando velocidad de testeo y con un muy leve consumo extra de memoria respecto de la variante `1`. La variante `2` si es considerablemente peor que sus hermanas, debido a su velocidad de testeo pobre."
      ]
    },
    {
      "cell_type": "code",
      "execution_count": 207,
      "metadata": {},
      "outputs": [
        {
          "data": {
            "application/vnd.jupyter.widget-view+json": {
              "model_id": "12a6dab6b57c433a9c35ecc95590b6dc",
              "version_major": 2,
              "version_minor": 0
            },
            "text/plain": [
              "QDA_Chol1 (MEM):   0%|          | 0/30 [00:00<?, ?it/s]"
            ]
          },
          "metadata": {},
          "output_type": "display_data"
        },
        {
          "data": {
            "application/vnd.jupyter.widget-view+json": {
              "model_id": "1f58ef4d34eb452791125bc703308a02",
              "version_major": 2,
              "version_minor": 0
            },
            "text/plain": [
              "QDA_Chol1 (TIME):   0%|          | 0/100 [00:00<?, ?it/s]"
            ]
          },
          "metadata": {},
          "output_type": "display_data"
        },
        {
          "data": {
            "application/vnd.jupyter.widget-view+json": {
              "model_id": "ba85d7ce1a01499f8689abb090187bb9",
              "version_major": 2,
              "version_minor": 0
            },
            "text/plain": [
              "QDA_Chol2 (MEM):   0%|          | 0/30 [00:00<?, ?it/s]"
            ]
          },
          "metadata": {},
          "output_type": "display_data"
        },
        {
          "data": {
            "application/vnd.jupyter.widget-view+json": {
              "model_id": "87eb164648d444368ec0988ff4aab744",
              "version_major": 2,
              "version_minor": 0
            },
            "text/plain": [
              "QDA_Chol2 (TIME):   0%|          | 0/100 [00:00<?, ?it/s]"
            ]
          },
          "metadata": {},
          "output_type": "display_data"
        },
        {
          "data": {
            "application/vnd.jupyter.widget-view+json": {
              "model_id": "a3610fd7273541b39fa396bc47f8bd14",
              "version_major": 2,
              "version_minor": 0
            },
            "text/plain": [
              "QDA_Chol3 (MEM):   0%|          | 0/30 [00:00<?, ?it/s]"
            ]
          },
          "metadata": {},
          "output_type": "display_data"
        },
        {
          "data": {
            "application/vnd.jupyter.widget-view+json": {
              "model_id": "88cbdc14186843bbbf22fda501770f35",
              "version_major": 2,
              "version_minor": 0
            },
            "text/plain": [
              "QDA_Chol3 (TIME):   0%|          | 0/100 [00:00<?, ?it/s]"
            ]
          },
          "metadata": {},
          "output_type": "display_data"
        },
        {
          "data": {
            "text/html": [
              "<div>\n",
              "<style scoped>\n",
              "    .dataframe tbody tr th:only-of-type {\n",
              "        vertical-align: middle;\n",
              "    }\n",
              "\n",
              "    .dataframe tbody tr th {\n",
              "        vertical-align: top;\n",
              "    }\n",
              "\n",
              "    .dataframe thead th {\n",
              "        text-align: right;\n",
              "    }\n",
              "</style>\n",
              "<table border=\"1\" class=\"dataframe\">\n",
              "  <thead>\n",
              "    <tr style=\"text-align: right;\">\n",
              "      <th></th>\n",
              "      <th>train_median_ms</th>\n",
              "      <th>train_std_ms</th>\n",
              "      <th>test_median_ms</th>\n",
              "      <th>test_std_ms</th>\n",
              "      <th>mean_accuracy</th>\n",
              "      <th>train_mem_median_mb</th>\n",
              "      <th>train_mem_std_mb</th>\n",
              "      <th>test_mem_median_mb</th>\n",
              "      <th>test_mem_std_mb</th>\n",
              "      <th>train_speedup</th>\n",
              "      <th>test_speedup</th>\n",
              "      <th>train_mem_reduction</th>\n",
              "      <th>test_mem_reduction</th>\n",
              "    </tr>\n",
              "    <tr>\n",
              "      <th>model</th>\n",
              "      <th></th>\n",
              "      <th></th>\n",
              "      <th></th>\n",
              "      <th></th>\n",
              "      <th></th>\n",
              "      <th></th>\n",
              "      <th></th>\n",
              "      <th></th>\n",
              "      <th></th>\n",
              "      <th></th>\n",
              "      <th></th>\n",
              "      <th></th>\n",
              "      <th></th>\n",
              "    </tr>\n",
              "  </thead>\n",
              "  <tbody>\n",
              "    <tr>\n",
              "      <th>QDA</th>\n",
              "      <td>5.519012</td>\n",
              "      <td>0.973150</td>\n",
              "      <td>713.962264</td>\n",
              "      <td>8.841186</td>\n",
              "      <td>0.886117</td>\n",
              "      <td>0.270332</td>\n",
              "      <td>0.002005</td>\n",
              "      <td>0.099205</td>\n",
              "      <td>0.000602</td>\n",
              "      <td>1.000000</td>\n",
              "      <td>1.000000</td>\n",
              "      <td>1.000000</td>\n",
              "      <td>1.000000</td>\n",
              "    </tr>\n",
              "    <tr>\n",
              "      <th>TensorizedQDA</th>\n",
              "      <td>5.569690</td>\n",
              "      <td>1.009114</td>\n",
              "      <td>161.754331</td>\n",
              "      <td>5.177835</td>\n",
              "      <td>0.885303</td>\n",
              "      <td>0.268700</td>\n",
              "      <td>0.002143</td>\n",
              "      <td>0.154121</td>\n",
              "      <td>0.000026</td>\n",
              "      <td>0.990901</td>\n",
              "      <td>4.413868</td>\n",
              "      <td>1.006076</td>\n",
              "      <td>0.643684</td>\n",
              "    </tr>\n",
              "    <tr>\n",
              "      <th>FasterQDA</th>\n",
              "      <td>8.058391</td>\n",
              "      <td>6.090009</td>\n",
              "      <td>900.164623</td>\n",
              "      <td>80.110818</td>\n",
              "      <td>0.884827</td>\n",
              "      <td>0.269188</td>\n",
              "      <td>0.001992</td>\n",
              "      <td>3199.335289</td>\n",
              "      <td>0.000612</td>\n",
              "      <td>0.684878</td>\n",
              "      <td>0.793146</td>\n",
              "      <td>1.004251</td>\n",
              "      <td>0.000031</td>\n",
              "    </tr>\n",
              "    <tr>\n",
              "      <th>EfficientQDA</th>\n",
              "      <td>5.494507</td>\n",
              "      <td>1.063762</td>\n",
              "      <td>12.827799</td>\n",
              "      <td>1.617674</td>\n",
              "      <td>0.884890</td>\n",
              "      <td>0.269676</td>\n",
              "      <td>0.002171</td>\n",
              "      <td>26.300941</td>\n",
              "      <td>0.000000</td>\n",
              "      <td>1.004460</td>\n",
              "      <td>55.657425</td>\n",
              "      <td>1.002433</td>\n",
              "      <td>0.003772</td>\n",
              "    </tr>\n",
              "    <tr>\n",
              "      <th>QDA_Chol1</th>\n",
              "      <td>5.829548</td>\n",
              "      <td>1.218242</td>\n",
              "      <td>373.605458</td>\n",
              "      <td>9.434941</td>\n",
              "      <td>0.885233</td>\n",
              "      <td>0.270470</td>\n",
              "      <td>0.002408</td>\n",
              "      <td>0.096283</td>\n",
              "      <td>0.000429</td>\n",
              "      <td>0.946731</td>\n",
              "      <td>1.911006</td>\n",
              "      <td>0.999492</td>\n",
              "      <td>1.030354</td>\n",
              "    </tr>\n",
              "    <tr>\n",
              "      <th>QDA_Chol2</th>\n",
              "      <td>5.496876</td>\n",
              "      <td>0.860621</td>\n",
              "      <td>1067.232985</td>\n",
              "      <td>20.469877</td>\n",
              "      <td>0.885142</td>\n",
              "      <td>0.269264</td>\n",
              "      <td>0.001858</td>\n",
              "      <td>0.095415</td>\n",
              "      <td>0.000525</td>\n",
              "      <td>1.004027</td>\n",
              "      <td>0.668984</td>\n",
              "      <td>1.003967</td>\n",
              "      <td>1.039725</td>\n",
              "    </tr>\n",
              "    <tr>\n",
              "      <th>QDA_Chol3</th>\n",
              "      <td>5.629441</td>\n",
              "      <td>1.261103</td>\n",
              "      <td>375.637469</td>\n",
              "      <td>9.759911</td>\n",
              "      <td>0.885755</td>\n",
              "      <td>0.269447</td>\n",
              "      <td>0.001818</td>\n",
              "      <td>0.094948</td>\n",
              "      <td>0.000363</td>\n",
              "      <td>0.980384</td>\n",
              "      <td>1.900668</td>\n",
              "      <td>1.003285</td>\n",
              "      <td>1.044842</td>\n",
              "    </tr>\n",
              "    <tr>\n",
              "      <th>TensorizedChol</th>\n",
              "      <td>4.762780</td>\n",
              "      <td>0.784260</td>\n",
              "      <td>34.221049</td>\n",
              "      <td>1.902998</td>\n",
              "      <td>0.885117</td>\n",
              "      <td>0.269386</td>\n",
              "      <td>0.002086</td>\n",
              "      <td>0.154587</td>\n",
              "      <td>0.000227</td>\n",
              "      <td>1.158780</td>\n",
              "      <td>20.863249</td>\n",
              "      <td>1.003512</td>\n",
              "      <td>0.641746</td>\n",
              "    </tr>\n",
              "    <tr>\n",
              "      <th>FasterChol</th>\n",
              "      <td>8.202531</td>\n",
              "      <td>5.153560</td>\n",
              "      <td>2150.338702</td>\n",
              "      <td>439.014697</td>\n",
              "      <td>0.885815</td>\n",
              "      <td>0.269875</td>\n",
              "      <td>0.001867</td>\n",
              "      <td>3200.984428</td>\n",
              "      <td>0.000479</td>\n",
              "      <td>0.672843</td>\n",
              "      <td>0.332023</td>\n",
              "      <td>1.001696</td>\n",
              "      <td>0.000031</td>\n",
              "    </tr>\n",
              "    <tr>\n",
              "      <th>EfficientChol</th>\n",
              "      <td>4.893604</td>\n",
              "      <td>0.979700</td>\n",
              "      <td>11.796166</td>\n",
              "      <td>1.777912</td>\n",
              "      <td>0.885480</td>\n",
              "      <td>0.269691</td>\n",
              "      <td>0.001995</td>\n",
              "      <td>38.996513</td>\n",
              "      <td>0.000192</td>\n",
              "      <td>1.127801</td>\n",
              "      <td>60.524940</td>\n",
              "      <td>1.002376</td>\n",
              "      <td>0.002544</td>\n",
              "    </tr>\n",
              "  </tbody>\n",
              "</table>\n",
              "</div>"
            ],
            "text/plain": [
              "                train_median_ms  train_std_ms  test_median_ms  test_std_ms  \\\n",
              "model                                                                        \n",
              "QDA                    5.519012      0.973150      713.962264     8.841186   \n",
              "TensorizedQDA          5.569690      1.009114      161.754331     5.177835   \n",
              "FasterQDA              8.058391      6.090009      900.164623    80.110818   \n",
              "EfficientQDA           5.494507      1.063762       12.827799     1.617674   \n",
              "QDA_Chol1              5.829548      1.218242      373.605458     9.434941   \n",
              "QDA_Chol2              5.496876      0.860621     1067.232985    20.469877   \n",
              "QDA_Chol3              5.629441      1.261103      375.637469     9.759911   \n",
              "TensorizedChol         4.762780      0.784260       34.221049     1.902998   \n",
              "FasterChol             8.202531      5.153560     2150.338702   439.014697   \n",
              "EfficientChol          4.893604      0.979700       11.796166     1.777912   \n",
              "\n",
              "                mean_accuracy  train_mem_median_mb  train_mem_std_mb  \\\n",
              "model                                                                  \n",
              "QDA                  0.886117             0.270332          0.002005   \n",
              "TensorizedQDA        0.885303             0.268700          0.002143   \n",
              "FasterQDA            0.884827             0.269188          0.001992   \n",
              "EfficientQDA         0.884890             0.269676          0.002171   \n",
              "QDA_Chol1            0.885233             0.270470          0.002408   \n",
              "QDA_Chol2            0.885142             0.269264          0.001858   \n",
              "QDA_Chol3            0.885755             0.269447          0.001818   \n",
              "TensorizedChol       0.885117             0.269386          0.002086   \n",
              "FasterChol           0.885815             0.269875          0.001867   \n",
              "EfficientChol        0.885480             0.269691          0.001995   \n",
              "\n",
              "                test_mem_median_mb  test_mem_std_mb  train_speedup  \\\n",
              "model                                                                \n",
              "QDA                       0.099205         0.000602       1.000000   \n",
              "TensorizedQDA             0.154121         0.000026       0.990901   \n",
              "FasterQDA              3199.335289         0.000612       0.684878   \n",
              "EfficientQDA             26.300941         0.000000       1.004460   \n",
              "QDA_Chol1                 0.096283         0.000429       0.946731   \n",
              "QDA_Chol2                 0.095415         0.000525       1.004027   \n",
              "QDA_Chol3                 0.094948         0.000363       0.980384   \n",
              "TensorizedChol            0.154587         0.000227       1.158780   \n",
              "FasterChol             3200.984428         0.000479       0.672843   \n",
              "EfficientChol            38.996513         0.000192       1.127801   \n",
              "\n",
              "                test_speedup  train_mem_reduction  test_mem_reduction  \n",
              "model                                                                  \n",
              "QDA                 1.000000             1.000000            1.000000  \n",
              "TensorizedQDA       4.413868             1.006076            0.643684  \n",
              "FasterQDA           0.793146             1.004251            0.000031  \n",
              "EfficientQDA       55.657425             1.002433            0.003772  \n",
              "QDA_Chol1           1.911006             0.999492            1.030354  \n",
              "QDA_Chol2           0.668984             1.003967            1.039725  \n",
              "QDA_Chol3           1.900668             1.003285            1.044842  \n",
              "TensorizedChol     20.863249             1.003512            0.641746  \n",
              "FasterChol          0.332023             1.001696            0.000031  \n",
              "EfficientChol      60.524940             1.002376            0.002544  "
            ]
          },
          "execution_count": 207,
          "metadata": {},
          "output_type": "execute_result"
        }
      ],
      "source": [
        "b.bench(QDA_Chol1)\n",
        "b.bench(QDA_Chol2)\n",
        "b.bench(QDA_Chol3)\n",
        "b.summary(baseline='QDA')"
      ]
    },
    {
      "cell_type": "markdown",
      "metadata": {},
      "source": [
        "### 4) Optimización\n",
        "\n",
        "12. Implementar el modelo `TensorizedChol` paralelizando sobre clases/observaciones según corresponda. Se recomienda heredarlo de alguna de las implementaciones de `QDA_Chol`, aunque la elección de cuál de ellas queda a cargo del alumno según lo observado en los benchmarks de puntos anteriores."
      ]
    },
    {
      "cell_type": "code",
      "execution_count": 196,
      "metadata": {},
      "outputs": [],
      "source": [
        "class TensorizedChol(QDA_Chol3):\n",
        "  def _fit_params(self, X, y):\n",
        "    super()._fit_params(X,y)\n",
        "    self.tensor_L_invs = np.stack(self.L_invs)\n",
        "    self.tensor_means =  np.stack(self.means)\n",
        "\n",
        "  def _predict_log_conditionals(self, x):\n",
        "    unbiased_x =  x - self.tensor_means\n",
        "\n",
        "    y = self.tensor_L_invs @ unbiased_x\n",
        "    #print(y.shape)\n",
        "\n",
        "    diag_term = np.log(self.tensor_L_invs.diagonal(axis1=1, axis2=2).prod(axis=1))\n",
        "\n",
        "    return diag_term -0.5 * (y.transpose(0,2,1) @ y).flatten()\n",
        "\n",
        "  def _predict_one(self, x):\n",
        "      # return the class that has maximum a posteriori probability\n",
        "      return np.argmax(self.log_a_priori + self._predict_log_conditionals(x))"
      ]
    },
    {
      "cell_type": "code",
      "execution_count": null,
      "metadata": {},
      "outputs": [
        {
          "data": {
            "application/vnd.jupyter.widget-view+json": {
              "model_id": "9bc31297ac954ca69c533c0b237d56c8",
              "version_major": 2,
              "version_minor": 0
            },
            "text/plain": [
              "TensorizedChol (MEM):   0%|          | 0/30 [00:00<?, ?it/s]"
            ]
          },
          "metadata": {},
          "output_type": "display_data"
        },
        {
          "data": {
            "application/vnd.jupyter.widget-view+json": {
              "model_id": "3a9185757b2e4c47ab0cab491bc1bc8e",
              "version_major": 2,
              "version_minor": 0
            },
            "text/plain": [
              "TensorizedChol (TIME):   0%|          | 0/100 [00:00<?, ?it/s]"
            ]
          },
          "metadata": {},
          "output_type": "display_data"
        },
        {
          "data": {
            "text/html": [
              "<div>\n",
              "<style scoped>\n",
              "    .dataframe tbody tr th:only-of-type {\n",
              "        vertical-align: middle;\n",
              "    }\n",
              "\n",
              "    .dataframe tbody tr th {\n",
              "        vertical-align: top;\n",
              "    }\n",
              "\n",
              "    .dataframe thead th {\n",
              "        text-align: right;\n",
              "    }\n",
              "</style>\n",
              "<table border=\"1\" class=\"dataframe\">\n",
              "  <thead>\n",
              "    <tr style=\"text-align: right;\">\n",
              "      <th></th>\n",
              "      <th>train_median_ms</th>\n",
              "      <th>train_std_ms</th>\n",
              "      <th>test_median_ms</th>\n",
              "      <th>test_std_ms</th>\n",
              "      <th>mean_accuracy</th>\n",
              "      <th>train_mem_median_mb</th>\n",
              "      <th>train_mem_std_mb</th>\n",
              "      <th>test_mem_median_mb</th>\n",
              "      <th>test_mem_std_mb</th>\n",
              "    </tr>\n",
              "    <tr>\n",
              "      <th>model</th>\n",
              "      <th></th>\n",
              "      <th></th>\n",
              "      <th></th>\n",
              "      <th></th>\n",
              "      <th></th>\n",
              "      <th></th>\n",
              "      <th></th>\n",
              "      <th></th>\n",
              "      <th></th>\n",
              "    </tr>\n",
              "  </thead>\n",
              "  <tbody>\n",
              "    <tr>\n",
              "      <th>QDA</th>\n",
              "      <td>5.519012</td>\n",
              "      <td>0.973150</td>\n",
              "      <td>713.962264</td>\n",
              "      <td>8.841186</td>\n",
              "      <td>0.886117</td>\n",
              "      <td>0.270332</td>\n",
              "      <td>0.002005</td>\n",
              "      <td>0.099205</td>\n",
              "      <td>0.000602</td>\n",
              "    </tr>\n",
              "    <tr>\n",
              "      <th>TensorizedQDA</th>\n",
              "      <td>5.569690</td>\n",
              "      <td>1.009114</td>\n",
              "      <td>161.754331</td>\n",
              "      <td>5.177835</td>\n",
              "      <td>0.885303</td>\n",
              "      <td>0.268700</td>\n",
              "      <td>0.002143</td>\n",
              "      <td>0.154121</td>\n",
              "      <td>0.000026</td>\n",
              "    </tr>\n",
              "    <tr>\n",
              "      <th>FasterQDA</th>\n",
              "      <td>8.058391</td>\n",
              "      <td>6.090009</td>\n",
              "      <td>900.164623</td>\n",
              "      <td>80.110818</td>\n",
              "      <td>0.884827</td>\n",
              "      <td>0.269188</td>\n",
              "      <td>0.001992</td>\n",
              "      <td>3199.335289</td>\n",
              "      <td>0.000612</td>\n",
              "    </tr>\n",
              "    <tr>\n",
              "      <th>EfficientQDA</th>\n",
              "      <td>5.494507</td>\n",
              "      <td>1.063762</td>\n",
              "      <td>12.827799</td>\n",
              "      <td>1.617674</td>\n",
              "      <td>0.884890</td>\n",
              "      <td>0.269676</td>\n",
              "      <td>0.002171</td>\n",
              "      <td>26.300941</td>\n",
              "      <td>0.000000</td>\n",
              "    </tr>\n",
              "    <tr>\n",
              "      <th>QDA_Chol1</th>\n",
              "      <td>5.884172</td>\n",
              "      <td>1.066690</td>\n",
              "      <td>368.677205</td>\n",
              "      <td>7.728530</td>\n",
              "      <td>0.884555</td>\n",
              "      <td>0.268616</td>\n",
              "      <td>0.001854</td>\n",
              "      <td>0.095093</td>\n",
              "      <td>0.000399</td>\n",
              "    </tr>\n",
              "    <tr>\n",
              "      <th>QDA_Chol2</th>\n",
              "      <td>5.362612</td>\n",
              "      <td>0.855385</td>\n",
              "      <td>1057.647972</td>\n",
              "      <td>24.395160</td>\n",
              "      <td>0.885777</td>\n",
              "      <td>0.269691</td>\n",
              "      <td>0.001871</td>\n",
              "      <td>0.096090</td>\n",
              "      <td>0.000586</td>\n",
              "    </tr>\n",
              "    <tr>\n",
              "      <th>QDA_Chol3</th>\n",
              "      <td>5.511434</td>\n",
              "      <td>0.904933</td>\n",
              "      <td>374.823948</td>\n",
              "      <td>9.832648</td>\n",
              "      <td>0.884960</td>\n",
              "      <td>0.269447</td>\n",
              "      <td>0.002504</td>\n",
              "      <td>0.094948</td>\n",
              "      <td>0.000330</td>\n",
              "    </tr>\n",
              "    <tr>\n",
              "      <th>TensorizedChol</th>\n",
              "      <td>4.762780</td>\n",
              "      <td>0.784260</td>\n",
              "      <td>34.221049</td>\n",
              "      <td>1.902998</td>\n",
              "      <td>0.885117</td>\n",
              "      <td>0.269386</td>\n",
              "      <td>0.002086</td>\n",
              "      <td>0.154587</td>\n",
              "      <td>0.000227</td>\n",
              "    </tr>\n",
              "  </tbody>\n",
              "</table>\n",
              "</div>"
            ],
            "text/plain": [
              "                train_median_ms  train_std_ms  test_median_ms  test_std_ms  \\\n",
              "model                                                                        \n",
              "QDA                    5.519012      0.973150      713.962264     8.841186   \n",
              "TensorizedQDA          5.569690      1.009114      161.754331     5.177835   \n",
              "FasterQDA              8.058391      6.090009      900.164623    80.110818   \n",
              "EfficientQDA           5.494507      1.063762       12.827799     1.617674   \n",
              "QDA_Chol1              5.884172      1.066690      368.677205     7.728530   \n",
              "QDA_Chol2              5.362612      0.855385     1057.647972    24.395160   \n",
              "QDA_Chol3              5.511434      0.904933      374.823948     9.832648   \n",
              "TensorizedChol         4.762780      0.784260       34.221049     1.902998   \n",
              "\n",
              "                mean_accuracy  train_mem_median_mb  train_mem_std_mb  \\\n",
              "model                                                                  \n",
              "QDA                  0.886117             0.270332          0.002005   \n",
              "TensorizedQDA        0.885303             0.268700          0.002143   \n",
              "FasterQDA            0.884827             0.269188          0.001992   \n",
              "EfficientQDA         0.884890             0.269676          0.002171   \n",
              "QDA_Chol1            0.884555             0.268616          0.001854   \n",
              "QDA_Chol2            0.885777             0.269691          0.001871   \n",
              "QDA_Chol3            0.884960             0.269447          0.002504   \n",
              "TensorizedChol       0.885117             0.269386          0.002086   \n",
              "\n",
              "                test_mem_median_mb  test_mem_std_mb  \n",
              "model                                                \n",
              "QDA                       0.099205         0.000602  \n",
              "TensorizedQDA             0.154121         0.000026  \n",
              "FasterQDA              3199.335289         0.000612  \n",
              "EfficientQDA             26.300941         0.000000  \n",
              "QDA_Chol1                 0.095093         0.000399  \n",
              "QDA_Chol2                 0.096090         0.000586  \n",
              "QDA_Chol3                 0.094948         0.000330  \n",
              "TensorizedChol            0.154587         0.000227  "
            ]
          },
          "execution_count": 197,
          "metadata": {},
          "output_type": "execute_result"
        }
      ],
      "source": [
        "b.bench(TensorizedChol)"
      ]
    },
    {
      "cell_type": "markdown",
      "metadata": {},
      "source": [
        "13. Implementar el modelo `EfficientChol` combinando los insights de `EfficientQDA` y `TensorizedChol`. Si se desea, se puede implementar `FasterChol` como ayuda, pero no se contempla para el punto."
      ]
    },
    {
      "cell_type": "code",
      "execution_count": 198,
      "metadata": {},
      "outputs": [],
      "source": [
        "class FasterChol(TensorizedChol):\n",
        "    def _predict_log_conditionals(self, x):\n",
        "        unbiased_x =  x - self.tensor_means\n",
        "        #print(unbiased_x.shape)\n",
        "        unbiased_x = unbiased_x.reshape(len(unbiased_x), len(unbiased_x[0]),-1).transpose(1,2,0)\n",
        "        #print(\"calculated unbiased_x\")\n",
        "        #print(unbiased_x.shape)\n",
        "\n",
        "        #print(self.tensor_L_invs.shape)\n",
        "        y = self.tensor_L_invs @ unbiased_x\n",
        "        #print(\"calculated y\")\n",
        "        #print(y.shape)\n",
        "\n",
        "        diag_term = np.log(self.tensor_L_invs.diagonal(axis1=1, axis2=2).prod(axis=1))\n",
        "        #print(\"calculated diag_term\")\n",
        "        #print(diag_term.shape)\n",
        "\n",
        "        y_term = (y.transpose(0,2,1) @ y).diagonal(axis1=1, axis2=2).transpose(1,0)\n",
        "        #rint(y_term.shape)\n",
        "        #rint(\"calculated y_term\")\n",
        "        return diag_term -0.5 * y_term\n",
        "\n",
        "    def predict(self, x):\n",
        "        log_conditionals = self._predict_log_conditionals(x.transpose(1,0).reshape(-1,1,len(x),1))\n",
        "        #print(log_conditionals.shape)\n",
        "        return np.argmax(self.log_a_priori + log_conditionals, axis=1)"
      ]
    },
    {
      "cell_type": "code",
      "execution_count": null,
      "metadata": {},
      "outputs": [
        {
          "data": {
            "application/vnd.jupyter.widget-view+json": {
              "model_id": "a537762c8f094d1eb9200b931fa279f3",
              "version_major": 2,
              "version_minor": 0
            },
            "text/plain": [
              "FasterChol (MEM):   0%|          | 0/30 [00:00<?, ?it/s]"
            ]
          },
          "metadata": {},
          "output_type": "display_data"
        },
        {
          "data": {
            "application/vnd.jupyter.widget-view+json": {
              "model_id": "0e67e692e6014e2d9becd131a3145286",
              "version_major": 2,
              "version_minor": 0
            },
            "text/plain": [
              "FasterChol (TIME):   0%|          | 0/100 [00:00<?, ?it/s]"
            ]
          },
          "metadata": {},
          "output_type": "display_data"
        },
        {
          "data": {
            "text/html": [
              "<div>\n",
              "<style scoped>\n",
              "    .dataframe tbody tr th:only-of-type {\n",
              "        vertical-align: middle;\n",
              "    }\n",
              "\n",
              "    .dataframe tbody tr th {\n",
              "        vertical-align: top;\n",
              "    }\n",
              "\n",
              "    .dataframe thead th {\n",
              "        text-align: right;\n",
              "    }\n",
              "</style>\n",
              "<table border=\"1\" class=\"dataframe\">\n",
              "  <thead>\n",
              "    <tr style=\"text-align: right;\">\n",
              "      <th></th>\n",
              "      <th>train_median_ms</th>\n",
              "      <th>train_std_ms</th>\n",
              "      <th>test_median_ms</th>\n",
              "      <th>test_std_ms</th>\n",
              "      <th>mean_accuracy</th>\n",
              "      <th>train_mem_median_mb</th>\n",
              "      <th>train_mem_std_mb</th>\n",
              "      <th>test_mem_median_mb</th>\n",
              "      <th>test_mem_std_mb</th>\n",
              "    </tr>\n",
              "    <tr>\n",
              "      <th>model</th>\n",
              "      <th></th>\n",
              "      <th></th>\n",
              "      <th></th>\n",
              "      <th></th>\n",
              "      <th></th>\n",
              "      <th></th>\n",
              "      <th></th>\n",
              "      <th></th>\n",
              "      <th></th>\n",
              "    </tr>\n",
              "  </thead>\n",
              "  <tbody>\n",
              "    <tr>\n",
              "      <th>QDA</th>\n",
              "      <td>5.519012</td>\n",
              "      <td>0.973150</td>\n",
              "      <td>713.962264</td>\n",
              "      <td>8.841186</td>\n",
              "      <td>0.886117</td>\n",
              "      <td>0.270332</td>\n",
              "      <td>0.002005</td>\n",
              "      <td>0.099205</td>\n",
              "      <td>0.000602</td>\n",
              "    </tr>\n",
              "    <tr>\n",
              "      <th>TensorizedQDA</th>\n",
              "      <td>5.569690</td>\n",
              "      <td>1.009114</td>\n",
              "      <td>161.754331</td>\n",
              "      <td>5.177835</td>\n",
              "      <td>0.885303</td>\n",
              "      <td>0.268700</td>\n",
              "      <td>0.002143</td>\n",
              "      <td>0.154121</td>\n",
              "      <td>0.000026</td>\n",
              "    </tr>\n",
              "    <tr>\n",
              "      <th>FasterQDA</th>\n",
              "      <td>8.058391</td>\n",
              "      <td>6.090009</td>\n",
              "      <td>900.164623</td>\n",
              "      <td>80.110818</td>\n",
              "      <td>0.884827</td>\n",
              "      <td>0.269188</td>\n",
              "      <td>0.001992</td>\n",
              "      <td>3199.335289</td>\n",
              "      <td>0.000612</td>\n",
              "    </tr>\n",
              "    <tr>\n",
              "      <th>EfficientQDA</th>\n",
              "      <td>5.494507</td>\n",
              "      <td>1.063762</td>\n",
              "      <td>12.827799</td>\n",
              "      <td>1.617674</td>\n",
              "      <td>0.884890</td>\n",
              "      <td>0.269676</td>\n",
              "      <td>0.002171</td>\n",
              "      <td>26.300941</td>\n",
              "      <td>0.000000</td>\n",
              "    </tr>\n",
              "    <tr>\n",
              "      <th>QDA_Chol1</th>\n",
              "      <td>5.884172</td>\n",
              "      <td>1.066690</td>\n",
              "      <td>368.677205</td>\n",
              "      <td>7.728530</td>\n",
              "      <td>0.884555</td>\n",
              "      <td>0.268616</td>\n",
              "      <td>0.001854</td>\n",
              "      <td>0.095093</td>\n",
              "      <td>0.000399</td>\n",
              "    </tr>\n",
              "    <tr>\n",
              "      <th>QDA_Chol2</th>\n",
              "      <td>5.362612</td>\n",
              "      <td>0.855385</td>\n",
              "      <td>1057.647972</td>\n",
              "      <td>24.395160</td>\n",
              "      <td>0.885777</td>\n",
              "      <td>0.269691</td>\n",
              "      <td>0.001871</td>\n",
              "      <td>0.096090</td>\n",
              "      <td>0.000586</td>\n",
              "    </tr>\n",
              "    <tr>\n",
              "      <th>QDA_Chol3</th>\n",
              "      <td>5.511434</td>\n",
              "      <td>0.904933</td>\n",
              "      <td>374.823948</td>\n",
              "      <td>9.832648</td>\n",
              "      <td>0.884960</td>\n",
              "      <td>0.269447</td>\n",
              "      <td>0.002504</td>\n",
              "      <td>0.094948</td>\n",
              "      <td>0.000330</td>\n",
              "    </tr>\n",
              "    <tr>\n",
              "      <th>TensorizedChol</th>\n",
              "      <td>4.762780</td>\n",
              "      <td>0.784260</td>\n",
              "      <td>34.221049</td>\n",
              "      <td>1.902998</td>\n",
              "      <td>0.885117</td>\n",
              "      <td>0.269386</td>\n",
              "      <td>0.002086</td>\n",
              "      <td>0.154587</td>\n",
              "      <td>0.000227</td>\n",
              "    </tr>\n",
              "    <tr>\n",
              "      <th>FasterChol</th>\n",
              "      <td>8.202531</td>\n",
              "      <td>5.153560</td>\n",
              "      <td>2150.338702</td>\n",
              "      <td>439.014697</td>\n",
              "      <td>0.885815</td>\n",
              "      <td>0.269875</td>\n",
              "      <td>0.001867</td>\n",
              "      <td>3200.984428</td>\n",
              "      <td>0.000479</td>\n",
              "    </tr>\n",
              "  </tbody>\n",
              "</table>\n",
              "</div>"
            ],
            "text/plain": [
              "                train_median_ms  train_std_ms  test_median_ms  test_std_ms  \\\n",
              "model                                                                        \n",
              "QDA                    5.519012      0.973150      713.962264     8.841186   \n",
              "TensorizedQDA          5.569690      1.009114      161.754331     5.177835   \n",
              "FasterQDA              8.058391      6.090009      900.164623    80.110818   \n",
              "EfficientQDA           5.494507      1.063762       12.827799     1.617674   \n",
              "QDA_Chol1              5.884172      1.066690      368.677205     7.728530   \n",
              "QDA_Chol2              5.362612      0.855385     1057.647972    24.395160   \n",
              "QDA_Chol3              5.511434      0.904933      374.823948     9.832648   \n",
              "TensorizedChol         4.762780      0.784260       34.221049     1.902998   \n",
              "FasterChol             8.202531      5.153560     2150.338702   439.014697   \n",
              "\n",
              "                mean_accuracy  train_mem_median_mb  train_mem_std_mb  \\\n",
              "model                                                                  \n",
              "QDA                  0.886117             0.270332          0.002005   \n",
              "TensorizedQDA        0.885303             0.268700          0.002143   \n",
              "FasterQDA            0.884827             0.269188          0.001992   \n",
              "EfficientQDA         0.884890             0.269676          0.002171   \n",
              "QDA_Chol1            0.884555             0.268616          0.001854   \n",
              "QDA_Chol2            0.885777             0.269691          0.001871   \n",
              "QDA_Chol3            0.884960             0.269447          0.002504   \n",
              "TensorizedChol       0.885117             0.269386          0.002086   \n",
              "FasterChol           0.885815             0.269875          0.001867   \n",
              "\n",
              "                test_mem_median_mb  test_mem_std_mb  \n",
              "model                                                \n",
              "QDA                       0.099205         0.000602  \n",
              "TensorizedQDA             0.154121         0.000026  \n",
              "FasterQDA              3199.335289         0.000612  \n",
              "EfficientQDA             26.300941         0.000000  \n",
              "QDA_Chol1                 0.095093         0.000399  \n",
              "QDA_Chol2                 0.096090         0.000586  \n",
              "QDA_Chol3                 0.094948         0.000330  \n",
              "TensorizedChol            0.154587         0.000227  \n",
              "FasterChol             3200.984428         0.000479  "
            ]
          },
          "execution_count": 199,
          "metadata": {},
          "output_type": "execute_result"
        }
      ],
      "source": [
        "b.bench(FasterChol)"
      ]
    },
    {
      "cell_type": "code",
      "execution_count": 200,
      "metadata": {},
      "outputs": [],
      "source": [
        "class EfficientChol(TensorizedChol):\n",
        "    def _predict_log_conditionals(self, x):\n",
        "        unbiased_x =  x - self.tensor_means\n",
        "        unbiased_x = unbiased_x.reshape(len(unbiased_x), len(unbiased_x[0]),-1).transpose(1,2,0)\n",
        "\n",
        "        y = self.tensor_L_invs @ unbiased_x\n",
        "        y_term = np.sum(y * y,axis=1).transpose()\n",
        "\n",
        "        diag_term = np.log(self.tensor_L_invs.diagonal(axis1=1, axis2=2).prod(axis=1))\n",
        "\n",
        "        return diag_term -0.5 * y_term\n",
        "\n",
        "    def predict(self, X):\n",
        "        log_conditionals = self._predict_log_conditionals(X.transpose(1,0).reshape(-1,1,len(X),1))\n",
        "        return np.argmax(self.log_a_priori + log_conditionals, axis=1)"
      ]
    },
    {
      "cell_type": "code",
      "execution_count": null,
      "metadata": {},
      "outputs": [
        {
          "data": {
            "application/vnd.jupyter.widget-view+json": {
              "model_id": "a95d1c7b131145e8ac9aaef4dc067b34",
              "version_major": 2,
              "version_minor": 0
            },
            "text/plain": [
              "EfficientChol (MEM):   0%|          | 0/30 [00:00<?, ?it/s]"
            ]
          },
          "metadata": {},
          "output_type": "display_data"
        },
        {
          "data": {
            "application/vnd.jupyter.widget-view+json": {
              "model_id": "cc7864682d2348e69ba5fe1bbf587560",
              "version_major": 2,
              "version_minor": 0
            },
            "text/plain": [
              "EfficientChol (TIME):   0%|          | 0/100 [00:00<?, ?it/s]"
            ]
          },
          "metadata": {},
          "output_type": "display_data"
        },
        {
          "data": {
            "text/html": [
              "<div>\n",
              "<style scoped>\n",
              "    .dataframe tbody tr th:only-of-type {\n",
              "        vertical-align: middle;\n",
              "    }\n",
              "\n",
              "    .dataframe tbody tr th {\n",
              "        vertical-align: top;\n",
              "    }\n",
              "\n",
              "    .dataframe thead th {\n",
              "        text-align: right;\n",
              "    }\n",
              "</style>\n",
              "<table border=\"1\" class=\"dataframe\">\n",
              "  <thead>\n",
              "    <tr style=\"text-align: right;\">\n",
              "      <th></th>\n",
              "      <th>train_median_ms</th>\n",
              "      <th>train_std_ms</th>\n",
              "      <th>test_median_ms</th>\n",
              "      <th>test_std_ms</th>\n",
              "      <th>mean_accuracy</th>\n",
              "      <th>train_mem_median_mb</th>\n",
              "      <th>train_mem_std_mb</th>\n",
              "      <th>test_mem_median_mb</th>\n",
              "      <th>test_mem_std_mb</th>\n",
              "      <th>train_speedup</th>\n",
              "      <th>test_speedup</th>\n",
              "      <th>train_mem_reduction</th>\n",
              "      <th>test_mem_reduction</th>\n",
              "    </tr>\n",
              "    <tr>\n",
              "      <th>model</th>\n",
              "      <th></th>\n",
              "      <th></th>\n",
              "      <th></th>\n",
              "      <th></th>\n",
              "      <th></th>\n",
              "      <th></th>\n",
              "      <th></th>\n",
              "      <th></th>\n",
              "      <th></th>\n",
              "      <th></th>\n",
              "      <th></th>\n",
              "      <th></th>\n",
              "      <th></th>\n",
              "    </tr>\n",
              "  </thead>\n",
              "  <tbody>\n",
              "    <tr>\n",
              "      <th>QDA</th>\n",
              "      <td>5.519012</td>\n",
              "      <td>0.973150</td>\n",
              "      <td>713.962264</td>\n",
              "      <td>8.841186</td>\n",
              "      <td>0.886117</td>\n",
              "      <td>0.270332</td>\n",
              "      <td>0.002005</td>\n",
              "      <td>0.099205</td>\n",
              "      <td>0.000602</td>\n",
              "      <td>0.995560</td>\n",
              "      <td>0.017967</td>\n",
              "      <td>0.997573</td>\n",
              "      <td>265.115776</td>\n",
              "    </tr>\n",
              "    <tr>\n",
              "      <th>TensorizedQDA</th>\n",
              "      <td>5.569690</td>\n",
              "      <td>1.009114</td>\n",
              "      <td>161.754331</td>\n",
              "      <td>5.177835</td>\n",
              "      <td>0.885303</td>\n",
              "      <td>0.268700</td>\n",
              "      <td>0.002143</td>\n",
              "      <td>0.154121</td>\n",
              "      <td>0.000026</td>\n",
              "      <td>0.986501</td>\n",
              "      <td>0.079304</td>\n",
              "      <td>1.003634</td>\n",
              "      <td>170.650809</td>\n",
              "    </tr>\n",
              "    <tr>\n",
              "      <th>FasterQDA</th>\n",
              "      <td>8.058391</td>\n",
              "      <td>6.090009</td>\n",
              "      <td>900.164623</td>\n",
              "      <td>80.110818</td>\n",
              "      <td>0.884827</td>\n",
              "      <td>0.269188</td>\n",
              "      <td>0.001992</td>\n",
              "      <td>3199.335289</td>\n",
              "      <td>0.000612</td>\n",
              "      <td>0.681837</td>\n",
              "      <td>0.014251</td>\n",
              "      <td>1.001814</td>\n",
              "      <td>0.008221</td>\n",
              "    </tr>\n",
              "    <tr>\n",
              "      <th>EfficientQDA</th>\n",
              "      <td>5.494507</td>\n",
              "      <td>1.063762</td>\n",
              "      <td>12.827799</td>\n",
              "      <td>1.617674</td>\n",
              "      <td>0.884890</td>\n",
              "      <td>0.269676</td>\n",
              "      <td>0.002171</td>\n",
              "      <td>26.300941</td>\n",
              "      <td>0.000000</td>\n",
              "      <td>1.000000</td>\n",
              "      <td>1.000000</td>\n",
              "      <td>1.000000</td>\n",
              "      <td>1.000000</td>\n",
              "    </tr>\n",
              "    <tr>\n",
              "      <th>QDA_Chol1</th>\n",
              "      <td>5.884172</td>\n",
              "      <td>1.066690</td>\n",
              "      <td>368.677205</td>\n",
              "      <td>7.728530</td>\n",
              "      <td>0.884555</td>\n",
              "      <td>0.268616</td>\n",
              "      <td>0.001854</td>\n",
              "      <td>0.095093</td>\n",
              "      <td>0.000399</td>\n",
              "      <td>0.933777</td>\n",
              "      <td>0.034794</td>\n",
              "      <td>1.003948</td>\n",
              "      <td>276.581916</td>\n",
              "    </tr>\n",
              "    <tr>\n",
              "      <th>QDA_Chol2</th>\n",
              "      <td>5.362612</td>\n",
              "      <td>0.855385</td>\n",
              "      <td>1057.647972</td>\n",
              "      <td>24.395160</td>\n",
              "      <td>0.885777</td>\n",
              "      <td>0.269691</td>\n",
              "      <td>0.001871</td>\n",
              "      <td>0.096090</td>\n",
              "      <td>0.000586</td>\n",
              "      <td>1.024595</td>\n",
              "      <td>0.012129</td>\n",
              "      <td>0.999943</td>\n",
              "      <td>273.710633</td>\n",
              "    </tr>\n",
              "    <tr>\n",
              "      <th>QDA_Chol3</th>\n",
              "      <td>5.511434</td>\n",
              "      <td>0.904933</td>\n",
              "      <td>374.823948</td>\n",
              "      <td>9.832648</td>\n",
              "      <td>0.884960</td>\n",
              "      <td>0.269447</td>\n",
              "      <td>0.002504</td>\n",
              "      <td>0.094948</td>\n",
              "      <td>0.000330</td>\n",
              "      <td>0.996929</td>\n",
              "      <td>0.034224</td>\n",
              "      <td>1.000849</td>\n",
              "      <td>277.004178</td>\n",
              "    </tr>\n",
              "    <tr>\n",
              "      <th>TensorizedChol</th>\n",
              "      <td>4.762780</td>\n",
              "      <td>0.784260</td>\n",
              "      <td>34.221049</td>\n",
              "      <td>1.902998</td>\n",
              "      <td>0.885117</td>\n",
              "      <td>0.269386</td>\n",
              "      <td>0.002086</td>\n",
              "      <td>0.154587</td>\n",
              "      <td>0.000227</td>\n",
              "      <td>1.153634</td>\n",
              "      <td>0.374851</td>\n",
              "      <td>1.001076</td>\n",
              "      <td>170.137055</td>\n",
              "    </tr>\n",
              "    <tr>\n",
              "      <th>FasterChol</th>\n",
              "      <td>8.202531</td>\n",
              "      <td>5.153560</td>\n",
              "      <td>2150.338702</td>\n",
              "      <td>439.014697</td>\n",
              "      <td>0.885815</td>\n",
              "      <td>0.269875</td>\n",
              "      <td>0.001867</td>\n",
              "      <td>3200.984428</td>\n",
              "      <td>0.000479</td>\n",
              "      <td>0.669855</td>\n",
              "      <td>0.005965</td>\n",
              "      <td>0.999265</td>\n",
              "      <td>0.008217</td>\n",
              "    </tr>\n",
              "    <tr>\n",
              "      <th>EfficientChol</th>\n",
              "      <td>4.893604</td>\n",
              "      <td>0.979700</td>\n",
              "      <td>11.796166</td>\n",
              "      <td>1.777912</td>\n",
              "      <td>0.885480</td>\n",
              "      <td>0.269691</td>\n",
              "      <td>0.001995</td>\n",
              "      <td>38.996513</td>\n",
              "      <td>0.000192</td>\n",
              "      <td>1.122794</td>\n",
              "      <td>1.087455</td>\n",
              "      <td>0.999943</td>\n",
              "      <td>0.674443</td>\n",
              "    </tr>\n",
              "  </tbody>\n",
              "</table>\n",
              "</div>"
            ],
            "text/plain": [
              "                train_median_ms  train_std_ms  test_median_ms  test_std_ms  \\\n",
              "model                                                                        \n",
              "QDA                    5.519012      0.973150      713.962264     8.841186   \n",
              "TensorizedQDA          5.569690      1.009114      161.754331     5.177835   \n",
              "FasterQDA              8.058391      6.090009      900.164623    80.110818   \n",
              "EfficientQDA           5.494507      1.063762       12.827799     1.617674   \n",
              "QDA_Chol1              5.884172      1.066690      368.677205     7.728530   \n",
              "QDA_Chol2              5.362612      0.855385     1057.647972    24.395160   \n",
              "QDA_Chol3              5.511434      0.904933      374.823948     9.832648   \n",
              "TensorizedChol         4.762780      0.784260       34.221049     1.902998   \n",
              "FasterChol             8.202531      5.153560     2150.338702   439.014697   \n",
              "EfficientChol          4.893604      0.979700       11.796166     1.777912   \n",
              "\n",
              "                mean_accuracy  train_mem_median_mb  train_mem_std_mb  \\\n",
              "model                                                                  \n",
              "QDA                  0.886117             0.270332          0.002005   \n",
              "TensorizedQDA        0.885303             0.268700          0.002143   \n",
              "FasterQDA            0.884827             0.269188          0.001992   \n",
              "EfficientQDA         0.884890             0.269676          0.002171   \n",
              "QDA_Chol1            0.884555             0.268616          0.001854   \n",
              "QDA_Chol2            0.885777             0.269691          0.001871   \n",
              "QDA_Chol3            0.884960             0.269447          0.002504   \n",
              "TensorizedChol       0.885117             0.269386          0.002086   \n",
              "FasterChol           0.885815             0.269875          0.001867   \n",
              "EfficientChol        0.885480             0.269691          0.001995   \n",
              "\n",
              "                test_mem_median_mb  test_mem_std_mb  train_speedup  \\\n",
              "model                                                                \n",
              "QDA                       0.099205         0.000602       0.995560   \n",
              "TensorizedQDA             0.154121         0.000026       0.986501   \n",
              "FasterQDA              3199.335289         0.000612       0.681837   \n",
              "EfficientQDA             26.300941         0.000000       1.000000   \n",
              "QDA_Chol1                 0.095093         0.000399       0.933777   \n",
              "QDA_Chol2                 0.096090         0.000586       1.024595   \n",
              "QDA_Chol3                 0.094948         0.000330       0.996929   \n",
              "TensorizedChol            0.154587         0.000227       1.153634   \n",
              "FasterChol             3200.984428         0.000479       0.669855   \n",
              "EfficientChol            38.996513         0.000192       1.122794   \n",
              "\n",
              "                test_speedup  train_mem_reduction  test_mem_reduction  \n",
              "model                                                                  \n",
              "QDA                 0.017967             0.997573          265.115776  \n",
              "TensorizedQDA       0.079304             1.003634          170.650809  \n",
              "FasterQDA           0.014251             1.001814            0.008221  \n",
              "EfficientQDA        1.000000             1.000000            1.000000  \n",
              "QDA_Chol1           0.034794             1.003948          276.581916  \n",
              "QDA_Chol2           0.012129             0.999943          273.710633  \n",
              "QDA_Chol3           0.034224             1.000849          277.004178  \n",
              "TensorizedChol      0.374851             1.001076          170.137055  \n",
              "FasterChol          0.005965             0.999265            0.008217  \n",
              "EfficientChol       1.087455             0.999943            0.674443  "
            ]
          },
          "execution_count": 201,
          "metadata": {},
          "output_type": "execute_result"
        }
      ],
      "source": [
        "b.bench(EfficientChol)"
      ]
    },
    {
      "cell_type": "markdown",
      "metadata": {},
      "source": [
        "14. Comparar la performance de las 9 variantes de QDA implementadas ¿Qué se observa? A modo de opinión ¿Se condice con lo esperado?"
      ]
    },
    {
      "cell_type": "code",
      "execution_count": 202,
      "metadata": {},
      "outputs": [
        {
          "data": {
            "text/html": [
              "<div>\n",
              "<style scoped>\n",
              "    .dataframe tbody tr th:only-of-type {\n",
              "        vertical-align: middle;\n",
              "    }\n",
              "\n",
              "    .dataframe tbody tr th {\n",
              "        vertical-align: top;\n",
              "    }\n",
              "\n",
              "    .dataframe thead th {\n",
              "        text-align: right;\n",
              "    }\n",
              "</style>\n",
              "<table border=\"1\" class=\"dataframe\">\n",
              "  <thead>\n",
              "    <tr style=\"text-align: right;\">\n",
              "      <th></th>\n",
              "      <th>train_median_ms</th>\n",
              "      <th>train_std_ms</th>\n",
              "      <th>test_median_ms</th>\n",
              "      <th>test_std_ms</th>\n",
              "      <th>mean_accuracy</th>\n",
              "      <th>train_mem_median_mb</th>\n",
              "      <th>train_mem_std_mb</th>\n",
              "      <th>test_mem_median_mb</th>\n",
              "      <th>test_mem_std_mb</th>\n",
              "      <th>train_speedup</th>\n",
              "      <th>test_speedup</th>\n",
              "      <th>train_mem_reduction</th>\n",
              "      <th>test_mem_reduction</th>\n",
              "    </tr>\n",
              "    <tr>\n",
              "      <th>model</th>\n",
              "      <th></th>\n",
              "      <th></th>\n",
              "      <th></th>\n",
              "      <th></th>\n",
              "      <th></th>\n",
              "      <th></th>\n",
              "      <th></th>\n",
              "      <th></th>\n",
              "      <th></th>\n",
              "      <th></th>\n",
              "      <th></th>\n",
              "      <th></th>\n",
              "      <th></th>\n",
              "    </tr>\n",
              "  </thead>\n",
              "  <tbody>\n",
              "    <tr>\n",
              "      <th>QDA</th>\n",
              "      <td>5.519012</td>\n",
              "      <td>0.973150</td>\n",
              "      <td>713.962264</td>\n",
              "      <td>8.841186</td>\n",
              "      <td>0.886117</td>\n",
              "      <td>0.270332</td>\n",
              "      <td>0.002005</td>\n",
              "      <td>0.099205</td>\n",
              "      <td>0.000602</td>\n",
              "      <td>1.000000</td>\n",
              "      <td>1.000000</td>\n",
              "      <td>1.000000</td>\n",
              "      <td>1.000000</td>\n",
              "    </tr>\n",
              "    <tr>\n",
              "      <th>TensorizedQDA</th>\n",
              "      <td>5.569690</td>\n",
              "      <td>1.009114</td>\n",
              "      <td>161.754331</td>\n",
              "      <td>5.177835</td>\n",
              "      <td>0.885303</td>\n",
              "      <td>0.268700</td>\n",
              "      <td>0.002143</td>\n",
              "      <td>0.154121</td>\n",
              "      <td>0.000026</td>\n",
              "      <td>0.990901</td>\n",
              "      <td>4.413868</td>\n",
              "      <td>1.006076</td>\n",
              "      <td>0.643684</td>\n",
              "    </tr>\n",
              "    <tr>\n",
              "      <th>FasterQDA</th>\n",
              "      <td>8.058391</td>\n",
              "      <td>6.090009</td>\n",
              "      <td>900.164623</td>\n",
              "      <td>80.110818</td>\n",
              "      <td>0.884827</td>\n",
              "      <td>0.269188</td>\n",
              "      <td>0.001992</td>\n",
              "      <td>3199.335289</td>\n",
              "      <td>0.000612</td>\n",
              "      <td>0.684878</td>\n",
              "      <td>0.793146</td>\n",
              "      <td>1.004251</td>\n",
              "      <td>0.000031</td>\n",
              "    </tr>\n",
              "    <tr>\n",
              "      <th>EfficientQDA</th>\n",
              "      <td>5.494507</td>\n",
              "      <td>1.063762</td>\n",
              "      <td>12.827799</td>\n",
              "      <td>1.617674</td>\n",
              "      <td>0.884890</td>\n",
              "      <td>0.269676</td>\n",
              "      <td>0.002171</td>\n",
              "      <td>26.300941</td>\n",
              "      <td>0.000000</td>\n",
              "      <td>1.004460</td>\n",
              "      <td>55.657425</td>\n",
              "      <td>1.002433</td>\n",
              "      <td>0.003772</td>\n",
              "    </tr>\n",
              "    <tr>\n",
              "      <th>QDA_Chol1</th>\n",
              "      <td>5.884172</td>\n",
              "      <td>1.066690</td>\n",
              "      <td>368.677205</td>\n",
              "      <td>7.728530</td>\n",
              "      <td>0.884555</td>\n",
              "      <td>0.268616</td>\n",
              "      <td>0.001854</td>\n",
              "      <td>0.095093</td>\n",
              "      <td>0.000399</td>\n",
              "      <td>0.937942</td>\n",
              "      <td>1.936551</td>\n",
              "      <td>1.006391</td>\n",
              "      <td>1.043250</td>\n",
              "    </tr>\n",
              "    <tr>\n",
              "      <th>QDA_Chol2</th>\n",
              "      <td>5.362612</td>\n",
              "      <td>0.855385</td>\n",
              "      <td>1057.647972</td>\n",
              "      <td>24.395160</td>\n",
              "      <td>0.885777</td>\n",
              "      <td>0.269691</td>\n",
              "      <td>0.001871</td>\n",
              "      <td>0.096090</td>\n",
              "      <td>0.000586</td>\n",
              "      <td>1.029165</td>\n",
              "      <td>0.675047</td>\n",
              "      <td>1.002376</td>\n",
              "      <td>1.032419</td>\n",
              "    </tr>\n",
              "    <tr>\n",
              "      <th>QDA_Chol3</th>\n",
              "      <td>5.511434</td>\n",
              "      <td>0.904933</td>\n",
              "      <td>374.823948</td>\n",
              "      <td>9.832648</td>\n",
              "      <td>0.884960</td>\n",
              "      <td>0.269447</td>\n",
              "      <td>0.002504</td>\n",
              "      <td>0.094948</td>\n",
              "      <td>0.000330</td>\n",
              "      <td>1.001375</td>\n",
              "      <td>1.904794</td>\n",
              "      <td>1.003285</td>\n",
              "      <td>1.044842</td>\n",
              "    </tr>\n",
              "    <tr>\n",
              "      <th>TensorizedChol</th>\n",
              "      <td>4.762780</td>\n",
              "      <td>0.784260</td>\n",
              "      <td>34.221049</td>\n",
              "      <td>1.902998</td>\n",
              "      <td>0.885117</td>\n",
              "      <td>0.269386</td>\n",
              "      <td>0.002086</td>\n",
              "      <td>0.154587</td>\n",
              "      <td>0.000227</td>\n",
              "      <td>1.158780</td>\n",
              "      <td>20.863249</td>\n",
              "      <td>1.003512</td>\n",
              "      <td>0.641746</td>\n",
              "    </tr>\n",
              "    <tr>\n",
              "      <th>FasterChol</th>\n",
              "      <td>8.202531</td>\n",
              "      <td>5.153560</td>\n",
              "      <td>2150.338702</td>\n",
              "      <td>439.014697</td>\n",
              "      <td>0.885815</td>\n",
              "      <td>0.269875</td>\n",
              "      <td>0.001867</td>\n",
              "      <td>3200.984428</td>\n",
              "      <td>0.000479</td>\n",
              "      <td>0.672843</td>\n",
              "      <td>0.332023</td>\n",
              "      <td>1.001696</td>\n",
              "      <td>0.000031</td>\n",
              "    </tr>\n",
              "    <tr>\n",
              "      <th>EfficientChol</th>\n",
              "      <td>4.893604</td>\n",
              "      <td>0.979700</td>\n",
              "      <td>11.796166</td>\n",
              "      <td>1.777912</td>\n",
              "      <td>0.885480</td>\n",
              "      <td>0.269691</td>\n",
              "      <td>0.001995</td>\n",
              "      <td>38.996513</td>\n",
              "      <td>0.000192</td>\n",
              "      <td>1.127801</td>\n",
              "      <td>60.524940</td>\n",
              "      <td>1.002376</td>\n",
              "      <td>0.002544</td>\n",
              "    </tr>\n",
              "  </tbody>\n",
              "</table>\n",
              "</div>"
            ],
            "text/plain": [
              "                train_median_ms  train_std_ms  test_median_ms  test_std_ms  \\\n",
              "model                                                                        \n",
              "QDA                    5.519012      0.973150      713.962264     8.841186   \n",
              "TensorizedQDA          5.569690      1.009114      161.754331     5.177835   \n",
              "FasterQDA              8.058391      6.090009      900.164623    80.110818   \n",
              "EfficientQDA           5.494507      1.063762       12.827799     1.617674   \n",
              "QDA_Chol1              5.884172      1.066690      368.677205     7.728530   \n",
              "QDA_Chol2              5.362612      0.855385     1057.647972    24.395160   \n",
              "QDA_Chol3              5.511434      0.904933      374.823948     9.832648   \n",
              "TensorizedChol         4.762780      0.784260       34.221049     1.902998   \n",
              "FasterChol             8.202531      5.153560     2150.338702   439.014697   \n",
              "EfficientChol          4.893604      0.979700       11.796166     1.777912   \n",
              "\n",
              "                mean_accuracy  train_mem_median_mb  train_mem_std_mb  \\\n",
              "model                                                                  \n",
              "QDA                  0.886117             0.270332          0.002005   \n",
              "TensorizedQDA        0.885303             0.268700          0.002143   \n",
              "FasterQDA            0.884827             0.269188          0.001992   \n",
              "EfficientQDA         0.884890             0.269676          0.002171   \n",
              "QDA_Chol1            0.884555             0.268616          0.001854   \n",
              "QDA_Chol2            0.885777             0.269691          0.001871   \n",
              "QDA_Chol3            0.884960             0.269447          0.002504   \n",
              "TensorizedChol       0.885117             0.269386          0.002086   \n",
              "FasterChol           0.885815             0.269875          0.001867   \n",
              "EfficientChol        0.885480             0.269691          0.001995   \n",
              "\n",
              "                test_mem_median_mb  test_mem_std_mb  train_speedup  \\\n",
              "model                                                                \n",
              "QDA                       0.099205         0.000602       1.000000   \n",
              "TensorizedQDA             0.154121         0.000026       0.990901   \n",
              "FasterQDA              3199.335289         0.000612       0.684878   \n",
              "EfficientQDA             26.300941         0.000000       1.004460   \n",
              "QDA_Chol1                 0.095093         0.000399       0.937942   \n",
              "QDA_Chol2                 0.096090         0.000586       1.029165   \n",
              "QDA_Chol3                 0.094948         0.000330       1.001375   \n",
              "TensorizedChol            0.154587         0.000227       1.158780   \n",
              "FasterChol             3200.984428         0.000479       0.672843   \n",
              "EfficientChol            38.996513         0.000192       1.127801   \n",
              "\n",
              "                test_speedup  train_mem_reduction  test_mem_reduction  \n",
              "model                                                                  \n",
              "QDA                 1.000000             1.000000            1.000000  \n",
              "TensorizedQDA       4.413868             1.006076            0.643684  \n",
              "FasterQDA           0.793146             1.004251            0.000031  \n",
              "EfficientQDA       55.657425             1.002433            0.003772  \n",
              "QDA_Chol1           1.936551             1.006391            1.043250  \n",
              "QDA_Chol2           0.675047             1.002376            1.032419  \n",
              "QDA_Chol3           1.904794             1.003285            1.044842  \n",
              "TensorizedChol     20.863249             1.003512            0.641746  \n",
              "FasterChol          0.332023             1.001696            0.000031  \n",
              "EfficientChol      60.524940             1.002376            0.002544  "
            ]
          },
          "execution_count": 202,
          "metadata": {},
          "output_type": "execute_result"
        }
      ],
      "source": [
        "b.summary(baseline='QDA')"
      ]
    },
    {
      "cell_type": "markdown",
      "metadata": {},
      "source": [
        "En primer lugar se observa prácticamente la misma precisión (`mean_accuracy`) para los 9 modelos implementados. Esto es esperable ya que, matemáticamente, lo que hacen es lo mismo pero por distintos caminos.<br>\n",
        "Si observamos las medianas de tiempos de testeo si observamos diferencias en ordenes de magnitud, teniendo como claros líderes las variantes `Efficient`, seguidas de las variantes `Tensorized`. Luego las variantes `Chol` básicas 1 y 3 presentan una disminución de la mitad respecto de la variante original, mientras que la 2 queda en el órden de la variante original. <br>\n",
        "En cuanto a consumo de memoria en testeo, nuevamente vemos diferencias de órdenes de magnitud, con los peores casos siendo las variantes `Faster`, seguidas (2 órdenes de magnitud por debajo) por las variantes `Efficient`. El resto de variantes están 2 órdenes de magnitud por debajo. Esto podría ser indicativo de por qué las variantes `Faster` tienen tanta peor performance en cuanto a tiempos de ejecución.<br>\n",
        "Para evaluar esta última hipótesis, se corrieron el resto de sets de benchmarking, los cuales tienen cantidades menores de datos. A continuación se puede ver graficados los tiempos y consumo de memoria de entrenamiento y de testeo. Podemos ver que los tiempos de entrenamiento crecen de forma importante con la cantidad de datos, con diferencias entre los modelos pero siempre en el mismo orden. El consumo de memoria es idéntico entre todos en este caso.<br>\n",
        "En testeo, podemos observar 2 grupos inicialmente: uno \"rápido\" conformado por `FasterQDA`, `FasterChol`, `EfficientQDA` y `EfficientChol`; y otro \"lento\" con mayor dispersión entre los tiempos. Pero al aumentar la cantidad de samples, podemos observar que las variantes `Faster` crecen de manera mucho más importante que todo el resto de modelos, temrinando siendo los más lentos. En cuanto a memoria, se distinguen 3 grupos, en forma decreciente: las variantes `Faster`, las variantes `Efficient` y el resto de variantes. Se ve como la diferencia en órdenes de magnitud crece al aumentar el tamaño de los samples.<br>\n",
        "Podemos concluir entonces que, en términos generales el orden en que se desarrollaron los modelos conlleva mejoras en tiempos de ejecución con penalidad moderada en consumo de memoria, a excepción de las variantes `Faster` cuyo escaleo es pobre, consumiendo mucha memoria y obteniendo tiempos de ejecución mayores a las variantes originales."
      ]
    },
    {
      "cell_type": "code",
      "execution_count": 208,
      "metadata": {},
      "outputs": [
        {
          "name": "stdout",
          "output_type": "stream",
          "text": [
            "Benching params:\n",
            "Total runs: 150\n",
            "Warmup runs: 20\n",
            "Peak Memory usage runs: 30\n",
            "Running time runs: 100\n",
            "Train size rows (approx): 120\n",
            "Test size rows (approx): 30\n",
            "Test size fraction: 0.2\n"
          ]
        },
        {
          "data": {
            "application/vnd.jupyter.widget-view+json": {
              "model_id": "79374e740a6042118de951c6bd00db3d",
              "version_major": 2,
              "version_minor": 0
            },
            "text/plain": [
              "QDA (MEM):   0%|          | 0/30 [00:00<?, ?it/s]"
            ]
          },
          "metadata": {},
          "output_type": "display_data"
        },
        {
          "data": {
            "application/vnd.jupyter.widget-view+json": {
              "model_id": "73df9c0c121b4e1faecf4adf55392466",
              "version_major": 2,
              "version_minor": 0
            },
            "text/plain": [
              "QDA (TIME):   0%|          | 0/100 [00:00<?, ?it/s]"
            ]
          },
          "metadata": {},
          "output_type": "display_data"
        },
        {
          "data": {
            "application/vnd.jupyter.widget-view+json": {
              "model_id": "395ac1c7517a41038ff72d124af117f0",
              "version_major": 2,
              "version_minor": 0
            },
            "text/plain": [
              "TensorizedQDA (MEM):   0%|          | 0/30 [00:00<?, ?it/s]"
            ]
          },
          "metadata": {},
          "output_type": "display_data"
        },
        {
          "data": {
            "application/vnd.jupyter.widget-view+json": {
              "model_id": "6e2992cc6aa449cb8cfa4370ba322a64",
              "version_major": 2,
              "version_minor": 0
            },
            "text/plain": [
              "TensorizedQDA (TIME):   0%|          | 0/100 [00:00<?, ?it/s]"
            ]
          },
          "metadata": {},
          "output_type": "display_data"
        },
        {
          "data": {
            "application/vnd.jupyter.widget-view+json": {
              "model_id": "dd5f1bc8b97c45c5b53907ff119c9b7f",
              "version_major": 2,
              "version_minor": 0
            },
            "text/plain": [
              "FasterQDA (MEM):   0%|          | 0/30 [00:00<?, ?it/s]"
            ]
          },
          "metadata": {},
          "output_type": "display_data"
        },
        {
          "data": {
            "application/vnd.jupyter.widget-view+json": {
              "model_id": "6fa82dd6373d4d7fbe2aef9812a4214f",
              "version_major": 2,
              "version_minor": 0
            },
            "text/plain": [
              "FasterQDA (TIME):   0%|          | 0/100 [00:00<?, ?it/s]"
            ]
          },
          "metadata": {},
          "output_type": "display_data"
        },
        {
          "data": {
            "application/vnd.jupyter.widget-view+json": {
              "model_id": "5b4f28857e464051bb4df85b69762684",
              "version_major": 2,
              "version_minor": 0
            },
            "text/plain": [
              "EfficientQDA (MEM):   0%|          | 0/30 [00:00<?, ?it/s]"
            ]
          },
          "metadata": {},
          "output_type": "display_data"
        },
        {
          "data": {
            "application/vnd.jupyter.widget-view+json": {
              "model_id": "82a3979c27ff4683bd1a71a4e4dd9355",
              "version_major": 2,
              "version_minor": 0
            },
            "text/plain": [
              "EfficientQDA (TIME):   0%|          | 0/100 [00:00<?, ?it/s]"
            ]
          },
          "metadata": {},
          "output_type": "display_data"
        },
        {
          "data": {
            "application/vnd.jupyter.widget-view+json": {
              "model_id": "f7e6d736803340939ff16ccfc9f03c95",
              "version_major": 2,
              "version_minor": 0
            },
            "text/plain": [
              "QDA_Chol1 (MEM):   0%|          | 0/30 [00:00<?, ?it/s]"
            ]
          },
          "metadata": {},
          "output_type": "display_data"
        },
        {
          "data": {
            "application/vnd.jupyter.widget-view+json": {
              "model_id": "2e211c95134d4df19f2abd44723a403a",
              "version_major": 2,
              "version_minor": 0
            },
            "text/plain": [
              "QDA_Chol1 (TIME):   0%|          | 0/100 [00:00<?, ?it/s]"
            ]
          },
          "metadata": {},
          "output_type": "display_data"
        },
        {
          "data": {
            "application/vnd.jupyter.widget-view+json": {
              "model_id": "8042f2189f924d91953989b32bc237c1",
              "version_major": 2,
              "version_minor": 0
            },
            "text/plain": [
              "QDA_Chol2 (MEM):   0%|          | 0/30 [00:00<?, ?it/s]"
            ]
          },
          "metadata": {},
          "output_type": "display_data"
        },
        {
          "data": {
            "application/vnd.jupyter.widget-view+json": {
              "model_id": "aaecc4157d1345d19a8adc2642ae08f3",
              "version_major": 2,
              "version_minor": 0
            },
            "text/plain": [
              "QDA_Chol2 (TIME):   0%|          | 0/100 [00:00<?, ?it/s]"
            ]
          },
          "metadata": {},
          "output_type": "display_data"
        },
        {
          "data": {
            "application/vnd.jupyter.widget-view+json": {
              "model_id": "f934867faa4946799d2b901281aaa838",
              "version_major": 2,
              "version_minor": 0
            },
            "text/plain": [
              "QDA_Chol3 (MEM):   0%|          | 0/30 [00:00<?, ?it/s]"
            ]
          },
          "metadata": {},
          "output_type": "display_data"
        },
        {
          "data": {
            "application/vnd.jupyter.widget-view+json": {
              "model_id": "1119291021b94905b2e9d017c0287a6f",
              "version_major": 2,
              "version_minor": 0
            },
            "text/plain": [
              "QDA_Chol3 (TIME):   0%|          | 0/100 [00:00<?, ?it/s]"
            ]
          },
          "metadata": {},
          "output_type": "display_data"
        },
        {
          "data": {
            "application/vnd.jupyter.widget-view+json": {
              "model_id": "d6f9363042114efe9d8d4ff4caa9b0ec",
              "version_major": 2,
              "version_minor": 0
            },
            "text/plain": [
              "TensorizedChol (MEM):   0%|          | 0/30 [00:00<?, ?it/s]"
            ]
          },
          "metadata": {},
          "output_type": "display_data"
        },
        {
          "data": {
            "application/vnd.jupyter.widget-view+json": {
              "model_id": "4c541a229e4c442c85f6fb2df76f2a5b",
              "version_major": 2,
              "version_minor": 0
            },
            "text/plain": [
              "TensorizedChol (TIME):   0%|          | 0/100 [00:00<?, ?it/s]"
            ]
          },
          "metadata": {},
          "output_type": "display_data"
        },
        {
          "data": {
            "application/vnd.jupyter.widget-view+json": {
              "model_id": "573070a86745479898d159a90bdccfd6",
              "version_major": 2,
              "version_minor": 0
            },
            "text/plain": [
              "FasterChol (MEM):   0%|          | 0/30 [00:00<?, ?it/s]"
            ]
          },
          "metadata": {},
          "output_type": "display_data"
        },
        {
          "data": {
            "application/vnd.jupyter.widget-view+json": {
              "model_id": "53eeda3812464310a1f479dd2e66b1ce",
              "version_major": 2,
              "version_minor": 0
            },
            "text/plain": [
              "FasterChol (TIME):   0%|          | 0/100 [00:00<?, ?it/s]"
            ]
          },
          "metadata": {},
          "output_type": "display_data"
        },
        {
          "data": {
            "application/vnd.jupyter.widget-view+json": {
              "model_id": "cc2e0c281e0d4c7c89122b8cc922997d",
              "version_major": 2,
              "version_minor": 0
            },
            "text/plain": [
              "EfficientChol (MEM):   0%|          | 0/30 [00:00<?, ?it/s]"
            ]
          },
          "metadata": {},
          "output_type": "display_data"
        },
        {
          "data": {
            "application/vnd.jupyter.widget-view+json": {
              "model_id": "13e5565f726a4caa8f59dcd78c7cfd58",
              "version_major": 2,
              "version_minor": 0
            },
            "text/plain": [
              "EfficientChol (TIME):   0%|          | 0/100 [00:00<?, ?it/s]"
            ]
          },
          "metadata": {},
          "output_type": "display_data"
        },
        {
          "name": "stdout",
          "output_type": "stream",
          "text": [
            "Benching params:\n",
            "Total runs: 150\n",
            "Warmup runs: 20\n",
            "Peak Memory usage runs: 30\n",
            "Running time runs: 100\n",
            "Train size rows (approx): 143\n",
            "Test size rows (approx): 35\n",
            "Test size fraction: 0.2\n"
          ]
        },
        {
          "data": {
            "application/vnd.jupyter.widget-view+json": {
              "model_id": "62149fccda9c45999f28476c21bc4a28",
              "version_major": 2,
              "version_minor": 0
            },
            "text/plain": [
              "QDA (MEM):   0%|          | 0/30 [00:00<?, ?it/s]"
            ]
          },
          "metadata": {},
          "output_type": "display_data"
        },
        {
          "data": {
            "application/vnd.jupyter.widget-view+json": {
              "model_id": "d567834066054c65abd4daac08e1a920",
              "version_major": 2,
              "version_minor": 0
            },
            "text/plain": [
              "QDA (TIME):   0%|          | 0/100 [00:00<?, ?it/s]"
            ]
          },
          "metadata": {},
          "output_type": "display_data"
        },
        {
          "data": {
            "application/vnd.jupyter.widget-view+json": {
              "model_id": "ffaf90b9ae0141d99a206f1667134d5a",
              "version_major": 2,
              "version_minor": 0
            },
            "text/plain": [
              "TensorizedQDA (MEM):   0%|          | 0/30 [00:00<?, ?it/s]"
            ]
          },
          "metadata": {},
          "output_type": "display_data"
        },
        {
          "data": {
            "application/vnd.jupyter.widget-view+json": {
              "model_id": "e398189527e54f55a6b8a6e78ab01681",
              "version_major": 2,
              "version_minor": 0
            },
            "text/plain": [
              "TensorizedQDA (TIME):   0%|          | 0/100 [00:00<?, ?it/s]"
            ]
          },
          "metadata": {},
          "output_type": "display_data"
        },
        {
          "data": {
            "application/vnd.jupyter.widget-view+json": {
              "model_id": "5f5855a4a99d4c05896ba63073b5924b",
              "version_major": 2,
              "version_minor": 0
            },
            "text/plain": [
              "FasterQDA (MEM):   0%|          | 0/30 [00:00<?, ?it/s]"
            ]
          },
          "metadata": {},
          "output_type": "display_data"
        },
        {
          "data": {
            "application/vnd.jupyter.widget-view+json": {
              "model_id": "c4c311f0ec274496aa3da1bdfe6d4f17",
              "version_major": 2,
              "version_minor": 0
            },
            "text/plain": [
              "FasterQDA (TIME):   0%|          | 0/100 [00:00<?, ?it/s]"
            ]
          },
          "metadata": {},
          "output_type": "display_data"
        },
        {
          "data": {
            "application/vnd.jupyter.widget-view+json": {
              "model_id": "02999cdf8ba94ce4acab5862b1331142",
              "version_major": 2,
              "version_minor": 0
            },
            "text/plain": [
              "EfficientQDA (MEM):   0%|          | 0/30 [00:00<?, ?it/s]"
            ]
          },
          "metadata": {},
          "output_type": "display_data"
        },
        {
          "data": {
            "application/vnd.jupyter.widget-view+json": {
              "model_id": "12efabb9f8734411930bec1f4c630243",
              "version_major": 2,
              "version_minor": 0
            },
            "text/plain": [
              "EfficientQDA (TIME):   0%|          | 0/100 [00:00<?, ?it/s]"
            ]
          },
          "metadata": {},
          "output_type": "display_data"
        },
        {
          "data": {
            "application/vnd.jupyter.widget-view+json": {
              "model_id": "355ef29a3fc045d39e52bc8f2590e7e2",
              "version_major": 2,
              "version_minor": 0
            },
            "text/plain": [
              "QDA_Chol1 (MEM):   0%|          | 0/30 [00:00<?, ?it/s]"
            ]
          },
          "metadata": {},
          "output_type": "display_data"
        },
        {
          "data": {
            "application/vnd.jupyter.widget-view+json": {
              "model_id": "274df8fb21cb441aa14d3fc1db135bc7",
              "version_major": 2,
              "version_minor": 0
            },
            "text/plain": [
              "QDA_Chol1 (TIME):   0%|          | 0/100 [00:00<?, ?it/s]"
            ]
          },
          "metadata": {},
          "output_type": "display_data"
        },
        {
          "data": {
            "application/vnd.jupyter.widget-view+json": {
              "model_id": "9579bbe6d4af465ba01103b802bafab4",
              "version_major": 2,
              "version_minor": 0
            },
            "text/plain": [
              "QDA_Chol2 (MEM):   0%|          | 0/30 [00:00<?, ?it/s]"
            ]
          },
          "metadata": {},
          "output_type": "display_data"
        },
        {
          "data": {
            "application/vnd.jupyter.widget-view+json": {
              "model_id": "b0b036bf4da44bc9b4b4b7ef2b870461",
              "version_major": 2,
              "version_minor": 0
            },
            "text/plain": [
              "QDA_Chol2 (TIME):   0%|          | 0/100 [00:00<?, ?it/s]"
            ]
          },
          "metadata": {},
          "output_type": "display_data"
        },
        {
          "data": {
            "application/vnd.jupyter.widget-view+json": {
              "model_id": "1cf452a1aea54e61ad5e50324e625658",
              "version_major": 2,
              "version_minor": 0
            },
            "text/plain": [
              "QDA_Chol3 (MEM):   0%|          | 0/30 [00:00<?, ?it/s]"
            ]
          },
          "metadata": {},
          "output_type": "display_data"
        },
        {
          "data": {
            "application/vnd.jupyter.widget-view+json": {
              "model_id": "e6ba5f4d38c04f5caac1608509f197f2",
              "version_major": 2,
              "version_minor": 0
            },
            "text/plain": [
              "QDA_Chol3 (TIME):   0%|          | 0/100 [00:00<?, ?it/s]"
            ]
          },
          "metadata": {},
          "output_type": "display_data"
        },
        {
          "data": {
            "application/vnd.jupyter.widget-view+json": {
              "model_id": "bfabfef7e10a4f9598c24c413b0d4b87",
              "version_major": 2,
              "version_minor": 0
            },
            "text/plain": [
              "TensorizedChol (MEM):   0%|          | 0/30 [00:00<?, ?it/s]"
            ]
          },
          "metadata": {},
          "output_type": "display_data"
        },
        {
          "data": {
            "application/vnd.jupyter.widget-view+json": {
              "model_id": "6f8efa9c56fa4be39a123a9bbf2cb521",
              "version_major": 2,
              "version_minor": 0
            },
            "text/plain": [
              "TensorizedChol (TIME):   0%|          | 0/100 [00:00<?, ?it/s]"
            ]
          },
          "metadata": {},
          "output_type": "display_data"
        },
        {
          "data": {
            "application/vnd.jupyter.widget-view+json": {
              "model_id": "0e352091f89a4202aaf9bcdf646abf45",
              "version_major": 2,
              "version_minor": 0
            },
            "text/plain": [
              "FasterChol (MEM):   0%|          | 0/30 [00:00<?, ?it/s]"
            ]
          },
          "metadata": {},
          "output_type": "display_data"
        },
        {
          "data": {
            "application/vnd.jupyter.widget-view+json": {
              "model_id": "b3df77e09434434e84ed12bcf7e2eeb9",
              "version_major": 2,
              "version_minor": 0
            },
            "text/plain": [
              "FasterChol (TIME):   0%|          | 0/100 [00:00<?, ?it/s]"
            ]
          },
          "metadata": {},
          "output_type": "display_data"
        },
        {
          "data": {
            "application/vnd.jupyter.widget-view+json": {
              "model_id": "15d89f57a8684fd29f9a08d99f5c0686",
              "version_major": 2,
              "version_minor": 0
            },
            "text/plain": [
              "EfficientChol (MEM):   0%|          | 0/30 [00:00<?, ?it/s]"
            ]
          },
          "metadata": {},
          "output_type": "display_data"
        },
        {
          "data": {
            "application/vnd.jupyter.widget-view+json": {
              "model_id": "7e8fe1de97254a5a9a0a6941ee2a6b04",
              "version_major": 2,
              "version_minor": 0
            },
            "text/plain": [
              "EfficientChol (TIME):   0%|          | 0/100 [00:00<?, ?it/s]"
            ]
          },
          "metadata": {},
          "output_type": "display_data"
        },
        {
          "name": "stdout",
          "output_type": "stream",
          "text": [
            "Benching params:\n",
            "Total runs: 150\n",
            "Warmup runs: 20\n",
            "Peak Memory usage runs: 30\n",
            "Running time runs: 100\n",
            "Train size rows (approx): 274\n",
            "Test size rows (approx): 68\n",
            "Test size fraction: 0.2\n"
          ]
        },
        {
          "data": {
            "application/vnd.jupyter.widget-view+json": {
              "model_id": "f290a45775f34a5bace0746c99f5ebee",
              "version_major": 2,
              "version_minor": 0
            },
            "text/plain": [
              "QDA (MEM):   0%|          | 0/30 [00:00<?, ?it/s]"
            ]
          },
          "metadata": {},
          "output_type": "display_data"
        },
        {
          "data": {
            "application/vnd.jupyter.widget-view+json": {
              "model_id": "efb8a3a5e0aa45c6a93859905f4f98b7",
              "version_major": 2,
              "version_minor": 0
            },
            "text/plain": [
              "QDA (TIME):   0%|          | 0/100 [00:00<?, ?it/s]"
            ]
          },
          "metadata": {},
          "output_type": "display_data"
        },
        {
          "data": {
            "application/vnd.jupyter.widget-view+json": {
              "model_id": "c71ac490bf2d4a3b8d66ef2ba8ee8c4b",
              "version_major": 2,
              "version_minor": 0
            },
            "text/plain": [
              "TensorizedQDA (MEM):   0%|          | 0/30 [00:00<?, ?it/s]"
            ]
          },
          "metadata": {},
          "output_type": "display_data"
        },
        {
          "data": {
            "application/vnd.jupyter.widget-view+json": {
              "model_id": "f8421581e7d7439a8c8e296183d3748f",
              "version_major": 2,
              "version_minor": 0
            },
            "text/plain": [
              "TensorizedQDA (TIME):   0%|          | 0/100 [00:00<?, ?it/s]"
            ]
          },
          "metadata": {},
          "output_type": "display_data"
        },
        {
          "data": {
            "application/vnd.jupyter.widget-view+json": {
              "model_id": "4a039e7f30f84cbc83514e6f321e3c75",
              "version_major": 2,
              "version_minor": 0
            },
            "text/plain": [
              "FasterQDA (MEM):   0%|          | 0/30 [00:00<?, ?it/s]"
            ]
          },
          "metadata": {},
          "output_type": "display_data"
        },
        {
          "data": {
            "application/vnd.jupyter.widget-view+json": {
              "model_id": "58993e366a2c43a49a26d7e5bae96fe2",
              "version_major": 2,
              "version_minor": 0
            },
            "text/plain": [
              "FasterQDA (TIME):   0%|          | 0/100 [00:00<?, ?it/s]"
            ]
          },
          "metadata": {},
          "output_type": "display_data"
        },
        {
          "data": {
            "application/vnd.jupyter.widget-view+json": {
              "model_id": "a2169fa9807d4356abc6a8ce8558526f",
              "version_major": 2,
              "version_minor": 0
            },
            "text/plain": [
              "EfficientQDA (MEM):   0%|          | 0/30 [00:00<?, ?it/s]"
            ]
          },
          "metadata": {},
          "output_type": "display_data"
        },
        {
          "data": {
            "application/vnd.jupyter.widget-view+json": {
              "model_id": "60a343d1a70d46eb8ee930bcfbe74d97",
              "version_major": 2,
              "version_minor": 0
            },
            "text/plain": [
              "EfficientQDA (TIME):   0%|          | 0/100 [00:00<?, ?it/s]"
            ]
          },
          "metadata": {},
          "output_type": "display_data"
        },
        {
          "data": {
            "application/vnd.jupyter.widget-view+json": {
              "model_id": "75ec2bf131ec4dca8a68d426596f7536",
              "version_major": 2,
              "version_minor": 0
            },
            "text/plain": [
              "QDA_Chol1 (MEM):   0%|          | 0/30 [00:00<?, ?it/s]"
            ]
          },
          "metadata": {},
          "output_type": "display_data"
        },
        {
          "data": {
            "application/vnd.jupyter.widget-view+json": {
              "model_id": "8592c7c64e3a4c88ad3e15c6d8f19202",
              "version_major": 2,
              "version_minor": 0
            },
            "text/plain": [
              "QDA_Chol1 (TIME):   0%|          | 0/100 [00:00<?, ?it/s]"
            ]
          },
          "metadata": {},
          "output_type": "display_data"
        },
        {
          "data": {
            "application/vnd.jupyter.widget-view+json": {
              "model_id": "c76fef3c9f9e4eceb7ce4897a640a466",
              "version_major": 2,
              "version_minor": 0
            },
            "text/plain": [
              "QDA_Chol2 (MEM):   0%|          | 0/30 [00:00<?, ?it/s]"
            ]
          },
          "metadata": {},
          "output_type": "display_data"
        },
        {
          "data": {
            "application/vnd.jupyter.widget-view+json": {
              "model_id": "48fe83cff95c43798a4b63e9121623ff",
              "version_major": 2,
              "version_minor": 0
            },
            "text/plain": [
              "QDA_Chol2 (TIME):   0%|          | 0/100 [00:00<?, ?it/s]"
            ]
          },
          "metadata": {},
          "output_type": "display_data"
        },
        {
          "data": {
            "application/vnd.jupyter.widget-view+json": {
              "model_id": "922c35d7ed4e42b8b757833698868c64",
              "version_major": 2,
              "version_minor": 0
            },
            "text/plain": [
              "QDA_Chol3 (MEM):   0%|          | 0/30 [00:00<?, ?it/s]"
            ]
          },
          "metadata": {},
          "output_type": "display_data"
        },
        {
          "data": {
            "application/vnd.jupyter.widget-view+json": {
              "model_id": "a80492361a044281abdad4c3b52c5c2b",
              "version_major": 2,
              "version_minor": 0
            },
            "text/plain": [
              "QDA_Chol3 (TIME):   0%|          | 0/100 [00:00<?, ?it/s]"
            ]
          },
          "metadata": {},
          "output_type": "display_data"
        },
        {
          "data": {
            "application/vnd.jupyter.widget-view+json": {
              "model_id": "e39eca9e28344003a95809fdeca070d0",
              "version_major": 2,
              "version_minor": 0
            },
            "text/plain": [
              "TensorizedChol (MEM):   0%|          | 0/30 [00:00<?, ?it/s]"
            ]
          },
          "metadata": {},
          "output_type": "display_data"
        },
        {
          "data": {
            "application/vnd.jupyter.widget-view+json": {
              "model_id": "a4f0c981dfe84161860a09b076022be7",
              "version_major": 2,
              "version_minor": 0
            },
            "text/plain": [
              "TensorizedChol (TIME):   0%|          | 0/100 [00:00<?, ?it/s]"
            ]
          },
          "metadata": {},
          "output_type": "display_data"
        },
        {
          "data": {
            "application/vnd.jupyter.widget-view+json": {
              "model_id": "aaf4aadc6c2448788b1e893fe1ff5feb",
              "version_major": 2,
              "version_minor": 0
            },
            "text/plain": [
              "FasterChol (MEM):   0%|          | 0/30 [00:00<?, ?it/s]"
            ]
          },
          "metadata": {},
          "output_type": "display_data"
        },
        {
          "data": {
            "application/vnd.jupyter.widget-view+json": {
              "model_id": "f51408e2fd0243b1a5ee39b11445dab0",
              "version_major": 2,
              "version_minor": 0
            },
            "text/plain": [
              "FasterChol (TIME):   0%|          | 0/100 [00:00<?, ?it/s]"
            ]
          },
          "metadata": {},
          "output_type": "display_data"
        },
        {
          "data": {
            "application/vnd.jupyter.widget-view+json": {
              "model_id": "fbf68d4495374a1b8f10332d664dd868",
              "version_major": 2,
              "version_minor": 0
            },
            "text/plain": [
              "EfficientChol (MEM):   0%|          | 0/30 [00:00<?, ?it/s]"
            ]
          },
          "metadata": {},
          "output_type": "display_data"
        },
        {
          "data": {
            "application/vnd.jupyter.widget-view+json": {
              "model_id": "a89ca26b998d4eba83d53be134c61753",
              "version_major": 2,
              "version_minor": 0
            },
            "text/plain": [
              "EfficientChol (TIME):   0%|          | 0/100 [00:00<?, ?it/s]"
            ]
          },
          "metadata": {},
          "output_type": "display_data"
        },
        {
          "name": "stdout",
          "output_type": "stream",
          "text": [
            "[<__main__.Benchmark object at 0x7a1a2a5c44d0>, <__main__.Benchmark object at 0x7a1a29bd5e90>, <__main__.Benchmark object at 0x7a1a294fb510>]\n",
            "<__main__.Benchmark object at 0x7a1a2a5c44d0>\n",
            "                train_median_ms  train_std_ms  test_median_ms  test_std_ms  \\\n",
            "model                                                                        \n",
            "QDA                    0.132475      0.113419        0.563093     0.299386   \n",
            "TensorizedQDA          0.137639      0.238520        0.230455     0.083907   \n",
            "FasterQDA              0.134029      0.083346        0.028064     0.009651   \n",
            "EfficientQDA           0.138834      0.072068        0.030334     0.014618   \n",
            "QDA_Chol1              0.162400      0.212250        0.363715     0.151516   \n",
            "QDA_Chol2              0.148925      0.120963        0.955573     0.367116   \n",
            "QDA_Chol3              0.138850      0.106555        0.368660     0.208317   \n",
            "TensorizedChol         0.151552      0.075988        0.192045     0.127065   \n",
            "FasterChol             0.143184      0.254113        0.024962     0.012745   \n",
            "EfficientChol          0.144503      0.075893        0.024545     0.006591   \n",
            "\n",
            "                mean_accuracy  train_mem_median_mb  train_mem_std_mb  \\\n",
            "model                                                                  \n",
            "QDA                  0.971667             0.006451          0.000213   \n",
            "TensorizedQDA        0.969333             0.006462          0.000191   \n",
            "FasterQDA            0.974000             0.006485          0.000186   \n",
            "EfficientQDA         0.972333             0.006485          0.000249   \n",
            "QDA_Chol1            0.965000             0.006706          0.000189   \n",
            "QDA_Chol2            0.974667             0.006561          0.000140   \n",
            "QDA_Chol3            0.972667             0.006542          0.000199   \n",
            "TensorizedChol       0.969667             0.006523          0.000247   \n",
            "FasterChol           0.978000             0.006557          0.000223   \n",
            "EfficientChol        0.973333             0.006519          0.000256   \n",
            "\n",
            "                test_mem_median_mb  test_mem_std_mb  \n",
            "model                                                \n",
            "QDA                       0.003814         0.000220  \n",
            "TensorizedQDA             0.003983         0.000217  \n",
            "FasterQDA                 0.029076         0.000147  \n",
            "EfficientQDA              0.014465         0.000196  \n",
            "QDA_Chol1                 0.004013         0.000190  \n",
            "QDA_Chol2                 0.004236         0.000248  \n",
            "QDA_Chol3                 0.003868         0.000148  \n",
            "TensorizedChol            0.003983         0.000215  \n",
            "FasterChol                0.032082         0.000198  \n",
            "EfficientChol             0.012421         0.000100  \n",
            "<__main__.Benchmark object at 0x7a1a29bd5e90>\n",
            "                train_median_ms  train_std_ms  test_median_ms  test_std_ms  \\\n",
            "model                                                                        \n",
            "QDA                    0.154293      0.163227        0.781673     0.239735   \n",
            "TensorizedQDA          0.167589      0.196575        0.351593     0.113761   \n",
            "FasterQDA              0.150123      0.089349        0.035325     0.145739   \n",
            "EfficientQDA           0.161376      0.188392        0.038814     0.021184   \n",
            "QDA_Chol1              0.192979      0.129611        0.445725     0.192344   \n",
            "QDA_Chol2              0.174496      0.112591        1.197355     0.362594   \n",
            "QDA_Chol3              0.158507      0.071681        0.452448     0.209577   \n",
            "TensorizedChol         0.156452      0.108443        0.218365     0.060729   \n",
            "FasterChol             0.157906      0.168529        0.028548     0.032714   \n",
            "EfficientChol          0.160937      0.140171        0.028321     0.013002   \n",
            "\n",
            "                mean_accuracy  train_mem_median_mb  train_mem_std_mb  \\\n",
            "model                                                                  \n",
            "QDA                  0.985556             0.020515          0.000714   \n",
            "TensorizedQDA        0.985278             0.020534          0.000811   \n",
            "FasterQDA            0.990278             0.020542          0.000933   \n",
            "EfficientQDA         0.987778             0.020393          0.000841   \n",
            "QDA_Chol1            0.986944             0.020561          0.000750   \n",
            "QDA_Chol2            0.985833             0.020386          0.000642   \n",
            "QDA_Chol3            0.990278             0.020416          0.000703   \n",
            "TensorizedChol       0.987500             0.020416          0.000555   \n",
            "FasterChol           0.980278             0.020119          0.000807   \n",
            "EfficientChol        0.987222             0.020416          0.000673   \n",
            "\n",
            "                test_mem_median_mb  test_mem_std_mb  \n",
            "model                                                \n",
            "QDA                       0.007773         0.000283  \n",
            "TensorizedQDA             0.011856         0.000060  \n",
            "FasterQDA                 0.061417         0.000157  \n",
            "EfficientQDA              0.053741         0.000183  \n",
            "QDA_Chol1                 0.007973         0.000241  \n",
            "QDA_Chol2                 0.008204         0.000219  \n",
            "QDA_Chol3                 0.007828         0.000232  \n",
            "TensorizedChol            0.011856         0.000189  \n",
            "FasterChol                0.064903         0.000099  \n",
            "EfficientChol             0.043869         0.000144  \n",
            "<__main__.Benchmark object at 0x7a1a294fb510>\n",
            "                train_median_ms  train_std_ms  test_median_ms  test_std_ms  \\\n",
            "model                                                                        \n",
            "QDA                    0.157486      0.125553        1.263608     0.416790   \n",
            "TensorizedQDA          0.159407      0.107779        0.519145     0.120760   \n",
            "FasterQDA              0.149750      0.083417        0.036495     0.021682   \n",
            "EfficientQDA           0.143741      0.079104        0.033921     0.166756   \n",
            "QDA_Chol1              0.191903      0.179316        0.847041     0.355688   \n",
            "QDA_Chol2              0.180510      0.135431        2.257748     0.680223   \n",
            "QDA_Chol3              0.163928      0.095249        0.843735     0.314041   \n",
            "TensorizedChol         0.164252      0.145051        0.413846     0.098193   \n",
            "FasterChol             0.154700      0.074499        0.033316     0.031872   \n",
            "EfficientChol          0.153887      0.124463        0.026750     0.030754   \n",
            "\n",
            "                mean_accuracy  train_mem_median_mb  train_mem_std_mb  \\\n",
            "model                                                                  \n",
            "QDA                  0.986812             0.012886          0.000319   \n",
            "TensorizedQDA        0.988116             0.012794          0.000276   \n",
            "FasterQDA            0.988406             0.012886          0.000372   \n",
            "EfficientQDA         0.987391             0.012886          0.000298   \n",
            "QDA_Chol1            0.988986             0.012840          0.000332   \n",
            "QDA_Chol2            0.988406             0.012794          0.000299   \n",
            "QDA_Chol3            0.988261             0.012863          0.000258   \n",
            "TensorizedChol       0.987826             0.012794          0.000326   \n",
            "FasterChol           0.985797             0.012886          0.000314   \n",
            "EfficientChol        0.988261             0.012863          0.000278   \n",
            "\n",
            "                test_mem_median_mb  test_mem_std_mb  \n",
            "model                                                \n",
            "QDA                       0.004111         0.000323  \n",
            "TensorizedQDA             0.004280         0.000205  \n",
            "FasterQDA                 0.124519         0.000220  \n",
            "EfficientQDA              0.028748         0.000203  \n",
            "QDA_Chol1                 0.004356         0.000260  \n",
            "QDA_Chol2                 0.004534         0.000361  \n",
            "QDA_Chol3                 0.004166         0.000246  \n",
            "TensorizedChol            0.004280         0.000155  \n",
            "FasterChol                0.130272         0.000125  \n",
            "EfficientChol             0.024025         0.000246  \n"
          ]
        }
      ],
      "source": [
        "data_iris = get_iris_dataset()\n",
        "data_penguins = get_penguins_dataset()\n",
        "data_wine = get_wine_dataset()\n",
        "\n",
        "benchs = []\n",
        "\n",
        "for data_i in [data_iris, data_wine, data_penguins]:\n",
        "    y_encoded = label_encode(data_i[1].reshape(-1,1))\n",
        "    x = data_i[0]\n",
        "\n",
        "    b_i = Benchmark(\n",
        "        x, y_encoded,\n",
        "        same_splits=False,\n",
        "        # same_splits=True,\n",
        "        n_runs=100,\n",
        "        warmup=20,\n",
        "        mem_runs=30,\n",
        "        # n_runs=0,\n",
        "        # warmup=1,\n",
        "        # mem_runs=0,\n",
        "        test_sz=0.2\n",
        "    )\n",
        "    b_i.bench(QDA)\n",
        "    b_i.bench(TensorizedQDA)\n",
        "    b_i.bench(FasterQDA)\n",
        "    b_i.bench(EfficientQDA)\n",
        "    b_i.bench(QDA_Chol1)\n",
        "    b_i.bench(QDA_Chol2)\n",
        "    b_i.bench(QDA_Chol3)\n",
        "    b_i.bench(TensorizedChol)\n",
        "    b_i.bench(FasterChol)\n",
        "    b_i.bench(EfficientChol)\n",
        "    benchs.append(b_i)\n",
        "    # benchs[-1].bench(QDA)\n",
        "    # benchs[-1].bench(TensorizedQDA)\n",
        "    # benchs[-1].bench(FasterQDA)\n",
        "    # benchs[-1].bench(EfficientQDA)\n",
        "    # benchs[-1].bench(QDA_Chol1)\n",
        "    # benchs[-1].bench(QDA_Chol2)\n",
        "    # benchs[-1].bench(QDA_Chol3)\n",
        "    # benchs[-1].bench(TensorizedChol)\n",
        "    # benchs[-1].bench(EfficientChol)\n",
        "    # benchs[-1].summary()\n",
        "print(benchs)\n",
        "for i in range(len(benchs)):\n",
        "    b_i = benchs[i]\n",
        "    print(b_i)\n",
        "    print(b_i.summary())"
      ]
    },
    {
      "cell_type": "code",
      "execution_count": 209,
      "metadata": {},
      "outputs": [
        {
          "data": {
            "image/png": "[encoded data removed]",
            "text/plain": [
              "<Figure size 1000x2000 with 4 Axes>"
            ]
          },
          "metadata": {},
          "output_type": "display_data"
        }
      ],
      "source": [
        "benchs.append(b)\n",
        "for b_i in benchs:\n",
        "    b_i.get_results_dict()\n",
        "import matplotlib.pyplot as plt\n",
        "\n",
        "# Plot median times vs sizes for training\n",
        "labels = [\"QDA\", \"TensorizedQDA\", \"FasterQDA\", \"EfficientQDA\",\n",
        "          \"QDA_Chol1\", \"QDA_Chol2\", \"QDA_Chol3\",\n",
        "          \"TensorizedChol\", \"FasterChol\", \"EfficientChol\"]\n",
        "markers = ['o', 's', '^', 'D', 'v', 'P', '*', 'X', '.', 'H']\n",
        "train_sizes = []\n",
        "test_sizes = []\n",
        "train_median_ms = [[] for i in range(len(b_i.results_dict['train_median_ms']))]\n",
        "test_median_ms = [[] for i in range(len(b_i.results_dict['test_median_ms']))]\n",
        "train_median_mb = [[] for i in range(len(b_i.results_dict['train_median_mb']))]\n",
        "test_median_mb = [[] for i in range(len(b_i.results_dict['test_median_mb']))]\n",
        "for b_i in benchs:\n",
        "    train_sizes.append(b_i.results_dict['train_size'])\n",
        "    test_sizes.append(b_i.results_dict['test_size'])\n",
        "    for i, label in enumerate(labels):\n",
        "        train_median_ms[i].append(b_i.results_dict['train_median_ms'][label])\n",
        "        test_median_ms[i].append(b_i.results_dict['test_median_ms'][label])\n",
        "        train_median_mb[i].append(b_i.results_dict['train_median_mb'][label])\n",
        "        test_median_mb[i].append(b_i.results_dict['test_median_mb'][label])\n",
        "\n",
        "fig, axs = plt.subplots(4,1, figsize=(10, 20))\n",
        "\n",
        "for i, label in enumerate(labels):\n",
        "    axs[0].plot(train_sizes, train_median_ms[i], marker=markers[i], label=label)\n",
        "    axs[1].plot(test_sizes, test_median_ms[i], marker=  markers[i], label=label)\n",
        "    axs[2].plot(train_sizes, train_median_mb[i], marker=markers[i], label=label)\n",
        "    axs[3].plot(test_sizes, test_median_mb[i], marker=  markers[i], label=label)\n",
        "\n",
        "for i in range(4):\n",
        "    axs[i].set_yscale('log')\n",
        "    axs[i].set_xscale('log')\n",
        "    axs[i].legend()\n",
        "    axs[i].grid(True, which=\"both\", ls=\"--\")\n",
        "    axs[i].set_ylabel('Median Time (ms)' if i in [0,1] else 'Median Memory (MB)')\n",
        "    axs[i].set_xlabel('Number of training samples' if i in [0,2] else 'Number of test samples')\n",
        "plt.show()"
      ]
    }
  ],
  "metadata": {
    "colab": {
      "provenance": []
    },
    "kernelspec": {
      "display_name": "tp",
      "language": "python",
      "name": "python3"
    },
    "language_info": {
      "codemirror_mode": {
        "name": "ipython",
        "version": 3
      },
      "file_extension": ".py",
      "mimetype": "text/x-python",
      "name": "python",
      "nbconvert_exporter": "python",
      "pygments_lexer": "ipython3",
      "version": "3.11.13"
    },
    "widgets": {
      "application/vnd.jupyter.widget-state+json": {
        "0c4640fad3de46af8ee288fb94e9831d": {
          "model_module": "@jupyter-widgets/base",
          "model_module_version": "1.2.0",
          "model_name": "LayoutModel",
          "state": {
            "_model_module": "@jupyter-widgets/base",
            "_model_module_version": "1.2.0",
            "_model_name": "LayoutModel",
            "_view_count": null,
            "_view_module": "@jupyter-widgets/base",
            "_view_module_version": "1.2.0",
            "_view_name": "LayoutView",
            "align_content": null,
            "align_items": null,
            "align_self": null,
            "border": null,
            "bottom": null,
            "display": null,
            "flex": null,
            "flex_flow": null,
            "grid_area": null,
            "grid_auto_columns": null,
            "grid_auto_flow": null,
            "grid_auto_rows": null,
            "grid_column": null,
            "grid_gap": null,
            "grid_row": null,
            "grid_template_areas": null,
            "grid_template_columns": null,
            "grid_template_rows": null,
            "height": null,
            "justify_content": null,
            "justify_items": null,
            "left": null,
            "margin": null,
            "max_height": null,
            "max_width": null,
            "min_height": null,
            "min_width": null,
            "object_fit": null,
            "object_position": null,
            "order": null,
            "overflow": null,
            "overflow_x": null,
            "overflow_y": null,
            "padding": null,
            "right": null,
            "top": null,
            "visibility": null,
            "width": null
          }
        },
        "0cead8148ae5469eb637c29de2b21ec7": {
          "model_module": "@jupyter-widgets/controls",
          "model_module_version": "1.5.0",
          "model_name": "ProgressStyleModel",
          "state": {
            "_model_module": "@jupyter-widgets/controls",
            "_model_module_version": "1.5.0",
            "_model_name": "ProgressStyleModel",
            "_view_count": null,
            "_view_module": "@jupyter-widgets/base",
            "_view_module_version": "1.2.0",
            "_view_name": "StyleView",
            "bar_color": null,
            "description_width": ""
          }
        },
        "16f5ac0cf3cc441d891ae9522cf0798c": {
          "model_module": "@jupyter-widgets/controls",
          "model_module_version": "1.5.0",
          "model_name": "HTMLModel",
          "state": {
            "_dom_classes": [],
            "_model_module": "@jupyter-widgets/controls",
            "_model_module_version": "1.5.0",
            "_model_name": "HTMLModel",
            "_view_count": null,
            "_view_module": "@jupyter-widgets/controls",
            "_view_module_version": "1.5.0",
            "_view_name": "HTMLView",
            "description": "",
            "description_tooltip": null,
            "layout": "IPY_MODEL_5e4f83990b0c4572952d5e23005283fb",
            "placeholder": "​",
            "style": "IPY_MODEL_b85cd793196847cda92178f945624016",
            "value": "TensorizedQDA (MEM): 100%"
          }
        },
        "1d3c4fad476c47208bce6625ec783f6d": {
          "model_module": "@jupyter-widgets/controls",
          "model_module_version": "1.5.0",
          "model_name": "FloatProgressModel",
          "state": {
            "_dom_classes": [],
            "_model_module": "@jupyter-widgets/controls",
            "_model_module_version": "1.5.0",
            "_model_name": "FloatProgressModel",
            "_view_count": null,
            "_view_module": "@jupyter-widgets/controls",
            "_view_module_version": "1.5.0",
            "_view_name": "ProgressView",
            "bar_style": "success",
            "description": "",
            "description_tooltip": null,
            "layout": "IPY_MODEL_0c4640fad3de46af8ee288fb94e9831d",
            "max": 20,
            "min": 0,
            "orientation": "horizontal",
            "style": "IPY_MODEL_70c3a115637d4880802a605974661714",
            "value": 20
          }
        },
        "1da7d96834cc4bc8a3cd5595b3446b74": {
          "model_module": "@jupyter-widgets/controls",
          "model_module_version": "1.5.0",
          "model_name": "HTMLModel",
          "state": {
            "_dom_classes": [],
            "_model_module": "@jupyter-widgets/controls",
            "_model_module_version": "1.5.0",
            "_model_name": "HTMLModel",
            "_view_count": null,
            "_view_module": "@jupyter-widgets/controls",
            "_view_module_version": "1.5.0",
            "_view_name": "HTMLView",
            "description": "",
            "description_tooltip": null,
            "layout": "IPY_MODEL_de9f39ade1b04c22921589c687b25518",
            "placeholder": "​",
            "style": "IPY_MODEL_437e4360cf5e44bc845c2f6002ea2d55",
            "value": " 100/100 [00:02&lt;00:00, 40.27it/s]"
          }
        },
        "254e2937d92d48b0886e5d950a6bbefa": {
          "model_module": "@jupyter-widgets/base",
          "model_module_version": "1.2.0",
          "model_name": "LayoutModel",
          "state": {
            "_model_module": "@jupyter-widgets/base",
            "_model_module_version": "1.2.0",
            "_model_name": "LayoutModel",
            "_view_count": null,
            "_view_module": "@jupyter-widgets/base",
            "_view_module_version": "1.2.0",
            "_view_name": "LayoutView",
            "align_content": null,
            "align_items": null,
            "align_self": null,
            "border": null,
            "bottom": null,
            "display": null,
            "flex": null,
            "flex_flow": null,
            "grid_area": null,
            "grid_auto_columns": null,
            "grid_auto_flow": null,
            "grid_auto_rows": null,
            "grid_column": null,
            "grid_gap": null,
            "grid_row": null,
            "grid_template_areas": null,
            "grid_template_columns": null,
            "grid_template_rows": null,
            "height": null,
            "justify_content": null,
            "justify_items": null,
            "left": null,
            "margin": null,
            "max_height": null,
            "max_width": null,
            "min_height": null,
            "min_width": null,
            "object_fit": null,
            "object_position": null,
            "order": null,
            "overflow": null,
            "overflow_x": null,
            "overflow_y": null,
            "padding": null,
            "right": null,
            "top": null,
            "visibility": null,
            "width": null
          }
        },
        "32df4fc69a3c47cf9a220f4469b667a3": {
          "model_module": "@jupyter-widgets/controls",
          "model_module_version": "1.5.0",
          "model_name": "DescriptionStyleModel",
          "state": {
            "_model_module": "@jupyter-widgets/controls",
            "_model_module_version": "1.5.0",
            "_model_name": "DescriptionStyleModel",
            "_view_count": null,
            "_view_module": "@jupyter-widgets/base",
            "_view_module_version": "1.2.0",
            "_view_name": "StyleView",
            "description_width": ""
          }
        },
        "373a7a1549b44c2696083efddc88fafe": {
          "model_module": "@jupyter-widgets/base",
          "model_module_version": "1.2.0",
          "model_name": "LayoutModel",
          "state": {
            "_model_module": "@jupyter-widgets/base",
            "_model_module_version": "1.2.0",
            "_model_name": "LayoutModel",
            "_view_count": null,
            "_view_module": "@jupyter-widgets/base",
            "_view_module_version": "1.2.0",
            "_view_name": "LayoutView",
            "align_content": null,
            "align_items": null,
            "align_self": null,
            "border": null,
            "bottom": null,
            "display": null,
            "flex": null,
            "flex_flow": null,
            "grid_area": null,
            "grid_auto_columns": null,
            "grid_auto_flow": null,
            "grid_auto_rows": null,
            "grid_column": null,
            "grid_gap": null,
            "grid_row": null,
            "grid_template_areas": null,
            "grid_template_columns": null,
            "grid_template_rows": null,
            "height": null,
            "justify_content": null,
            "justify_items": null,
            "left": null,
            "margin": null,
            "max_height": null,
            "max_width": null,
            "min_height": null,
            "min_width": null,
            "object_fit": null,
            "object_position": null,
            "order": null,
            "overflow": null,
            "overflow_x": null,
            "overflow_y": null,
            "padding": null,
            "right": null,
            "top": null,
            "visibility": null,
            "width": null
          }
        },
        "3a99fe4554914c12ad9146aea349708c": {
          "model_module": "@jupyter-widgets/controls",
          "model_module_version": "1.5.0",
          "model_name": "FloatProgressModel",
          "state": {
            "_dom_classes": [],
            "_model_module": "@jupyter-widgets/controls",
            "_model_module_version": "1.5.0",
            "_model_name": "FloatProgressModel",
            "_view_count": null,
            "_view_module": "@jupyter-widgets/controls",
            "_view_module_version": "1.5.0",
            "_view_name": "ProgressView",
            "bar_style": "success",
            "description": "",
            "description_tooltip": null,
            "layout": "IPY_MODEL_254e2937d92d48b0886e5d950a6bbefa",
            "max": 100,
            "min": 0,
            "orientation": "horizontal",
            "style": "IPY_MODEL_0cead8148ae5469eb637c29de2b21ec7",
            "value": 100
          }
        },
        "3f110d0a165e41b0a268f77b2d2a11b7": {
          "model_module": "@jupyter-widgets/base",
          "model_module_version": "1.2.0",
          "model_name": "LayoutModel",
          "state": {
            "_model_module": "@jupyter-widgets/base",
            "_model_module_version": "1.2.0",
            "_model_name": "LayoutModel",
            "_view_count": null,
            "_view_module": "@jupyter-widgets/base",
            "_view_module_version": "1.2.0",
            "_view_name": "LayoutView",
            "align_content": null,
            "align_items": null,
            "align_self": null,
            "border": null,
            "bottom": null,
            "display": null,
            "flex": null,
            "flex_flow": null,
            "grid_area": null,
            "grid_auto_columns": null,
            "grid_auto_flow": null,
            "grid_auto_rows": null,
            "grid_column": null,
            "grid_gap": null,
            "grid_row": null,
            "grid_template_areas": null,
            "grid_template_columns": null,
            "grid_template_rows": null,
            "height": null,
            "justify_content": null,
            "justify_items": null,
            "left": null,
            "margin": null,
            "max_height": null,
            "max_width": null,
            "min_height": null,
            "min_width": null,
            "object_fit": null,
            "object_position": null,
            "order": null,
            "overflow": null,
            "overflow_x": null,
            "overflow_y": null,
            "padding": null,
            "right": null,
            "top": null,
            "visibility": null,
            "width": null
          }
        },
        "437e4360cf5e44bc845c2f6002ea2d55": {
          "model_module": "@jupyter-widgets/controls",
          "model_module_version": "1.5.0",
          "model_name": "DescriptionStyleModel",
          "state": {
            "_model_module": "@jupyter-widgets/controls",
            "_model_module_version": "1.5.0",
            "_model_name": "DescriptionStyleModel",
            "_view_count": null,
            "_view_module": "@jupyter-widgets/base",
            "_view_module_version": "1.2.0",
            "_view_name": "StyleView",
            "description_width": ""
          }
        },
        "4ab824715b294c86b045c7e187125524": {
          "model_module": "@jupyter-widgets/base",
          "model_module_version": "1.2.0",
          "model_name": "LayoutModel",
          "state": {
            "_model_module": "@jupyter-widgets/base",
            "_model_module_version": "1.2.0",
            "_model_name": "LayoutModel",
            "_view_count": null,
            "_view_module": "@jupyter-widgets/base",
            "_view_module_version": "1.2.0",
            "_view_name": "LayoutView",
            "align_content": null,
            "align_items": null,
            "align_self": null,
            "border": null,
            "bottom": null,
            "display": null,
            "flex": null,
            "flex_flow": null,
            "grid_area": null,
            "grid_auto_columns": null,
            "grid_auto_flow": null,
            "grid_auto_rows": null,
            "grid_column": null,
            "grid_gap": null,
            "grid_row": null,
            "grid_template_areas": null,
            "grid_template_columns": null,
            "grid_template_rows": null,
            "height": null,
            "justify_content": null,
            "justify_items": null,
            "left": null,
            "margin": null,
            "max_height": null,
            "max_width": null,
            "min_height": null,
            "min_width": null,
            "object_fit": null,
            "object_position": null,
            "order": null,
            "overflow": null,
            "overflow_x": null,
            "overflow_y": null,
            "padding": null,
            "right": null,
            "top": null,
            "visibility": null,
            "width": null
          }
        },
        "514491be27294e0cb5b70b6e25ee3355": {
          "model_module": "@jupyter-widgets/base",
          "model_module_version": "1.2.0",
          "model_name": "LayoutModel",
          "state": {
            "_model_module": "@jupyter-widgets/base",
            "_model_module_version": "1.2.0",
            "_model_name": "LayoutModel",
            "_view_count": null,
            "_view_module": "@jupyter-widgets/base",
            "_view_module_version": "1.2.0",
            "_view_name": "LayoutView",
            "align_content": null,
            "align_items": null,
            "align_self": null,
            "border": null,
            "bottom": null,
            "display": null,
            "flex": null,
            "flex_flow": null,
            "grid_area": null,
            "grid_auto_columns": null,
            "grid_auto_flow": null,
            "grid_auto_rows": null,
            "grid_column": null,
            "grid_gap": null,
            "grid_row": null,
            "grid_template_areas": null,
            "grid_template_columns": null,
            "grid_template_rows": null,
            "height": null,
            "justify_content": null,
            "justify_items": null,
            "left": null,
            "margin": null,
            "max_height": null,
            "max_width": null,
            "min_height": null,
            "min_width": null,
            "object_fit": null,
            "object_position": null,
            "order": null,
            "overflow": null,
            "overflow_x": null,
            "overflow_y": null,
            "padding": null,
            "right": null,
            "top": null,
            "visibility": null,
            "width": null
          }
        },
        "54a06911978746dd9e81bb1526bd741c": {
          "model_module": "@jupyter-widgets/base",
          "model_module_version": "1.2.0",
          "model_name": "LayoutModel",
          "state": {
            "_model_module": "@jupyter-widgets/base",
            "_model_module_version": "1.2.0",
            "_model_name": "LayoutModel",
            "_view_count": null,
            "_view_module": "@jupyter-widgets/base",
            "_view_module_version": "1.2.0",
            "_view_name": "LayoutView",
            "align_content": null,
            "align_items": null,
            "align_self": null,
            "border": null,
            "bottom": null,
            "display": null,
            "flex": null,
            "flex_flow": null,
            "grid_area": null,
            "grid_auto_columns": null,
            "grid_auto_flow": null,
            "grid_auto_rows": null,
            "grid_column": null,
            "grid_gap": null,
            "grid_row": null,
            "grid_template_areas": null,
            "grid_template_columns": null,
            "grid_template_rows": null,
            "height": null,
            "justify_content": null,
            "justify_items": null,
            "left": null,
            "margin": null,
            "max_height": null,
            "max_width": null,
            "min_height": null,
            "min_width": null,
            "object_fit": null,
            "object_position": null,
            "order": null,
            "overflow": null,
            "overflow_x": null,
            "overflow_y": null,
            "padding": null,
            "right": null,
            "top": null,
            "visibility": null,
            "width": null
          }
        },
        "5e4f83990b0c4572952d5e23005283fb": {
          "model_module": "@jupyter-widgets/base",
          "model_module_version": "1.2.0",
          "model_name": "LayoutModel",
          "state": {
            "_model_module": "@jupyter-widgets/base",
            "_model_module_version": "1.2.0",
            "_model_name": "LayoutModel",
            "_view_count": null,
            "_view_module": "@jupyter-widgets/base",
            "_view_module_version": "1.2.0",
            "_view_name": "LayoutView",
            "align_content": null,
            "align_items": null,
            "align_self": null,
            "border": null,
            "bottom": null,
            "display": null,
            "flex": null,
            "flex_flow": null,
            "grid_area": null,
            "grid_auto_columns": null,
            "grid_auto_flow": null,
            "grid_auto_rows": null,
            "grid_column": null,
            "grid_gap": null,
            "grid_row": null,
            "grid_template_areas": null,
            "grid_template_columns": null,
            "grid_template_rows": null,
            "height": null,
            "justify_content": null,
            "justify_items": null,
            "left": null,
            "margin": null,
            "max_height": null,
            "max_width": null,
            "min_height": null,
            "min_width": null,
            "object_fit": null,
            "object_position": null,
            "order": null,
            "overflow": null,
            "overflow_x": null,
            "overflow_y": null,
            "padding": null,
            "right": null,
            "top": null,
            "visibility": null,
            "width": null
          }
        },
        "6197d697782b4688a278663e287317b1": {
          "model_module": "@jupyter-widgets/base",
          "model_module_version": "1.2.0",
          "model_name": "LayoutModel",
          "state": {
            "_model_module": "@jupyter-widgets/base",
            "_model_module_version": "1.2.0",
            "_model_name": "LayoutModel",
            "_view_count": null,
            "_view_module": "@jupyter-widgets/base",
            "_view_module_version": "1.2.0",
            "_view_name": "LayoutView",
            "align_content": null,
            "align_items": null,
            "align_self": null,
            "border": null,
            "bottom": null,
            "display": null,
            "flex": null,
            "flex_flow": null,
            "grid_area": null,
            "grid_auto_columns": null,
            "grid_auto_flow": null,
            "grid_auto_rows": null,
            "grid_column": null,
            "grid_gap": null,
            "grid_row": null,
            "grid_template_areas": null,
            "grid_template_columns": null,
            "grid_template_rows": null,
            "height": null,
            "justify_content": null,
            "justify_items": null,
            "left": null,
            "margin": null,
            "max_height": null,
            "max_width": null,
            "min_height": null,
            "min_width": null,
            "object_fit": null,
            "object_position": null,
            "order": null,
            "overflow": null,
            "overflow_x": null,
            "overflow_y": null,
            "padding": null,
            "right": null,
            "top": null,
            "visibility": null,
            "width": null
          }
        },
        "684de1d1bee34b309988bc0f40b0d5e2": {
          "model_module": "@jupyter-widgets/controls",
          "model_module_version": "1.5.0",
          "model_name": "HTMLModel",
          "state": {
            "_dom_classes": [],
            "_model_module": "@jupyter-widgets/controls",
            "_model_module_version": "1.5.0",
            "_model_name": "HTMLModel",
            "_view_count": null,
            "_view_module": "@jupyter-widgets/controls",
            "_view_module_version": "1.5.0",
            "_view_name": "HTMLView",
            "description": "",
            "description_tooltip": null,
            "layout": "IPY_MODEL_d3fe060bd70848b7af130d99bbff6839",
            "placeholder": "​",
            "style": "IPY_MODEL_32df4fc69a3c47cf9a220f4469b667a3",
            "value": "QDA (TIME): 100%"
          }
        },
        "6d70e647d03f4004bd727673fbbfe5f9": {
          "model_module": "@jupyter-widgets/base",
          "model_module_version": "1.2.0",
          "model_name": "LayoutModel",
          "state": {
            "_model_module": "@jupyter-widgets/base",
            "_model_module_version": "1.2.0",
            "_model_name": "LayoutModel",
            "_view_count": null,
            "_view_module": "@jupyter-widgets/base",
            "_view_module_version": "1.2.0",
            "_view_name": "LayoutView",
            "align_content": null,
            "align_items": null,
            "align_self": null,
            "border": null,
            "bottom": null,
            "display": null,
            "flex": null,
            "flex_flow": null,
            "grid_area": null,
            "grid_auto_columns": null,
            "grid_auto_flow": null,
            "grid_auto_rows": null,
            "grid_column": null,
            "grid_gap": null,
            "grid_row": null,
            "grid_template_areas": null,
            "grid_template_columns": null,
            "grid_template_rows": null,
            "height": null,
            "justify_content": null,
            "justify_items": null,
            "left": null,
            "margin": null,
            "max_height": null,
            "max_width": null,
            "min_height": null,
            "min_width": null,
            "object_fit": null,
            "object_position": null,
            "order": null,
            "overflow": null,
            "overflow_x": null,
            "overflow_y": null,
            "padding": null,
            "right": null,
            "top": null,
            "visibility": null,
            "width": null
          }
        },
        "70c3a115637d4880802a605974661714": {
          "model_module": "@jupyter-widgets/controls",
          "model_module_version": "1.5.0",
          "model_name": "ProgressStyleModel",
          "state": {
            "_model_module": "@jupyter-widgets/controls",
            "_model_module_version": "1.5.0",
            "_model_name": "ProgressStyleModel",
            "_view_count": null,
            "_view_module": "@jupyter-widgets/base",
            "_view_module_version": "1.2.0",
            "_view_name": "StyleView",
            "bar_color": null,
            "description_width": ""
          }
        },
        "74c98c4598bd438cbedbb6c8a492eb15": {
          "model_module": "@jupyter-widgets/controls",
          "model_module_version": "1.5.0",
          "model_name": "ProgressStyleModel",
          "state": {
            "_model_module": "@jupyter-widgets/controls",
            "_model_module_version": "1.5.0",
            "_model_name": "ProgressStyleModel",
            "_view_count": null,
            "_view_module": "@jupyter-widgets/base",
            "_view_module_version": "1.2.0",
            "_view_name": "StyleView",
            "bar_color": null,
            "description_width": ""
          }
        },
        "766927c256e3409ab53c04ca092964e0": {
          "model_module": "@jupyter-widgets/base",
          "model_module_version": "1.2.0",
          "model_name": "LayoutModel",
          "state": {
            "_model_module": "@jupyter-widgets/base",
            "_model_module_version": "1.2.0",
            "_model_name": "LayoutModel",
            "_view_count": null,
            "_view_module": "@jupyter-widgets/base",
            "_view_module_version": "1.2.0",
            "_view_name": "LayoutView",
            "align_content": null,
            "align_items": null,
            "align_self": null,
            "border": null,
            "bottom": null,
            "display": null,
            "flex": null,
            "flex_flow": null,
            "grid_area": null,
            "grid_auto_columns": null,
            "grid_auto_flow": null,
            "grid_auto_rows": null,
            "grid_column": null,
            "grid_gap": null,
            "grid_row": null,
            "grid_template_areas": null,
            "grid_template_columns": null,
            "grid_template_rows": null,
            "height": null,
            "justify_content": null,
            "justify_items": null,
            "left": null,
            "margin": null,
            "max_height": null,
            "max_width": null,
            "min_height": null,
            "min_width": null,
            "object_fit": null,
            "object_position": null,
            "order": null,
            "overflow": null,
            "overflow_x": null,
            "overflow_y": null,
            "padding": null,
            "right": null,
            "top": null,
            "visibility": null,
            "width": null
          }
        },
        "7f722aef90b84352b16d45f8716df168": {
          "model_module": "@jupyter-widgets/base",
          "model_module_version": "1.2.0",
          "model_name": "LayoutModel",
          "state": {
            "_model_module": "@jupyter-widgets/base",
            "_model_module_version": "1.2.0",
            "_model_name": "LayoutModel",
            "_view_count": null,
            "_view_module": "@jupyter-widgets/base",
            "_view_module_version": "1.2.0",
            "_view_name": "LayoutView",
            "align_content": null,
            "align_items": null,
            "align_self": null,
            "border": null,
            "bottom": null,
            "display": null,
            "flex": null,
            "flex_flow": null,
            "grid_area": null,
            "grid_auto_columns": null,
            "grid_auto_flow": null,
            "grid_auto_rows": null,
            "grid_column": null,
            "grid_gap": null,
            "grid_row": null,
            "grid_template_areas": null,
            "grid_template_columns": null,
            "grid_template_rows": null,
            "height": null,
            "justify_content": null,
            "justify_items": null,
            "left": null,
            "margin": null,
            "max_height": null,
            "max_width": null,
            "min_height": null,
            "min_width": null,
            "object_fit": null,
            "object_position": null,
            "order": null,
            "overflow": null,
            "overflow_x": null,
            "overflow_y": null,
            "padding": null,
            "right": null,
            "top": null,
            "visibility": null,
            "width": null
          }
        },
        "8aeeac18744940f8b4940256613178db": {
          "model_module": "@jupyter-widgets/controls",
          "model_module_version": "1.5.0",
          "model_name": "HBoxModel",
          "state": {
            "_dom_classes": [],
            "_model_module": "@jupyter-widgets/controls",
            "_model_module_version": "1.5.0",
            "_model_name": "HBoxModel",
            "_view_count": null,
            "_view_module": "@jupyter-widgets/controls",
            "_view_module_version": "1.5.0",
            "_view_name": "HBoxView",
            "box_style": "",
            "children": [
              "IPY_MODEL_16f5ac0cf3cc441d891ae9522cf0798c",
              "IPY_MODEL_bc84ff51ad3c4921b7aca214f0ff5e35",
              "IPY_MODEL_f8508a02a66547b3a501694a1b8633ab"
            ],
            "layout": "IPY_MODEL_4ab824715b294c86b045c7e187125524"
          }
        },
        "8df46d45d37e45e889dbec220fa360bd": {
          "model_module": "@jupyter-widgets/controls",
          "model_module_version": "1.5.0",
          "model_name": "HTMLModel",
          "state": {
            "_dom_classes": [],
            "_model_module": "@jupyter-widgets/controls",
            "_model_module_version": "1.5.0",
            "_model_name": "HTMLModel",
            "_view_count": null,
            "_view_module": "@jupyter-widgets/controls",
            "_view_module_version": "1.5.0",
            "_view_name": "HTMLView",
            "description": "",
            "description_tooltip": null,
            "layout": "IPY_MODEL_7f722aef90b84352b16d45f8716df168",
            "placeholder": "​",
            "style": "IPY_MODEL_f356ef11b0734ce6a31ec9f0a01e055a",
            "value": " 100/100 [00:01&lt;00:00, 57.18it/s]"
          }
        },
        "8e2c2ff9e34b49568449aa7eb991d5cb": {
          "model_module": "@jupyter-widgets/controls",
          "model_module_version": "1.5.0",
          "model_name": "DescriptionStyleModel",
          "state": {
            "_model_module": "@jupyter-widgets/controls",
            "_model_module_version": "1.5.0",
            "_model_name": "DescriptionStyleModel",
            "_view_count": null,
            "_view_module": "@jupyter-widgets/base",
            "_view_module_version": "1.2.0",
            "_view_name": "StyleView",
            "description_width": ""
          }
        },
        "a2e9076aca0b4224ba3aa8e4c3239260": {
          "model_module": "@jupyter-widgets/controls",
          "model_module_version": "1.5.0",
          "model_name": "FloatProgressModel",
          "state": {
            "_dom_classes": [],
            "_model_module": "@jupyter-widgets/controls",
            "_model_module_version": "1.5.0",
            "_model_name": "FloatProgressModel",
            "_view_count": null,
            "_view_module": "@jupyter-widgets/controls",
            "_view_module_version": "1.5.0",
            "_view_name": "ProgressView",
            "bar_style": "success",
            "description": "",
            "description_tooltip": null,
            "layout": "IPY_MODEL_6197d697782b4688a278663e287317b1",
            "max": 100,
            "min": 0,
            "orientation": "horizontal",
            "style": "IPY_MODEL_c69d75dc1d1b4fca925f308a79a7e248",
            "value": 100
          }
        },
        "a33f440ec8454a2db5bd26485d71c4db": {
          "model_module": "@jupyter-widgets/controls",
          "model_module_version": "1.5.0",
          "model_name": "HTMLModel",
          "state": {
            "_dom_classes": [],
            "_model_module": "@jupyter-widgets/controls",
            "_model_module_version": "1.5.0",
            "_model_name": "HTMLModel",
            "_view_count": null,
            "_view_module": "@jupyter-widgets/controls",
            "_view_module_version": "1.5.0",
            "_view_name": "HTMLView",
            "description": "",
            "description_tooltip": null,
            "layout": "IPY_MODEL_3f110d0a165e41b0a268f77b2d2a11b7",
            "placeholder": "​",
            "style": "IPY_MODEL_de398ad23ecd44d8b8d69e621401f3b3",
            "value": " 20/20 [00:02&lt;00:00,  7.34it/s]"
          }
        },
        "a806c90e849243999c2fce804e20b449": {
          "model_module": "@jupyter-widgets/controls",
          "model_module_version": "1.5.0",
          "model_name": "DescriptionStyleModel",
          "state": {
            "_model_module": "@jupyter-widgets/controls",
            "_model_module_version": "1.5.0",
            "_model_name": "DescriptionStyleModel",
            "_view_count": null,
            "_view_module": "@jupyter-widgets/base",
            "_view_module_version": "1.2.0",
            "_view_name": "StyleView",
            "description_width": ""
          }
        },
        "b1c06f1940204bdaacf4ad3d843faa2f": {
          "model_module": "@jupyter-widgets/base",
          "model_module_version": "1.2.0",
          "model_name": "LayoutModel",
          "state": {
            "_model_module": "@jupyter-widgets/base",
            "_model_module_version": "1.2.0",
            "_model_name": "LayoutModel",
            "_view_count": null,
            "_view_module": "@jupyter-widgets/base",
            "_view_module_version": "1.2.0",
            "_view_name": "LayoutView",
            "align_content": null,
            "align_items": null,
            "align_self": null,
            "border": null,
            "bottom": null,
            "display": null,
            "flex": null,
            "flex_flow": null,
            "grid_area": null,
            "grid_auto_columns": null,
            "grid_auto_flow": null,
            "grid_auto_rows": null,
            "grid_column": null,
            "grid_gap": null,
            "grid_row": null,
            "grid_template_areas": null,
            "grid_template_columns": null,
            "grid_template_rows": null,
            "height": null,
            "justify_content": null,
            "justify_items": null,
            "left": null,
            "margin": null,
            "max_height": null,
            "max_width": null,
            "min_height": null,
            "min_width": null,
            "object_fit": null,
            "object_position": null,
            "order": null,
            "overflow": null,
            "overflow_x": null,
            "overflow_y": null,
            "padding": null,
            "right": null,
            "top": null,
            "visibility": null,
            "width": null
          }
        },
        "b85cd793196847cda92178f945624016": {
          "model_module": "@jupyter-widgets/controls",
          "model_module_version": "1.5.0",
          "model_name": "DescriptionStyleModel",
          "state": {
            "_model_module": "@jupyter-widgets/controls",
            "_model_module_version": "1.5.0",
            "_model_name": "DescriptionStyleModel",
            "_view_count": null,
            "_view_module": "@jupyter-widgets/base",
            "_view_module_version": "1.2.0",
            "_view_name": "StyleView",
            "description_width": ""
          }
        },
        "bc84ff51ad3c4921b7aca214f0ff5e35": {
          "model_module": "@jupyter-widgets/controls",
          "model_module_version": "1.5.0",
          "model_name": "FloatProgressModel",
          "state": {
            "_dom_classes": [],
            "_model_module": "@jupyter-widgets/controls",
            "_model_module_version": "1.5.0",
            "_model_name": "FloatProgressModel",
            "_view_count": null,
            "_view_module": "@jupyter-widgets/controls",
            "_view_module_version": "1.5.0",
            "_view_name": "ProgressView",
            "bar_style": "success",
            "description": "",
            "description_tooltip": null,
            "layout": "IPY_MODEL_b1c06f1940204bdaacf4ad3d843faa2f",
            "max": 20,
            "min": 0,
            "orientation": "horizontal",
            "style": "IPY_MODEL_74c98c4598bd438cbedbb6c8a492eb15",
            "value": 20
          }
        },
        "c01ec4015f1c4c4491687244977cf5ee": {
          "model_module": "@jupyter-widgets/controls",
          "model_module_version": "1.5.0",
          "model_name": "HBoxModel",
          "state": {
            "_dom_classes": [],
            "_model_module": "@jupyter-widgets/controls",
            "_model_module_version": "1.5.0",
            "_model_name": "HBoxModel",
            "_view_count": null,
            "_view_module": "@jupyter-widgets/controls",
            "_view_module_version": "1.5.0",
            "_view_name": "HBoxView",
            "box_style": "",
            "children": [
              "IPY_MODEL_f07c3a390d8640e586ec729d3c7c86d8",
              "IPY_MODEL_1d3c4fad476c47208bce6625ec783f6d",
              "IPY_MODEL_a33f440ec8454a2db5bd26485d71c4db"
            ],
            "layout": "IPY_MODEL_766927c256e3409ab53c04ca092964e0"
          }
        },
        "c29e6bbacf9c45ecb5465624ee315b70": {
          "model_module": "@jupyter-widgets/controls",
          "model_module_version": "1.5.0",
          "model_name": "HTMLModel",
          "state": {
            "_dom_classes": [],
            "_model_module": "@jupyter-widgets/controls",
            "_model_module_version": "1.5.0",
            "_model_name": "HTMLModel",
            "_view_count": null,
            "_view_module": "@jupyter-widgets/controls",
            "_view_module_version": "1.5.0",
            "_view_name": "HTMLView",
            "description": "",
            "description_tooltip": null,
            "layout": "IPY_MODEL_6d70e647d03f4004bd727673fbbfe5f9",
            "placeholder": "​",
            "style": "IPY_MODEL_c3149d7e47c84328904326dda8527af4",
            "value": "TensorizedQDA (TIME): 100%"
          }
        },
        "c3149d7e47c84328904326dda8527af4": {
          "model_module": "@jupyter-widgets/controls",
          "model_module_version": "1.5.0",
          "model_name": "DescriptionStyleModel",
          "state": {
            "_model_module": "@jupyter-widgets/controls",
            "_model_module_version": "1.5.0",
            "_model_name": "DescriptionStyleModel",
            "_view_count": null,
            "_view_module": "@jupyter-widgets/base",
            "_view_module_version": "1.2.0",
            "_view_name": "StyleView",
            "description_width": ""
          }
        },
        "c69d75dc1d1b4fca925f308a79a7e248": {
          "model_module": "@jupyter-widgets/controls",
          "model_module_version": "1.5.0",
          "model_name": "ProgressStyleModel",
          "state": {
            "_model_module": "@jupyter-widgets/controls",
            "_model_module_version": "1.5.0",
            "_model_name": "ProgressStyleModel",
            "_view_count": null,
            "_view_module": "@jupyter-widgets/base",
            "_view_module_version": "1.2.0",
            "_view_name": "StyleView",
            "bar_color": null,
            "description_width": ""
          }
        },
        "d0c5a2b6b27144268b7fc0bedcc33a86": {
          "model_module": "@jupyter-widgets/controls",
          "model_module_version": "1.5.0",
          "model_name": "HBoxModel",
          "state": {
            "_dom_classes": [],
            "_model_module": "@jupyter-widgets/controls",
            "_model_module_version": "1.5.0",
            "_model_name": "HBoxModel",
            "_view_count": null,
            "_view_module": "@jupyter-widgets/controls",
            "_view_module_version": "1.5.0",
            "_view_name": "HBoxView",
            "box_style": "",
            "children": [
              "IPY_MODEL_684de1d1bee34b309988bc0f40b0d5e2",
              "IPY_MODEL_3a99fe4554914c12ad9146aea349708c",
              "IPY_MODEL_1da7d96834cc4bc8a3cd5595b3446b74"
            ],
            "layout": "IPY_MODEL_d21ef446c090431480050c3352e2634e"
          }
        },
        "d21ef446c090431480050c3352e2634e": {
          "model_module": "@jupyter-widgets/base",
          "model_module_version": "1.2.0",
          "model_name": "LayoutModel",
          "state": {
            "_model_module": "@jupyter-widgets/base",
            "_model_module_version": "1.2.0",
            "_model_name": "LayoutModel",
            "_view_count": null,
            "_view_module": "@jupyter-widgets/base",
            "_view_module_version": "1.2.0",
            "_view_name": "LayoutView",
            "align_content": null,
            "align_items": null,
            "align_self": null,
            "border": null,
            "bottom": null,
            "display": null,
            "flex": null,
            "flex_flow": null,
            "grid_area": null,
            "grid_auto_columns": null,
            "grid_auto_flow": null,
            "grid_auto_rows": null,
            "grid_column": null,
            "grid_gap": null,
            "grid_row": null,
            "grid_template_areas": null,
            "grid_template_columns": null,
            "grid_template_rows": null,
            "height": null,
            "justify_content": null,
            "justify_items": null,
            "left": null,
            "margin": null,
            "max_height": null,
            "max_width": null,
            "min_height": null,
            "min_width": null,
            "object_fit": null,
            "object_position": null,
            "order": null,
            "overflow": null,
            "overflow_x": null,
            "overflow_y": null,
            "padding": null,
            "right": null,
            "top": null,
            "visibility": null,
            "width": null
          }
        },
        "d3fe060bd70848b7af130d99bbff6839": {
          "model_module": "@jupyter-widgets/base",
          "model_module_version": "1.2.0",
          "model_name": "LayoutModel",
          "state": {
            "_model_module": "@jupyter-widgets/base",
            "_model_module_version": "1.2.0",
            "_model_name": "LayoutModel",
            "_view_count": null,
            "_view_module": "@jupyter-widgets/base",
            "_view_module_version": "1.2.0",
            "_view_name": "LayoutView",
            "align_content": null,
            "align_items": null,
            "align_self": null,
            "border": null,
            "bottom": null,
            "display": null,
            "flex": null,
            "flex_flow": null,
            "grid_area": null,
            "grid_auto_columns": null,
            "grid_auto_flow": null,
            "grid_auto_rows": null,
            "grid_column": null,
            "grid_gap": null,
            "grid_row": null,
            "grid_template_areas": null,
            "grid_template_columns": null,
            "grid_template_rows": null,
            "height": null,
            "justify_content": null,
            "justify_items": null,
            "left": null,
            "margin": null,
            "max_height": null,
            "max_width": null,
            "min_height": null,
            "min_width": null,
            "object_fit": null,
            "object_position": null,
            "order": null,
            "overflow": null,
            "overflow_x": null,
            "overflow_y": null,
            "padding": null,
            "right": null,
            "top": null,
            "visibility": null,
            "width": null
          }
        },
        "de1229493a5749c799bcece8c07506f5": {
          "model_module": "@jupyter-widgets/controls",
          "model_module_version": "1.5.0",
          "model_name": "HBoxModel",
          "state": {
            "_dom_classes": [],
            "_model_module": "@jupyter-widgets/controls",
            "_model_module_version": "1.5.0",
            "_model_name": "HBoxModel",
            "_view_count": null,
            "_view_module": "@jupyter-widgets/controls",
            "_view_module_version": "1.5.0",
            "_view_name": "HBoxView",
            "box_style": "",
            "children": [
              "IPY_MODEL_c29e6bbacf9c45ecb5465624ee315b70",
              "IPY_MODEL_a2e9076aca0b4224ba3aa8e4c3239260",
              "IPY_MODEL_8df46d45d37e45e889dbec220fa360bd"
            ],
            "layout": "IPY_MODEL_514491be27294e0cb5b70b6e25ee3355"
          }
        },
        "de398ad23ecd44d8b8d69e621401f3b3": {
          "model_module": "@jupyter-widgets/controls",
          "model_module_version": "1.5.0",
          "model_name": "DescriptionStyleModel",
          "state": {
            "_model_module": "@jupyter-widgets/controls",
            "_model_module_version": "1.5.0",
            "_model_name": "DescriptionStyleModel",
            "_view_count": null,
            "_view_module": "@jupyter-widgets/base",
            "_view_module_version": "1.2.0",
            "_view_name": "StyleView",
            "description_width": ""
          }
        },
        "de9f39ade1b04c22921589c687b25518": {
          "model_module": "@jupyter-widgets/base",
          "model_module_version": "1.2.0",
          "model_name": "LayoutModel",
          "state": {
            "_model_module": "@jupyter-widgets/base",
            "_model_module_version": "1.2.0",
            "_model_name": "LayoutModel",
            "_view_count": null,
            "_view_module": "@jupyter-widgets/base",
            "_view_module_version": "1.2.0",
            "_view_name": "LayoutView",
            "align_content": null,
            "align_items": null,
            "align_self": null,
            "border": null,
            "bottom": null,
            "display": null,
            "flex": null,
            "flex_flow": null,
            "grid_area": null,
            "grid_auto_columns": null,
            "grid_auto_flow": null,
            "grid_auto_rows": null,
            "grid_column": null,
            "grid_gap": null,
            "grid_row": null,
            "grid_template_areas": null,
            "grid_template_columns": null,
            "grid_template_rows": null,
            "height": null,
            "justify_content": null,
            "justify_items": null,
            "left": null,
            "margin": null,
            "max_height": null,
            "max_width": null,
            "min_height": null,
            "min_width": null,
            "object_fit": null,
            "object_position": null,
            "order": null,
            "overflow": null,
            "overflow_x": null,
            "overflow_y": null,
            "padding": null,
            "right": null,
            "top": null,
            "visibility": null,
            "width": null
          }
        },
        "f07c3a390d8640e586ec729d3c7c86d8": {
          "model_module": "@jupyter-widgets/controls",
          "model_module_version": "1.5.0",
          "model_name": "HTMLModel",
          "state": {
            "_dom_classes": [],
            "_model_module": "@jupyter-widgets/controls",
            "_model_module_version": "1.5.0",
            "_model_name": "HTMLModel",
            "_view_count": null,
            "_view_module": "@jupyter-widgets/controls",
            "_view_module_version": "1.5.0",
            "_view_name": "HTMLView",
            "description": "",
            "description_tooltip": null,
            "layout": "IPY_MODEL_54a06911978746dd9e81bb1526bd741c",
            "placeholder": "​",
            "style": "IPY_MODEL_a806c90e849243999c2fce804e20b449",
            "value": "QDA (MEM): 100%"
          }
        },
        "f356ef11b0734ce6a31ec9f0a01e055a": {
          "model_module": "@jupyter-widgets/controls",
          "model_module_version": "1.5.0",
          "model_name": "DescriptionStyleModel",
          "state": {
            "_model_module": "@jupyter-widgets/controls",
            "_model_module_version": "1.5.0",
            "_model_name": "DescriptionStyleModel",
            "_view_count": null,
            "_view_module": "@jupyter-widgets/base",
            "_view_module_version": "1.2.0",
            "_view_name": "StyleView",
            "description_width": ""
          }
        },
        "f8508a02a66547b3a501694a1b8633ab": {
          "model_module": "@jupyter-widgets/controls",
          "model_module_version": "1.5.0",
          "model_name": "HTMLModel",
          "state": {
            "_dom_classes": [],
            "_model_module": "@jupyter-widgets/controls",
            "_model_module_version": "1.5.0",
            "_model_name": "HTMLModel",
            "_view_count": null,
            "_view_module": "@jupyter-widgets/controls",
            "_view_module_version": "1.5.0",
            "_view_name": "HTMLView",
            "description": "",
            "description_tooltip": null,
            "layout": "IPY_MODEL_373a7a1549b44c2696083efddc88fafe",
            "placeholder": "​",
            "style": "IPY_MODEL_8e2c2ff9e34b49568449aa7eb991d5cb",
            "value": " 20/20 [00:00&lt;00:00, 24.64it/s]"
          }
        }
      }
    }
  },
  "nbformat": 4,
  "nbformat_minor": 0
}
