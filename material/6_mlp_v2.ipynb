{
  "nbformat": 4,
  "nbformat_minor": 0,
  "metadata": {
    "colab": {
      "provenance": []
    },
    "kernelspec": {
      "name": "python3",
      "display_name": "Python 3"
    },
    "language_info": {
      "name": "python"
    }
  },
  "cells": [
    {
      "cell_type": "markdown",
      "source": [
        "# Multilayer Perceptron (MLP) v2\n",
        "\n",
        "El Multilayer Perceptron es el tipo de red neuronal profunda más simple que hay, simplemente es una composición de capas *fully-connected* (lineales) + activaciones no lineales. Es común, según aplicaciones, que la salida de la última lineal sea directamente la salida de la red.\n",
        "\n",
        "**Disclaimer:** esta implementación podría fácilmente adaptarse a esquemas de `batch_size` > 1, pero en pos de maximizar legibilidad se limitó al esquema de SGD estricto."
      ],
      "metadata": {
        "id": "DPILRJdSfHhL"
      }
    },
    {
      "cell_type": "markdown",
      "source": [
        "## Preliminaries"
      ],
      "metadata": {
        "id": "FrXNtzq3Kd0v"
      }
    },
    {
      "cell_type": "code",
      "source": [
        "# lo único que usamos realmente\n",
        "import numpy as np\n",
        "\n",
        "# ploteo/info\n",
        "from tqdm.notebook import tqdm\n",
        "import matplotlib.pyplot as plt\n",
        "\n",
        "# cargado de datasets\n",
        "from sklearn.datasets import load_iris, fetch_openml, load_wine\n",
        "from sklearn.preprocessing import LabelEncoder\n",
        "from sklearn.model_selection import train_test_split"
      ],
      "metadata": {
        "id": "VoJJOVkAuNbZ"
      },
      "execution_count": null,
      "outputs": []
    },
    {
      "cell_type": "markdown",
      "source": [
        "## Clases base"
      ],
      "metadata": {
        "id": "ulhXyoE7Kfhn"
      }
    },
    {
      "cell_type": "code",
      "execution_count": null,
      "metadata": {
        "id": "ar3t-04dGTQB"
      },
      "outputs": [],
      "source": [
        "class Operation:\n",
        "    def __init__(self):\n",
        "        self.params = dict()\n",
        "\n",
        "    # syntactic sugar for param access\n",
        "    def __getattr__(self, name):\n",
        "        # If the requested attribute is not found, look it up in the params dictionary\n",
        "        params = object.__getattribute__(self, 'params')\n",
        "        if name in params:\n",
        "            return params[name]\n",
        "        else:\n",
        "            raise AttributeError(f\"'{self.__class__.__name__}' object has no attribute '{name}'\")\n",
        "\n",
        "    def zero_grad(self):\n",
        "        self.grad = {k:np.zeros_like(v) for k,v in self.params.items()}\n",
        "\n",
        "    def forward(self, *args, **kwargs):\n",
        "        raise NotImplementedError(\"Override this!\")\n",
        "\n",
        "    def backwards(self, *args, **kwargs):\n",
        "        raise NotImplementedError(\"Override this!\")"
      ]
    },
    {
      "cell_type": "code",
      "source": [
        "class Linear(Operation):\n",
        "\n",
        "    def __init__(self, in_dim, out_dim):\n",
        "        super().__init__()\n",
        "        self.params['W'] = np.random.normal(loc=0, scale=0.1/np.sqrt(out_dim), size=(out_dim, in_dim))\n",
        "        self.params['b'] = np.random.random_sample(size=(out_dim,1))\n",
        "\n",
        "    def forward(self, x):\n",
        "        self.x = x\n",
        "        self.z = self.W @ self.x + self.b\n",
        "        return self.z\n",
        "\n",
        "    def backwards(self, dz):\n",
        "        self.grad['W'] = dz @ self.x.T\n",
        "        self.grad['b'] = dz\n",
        "        return self.W.T @ dz # dx"
      ],
      "metadata": {
        "id": "TEhWm8JIt5qj"
      },
      "execution_count": null,
      "outputs": []
    },
    {
      "cell_type": "code",
      "source": [
        "class ReLU(Operation):\n",
        "\n",
        "    def __init__(self):\n",
        "        super().__init__()\n",
        "\n",
        "    def forward(self,z):\n",
        "        self.z = z\n",
        "        self.y = np.maximum(z,0)\n",
        "        return self.y\n",
        "\n",
        "    def backwards(self,dy):\n",
        "        return dy * (self.y > 0).astype(float)"
      ],
      "metadata": {
        "id": "Q5VnMGsLyvnk"
      },
      "execution_count": null,
      "outputs": []
    },
    {
      "cell_type": "code",
      "source": [
        "class MLP:\n",
        "    def __init__(self, ops_list, learning_rate, debug=False):\n",
        "        self.ops = {f\"{idx}-{op.__class__.__name__}\":op for idx,op in enumerate(ops_list)}\n",
        "        self.learning_rate = learning_rate\n",
        "        self.debug = debug\n",
        "\n",
        "    def forward(self, x):\n",
        "        for name, op in self.ops.items():\n",
        "            if self.debug:\n",
        "                print(f\"Input at {name} has shape {x.shape}\")\n",
        "            x = op.forward(x)\n",
        "        return x\n",
        "\n",
        "    def zero_grad(self):\n",
        "        for name, op in self.ops.items():\n",
        "            if self.debug:\n",
        "                print(f\"Zeroing grad at {name}\")\n",
        "            op.zero_grad()\n",
        "\n",
        "    def backwards(self, dy):\n",
        "        for name, op in reversed(self.ops.items()):\n",
        "            if self.debug:\n",
        "                print(f\"Grad of output from {name} has shape {dy.shape}\")\n",
        "\n",
        "            # backprop\n",
        "            dy = op.backwards(dy)\n",
        "\n",
        "            # gradient descent step\n",
        "            for param_name in op.params:\n",
        "                op.params[param_name] -= self.learning_rate * op.grad[param_name]\n",
        "\n",
        "    # syntactic sugar for calling forward\n",
        "    def __call__(self, x):\n",
        "        return self.forward(x)"
      ],
      "metadata": {
        "id": "6P8GjfGTzoMM"
      },
      "execution_count": null,
      "outputs": []
    },
    {
      "cell_type": "code",
      "source": [
        "example_nn = MLP(\n",
        "    ops_list=[\n",
        "        Linear(5, 4),\n",
        "        ReLU(),\n",
        "        Linear(4,2)\n",
        "    ],\n",
        "    learning_rate=0.1,\n",
        "    debug=True\n",
        ")"
      ],
      "metadata": {
        "id": "cBrcjoiFZG9h"
      },
      "execution_count": null,
      "outputs": []
    },
    {
      "cell_type": "code",
      "source": [
        "# show forward\n",
        "example_nn(np.array([0.1,0.2,0.1,1,-2]).reshape(-1,1))"
      ],
      "metadata": {
        "colab": {
          "base_uri": "https://localhost:8080/"
        },
        "id": "d_3M1jt9ZKIN",
        "outputId": "b11cd4c9-c473-4170-de67-c7de94a9f91f"
      },
      "execution_count": null,
      "outputs": [
        {
          "output_type": "stream",
          "name": "stdout",
          "text": [
            "Input at 0-Linear has shape (5, 1)\n",
            "Input at 1-ReLU has shape (4, 1)\n",
            "Input at 2-Linear has shape (4, 1)\n"
          ]
        },
        {
          "output_type": "execute_result",
          "data": {
            "text/plain": [
              "array([[-0.00896581],\n",
              "       [ 0.45446917]])"
            ]
          },
          "metadata": {},
          "execution_count": 118
        }
      ]
    },
    {
      "cell_type": "code",
      "source": [
        "# show zerograd\n",
        "example_nn.zero_grad()"
      ],
      "metadata": {
        "colab": {
          "base_uri": "https://localhost:8080/"
        },
        "id": "3Wn8wF7zZhx5",
        "outputId": "a11a2620-8c7e-4004-f1fe-a65b176048bb"
      },
      "execution_count": null,
      "outputs": [
        {
          "output_type": "stream",
          "name": "stdout",
          "text": [
            "Zeroing grad at 0-Linear\n",
            "Zeroing grad at 1-ReLU\n",
            "Zeroing grad at 2-Linear\n"
          ]
        }
      ]
    },
    {
      "cell_type": "code",
      "source": [
        "# show one param before backwards\n",
        "example_nn.ops['0-Linear'].W"
      ],
      "metadata": {
        "colab": {
          "base_uri": "https://localhost:8080/"
        },
        "id": "MYI0Ga2dZtUe",
        "outputId": "763163ba-8b80-4875-faf1-d3e1eb16834d"
      },
      "execution_count": null,
      "outputs": [
        {
          "output_type": "execute_result",
          "data": {
            "text/plain": [
              "array([[-0.08550317, -0.06883902, -0.02290559, -0.05557791, -0.05132738],\n",
              "       [ 0.05495485, -0.04271251, -0.01604932,  0.07253669, -0.02381738],\n",
              "       [ 0.04049211, -0.12958112,  0.03867941,  0.09885662, -0.05087403],\n",
              "       [ 0.01699108, -0.0068129 , -0.00360518,  0.05843124, -0.05924249]])"
            ]
          },
          "metadata": {},
          "execution_count": 120
        }
      ]
    },
    {
      "cell_type": "code",
      "source": [
        "# show backwards\n",
        "example_nn.backwards(np.array([0.1,0.2]).reshape(-1,1))"
      ],
      "metadata": {
        "colab": {
          "base_uri": "https://localhost:8080/"
        },
        "id": "QNRvQKvUZlL_",
        "outputId": "280332d5-84cb-4e59-aead-47f7ce0494ef"
      },
      "execution_count": null,
      "outputs": [
        {
          "output_type": "stream",
          "name": "stdout",
          "text": [
            "Grad of output from 2-Linear has shape (2, 1)\n",
            "Grad of output from 1-ReLU has shape (4, 1)\n",
            "Grad of output from 0-Linear has shape (4, 1)\n"
          ]
        }
      ]
    },
    {
      "cell_type": "code",
      "source": [
        "# show same param after backwards\n",
        "example_nn.ops['0-Linear'].W"
      ],
      "metadata": {
        "colab": {
          "base_uri": "https://localhost:8080/"
        },
        "id": "cQiJp6VHZ3zQ",
        "outputId": "e3e6cfdd-6dff-4f2b-8c6d-a649eae7d146"
      },
      "execution_count": null,
      "outputs": [
        {
          "output_type": "execute_result",
          "data": {
            "text/plain": [
              "array([[-0.08524315, -0.06831899, -0.02264557, -0.05297779, -0.05652763],\n",
              "       [ 0.05503709, -0.04254802, -0.01596707,  0.07335917, -0.02546232],\n",
              "       [ 0.04075129, -0.12906276,  0.03893859,  0.1014484 , -0.05605758],\n",
              "       [ 0.01683481, -0.00712545, -0.00376145,  0.0568685 , -0.05611701]])"
            ]
          },
          "metadata": {},
          "execution_count": 123
        }
      ]
    },
    {
      "cell_type": "markdown",
      "source": [
        "### Cross Entropy Loss\n",
        "\n",
        "#### Forward\n",
        "\n",
        "**Paso 1:**\n",
        "\n",
        "La pérdida de _cross entropy_ se define para $K$ clases como\n",
        "$$\n",
        "\\mathcal{L}(p, \\hat{p}) = - \\sum_{i=1}^K p_i \\cdot \\log(\\hat{p_i})\n",
        "$$\n",
        "\n",
        "donde $p$ es la verdadera distribución de probabilidades y $\\hat{p}$ la predicción.\n",
        "\n",
        "**Paso 2:**\n",
        "\n",
        "En los casos en los que el elemento pertenece a una sola clase, $p$ es un vector de todos $0$ excepto la clase $c$ correcta, donde vale $1$. Esto elimina todos los términos de la sumatoria excepto uno, reduciendo la expresión a:\n",
        "\n",
        "$$\n",
        "\\mathcal{L}(p, \\hat{p}) = - \\log(\\hat{p_c})\n",
        "$$\n",
        "\n",
        "**Paso 3:**\n",
        "\n",
        "Para calcular las probabilidades $\\hat{p}$ a partir de una salida de una capa lineal $z$, lo que se hace es aplicar una función no lineal softmax:\n",
        "\n",
        "$$\n",
        "\\hat{p}=\\text{softmax}(z)= \\frac{\\exp(z)}{\\sum_{i=1}^K{\\exp(z_i)}}\n",
        "$$\n",
        "\n",
        "es decir, aplicar $\\text{exp}$ elemento a elemento y luego dividir por la suma.\n",
        "\n",
        "Sustituyendo esa expresión en la del paso 2, obtenemos:\n",
        "\n",
        "$$\n",
        "\\mathcal{L}(p, \\hat{p}) = - \\log(\\frac{\\exp(z_c)}{\\sum_{i=1}^K{\\exp(z_i)}}) = -z_c + \\log{\\sum_{i=1}^K{\\exp(z_i)}}\n",
        "$$\n",
        "\n",
        "**Paso 4:**\n",
        "\n",
        "Por una cuestión de estabilidad numérica, para calcular $\\log{\\sum_{i=1}^K{\\exp(z_i)}}$ se aplica el truco `log-sum-exp`([[1]](https://gregorygundersen.com/blog/2020/02/09/log-sum-exp/),[[2]](https://en.wikipedia.org/wiki/LogSumExp#log-sum-exp_trick_for_log-domain_calculations)) donde se observa que\n",
        "\n",
        "$$\n",
        "LSE(z) = \\log{\\sum_{i=1}^K{e^{z_i}}} = \\log{(e^s \\cdot \\sum_{i=1}^K{e^{z_i-s}})} = s + \\log{\\sum_{i=1}^K{e^{z_i-s}}}\n",
        "$$\n",
        "\n",
        "de donde tomando $s=\\max_i\\{z\\}$ se asegura que uno de los términos vale 1 y todos los demás valen menos.\n",
        "\n",
        "Aplicando esto, la expresión final resulta entonces:\n",
        "\n",
        "$$\n",
        "\\mathcal{L}(p, \\hat{p}) = - \\log(\\frac{\\exp(z_c)}{\\sum_{i=1}^K{\\exp(z_i)}}) = -z_c + LSE(z)\n",
        "$$\n",
        "\n",
        "#### Backwards\n",
        "\n",
        "Lamentablemente para el backwards no hay forma eficiente de calcularlo, aunque la expresión, a partir de lo último obtenido es relativamente simple:\n",
        "\n",
        "* El gradiente del primer término es un vector de casi todos $0$ excepto la clase correcta $c$, donde vale $-1$.\n",
        "* Para el gradiente del segundo término, alcanza con observar que $\\frac{\\partial}{\\partial z_i} \\log{\\sum_{i=1}^K{e^{z_i}}} = \\frac{1}{\\sum_{i=1}^K{e^{z_i}}} e^{z_i} = \\frac{e^{z_i}}{\\sum_{i=1}^K{e^{z_i}}}$, de donde se obtiene que el gradiente del segundo término es simplemente la softmax de los logits.\n"
      ],
      "metadata": {
        "id": "AjL4tlRkDdE5"
      }
    },
    {
      "cell_type": "code",
      "source": [
        "def logsumexp(z):\n",
        "    s = z.max(axis=0)\n",
        "    return s+np.log(np.sum(np.exp(z-s), axis=0))\n",
        "\n",
        "# show usage\n",
        "aux = np.array([1000,1000,900])\n",
        "logsumexp(aux)"
      ],
      "metadata": {
        "colab": {
          "base_uri": "https://localhost:8080/"
        },
        "id": "DqIr10lYIWWr",
        "outputId": "e2b1b053-a538-437e-c9ff-939b3a7f27b6"
      },
      "execution_count": null,
      "outputs": [
        {
          "output_type": "execute_result",
          "data": {
            "text/plain": [
              "np.float64(1000.6931471805599)"
            ]
          },
          "metadata": {},
          "execution_count": 124
        }
      ]
    },
    {
      "cell_type": "code",
      "source": [
        "# when not using LSE trick\n",
        "np.log(np.sum(np.exp(aux), axis=0))"
      ],
      "metadata": {
        "colab": {
          "base_uri": "https://localhost:8080/"
        },
        "id": "Lk_fp7n8I-3G",
        "outputId": "0be28b35-6c1d-4532-d876-a62f45a4afa8"
      },
      "execution_count": null,
      "outputs": [
        {
          "output_type": "stream",
          "name": "stderr",
          "text": [
            "/tmp/ipython-input-399849844.py:2: RuntimeWarning: overflow encountered in exp\n",
            "  np.log(np.sum(np.exp(aux), axis=0))\n"
          ]
        },
        {
          "output_type": "execute_result",
          "data": {
            "text/plain": [
              "np.float64(inf)"
            ]
          },
          "metadata": {},
          "execution_count": 125
        }
      ]
    },
    {
      "cell_type": "code",
      "source": [
        "class CrossEntropyLoss():\n",
        "\n",
        "    def forward(self, y_pred, y_true):\n",
        "        \"\"\"\n",
        "        y_pred: float[K,1] logits para cada clase 0,...,K-1\n",
        "        y_true: int[1,1] clase correcta, con cada elemento en el rango entero [0,K-1]\n",
        "        \"\"\"\n",
        "        self.y_pred = y_pred\n",
        "        self.y_true = y_true\n",
        "\n",
        "        return -y_pred[y_true] + logsumexp(y_pred)\n",
        "\n",
        "    def backwards(self):\n",
        "        # 2nd term\n",
        "        s = self.y_pred.max(axis=0)\n",
        "        unnorm_probs = np.exp(self.y_pred - s)\n",
        "        softmax = unnorm_probs / unnorm_probs.sum(axis=0)\n",
        "\n",
        "        # 1st term\n",
        "        softmax[self.y_true] -= 1\n",
        "\n",
        "        return softmax\n",
        "\n",
        "    # syntactic sugar\n",
        "    def __call__(self, y_pred, y_true):\n",
        "        return self.forward(y_pred, y_true)"
      ],
      "metadata": {
        "id": "tpcH3RSHBfpz"
      },
      "execution_count": null,
      "outputs": []
    },
    {
      "cell_type": "code",
      "source": [
        "example_loss = CrossEntropyLoss()\n",
        "print(example_loss(np.array([1,-2,3]).reshape(-1,1),1))\n",
        "print(example_loss.backwards())"
      ],
      "metadata": {
        "colab": {
          "base_uri": "https://localhost:8080/"
        },
        "id": "2Cz87ermPm9m",
        "outputId": "f24e56b6-1668-4acf-b44b-d89a9501e772"
      },
      "execution_count": null,
      "outputs": [
        {
          "output_type": "stream",
          "name": "stdout",
          "text": [
            "[5.13284523]\n",
            "[[ 0.11849965]\n",
            " [-0.99410025]\n",
            " [ 0.8756006 ]]\n"
          ]
        }
      ]
    },
    {
      "cell_type": "markdown",
      "source": [
        "## Utils"
      ],
      "metadata": {
        "id": "pP9wk8g0QTOQ"
      }
    },
    {
      "cell_type": "code",
      "source": [
        "# hiperparams\n",
        "LR = 0.001\n",
        "EPOCHS = 10\n",
        "TEST_SZ = 0.3\n",
        "RNG_SEED = 6543"
      ],
      "metadata": {
        "id": "kD6Fit2lP_2T"
      },
      "execution_count": null,
      "outputs": []
    },
    {
      "cell_type": "code",
      "source": [
        "def get_iris_dataset():\n",
        "  data = load_iris()\n",
        "  X_full = data.data\n",
        "  y_full = np.array([data.target_names[y] for y in data.target.reshape(-1,1)])\n",
        "  return X_full, y_full\n",
        "\n",
        "def get_penguins_dataset():\n",
        "    # get data\n",
        "    df, tgt = fetch_openml(name=\"penguins\", return_X_y=True, as_frame=True, parser='auto')\n",
        "\n",
        "    # drop non-numeric columns\n",
        "    df.drop(columns=[\"island\",\"sex\"], inplace=True)\n",
        "\n",
        "    # drop rows with missing values\n",
        "    mask = df.isna().sum(axis=1) == 0\n",
        "    df = df[mask]\n",
        "    tgt = tgt[mask]\n",
        "\n",
        "    return df.values, tgt.to_numpy().reshape(-1,1)\n",
        "\n",
        "def get_wine_dataset():\n",
        "    # get data\n",
        "    data = load_wine()\n",
        "    X_full = data.data\n",
        "    y_full = np.array([data.target_names[y] for y in data.target.reshape(-1,1)])\n",
        "    return X_full, y_full\n",
        "\n",
        "def get_letters_dataset():\n",
        "    # get data\n",
        "    letter = fetch_openml('letter', version=1, as_frame=False)\n",
        "    return letter.data, letter.target.reshape(-1,1)\n",
        "\n",
        "def label_encode(y_full):\n",
        "    return LabelEncoder().fit_transform(y_full.flatten()).reshape(y_full.shape)\n",
        "\n",
        "def split_transpose(X, y, test_size, random_state):\n",
        "    # X_train, X_test, y_train, y_test but all transposed\n",
        "    return [elem.T for elem in train_test_split(X, y, test_size=test_size, random_state=random_state)]"
      ],
      "metadata": {
        "id": "8NuB6VD5VQYt"
      },
      "execution_count": null,
      "outputs": []
    },
    {
      "cell_type": "code",
      "source": [
        "def train_mlp(X_train, y_train, X_test, y_test, model, epochs):\n",
        "\n",
        "    n_samples_train = y_train.shape[1]\n",
        "    n_samples_test = y_test.shape[1]\n",
        "    intra_epoch_costs_historic = np.empty(epochs*n_samples_train, dtype=float)\n",
        "    train_costs_historic = np.empty(epochs, dtype=float)\n",
        "    test_costs_historic = np.empty(epochs, dtype=float)\n",
        "\n",
        "    loss = CrossEntropyLoss()\n",
        "\n",
        "    loss_whole_train = CrossEntropyLoss()\n",
        "    loss_whole_test = CrossEntropyLoss()\n",
        "\n",
        "    for i in tqdm(range(epochs),total=epochs):\n",
        "\n",
        "        # shuffle train\n",
        "        indices = np.arange(n_samples_train)\n",
        "        np.random.shuffle(indices)\n",
        "\n",
        "        # iterate through shuffled train\n",
        "        for idx_num, sample_idx in enumerate(indices):\n",
        "\n",
        "            # zero grad\n",
        "            model.zero_grad()\n",
        "\n",
        "            # sample obs\n",
        "            x = X_train[:,sample_idx].reshape(-1,1)\n",
        "            y_true = y_train[:,sample_idx]\n",
        "\n",
        "            # forward pass\n",
        "            y_pred = model(x)\n",
        "\n",
        "            # calc loss\n",
        "            intra_epoch_costs_historic[i*n_samples_train+idx_num] = loss(y_pred, y_true.reshape(1,1)).item()\n",
        "\n",
        "            # backwards\n",
        "            model.backwards(loss.backwards())\n",
        "\n",
        "        # after each epoch, get values of loss at train and test\n",
        "        train_costs_historic[i] = loss_whole_train(model(X_train),y_train).mean()\n",
        "        test_costs_historic[i] = loss_whole_test(model(X_test),y_test).mean()\n",
        "\n",
        "    return intra_epoch_costs_historic, train_costs_historic, test_costs_historic"
      ],
      "metadata": {
        "id": "qp1FqCM-Q2CP"
      },
      "execution_count": null,
      "outputs": []
    },
    {
      "cell_type": "markdown",
      "source": [
        "## Prueba sobre dataset Wine"
      ],
      "metadata": {
        "id": "hPMrxw1af9pc"
      }
    },
    {
      "cell_type": "code",
      "source": [
        "X_full, y_full = get_wine_dataset()\n",
        "\n",
        "X_full.shape, y_full.shape"
      ],
      "metadata": {
        "colab": {
          "base_uri": "https://localhost:8080/"
        },
        "id": "bQoNYCBaQvso",
        "outputId": "3d4a9c90-b15d-4352-84d5-1cbb92cdcfca"
      },
      "execution_count": null,
      "outputs": [
        {
          "output_type": "execute_result",
          "data": {
            "text/plain": [
              "((178, 13), (178, 1))"
            ]
          },
          "metadata": {},
          "execution_count": 142
        }
      ]
    },
    {
      "cell_type": "code",
      "source": [
        "y_full_encoded = label_encode(y_full)\n",
        "\n",
        "y_full_encoded[:5]"
      ],
      "metadata": {
        "colab": {
          "base_uri": "https://localhost:8080/"
        },
        "id": "8JovsbeVVWCt",
        "outputId": "b1c10d98-8407-4c18-e071-7f7f4fcbd9a9"
      },
      "execution_count": null,
      "outputs": [
        {
          "output_type": "execute_result",
          "data": {
            "text/plain": [
              "array([[0],\n",
              "       [0],\n",
              "       [0],\n",
              "       [0],\n",
              "       [0]])"
            ]
          },
          "metadata": {},
          "execution_count": 143
        }
      ]
    },
    {
      "cell_type": "code",
      "source": [
        "n_classes = y_full_encoded.max().item() + 1\n",
        "n_classes"
      ],
      "metadata": {
        "colab": {
          "base_uri": "https://localhost:8080/"
        },
        "id": "Dbt2mqEvc8nc",
        "outputId": "8c3c14d2-45d1-452e-c24a-30d80034d5d1"
      },
      "execution_count": null,
      "outputs": [
        {
          "output_type": "execute_result",
          "data": {
            "text/plain": [
              "3"
            ]
          },
          "metadata": {},
          "execution_count": 147
        }
      ]
    },
    {
      "cell_type": "code",
      "source": [
        "X_train, X_test, y_train, y_test = split_transpose(\n",
        "    X_full, y_full_encoded,\n",
        "    test_size=TEST_SZ,\n",
        "    random_state=RNG_SEED\n",
        ")\n",
        "\n",
        "X_train.shape, y_test.shape"
      ],
      "metadata": {
        "colab": {
          "base_uri": "https://localhost:8080/"
        },
        "id": "rexkGM-OVsmq",
        "outputId": "bbc36a07-b860-4f74-aafc-4383e8124662"
      },
      "execution_count": null,
      "outputs": [
        {
          "output_type": "execute_result",
          "data": {
            "text/plain": [
              "((13, 124), (1, 54))"
            ]
          },
          "metadata": {},
          "execution_count": 144
        }
      ]
    },
    {
      "cell_type": "code",
      "source": [
        "n_features = X_train.shape[0]\n",
        "n_features"
      ],
      "metadata": {
        "colab": {
          "base_uri": "https://localhost:8080/"
        },
        "id": "anHMLXkvdDIp",
        "outputId": "036d0d99-dd42-4ba5-a964-c7a403801032"
      },
      "execution_count": null,
      "outputs": [
        {
          "output_type": "execute_result",
          "data": {
            "text/plain": [
              "13"
            ]
          },
          "metadata": {},
          "execution_count": 150
        }
      ]
    },
    {
      "cell_type": "code",
      "source": [
        "nn1 = MLP(\n",
        "    ops_list=[\n",
        "        Linear(n_features,4),\n",
        "        ReLU(),\n",
        "        Linear(4,n_classes)\n",
        "    ],\n",
        "    learning_rate=1e-2,\n",
        "    debug=False\n",
        ")"
      ],
      "metadata": {
        "id": "fmMYSnUnVe1H"
      },
      "execution_count": null,
      "outputs": []
    },
    {
      "cell_type": "code",
      "source": [
        "# show usage for 1 sample\n",
        "nn1(X_train[:,5].reshape(-1,1))"
      ],
      "metadata": {
        "colab": {
          "base_uri": "https://localhost:8080/"
        },
        "id": "8BA_RRYgYTDb",
        "outputId": "d68b7004-315c-44f1-9a76-f8f9b08e8bc8"
      },
      "execution_count": null,
      "outputs": [
        {
          "output_type": "execute_result",
          "data": {
            "text/plain": [
              "array([[ 0.20189571],\n",
              "       [-0.04982853],\n",
              "       [ 0.21486932]])"
            ]
          },
          "metadata": {},
          "execution_count": 181
        }
      ]
    },
    {
      "cell_type": "code",
      "source": [
        "intra_epoch_costs_historic, train_costs_historic, test_costs_historic = train_mlp(\n",
        "    X_train, y_train,\n",
        "    X_test, y_test,\n",
        "    model=nn1,\n",
        "    epochs=EPOCHS\n",
        ")"
      ],
      "metadata": {
        "colab": {
          "base_uri": "https://localhost:8080/",
          "height": 49,
          "referenced_widgets": [
            "07887fe55cd243c6a18d51ae4079c88b",
            "4203d1b3efc54312b75ef720f23c1731",
            "44614368830d44f28d5e50147469f956",
            "fdefe2318a0d4d2f94928ee97082cc16",
            "103c39adbe90460cb71c586fd6cf833d",
            "abb635a5e8334e8fa2c2a30976fb7892",
            "563fa407e9d04027ad5f19e0bd718d8d",
            "3d6e3866f54847ce81904dbdd24ad9cc",
            "0ad0276581e24816b752c0d6849c6107",
            "55b2b3be87134a20940ff234d98ca62b",
            "769b2cec5e914b2b9be02b32ae99a1eb"
          ]
        },
        "id": "kEKxFM28Y77T",
        "outputId": "6ca1467b-0946-4668-d94b-1681e86245c9"
      },
      "execution_count": null,
      "outputs": [
        {
          "output_type": "display_data",
          "data": {
            "text/plain": [
              "  0%|          | 0/10 [00:00<?, ?it/s]"
            ],
            "application/vnd.jupyter.widget-view+json": {
              "version_major": 2,
              "version_minor": 0,
              "model_id": "07887fe55cd243c6a18d51ae4079c88b"
            }
          },
          "metadata": {}
        }
      ]
    },
    {
      "cell_type": "code",
      "source": [
        "plt.figure(figsize=(12,8))\n",
        "plt.plot(train_costs_historic, color='blue', label='train')\n",
        "plt.plot(test_costs_historic, color='red', label='test')\n",
        "plt.grid(True)\n",
        "plt.legend()\n",
        "plt.show()"
      ],
      "metadata": {
        "colab": {
          "base_uri": "https://localhost:8080/",
          "height": 676
        },
        "id": "3pU54Upgd80B",
        "outputId": "3f5d4b5a-e666-41e0-ae5c-6aed6deadc91"
      },
      "execution_count": null,
      "outputs": [
        {
          "output_type": "display_data",
          "data": {
            "text/plain": [
              "<Figure size 1200x800 with 1 Axes>"
            ],
            "image/png": "[encoded data removed]"
          },
          "metadata": {}
        }
      ]
    },
    {
      "cell_type": "code",
      "source": [
        "plt.figure(figsize=(12,8))\n",
        "plt.plot(intra_epoch_costs_historic)\n",
        "plt.show()"
      ],
      "metadata": {
        "colab": {
          "base_uri": "https://localhost:8080/",
          "height": 676
        },
        "id": "CP2I7l83eOhI",
        "outputId": "5befcdd0-fe92-4ce0-fa89-d2e34fe41bd9"
      },
      "execution_count": null,
      "outputs": [
        {
          "output_type": "display_data",
          "data": {
            "text/plain": [
              "<Figure size 1200x800 with 1 Axes>"
            ],
            "image/png": "[encoded data removed]"
          },
          "metadata": {}
        }
      ]
    },
    {
      "cell_type": "code",
      "source": [],
      "metadata": {
        "id": "oP4vyZ5DeiRm"
      },
      "execution_count": null,
      "outputs": []
    }
  ]
}